{
 "cells": [
  {
   "cell_type": "code",
   "execution_count": 4,
   "metadata": {},
   "outputs": [],
   "source": [
    "import numpy as np\n",
    "np.set_printoptions(precision = 3)\n",
    "import pandas as pd\n",
    "pd.set_option('display.precision',3)\n",
    "import matplotlib.pyplot as plt\n",
    "import seaborn as sns\n",
    "color = sns.color_palette()\n",
    "sns.set_style('whitegrid')\n",
    "\n",
    "happy = pd.read_csv('C:/Users/이가은/Desktop/after_EDA/happynot.csv',thousands = ',')"
   ]
  },
  {
   "cell_type": "code",
   "execution_count": 6,
   "metadata": {},
   "outputs": [
    {
     "name": "stdout",
     "output_type": "stream",
     "text": [
      "         Q10    Q12       Q16A    Q23        Q34  Q42C2\n",
      "Q10    1.000 -0.004  1.604e-02  0.002  1.120e-02 -0.106\n",
      "Q12   -0.004  1.000  3.206e-01  0.158  7.462e-02  0.169\n",
      "Q16A   0.016  0.321  1.000e+00  0.169  4.830e-04  0.040\n",
      "Q23    0.002  0.158  1.691e-01  1.000  1.467e-02 -0.041\n",
      "Q34    0.011  0.075  4.830e-04  0.015  1.000e+00  0.027\n",
      "Q42C2 -0.106  0.169  3.977e-02 -0.041  2.679e-02  1.000\n"
     ]
    },
    {
     "data": {
      "image/png": "[encoded data removed]",
      "text/plain": [
       "<Figure size 432x288 with 2 Axes>"
      ]
     },
     "metadata": {},
     "output_type": "display_data"
    }
   ],
   "source": [
    "# Numeric\n",
    "# Compute the correlation matrix\n",
    "corrnumeric = happy[['Q10', 'Q12', 'Q16A','Q23','Q34','Q42C2']].corr() # corr값 계산하고\n",
    "print(corrnumeric)\n",
    "# Generate a mask for the upper triangle\n",
    "mask = np.zeros_like(corrnumeric, dtype=np.bool) # Upper triangular로 만드는거라네요\n",
    "mask[np.triu_indices_from(mask)] = True\n",
    "\n",
    "# Set up the matplotlib figure\n",
    "fig, ax = plt.subplots()\n",
    "\n",
    "# Draw the heatmap with the mask and correct aspect ratio\n",
    "vmax = np.abs(corrnumeric.values[~mask]).max()\n",
    "sns.heatmap(corrnumeric, mask=mask, cmap=plt.cm.PuOr, vmin=-vmax, vmax=vmax,\n",
    "            square=True, linecolor=\"lightgray\", linewidths=1, ax=ax)\n",
    "for i in range(len(corrnumeric)): # 위치 조절\n",
    "    ax.text(i+0.5,(i+0.5), corrnumeric.columns[i], \n",
    "            ha=\"center\", va=\"center\", rotation=45)\n",
    "    for j in range(i+1, len(corrnumeric)):\n",
    "        s = \"{:.3f}\".format(corrnumeric.values[i,j])\n",
    "        ax.text(j+0.5,i+0.5,s, \n",
    "            ha=\"center\", va=\"center\")\n",
    "ax.axis(\"off\")\n",
    "plt.show()"
   ]
  },
  {
   "cell_type": "code",
   "execution_count": null,
   "metadata": {},
   "outputs": [],
   "source": []
  }
 ],
 "metadata": {
  "kernelspec": {
   "display_name": "Python 3",
   "language": "python",
   "name": "python3"
  },
  "language_info": {
   "codemirror_mode": {
    "name": "ipython",
    "version": 3
   },
   "file_extension": ".py",
   "mimetype": "text/x-python",
   "name": "python",
   "nbconvert_exporter": "python",
   "pygments_lexer": "ipython3",
   "version": "3.7.6"
  }
 },
 "nbformat": 4,
 "nbformat_minor": 4
}
