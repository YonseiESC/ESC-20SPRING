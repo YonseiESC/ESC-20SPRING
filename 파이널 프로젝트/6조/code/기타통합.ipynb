{
 "cells": [
  {
   "cell_type": "code",
   "execution_count": 1,
   "metadata": {},
   "outputs": [],
   "source": [
    "import numpy as np\n",
    "np.set_printoptions(precision = 3)\n",
    "import pandas as pd\n",
    "pd.set_option('display.precision',3)\n",
    "import matplotlib.pyplot as plt\n",
    "import seaborn as sns\n",
    "color = sns.color_palette()\n",
    "sns.set_style('whitegrid')\n",
    "happy = pd.read_csv('C:/Users/이가은/Desktop/happy_new.csv',thousands = ',')"
   ]
  },
  {
   "cell_type": "code",
   "execution_count": 5,
   "metadata": {},
   "outputs": [
    {
     "name": "stdout",
     "output_type": "stream",
     "text": [
      "<class 'pandas.core.frame.DataFrame'>\n",
      "RangeIndex: 31848 entries, 0 to 31847\n",
      "Data columns (total 1 columns):\n",
      " #   Column  Non-Null Count  Dtype\n",
      "---  ------  --------------  -----\n",
      " 0   RLI     31848 non-null  int64\n",
      "dtypes: int64(1)\n",
      "memory usage: 248.9 KB\n"
     ]
    },
    {
     "data": {
      "text/plain": [
       "0"
      ]
     },
     "execution_count": 5,
     "metadata": {},
     "output_type": "execute_result"
    }
   ],
   "source": [
    "rli= happy.loc[:,\"RLI\"]\n",
    "rli=pd.DataFrame(rli)\n",
    "rli.info()\n",
    "rli.loc[rli[\"RLI\"]==4, \"RLI\"] = 5\n",
    "happy['RLI']=rli[\"RLI\"]\n",
    "happy['RLI'].isnull().sum()"
   ]
  },
  {
   "cell_type": "code",
   "execution_count": 7,
   "metadata": {},
   "outputs": [
    {
     "name": "stdout",
     "output_type": "stream",
     "text": [
      "<class 'pandas.core.frame.DataFrame'>\n",
      "RangeIndex: 31848 entries, 0 to 31847\n",
      "Data columns (total 1 columns):\n",
      " #   Column  Non-Null Count  Dtype\n",
      "---  ------  --------------  -----\n",
      " 0   Q18     31848 non-null  int64\n",
      "dtypes: int64(1)\n",
      "memory usage: 248.9 KB\n"
     ]
    },
    {
     "data": {
      "text/plain": [
       "0"
      ]
     },
     "execution_count": 7,
     "metadata": {},
     "output_type": "execute_result"
    }
   ],
   "source": [
    "q18=happy.loc[:,\"Q18\"]\n",
    "q18= happy.loc[:,\"Q18\"]\n",
    "q18=pd.DataFrame(q18)\n",
    "q18.info()\n",
    "q18.loc[q18[\"Q18\"]==6, \"Q18\"] = 2\n",
    "happy['Q18']=q18[\"Q18\"]\n",
    "happy['Q18'].isnull().sum()"
   ]
  },
  {
   "cell_type": "code",
   "execution_count": 8,
   "metadata": {},
   "outputs": [
    {
     "name": "stdout",
     "output_type": "stream",
     "text": [
      "<class 'pandas.core.frame.DataFrame'>\n",
      "RangeIndex: 31848 entries, 0 to 31847\n",
      "Data columns (total 1 columns):\n",
      " #   Column  Non-Null Count  Dtype\n",
      "---  ------  --------------  -----\n",
      " 0   Q25A1   31848 non-null  int64\n",
      "dtypes: int64(1)\n",
      "memory usage: 248.9 KB\n"
     ]
    },
    {
     "data": {
      "text/plain": [
       "0"
      ]
     },
     "execution_count": 8,
     "metadata": {},
     "output_type": "execute_result"
    }
   ],
   "source": [
    "q25_a1=happy.loc[:,\"Q25A1\"]\n",
    "q25_a1= happy.loc[:,\"Q25A1\"]\n",
    "q25_a1=pd.DataFrame(q25_a1)\n",
    "q25_a1.info()\n",
    "q25_a1.loc[q25_a1[\"Q25A1\"]==7, \"Q25A1\"] = 1\n",
    "happy['Q25A1']=q25_a1[\"Q25A1\"]\n",
    "happy['Q25A1'].isnull().sum()"
   ]
  },
  {
   "cell_type": "code",
   "execution_count": 9,
   "metadata": {},
   "outputs": [
    {
     "name": "stdout",
     "output_type": "stream",
     "text": [
      "<class 'pandas.core.frame.DataFrame'>\n",
      "RangeIndex: 31848 entries, 0 to 31847\n",
      "Data columns (total 1 columns):\n",
      " #   Column  Non-Null Count  Dtype\n",
      "---  ------  --------------  -----\n",
      " 0   Q31A1   31848 non-null  int64\n",
      "dtypes: int64(1)\n",
      "memory usage: 248.9 KB\n"
     ]
    },
    {
     "data": {
      "text/plain": [
       "0"
      ]
     },
     "execution_count": 9,
     "metadata": {},
     "output_type": "execute_result"
    }
   ],
   "source": [
    "q31_a1=happy.loc[:,\"Q31A1\"]\n",
    "q31_a1= happy.loc[:,\"Q31A1\"]\n",
    "q31_a1=pd.DataFrame(q31_a1)\n",
    "q31_a1.info()\n",
    "q31_a1.loc[q31_a1[\"Q31A1\"]==10, \"Q31A1\"] = 1\n",
    "happy['Q31A1']=q31_a1[\"Q31A1\"]\n",
    "happy['Q31A1'].isnull().sum()"
   ]
  },
  {
   "cell_type": "code",
   "execution_count": 10,
   "metadata": {},
   "outputs": [
    {
     "name": "stdout",
     "output_type": "stream",
     "text": [
      "<class 'pandas.core.frame.DataFrame'>\n",
      "RangeIndex: 31848 entries, 0 to 31847\n",
      "Data columns (total 1 columns):\n",
      " #   Column  Non-Null Count  Dtype\n",
      "---  ------  --------------  -----\n",
      " 0   Q39     31848 non-null  int64\n",
      "dtypes: int64(1)\n",
      "memory usage: 248.9 KB\n"
     ]
    },
    {
     "data": {
      "text/plain": [
       "0"
      ]
     },
     "execution_count": 10,
     "metadata": {},
     "output_type": "execute_result"
    }
   ],
   "source": [
    "q39=happy.loc[:,\"Q39\"]\n",
    "q39= happy.loc[:,\"Q39\"]\n",
    "q39=pd.DataFrame(q39)\n",
    "q39.info()\n",
    "q39.loc[q39[\"Q39\"]==98, \"Q39\"] = 2\n",
    "q39.loc[q39[\"Q39\"]==5, \"Q39\"] = 2\n",
    "happy['Q39']=q39[\"Q39\"]\n",
    "happy['Q39'].isnull().sum()"
   ]
  },
  {
   "cell_type": "code",
   "execution_count": null,
   "metadata": {},
   "outputs": [],
   "source": []
  }
 ],
 "metadata": {
  "kernelspec": {
   "display_name": "Python 3",
   "language": "python",
   "name": "python3"
  },
  "language_info": {
   "codemirror_mode": {
    "name": "ipython",
    "version": 3
   },
   "file_extension": ".py",
   "mimetype": "text/x-python",
   "name": "python",
   "nbconvert_exporter": "python",
   "pygments_lexer": "ipython3",
   "version": "3.7.6"
  }
 },
 "nbformat": 4,
 "nbformat_minor": 4
}
