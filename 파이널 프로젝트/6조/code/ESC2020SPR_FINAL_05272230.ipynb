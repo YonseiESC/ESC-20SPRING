{
 "cells": [
  {
   "cell_type": "code",
   "execution_count": 1,
   "metadata": {},
   "outputs": [],
   "source": [
    "import numpy as np\n",
    "np.set_printoptions(precision = 3)\n",
    "import pandas as pd\n",
    "pd.set_option('display.precision',3)\n",
    "import matplotlib.pyplot as plt\n",
    "import seaborn as sns\n",
    "color = sns.color_palette()\n",
    "sns.set_style('whitegrid')"
   ]
  },
  {
   "cell_type": "code",
   "execution_count": 2,
   "metadata": {},
   "outputs": [],
   "source": [
    "happy = pd.read_csv('C:/Users/gerrard/Desktop/새 폴더/2020-1/ESC/Final/Seoul_Happiness_2014_train.csv',thousands = ',')"
   ]
  },
  {
   "cell_type": "markdown",
   "metadata": {},
   "source": [
    "# Problem Setting and EDA"
   ]
  },
  {
   "cell_type": "code",
   "execution_count": 3,
   "metadata": {
    "scrolled": false
   },
   "outputs": [],
   "source": [
    "from IPython.display import Image\n",
    "# Image(filename=\"C:/ESC2020_spring/finalproject/description.png\",width=1500,height=1500)  ## 실행이 안돼서 잠시 예외처리했습니다!"
   ]
  },
  {
   "cell_type": "markdown",
   "metadata": {},
   "source": [
    "### Project Steps\n",
    "\n",
    "1) EDA : 각 변수들의 상호 연관성, outlier, 각 변수들의 분포 (plain, bell, skewed, lots of NA's(무응답))\n",
    "\n",
    "2) Prediction  : Q4B 단일변수 (**정규성 가정 만족 ?? 아님 변환?? 혹은 GLM??**)\n",
    "\n",
    "3) 정책적 제언 : 구별 특징 두드러지면 mapping  + **문항에 대한 보완점**\n",
    "\n",
    "### 짚고 넘어갈 주의점들\n",
    "\n",
    "- NA가 많다! NA가 없는 데이터라고 학술부장께서 얘기한 거는 필요한 코딩이 다 완료되었다는 것.\n",
    "\n",
    "  1) 연결문항으로 인해 답하지 않아도 되는 문항들은 다 NA(빔)\n",
    "  \n",
    "  2) 무응답이여서 99/9로 코딩된 것들 : NA가 아니지만 사실상 NA. 1)의 실제 NA랑 비교 위해 '무응답'으로 표시\n",
    "\n",
    "- Y변수에 무응답이 있는 record는 삭제해야!\n",
    "\n",
    "- 연결문항에 대해 어떻게 할지 !!!! \n",
    "\n",
    "- 1순위, 2순위들 ( Q14,17,19,21,25,31)\n",
    "\n",
    "- **같은 카테고리 안의 문항들 사이의 수치적 연관성!**\n",
    "\n",
    "\n",
    "### EDA 순서\n",
    "\n",
    "1) 먼저, data glimpse 없이도 없애버릴 수 있는 변수들 제거!\n",
    "\n",
    "2) 일단 어떤 변수들에 NA가 있는지 확인! -> **각 변수별로 무응답 돌아다니며 탐구 및 처리 !**\n",
    "\n",
    "(말했지만 무응답이 많다! 결측치 처리법들을 참고해 무응답들을 처리하자! 가령, 변수 제거 / median or mean으로 대체)\n",
    "\n",
    "3) 변수 Type 확인 및 정리 : numeric /ordinal(박사석사대졸등등) / nominal(종교)\n",
    "\n",
    "4) 각 변수들의 분포 파악\n",
    "\n",
    "5) Outlier 제거? 남김?\n",
    "\n",
    "6) 각 설명변수들끼리의 상호 연관성\n",
    "\n",
    "\n",
    "\n",
    "\n",
    "\n",
    "1 - 행정구역 : nominal\n",
    "\n",
    "2 - Fam 1 - Fam2 : 집에 15세 미만이 몇명?\n",
    "\n",
    "3 - Fam 2 : 15세 이상   -  다중공선성 문제 x 이유는 전체 가구원 수가 다르므로\n",
    "\n",
    "4 - HTYP : NOMINAL\n",
    "\n",
    "5 - HLIV : NOMINAL\n",
    "\n",
    "6 - INC : NUMERIC 50 100 150 200 ... 900이상 -> 900이상에서 문제가 발생!\n",
    "\n",
    "        : ORDINAL 여기서는 정보손실이 있으나 900만원 이상에 대한 문제가 X : ORDINAL!!!!!!!\n",
    "        \n",
    "7 - REL : NOMINAL\n",
    "\n",
    "8 - JEN : NOMINAL\n",
    "\n",
    "9 : MAR : NOMINAL - 기타! 를 NA로 처리할지?\n",
    "\n",
    "10 : RLI : NOMINAL (7~99 없음)\n",
    "\n",
    "11 : FC : 변수 삭제 \n",
    "\n",
    "12 : NUMERICAL ->2014에서 빼서 + 1\n",
    "\n",
    "13 : Q1 : NOMINAL 그대로\n",
    "\n",
    "14 : Q2 : ORDINAL \n",
    "\n",
    "15 : Q2A &B 합쳐 : 0(경험없음) 12345 NOMINAL(ORDINAL 큰일!)\n",
    "\n",
    "16 : Q3 : 어느 모임이나 단체에도 참여한 적 없다 / 뭐라도 했다 이것만! (Q3A1 ~ Q3A11을 녹인다!) \n",
    "\n",
    "단, 외향성 변수는 아님! 이들 중 아무것도 안했어도 외향적일수도\n",
    "\n",
    "17 : Q5 모두 살려놓고 ORDINAL\n",
    "\n",
    "18 : Q6 다 살려놓거나 EDA에서 묶을 수 있는거 보자 ORDINAL\n",
    "\n",
    "19 : Q7 ORDINAL\n",
    "\n",
    "20 : Q8 ORDINAL -> Q7,8도 EDA에서 다중공선성 심하면 하나로 합쳐\n",
    "\n",
    "21 : Q9 ORDINAL\n",
    "\n",
    "22 : Q10(실천도 변수들) : ORDINAL (9 빼고 평균)\n",
    "\n",
    "23 : Q11 : ORDINAL\n",
    "\n",
    "24 : Q12 : EDA 이후 분야별로 합칠 수 있으면 합치기!\n",
    "\n",
    "    Q 12-I -1만 쓰기\n",
    "    \n",
    "25 : Q13 , Q13 1 둘 다 남기고 공선성 크면 하나만\n",
    "\n",
    "26 : Q14 : 여기 기타는 남겨두기, 무응답은 전 답과 같게\n",
    "\n",
    "27 : Q15 : ORDINAL\n",
    "\n",
    "Q16 : 없애고 Q16A를 살려, Q16 : 2면 0으로\n",
    "\n",
    "Q17 : 3순위 정보 없앤다!, 2순위의 NA를 1순위랑 똑같이 한다 (2순위 NA인 사람은 3순위도 NA이다. 똑같은거 3가지로 하기 그렇잖아)\n",
    "\n",
    "Q18 : NOMINAL\n",
    "\n",
    "Q19 : 여기 기타는 남겨두기, 무응답은 전 답과 같게\n",
    "\n",
    "Q20 만 살린다 ! 1,2를 없앤다 결측치가 10000대 /10000대여서\n",
    "\n",
    "Q21 : 받았다 안받았다만!! \n",
    "\n",
    "Q21-1 : 3순위 정보 없앤다!, 2순위의 NA를 1순위랑 똑같이 한다 (2순위 NA인 사람은 3순위도 NA이다. 똑같은거 3가지로 하기 그렇잖아)\n",
    "\n",
    "\n",
    "Q22 : ORDINAL\n",
    "\n",
    "Q23 : Q12처럼 한다.\n",
    "\n",
    "Q24 : 24만 하고 작은 문제들 삭제\n",
    "\n",
    "Q25 : 땡겨쓰기\n",
    "\n",
    "Q26 : 있다 없다\n",
    "\n",
    "Q27 : ORDINAL\n",
    "\n",
    "Q28 : ORDINAL\n",
    "\n",
    "Q29 : 분포 보고 다르면 각각 쓰고 비슷하면 평균\n",
    "\n",
    "Q30 : 분포 보고 다르면 각각 쓰고 비슷하면 평균\n",
    "\n",
    "Q31 : 땡겨쓰기\n",
    "\n",
    "Q32 : 분포 보고 다르면 각각 쓰고 비슷하면 평균\n",
    "\n",
    "Q33: 분포 보고 다르면 각각 쓰고 비슷하면 평균\n",
    "\n",
    "Q34 : NUMERICAL\n",
    "\n",
    "Q35 : ORDINAL, 34와 공선성 보고 비슷하면 합치기\n",
    "\n",
    "Q36 : 분포 보고 다르면 각각 쓰고 비슷하면 평균\n",
    "\n",
    "Q37 : ORDINAL\n",
    "\n",
    "Q38 : NOMINAL\n",
    "\n",
    "Q39 : NOMINAL\n",
    "\n",
    "Q40 : ORDINAL\n",
    "\n",
    "Q41 : ORDINAL로 쓸거면 변환을 해야! (보수적인 정도로 변수 이름짓기)\n",
    "\n",
    "Q42 : 42-2를 뺀 이유는 나중에 다루기 때문에. 통학 안하는 사람때문이 있어서도. **통근시간만 살려** \n",
    "\n",
    "**시, 분 변환**\n",
    "\n",
    "Q43 : 분포 보고 다르면 각각 쓰고 비슷하면 평균\n",
    "\n",
    "Q44 : NOMINAL, 삭제\n",
    "\n",
    "Q44 -1 삭제\n",
    "\n",
    "### Q45: 이번주는 평균치로 하고 다음주는 regression imputation.\n",
    "\n",
    "Q46 : 평균 (살린다)\n",
    "\n",
    "### Q47) ZOOM으로 생각하는걸로 하자! \n",
    "\n",
    "작은 1,2번 넘어가고 \n",
    "\n",
    "Q48 : 6번문제처럼 ORDINAL\n",
    "\n",
    "Q49 : 6번문제처럼 ORDINAL\n",
    "\n",
    "DE 1, 2, 3, 5, 6, 7(안쓸가능성높음), 9는 쓴다!!!! \n",
    "\n",
    "### DE 1,2,3,5,6,7(안쓸가능성높음),9 쓰고 이에 해당하는 위의 문항들을 지운다!\n",
    "\n",
    "### DE 4, DE8은 안쓰고 위에껄 쓴다\n",
    "\n",
    "RDQ 1 : ORDINAL\n",
    "\n",
    "RDQ 2 : ORDINAL\n",
    "\n",
    "\n"
   ]
  },
  {
   "cell_type": "markdown",
   "metadata": {},
   "source": [
    "# EDA"
   ]
  },
  {
   "cell_type": "markdown",
   "metadata": {},
   "source": [
    "## 1) 의미상 아무 의미 없는 원가중치, 표준화가중치, 기본값 (wtb1,wtb2,X)제거\n",
    "\n"
   ]
  },
  {
   "cell_type": "code",
   "execution_count": 4,
   "metadata": {},
   "outputs": [
    {
     "data": {
      "text/plain": [
       "(31848, 198)"
      ]
     },
     "execution_count": 4,
     "metadata": {},
     "output_type": "execute_result"
    }
   ],
   "source": [
    "happy.shape"
   ]
  },
  {
   "cell_type": "code",
   "execution_count": 5,
   "metadata": {
    "scrolled": false
   },
   "outputs": [
    {
     "data": {
      "text/html": [
       "<div>\n",
       "<style scoped>\n",
       "    .dataframe tbody tr th:only-of-type {\n",
       "        vertical-align: middle;\n",
       "    }\n",
       "\n",
       "    .dataframe tbody tr th {\n",
       "        vertical-align: top;\n",
       "    }\n",
       "\n",
       "    .dataframe thead th {\n",
       "        text-align: right;\n",
       "    }\n",
       "</style>\n",
       "<table border=\"1\" class=\"dataframe\">\n",
       "  <thead>\n",
       "    <tr style=\"text-align: right;\">\n",
       "      <th></th>\n",
       "      <th>GU</th>\n",
       "      <th>FAM1</th>\n",
       "      <th>FAM2</th>\n",
       "      <th>HTYP</th>\n",
       "      <th>HLIV</th>\n",
       "      <th>INC</th>\n",
       "      <th>REL</th>\n",
       "      <th>JEN</th>\n",
       "      <th>MAR</th>\n",
       "      <th>RLI</th>\n",
       "      <th>...</th>\n",
       "      <th>JOB</th>\n",
       "      <th>DE1</th>\n",
       "      <th>DE2</th>\n",
       "      <th>DE3</th>\n",
       "      <th>DE4</th>\n",
       "      <th>DE5</th>\n",
       "      <th>DE6</th>\n",
       "      <th>DE7</th>\n",
       "      <th>DE8</th>\n",
       "      <th>DE9</th>\n",
       "    </tr>\n",
       "  </thead>\n",
       "  <tbody>\n",
       "    <tr>\n",
       "      <th>0</th>\n",
       "      <td>680</td>\n",
       "      <td>2</td>\n",
       "      <td>2</td>\n",
       "      <td>2</td>\n",
       "      <td>1</td>\n",
       "      <td>5</td>\n",
       "      <td>1</td>\n",
       "      <td>1</td>\n",
       "      <td>1</td>\n",
       "      <td>6</td>\n",
       "      <td>...</td>\n",
       "      <td>5</td>\n",
       "      <td>1.0</td>\n",
       "      <td>6.0</td>\n",
       "      <td>2.0</td>\n",
       "      <td>3.0</td>\n",
       "      <td>1.0</td>\n",
       "      <td>680.0</td>\n",
       "      <td>5.0</td>\n",
       "      <td>2.0</td>\n",
       "      <td>3.0</td>\n",
       "    </tr>\n",
       "    <tr>\n",
       "      <th>1</th>\n",
       "      <td>680</td>\n",
       "      <td>2</td>\n",
       "      <td>2</td>\n",
       "      <td>2</td>\n",
       "      <td>1</td>\n",
       "      <td>5</td>\n",
       "      <td>2</td>\n",
       "      <td>2</td>\n",
       "      <td>1</td>\n",
       "      <td>6</td>\n",
       "      <td>...</td>\n",
       "      <td>11</td>\n",
       "      <td>2.0</td>\n",
       "      <td>6.0</td>\n",
       "      <td>2.0</td>\n",
       "      <td>3.0</td>\n",
       "      <td>1.0</td>\n",
       "      <td>680.0</td>\n",
       "      <td>5.0</td>\n",
       "      <td>4.0</td>\n",
       "      <td>4.0</td>\n",
       "    </tr>\n",
       "    <tr>\n",
       "      <th>2</th>\n",
       "      <td>680</td>\n",
       "      <td>5</td>\n",
       "      <td>5</td>\n",
       "      <td>2</td>\n",
       "      <td>1</td>\n",
       "      <td>11</td>\n",
       "      <td>3</td>\n",
       "      <td>2</td>\n",
       "      <td>2</td>\n",
       "      <td>6</td>\n",
       "      <td>...</td>\n",
       "      <td>3</td>\n",
       "      <td>2.0</td>\n",
       "      <td>2.0</td>\n",
       "      <td>3.0</td>\n",
       "      <td>6.0</td>\n",
       "      <td>2.0</td>\n",
       "      <td>680.0</td>\n",
       "      <td>5.0</td>\n",
       "      <td>3.0</td>\n",
       "      <td>2.0</td>\n",
       "    </tr>\n",
       "    <tr>\n",
       "      <th>3</th>\n",
       "      <td>680</td>\n",
       "      <td>5</td>\n",
       "      <td>5</td>\n",
       "      <td>2</td>\n",
       "      <td>1</td>\n",
       "      <td>11</td>\n",
       "      <td>3</td>\n",
       "      <td>2</td>\n",
       "      <td>2</td>\n",
       "      <td>6</td>\n",
       "      <td>...</td>\n",
       "      <td>10</td>\n",
       "      <td>2.0</td>\n",
       "      <td>1.0</td>\n",
       "      <td>3.0</td>\n",
       "      <td>6.0</td>\n",
       "      <td>2.0</td>\n",
       "      <td>680.0</td>\n",
       "      <td>5.0</td>\n",
       "      <td>3.0</td>\n",
       "      <td>4.0</td>\n",
       "    </tr>\n",
       "    <tr>\n",
       "      <th>4</th>\n",
       "      <td>680</td>\n",
       "      <td>5</td>\n",
       "      <td>5</td>\n",
       "      <td>2</td>\n",
       "      <td>1</td>\n",
       "      <td>11</td>\n",
       "      <td>3</td>\n",
       "      <td>1</td>\n",
       "      <td>2</td>\n",
       "      <td>6</td>\n",
       "      <td>...</td>\n",
       "      <td>10</td>\n",
       "      <td>1.0</td>\n",
       "      <td>1.0</td>\n",
       "      <td>1.0</td>\n",
       "      <td>6.0</td>\n",
       "      <td>2.0</td>\n",
       "      <td>680.0</td>\n",
       "      <td>5.0</td>\n",
       "      <td>3.0</td>\n",
       "      <td>4.0</td>\n",
       "    </tr>\n",
       "  </tbody>\n",
       "</table>\n",
       "<p>5 rows × 195 columns</p>\n",
       "</div>"
      ],
      "text/plain": [
       "    GU  FAM1  FAM2  HTYP  HLIV  INC  REL  JEN  MAR  RLI  ...  JOB  DE1  DE2  \\\n",
       "0  680     2     2     2     1    5    1    1    1    6  ...    5  1.0  6.0   \n",
       "1  680     2     2     2     1    5    2    2    1    6  ...   11  2.0  6.0   \n",
       "2  680     5     5     2     1   11    3    2    2    6  ...    3  2.0  2.0   \n",
       "3  680     5     5     2     1   11    3    2    2    6  ...   10  2.0  1.0   \n",
       "4  680     5     5     2     1   11    3    1    2    6  ...   10  1.0  1.0   \n",
       "\n",
       "   DE3  DE4  DE5    DE6  DE7  DE8  DE9  \n",
       "0  2.0  3.0  1.0  680.0  5.0  2.0  3.0  \n",
       "1  2.0  3.0  1.0  680.0  5.0  4.0  4.0  \n",
       "2  3.0  6.0  2.0  680.0  5.0  3.0  2.0  \n",
       "3  3.0  6.0  2.0  680.0  5.0  3.0  4.0  \n",
       "4  1.0  6.0  2.0  680.0  5.0  3.0  4.0  \n",
       "\n",
       "[5 rows x 195 columns]"
      ]
     },
     "execution_count": 5,
     "metadata": {},
     "output_type": "execute_result"
    }
   ],
   "source": [
    "happy = happy.drop(['X','wtb1','wtb2'], axis = 1) \n",
    "happy.head()"
   ]
  },
  {
   "cell_type": "markdown",
   "metadata": {},
   "source": [
    "## 2) 박태석 : 분포보고 묶기\n",
    "\n",
    "- 대상문항 : 29, 30, 32, 33, 36-1, 43, 46"
   ]
  },
  {
   "cell_type": "code",
   "execution_count": 6,
   "metadata": {},
   "outputs": [
    {
     "name": "stdout",
     "output_type": "stream",
     "text": [
      "       Q29A1  Q29A2  Q29A3  Q29A4\n",
      "Q29A1  1.000  0.169  0.164  0.201\n",
      "Q29A2  0.169  1.000  0.203  0.168\n",
      "Q29A3  0.164  0.203  1.000  0.276\n",
      "Q29A4  0.201  0.168  0.276  1.000\n"
     ]
    },
    {
     "data": {
      "image/png": "[encoded data removed]",
      "text/plain": [
       "<Figure size 432x288 with 2 Axes>"
      ]
     },
     "metadata": {
      "needs_background": "light"
     },
     "output_type": "display_data"
    }
   ],
   "source": [
    "# Q 29\n",
    "\n",
    "# Compute the correlation matrix\n",
    "corr29 = happy[['Q29A1', 'Q29A2', 'Q29A3', 'Q29A4']].corr() # corr값 계산하고\n",
    "print(corr29)\n",
    "# Generate a mask for the upper triangle\n",
    "mask = np.zeros_like(corr29, dtype=np.bool) # Upper triangular로 만드는거라네요\n",
    "mask[np.triu_indices_from(mask)] = True\n",
    "\n",
    "# Set up the matplotlib figure\n",
    "fig, ax = plt.subplots()\n",
    "\n",
    "# Draw the heatmap with the mask and correct aspect ratio\n",
    "vmax = np.abs(corr29.values[~mask]).max()\n",
    "sns.heatmap(corr29, mask=mask, cmap=plt.cm.PuOr, vmin=-vmax, vmax=vmax,\n",
    "            square=True, linecolor=\"lightgray\", linewidths=1, ax=ax)\n",
    "for i in range(len(corr29)): # 위치 조절\n",
    "    ax.text(i+0.5,(i+0.5), corr29.columns[i], \n",
    "            ha=\"center\", va=\"center\", rotation=45)\n",
    "    for j in range(i+1, len(corr29)):\n",
    "        s = \"{:.3f}\".format(corr29.values[i,j])\n",
    "        ax.text(j+0.5,i+0.5,s, \n",
    "            ha=\"center\", va=\"center\")\n",
    "ax.axis(\"off\")\n",
    "plt.show()"
   ]
  },
  {
   "cell_type": "code",
   "execution_count": 7,
   "metadata": {},
   "outputs": [
    {
     "name": "stdout",
     "output_type": "stream",
     "text": [
      "       Q30A1  Q30A2  Q30A3  Q30A4  Q30A5\n",
      "Q30A1  1.000  0.247 -0.052 -0.091  0.108\n",
      "Q30A2  0.247  1.000  0.379  0.271  0.229\n",
      "Q30A3 -0.052  0.379  1.000  0.679  0.203\n",
      "Q30A4 -0.091  0.271  0.679  1.000  0.235\n",
      "Q30A5  0.108  0.229  0.203  0.235  1.000\n"
     ]
    },
    {
     "data": {
      "image/png": "[encoded data removed]",
      "text/plain": [
       "<Figure size 432x288 with 2 Axes>"
      ]
     },
     "metadata": {
      "needs_background": "light"
     },
     "output_type": "display_data"
    }
   ],
   "source": [
    "# Q 30\n",
    "\n",
    "# Compute the correlation matrix\n",
    "corr30 = happy[['Q30A1', 'Q30A2', 'Q30A3', 'Q30A4', 'Q30A5']].corr() # corr값 계산하고\n",
    "print(corr30)\n",
    "# Generate a mask for the upper triangle\n",
    "mask = np.zeros_like(corr30, dtype=np.bool) # Upper triangular로 만드는거라네요\n",
    "mask[np.triu_indices_from(mask)] = True\n",
    "\n",
    "# Set up the matplotlib figure\n",
    "fig, ax = plt.subplots()\n",
    "\n",
    "# Draw the heatmap with the mask and correct aspect ratio\n",
    "vmax = np.abs(corr30.values[~mask]).max()\n",
    "sns.heatmap(corr30, mask=mask, cmap=plt.cm.PuOr, vmin=-vmax, vmax=vmax,\n",
    "            square=True, linecolor=\"lightgray\", linewidths=1, ax=ax)\n",
    "for i in range(len(corr30)): # 위치 조절\n",
    "    ax.text(i+0.5,(i+0.5), corr30.columns[i], \n",
    "            ha=\"center\", va=\"center\", rotation=45)\n",
    "    for j in range(i+1, len(corr30)):\n",
    "        s = \"{:.3f}\".format(corr30.values[i,j])\n",
    "        ax.text(j+0.5,i+0.5,s, \n",
    "            ha=\"center\", va=\"center\")\n",
    "ax.axis(\"off\")\n",
    "plt.show()\n",
    "\n",
    "# 3번과 4번은 같은 문항으로 합쳐도 될 듯!"
   ]
  },
  {
   "cell_type": "code",
   "execution_count": 8,
   "metadata": {},
   "outputs": [
    {
     "name": "stdout",
     "output_type": "stream",
     "text": [
      "       Q32A1  Q32A2  Q32A3  Q32A4  Q32A5  Q32A6  Q32A7\n",
      "Q32A1  1.000  0.475  0.243  0.284  0.234  0.181  0.167\n",
      "Q32A2  0.475  1.000  0.293  0.267  0.298  0.205  0.187\n",
      "Q32A3  0.243  0.293  1.000  0.320  0.268  0.356  0.270\n",
      "Q32A4  0.284  0.267  0.320  1.000  0.316  0.226  0.234\n",
      "Q32A5  0.234  0.298  0.268  0.316  1.000  0.365  0.279\n",
      "Q32A6  0.181  0.205  0.356  0.226  0.365  1.000  0.434\n",
      "Q32A7  0.167  0.187  0.270  0.234  0.279  0.434  1.000\n"
     ]
    },
    {
     "data": {
      "image/png": "[encoded data removed]",
      "text/plain": [
       "<Figure size 432x288 with 2 Axes>"
      ]
     },
     "metadata": {
      "needs_background": "light"
     },
     "output_type": "display_data"
    }
   ],
   "source": [
    "# Q 32\n",
    "\n",
    "# Compute the correlation matrix\n",
    "corr32 = happy[['Q32A1', 'Q32A2', 'Q32A3', 'Q32A4', 'Q32A5', 'Q32A6', 'Q32A7']].corr() # corr값 계산하고\n",
    "print(corr32)\n",
    "# Generate a mask for the upper triangle\n",
    "mask = np.zeros_like(corr32, dtype=np.bool) # Upper triangular로 만드는거라네요\n",
    "mask[np.triu_indices_from(mask)] = True\n",
    "\n",
    "# Set up the matplotlib figure\n",
    "fig, ax = plt.subplots()\n",
    "\n",
    "# Draw the heatmap with the mask and correct aspect ratio\n",
    "vmax = np.abs(corr32.values[~mask]).max()\n",
    "sns.heatmap(corr32, mask=mask, cmap=plt.cm.PuOr, vmin=-vmax, vmax=vmax,\n",
    "            square=True, linecolor=\"lightgray\", linewidths=1, ax=ax)\n",
    "for i in range(len(corr32)): # 위치 조절\n",
    "    ax.text(i+0.5,(i+0.5), corr32.columns[i], \n",
    "            ha=\"center\", va=\"center\", rotation=45)\n",
    "    for j in range(i+1, len(corr32)):\n",
    "        s = \"{:.3f}\".format(corr32.values[i,j])\n",
    "        ax.text(j+0.5,i+0.5,s, \n",
    "            ha=\"center\", va=\"center\")\n",
    "ax.axis(\"off\")\n",
    "plt.show()\n",
    "\n",
    "# 1번과 2번, 1번과 7번이 꽤 높다."
   ]
  },
  {
   "cell_type": "code",
   "execution_count": 9,
   "metadata": {
    "scrolled": true
   },
   "outputs": [
    {
     "name": "stdout",
     "output_type": "stream",
     "text": [
      "       Q33A1  Q33A2  Q33A3  Q33A4  Q33A5  Q33A6  Q33A7  Q33A8  Q33A9\n",
      "Q33A1  1.000  0.477  0.229  0.205  0.208  0.231  0.277  0.212  0.234\n",
      "Q33A2  0.477  1.000  0.333  0.205  0.236  0.263  0.267  0.236  0.240\n",
      "Q33A3  0.229  0.333  1.000  0.341  0.196  0.253  0.183  0.248  0.149\n",
      "Q33A4  0.205  0.205  0.341  1.000  0.451  0.245  0.252  0.243  0.189\n",
      "Q33A5  0.208  0.236  0.196  0.451  1.000  0.325  0.247  0.221  0.242\n",
      "Q33A6  0.231  0.263  0.253  0.245  0.325  1.000  0.355  0.248  0.248\n",
      "Q33A7  0.277  0.267  0.183  0.252  0.247  0.355  1.000  0.257  0.315\n",
      "Q33A8  0.212  0.236  0.248  0.243  0.221  0.248  0.257  1.000  0.350\n",
      "Q33A9  0.234  0.240  0.149  0.189  0.242  0.248  0.315  0.350  1.000\n"
     ]
    },
    {
     "data": {
      "image/png": "[encoded data removed]",
      "text/plain": [
       "<Figure size 432x288 with 2 Axes>"
      ]
     },
     "metadata": {
      "needs_background": "light"
     },
     "output_type": "display_data"
    },
    {
     "name": "stdout",
     "output_type": "stream",
     "text": [
      "       Q33A1  Q33A2  Q33A3  Q33A4  Q33A5  Q33A6  Q33A7  Q33A8  Q33A9\n",
      "Q33A1  1.000  0.477    NaN    NaN    NaN    NaN    NaN    NaN    NaN\n",
      "Q33A2  0.477  1.000    NaN    NaN    NaN    NaN    NaN    NaN    NaN\n",
      "Q33A3    NaN    NaN    1.0    NaN    NaN    NaN    NaN    NaN    NaN\n",
      "Q33A4    NaN    NaN    NaN  1.000  0.451    NaN    NaN    NaN    NaN\n",
      "Q33A5    NaN    NaN    NaN  0.451  1.000    NaN    NaN    NaN    NaN\n",
      "Q33A6    NaN    NaN    NaN    NaN    NaN    1.0    NaN    NaN    NaN\n",
      "Q33A7    NaN    NaN    NaN    NaN    NaN    NaN    1.0    NaN    NaN\n",
      "Q33A8    NaN    NaN    NaN    NaN    NaN    NaN    NaN    1.0    NaN\n",
      "Q33A9    NaN    NaN    NaN    NaN    NaN    NaN    NaN    NaN    1.0\n"
     ]
    }
   ],
   "source": [
    "# Q 33\n",
    "\n",
    "# Compute the correlation matrix\n",
    "corr33 = happy[['Q33A1', 'Q33A2', 'Q33A3', 'Q33A4', 'Q33A5', 'Q33A6', 'Q33A7', 'Q33A8', 'Q33A9',]].corr() # corr값 계산하고\n",
    "print(corr33)\n",
    "# Generate a mask for the upper triangle\n",
    "mask = np.zeros_like(corr33, dtype=np.bool) # Upper triangular로 만드는거라네요\n",
    "mask[np.triu_indices_from(mask)] = True\n",
    "\n",
    "# Set up the matplotlib figure\n",
    "fig, ax = plt.subplots()\n",
    "\n",
    "# Draw the heatmap with the mask and correct aspect ratio\n",
    "vmax = np.abs(corr33.values[~mask]).max()\n",
    "sns.heatmap(corr33, mask=mask, cmap=plt.cm.PuOr, vmin=-vmax, vmax=vmax,\n",
    "            square=True, linecolor=\"lightgray\", linewidths=1, ax=ax)\n",
    "for i in range(len(corr33)): # 위치 조절\n",
    "    ax.text(i+0.5,(i+0.5), corr33.columns[i], \n",
    "            ha=\"center\", va=\"center\", rotation=45)\n",
    "    for j in range(i+1, len(corr33)):\n",
    "        s = \"{:.3f}\".format(corr33.values[i,j])\n",
    "        ax.text(j+0.5,i+0.5,s, \n",
    "            ha=\"center\", va=\"center\")\n",
    "ax.axis(\"off\")\n",
    "plt.show()\n",
    "\n",
    "print(corr33[corr33>0.4])\n",
    "#1번과 2번, 4번과 5번이 꽤 높은 것으로 확인!"
   ]
  },
  {
   "cell_type": "code",
   "execution_count": 10,
   "metadata": {
    "scrolled": true
   },
   "outputs": [
    {
     "name": "stdout",
     "output_type": "stream",
     "text": [
      "       Q36A1  Q36A2\n",
      "Q36A1   1.00   0.56\n",
      "Q36A2   0.56   1.00\n"
     ]
    },
    {
     "data": {
      "image/png": "[encoded data removed]",
      "text/plain": [
       "<Figure size 432x288 with 2 Axes>"
      ]
     },
     "metadata": {
      "needs_background": "light"
     },
     "output_type": "display_data"
    }
   ],
   "source": [
    "# Q 36-1\n",
    "\n",
    "# Compute the correlation matrix\n",
    "corr36_1 = happy[['Q36A1', 'Q36A2']].corr() # corr값 계산하고\n",
    "print(corr36_1)\n",
    "# Generate a mask for the upper triangle\n",
    "mask = np.zeros_like(corr36_1, dtype=np.bool) # Upper triangular로 만드는거라네요\n",
    "mask[np.triu_indices_from(mask)] = True\n",
    "\n",
    "# Set up the matplotlib figure\n",
    "fig, ax = plt.subplots()\n",
    "\n",
    "# Draw the heatmap with the mask and correct aspect ratio\n",
    "vmax = np.abs(corr36_1.values[~mask]).max()\n",
    "sns.heatmap(corr36_1, mask=mask, cmap=plt.cm.PuOr, vmin=-vmax, vmax=vmax,\n",
    "            square=True, linecolor=\"lightgray\", linewidths=1, ax=ax)\n",
    "for i in range(len(corr36_1)): # 위치 조절\n",
    "    ax.text(i+0.5,(i+0.5), corr36_1.columns[i], \n",
    "            ha=\"center\", va=\"center\", rotation=45)\n",
    "    for j in range(i+1, len(corr36_1)):\n",
    "        s = \"{:.3f}\".format(corr36_1.values[i,j])\n",
    "        ax.text(j+0.5,i+0.5,s, \n",
    "            ha=\"center\", va=\"center\")\n",
    "ax.axis(\"off\")\n",
    "plt.show()\n",
    "\n",
    "# 얘네 두개는 합쳐도 될 것 같다!"
   ]
  },
  {
   "cell_type": "code",
   "execution_count": 11,
   "metadata": {},
   "outputs": [
    {
     "name": "stdout",
     "output_type": "stream",
     "text": [
      "       Q43A1  Q43A2\n",
      "Q43A1  1.000  0.531\n",
      "Q43A2  0.531  1.000\n"
     ]
    },
    {
     "data": {
      "image/png": "[encoded data removed]",
      "text/plain": [
       "<Figure size 432x288 with 2 Axes>"
      ]
     },
     "metadata": {
      "needs_background": "light"
     },
     "output_type": "display_data"
    }
   ],
   "source": [
    "# Q 43\n",
    "\n",
    "# Compute the correlation matrix\n",
    "corr43 = happy[['Q43A1', 'Q43A2']].corr() # corr값 계산하고\n",
    "print(corr43)\n",
    "# Generate a mask for the upper triangle\n",
    "mask = np.zeros_like(corr43, dtype=np.bool) # Upper triangular로 만드는거라네요\n",
    "mask[np.triu_indices_from(mask)] = True\n",
    "\n",
    "# Set up the matplotlib figure\n",
    "fig, ax = plt.subplots()\n",
    "\n",
    "# Draw the heatmap with the mask and correct aspect ratio\n",
    "vmax = np.abs(corr43.values[~mask]).max()\n",
    "sns.heatmap(corr43, mask=mask, cmap=plt.cm.PuOr, vmin=-vmax, vmax=vmax,\n",
    "            square=True, linecolor=\"lightgray\", linewidths=1, ax=ax)\n",
    "for i in range(len(corr43)): # 위치 조절\n",
    "    ax.text(i+0.5,(i+0.5), corr43.columns[i], \n",
    "            ha=\"center\", va=\"center\", rotation=45)\n",
    "    for j in range(i+1, len(corr43)):\n",
    "        s = \"{:.3f}\".format(corr43.values[i,j])\n",
    "        ax.text(j+0.5,i+0.5,s, \n",
    "            ha=\"center\", va=\"center\")\n",
    "ax.axis(\"off\")\n",
    "plt.show()\n",
    "\n",
    "# 얘네도 합쳐도 될 듯!"
   ]
  },
  {
   "cell_type": "code",
   "execution_count": 12,
   "metadata": {},
   "outputs": [
    {
     "name": "stdout",
     "output_type": "stream",
     "text": [
      "       Q46A1  Q46A2  Q46A3  Q46A4  Q46A5\n",
      "Q46A1  1.000  0.365  0.335  0.295  0.319\n",
      "Q46A2  0.365  1.000  0.422  0.340  0.423\n",
      "Q46A3  0.335  0.422  1.000  0.363  0.390\n",
      "Q46A4  0.295  0.340  0.363  1.000  0.415\n",
      "Q46A5  0.319  0.423  0.390  0.415  1.000\n"
     ]
    },
    {
     "data": {
      "image/png": "[encoded data removed]",
      "text/plain": [
       "<Figure size 432x288 with 2 Axes>"
      ]
     },
     "metadata": {
      "needs_background": "light"
     },
     "output_type": "display_data"
    }
   ],
   "source": [
    "# Q 46\n",
    "\n",
    "# Compute the correlation matrix\n",
    "corr46 = happy[['Q46A1', 'Q46A2', 'Q46A3', 'Q46A4', 'Q46A5']].corr() # corr값 계산하고\n",
    "print(corr46)\n",
    "# Generate a mask for the upper triangle\n",
    "mask = np.zeros_like(corr46, dtype=np.bool) # Upper triangular로 만드는거라네요\n",
    "mask[np.triu_indices_from(mask)] = True\n",
    "\n",
    "# Set up the matplotlib figure\n",
    "fig, ax = plt.subplots()\n",
    "\n",
    "# Draw the heatmap with the mask and correct aspect ratio\n",
    "vmax = np.abs(corr46.values[~mask]).max()\n",
    "sns.heatmap(corr46, mask=mask, cmap=plt.cm.PuOr, vmin=-vmax, vmax=vmax,\n",
    "            square=True, linecolor=\"lightgray\", linewidths=1, ax=ax)\n",
    "for i in range(len(corr46)): # 위치 조절\n",
    "    ax.text(i+0.5,(i+0.5), corr46.columns[i], \n",
    "            ha=\"center\", va=\"center\", rotation=45)\n",
    "    for j in range(i+1, len(corr46)):\n",
    "        s = \"{:.3f}\".format(corr46.values[i,j])\n",
    "        ax.text(j+0.5,i+0.5,s, \n",
    "            ha=\"center\", va=\"center\")\n",
    "ax.axis(\"off\")\n",
    "plt.show()\n"
   ]
  },
  {
   "cell_type": "code",
   "execution_count": 13,
   "metadata": {
    "scrolled": true
   },
   "outputs": [
    {
     "data": {
      "text/plain": [
       "<matplotlib.legend.Legend at 0x1971d57d438>"
      ]
     },
     "execution_count": 13,
     "metadata": {},
     "output_type": "execute_result"
    },
    {
     "data": {
      "image/png": "[encoded data removed]",
      "text/plain": [
       "<Figure size 432x288 with 1 Axes>"
      ]
     },
     "metadata": {
      "needs_background": "light"
     },
     "output_type": "display_data"
    }
   ],
   "source": [
    "plt.hist(happy['Q43A1'], rwidth=5, alpha=0.5, label='Q43A1')\n",
    "plt.hist(happy['Q43A2'], rwidth=5, color='green', alpha=0.5, label='Q43A2')\n",
    "plt.grid()\n",
    "plt.legend()"
   ]
  },
  {
   "cell_type": "code",
   "execution_count": 14,
   "metadata": {},
   "outputs": [
    {
     "data": {
      "text/plain": [
       "array([4., 4., 3., ..., 3., 3., 3.])"
      ]
     },
     "execution_count": 14,
     "metadata": {},
     "output_type": "execute_result"
    }
   ],
   "source": [
    "# 30번의 3번과 4번 평균값 구하기\n",
    "\n",
    "Q30Mean13 = np.zeros(happy.shape[0])\n",
    "for i in np.arange(happy.shape[0]):\n",
    "    Q30Mean13[i] = np.mean([happy['Q30A1'][i], happy['Q30A3'][i]])\n",
    "Q30Mean13"
   ]
  },
  {
   "cell_type": "code",
   "execution_count": 15,
   "metadata": {},
   "outputs": [
    {
     "data": {
      "text/plain": [
       "array([2. , 2.5, 2. , ..., 1.5, 1.5, 1.5])"
      ]
     },
     "execution_count": 15,
     "metadata": {},
     "output_type": "execute_result"
    }
   ],
   "source": [
    "# 32번의 1번과 2번 평균값 구하기\n",
    "\n",
    "Q32Mean12 = np.zeros(happy.shape[0])\n",
    "for i in np.arange(happy.shape[0]):\n",
    "    Q32Mean12[i] = np.mean([happy['Q32A1'][i], happy['Q32A2'][i]])\n",
    "Q32Mean12"
   ]
  },
  {
   "cell_type": "code",
   "execution_count": 16,
   "metadata": {},
   "outputs": [
    {
     "data": {
      "text/plain": [
       "array([3. , 2.5, 4.5, ..., 3. , 3.5, 3.5])"
      ]
     },
     "execution_count": 16,
     "metadata": {},
     "output_type": "execute_result"
    }
   ],
   "source": [
    "# 32번의 6번과 7번 평균값 구하기\n",
    "\n",
    "Q32Mean67 = np.zeros(happy.shape[0])\n",
    "for i in np.arange(happy.shape[0]):\n",
    "    Q32Mean67[i] = np.mean([happy['Q32A6'][i], happy['Q32A7'][i]])\n",
    "Q32Mean67"
   ]
  },
  {
   "cell_type": "code",
   "execution_count": 17,
   "metadata": {},
   "outputs": [
    {
     "data": {
      "text/plain": [
       "array([3.5, 3.5, 1. , ..., 2.5, 2. , 2. ])"
      ]
     },
     "execution_count": 17,
     "metadata": {},
     "output_type": "execute_result"
    }
   ],
   "source": [
    "# 33번의 1번과 2번 평균값 구하기\n",
    "\n",
    "Q33Mean12 = np.zeros(happy.shape[0])\n",
    "for i in np.arange(happy.shape[0]):\n",
    "    Q33Mean12[i] = np.mean([happy['Q33A1'][i], happy['Q33A2'][i]])\n",
    "Q33Mean12"
   ]
  },
  {
   "cell_type": "code",
   "execution_count": 18,
   "metadata": {},
   "outputs": [
    {
     "data": {
      "text/plain": [
       "array([4. , 4.5, 3. , ..., 1.5, 2. , 2. ])"
      ]
     },
     "execution_count": 18,
     "metadata": {},
     "output_type": "execute_result"
    }
   ],
   "source": [
    "# 33번의 4번과 5번 평균값 구하기\n",
    "\n",
    "Q33Mean45 = np.zeros(happy.shape[0])\n",
    "for i in np.arange(happy.shape[0]):\n",
    "    Q33Mean45[i] = np.mean([happy['Q33A4'][i], happy['Q33A5'][i]])\n",
    "Q33Mean45"
   ]
  },
  {
   "cell_type": "code",
   "execution_count": 19,
   "metadata": {},
   "outputs": [
    {
     "data": {
      "text/plain": [
       "array([2. , 2. , 4. , ..., 1.5, 3. , 1.5])"
      ]
     },
     "execution_count": 19,
     "metadata": {},
     "output_type": "execute_result"
    }
   ],
   "source": [
    "# 36번 평균값 구하기\n",
    "\n",
    "Q36Mean = np.zeros(happy.shape[0])\n",
    "for i in np.arange(happy.shape[0]):\n",
    "    Q36Mean[i] = np.mean([happy['Q36A1'][i], happy['Q36A2'][i]])\n",
    "Q36Mean"
   ]
  },
  {
   "cell_type": "code",
   "execution_count": 20,
   "metadata": {},
   "outputs": [
    {
     "data": {
      "text/plain": [
       "array([3.5, 4. , 4. , ..., 3.5, 4. , 4. ])"
      ]
     },
     "execution_count": 20,
     "metadata": {},
     "output_type": "execute_result"
    }
   ],
   "source": [
    "# 43번 평균값 구하기\n",
    "\n",
    "Q43Mean = np.zeros(happy.shape[0])\n",
    "for i in np.arange(happy.shape[0]):\n",
    "    Q43Mean[i] = np.mean([happy['Q43A1'][i], happy['Q43A2'][i]])\n",
    "Q43Mean"
   ]
  },
  {
   "cell_type": "code",
   "execution_count": 21,
   "metadata": {},
   "outputs": [
    {
     "data": {
      "text/plain": [
       "array([4.333, 4.667, 4.   , ..., 3.667, 5.   , 5.   ])"
      ]
     },
     "execution_count": 21,
     "metadata": {},
     "output_type": "execute_result"
    }
   ],
   "source": [
    "# 46번의 2번, 3번, 5번문항의 평균값 구하기\n",
    "\n",
    "Q46Mean235 = np.zeros(happy.shape[0])\n",
    "for i in np.arange(happy.shape[0]):\n",
    "    Q46Mean235[i] = np.mean([happy['Q46A2'][i], happy['Q46A3'][i], happy['Q46A5'][i]])\n",
    "Q46Mean235"
   ]
  },
  {
   "cell_type": "markdown",
   "metadata": {},
   "source": [
    "## 3) 임선우 역할 : 이가은 회원의 NA 처리한 것에 맞춰 변수 삭제 &수치형변수들 다루기 (skewness, normality 등등)\n",
    "\n",
    "### 삭제문항 \n",
    "\n",
    "- 1) Q12A2,Q12B2,Q12C2,Q12D2,Q12E2,Q12F2,Q12G2,Q12H2 (Q12A1,A12B1,...는 다 다 더한다음에 문화생활 총횟수의 의미를 만들고 난 다음에 삭제) \n",
    "\n",
    "- Q16(있다없다를 지우고 Q16A 방문횟수만남김)\n",
    "\n",
    "- Q17A3\n",
    "\n",
    "- Q21A1,Q21A2,Q21A3, Q21A4, Q21A5, Q21A6, Q21B3\n",
    "\n",
    "- RQ23A2,RQ23B2,RQ23C2,RQ23D2 (각각 유형의 자원봉사 시간)   (RQ23A1,RQ23B1,RQ23C1,RQ23D1은 다더한다음에 자원봉사 총횟수의 의미를 만들고 난 다음에 삭제. 12번문항과 똑같다!)\n",
    "\n",
    "- Q24A,Q24B\n",
    "\n",
    "- Q26A1,Q26A2,Q26A3,Q26A4,Q26A5,Q26A6\n",
    "\n",
    "- Q42A,Q42A1,Q42B,Q42C1\n",
    "\n",
    "- Q47,Q47A,Q47B (직업만족도인 Q47C만 남음)\n",
    "\n",
    "## 내 원래 대상인 수치형자료들 \n",
    "\n",
    "- FAM1 - FAM2(15세미만가구원수) , FAM2(15세이상가구원수)\n",
    "\n",
    "- BIR (출생년도)\n",
    "\n",
    "- Q4B\n",
    "\n",
    "- Q10(환경실천도 : Q10A1,Q10A2,...,Q10A5 평균내기)\n",
    "\n",
    "- Q12(총문화생활횟수)\n",
    "\n",
    "- Q16A(유적지 방문횟수, Q16방문여부는 삭제됨)\n",
    "\n",
    "- Q23(자원봉사활동의 총 횟수. 시간은 삭제)\n",
    "\n",
    "- Q42C2(통근시간)"
   ]
  },
  {
   "cell_type": "code",
   "execution_count": 22,
   "metadata": {},
   "outputs": [],
   "source": [
    "happy = happy.drop(['Q16','Q17A3','Q21A1','Q21A2','Q21A3','Q21A4','Q21A5','Q21A6','Q21B3','Q24A','Q24B','Q26A1','Q26A2','Q26A3','Q26A4','Q26A5','Q26A6','Q42A','Q42A1','Q42B','Q42C1','Q47A','Q47A','Q47B'], axis = 1)\n",
    "\n",
    "#추가로 Q12에서는 금액을 버리고 문화활동 횟수만 더하기로 했으므로\n",
    "happy = happy.drop(['Q12A2','Q12B2','Q12C2','Q12D2','Q12E2','Q12F2','Q12G2','Q12H2'] , axis=1)\n",
    "\n",
    "#추가로 Q23에서는 봉사활동 시간을 버리고 봉사활동 횟수만 하기로 했으므로\n",
    "happy = happy.drop(['RQ23A2','RQ23B2','RQ23C2','RQ23D2'] , axis=1)\n"
   ]
  },
  {
   "cell_type": "code",
   "execution_count": 23,
   "metadata": {},
   "outputs": [
    {
     "data": {
      "text/plain": [
       "(31848, 160)"
      ]
     },
     "execution_count": 23,
     "metadata": {},
     "output_type": "execute_result"
    }
   ],
   "source": [
    "happy.shape"
   ]
  },
  {
   "cell_type": "markdown",
   "metadata": {},
   "source": [
    "### FAM 변수"
   ]
  },
  {
   "cell_type": "code",
   "execution_count": 24,
   "metadata": {},
   "outputs": [
    {
     "data": {
      "text/plain": [
       "True"
      ]
     },
     "execution_count": 24,
     "metadata": {},
     "output_type": "execute_result"
    }
   ],
   "source": [
    "#Fam1 / Fam2 변수 -> Fam1 = Fam1 - Fam2 (15세 미만 가구원수의 의미로 변환!)\n",
    "sum(happy.FAM1 >= happy.FAM2) ==happy.shape[0]\n",
    "happy.FAM1 = happy.FAM1 - happy.FAM2 ;all(happy.FAM1>=0)"
   ]
  },
  {
   "cell_type": "code",
   "execution_count": 25,
   "metadata": {},
   "outputs": [
    {
     "data": {
      "text/plain": [
       "False"
      ]
     },
     "execution_count": 25,
     "metadata": {},
     "output_type": "execute_result"
    }
   ],
   "source": [
    "any(happy.FAM2 ==0)"
   ]
  },
  {
   "cell_type": "code",
   "execution_count": 26,
   "metadata": {},
   "outputs": [
    {
     "name": "stderr",
     "output_type": "stream",
     "text": [
      "C:\\Users\\gerrard\\AppData\\Local\\Continuum\\anaconda3\\lib\\site-packages\\ipykernel_launcher.py:6: MatplotlibDeprecationWarning: \n",
      "The 'normed' kwarg was deprecated in Matplotlib 2.1 and will be removed in 3.1. Use 'density' instead.\n",
      "  \n"
     ]
    },
    {
     "data": {
      "image/png": "[encoded data removed]",
      "text/plain": [
       "<Figure size 720x432 with 1 Axes>"
      ]
     },
     "metadata": {
      "needs_background": "light"
     },
     "output_type": "display_data"
    }
   ],
   "source": [
    "fig = plt.figure(figsize=(10,6))\n",
    "\n",
    "fam = pd.DataFrame(happy, columns=['FAM1', 'FAM2'])\n",
    "\n",
    "for col in fam.columns:\n",
    "    plt.hist(fam[col], normed=False, alpha=0.5)\n",
    "    fig.legend(labels=['Number of Households under Age 15','Number of Households greater or equal than Age 15'],loc=7,fontsize=10)\n",
    "    plt.title('At least one household aged greater or equal than 15',fontsize=20)"
   ]
  },
  {
   "cell_type": "markdown",
   "metadata": {},
   "source": [
    "애초에 15세 이상의 사람한테 묻는 것이니 애초에 15세 이상 가구원들이 더욱 많은 것은 당연하다!"
   ]
  },
  {
   "cell_type": "markdown",
   "metadata": {},
   "source": [
    "### BIR변수"
   ]
  },
  {
   "cell_type": "code",
   "execution_count": 27,
   "metadata": {},
   "outputs": [],
   "source": [
    "happy.BIR = 2014 - happy.BIR +1 \n",
    "happy.rename(columns = {'BIR':'AGE'}, inplace = True)\n",
    "\n"
   ]
  },
  {
   "cell_type": "code",
   "execution_count": 28,
   "metadata": {},
   "outputs": [
    {
     "data": {
      "text/plain": [
       "<matplotlib.axes._subplots.AxesSubplot at 0x1971d2ecef0>"
      ]
     },
     "execution_count": 28,
     "metadata": {},
     "output_type": "execute_result"
    },
    {
     "data": {
      "image/png": "[encoded data removed]",
      "text/plain": [
       "<Figure size 432x288 with 1 Axes>"
      ]
     },
     "metadata": {
      "needs_background": "light"
     },
     "output_type": "display_data"
    }
   ],
   "source": [
    "sns.distplot(happy.AGE,kde=False)"
   ]
  },
  {
   "cell_type": "markdown",
   "metadata": {},
   "source": [
    "40대 중반이 가장 응답자들이 많은 듯하고 그 중심으로 양옆으로 줄어드는 모양. 적절히 조사한 듯하다"
   ]
  },
  {
   "cell_type": "markdown",
   "metadata": {},
   "source": [
    "### Q4B변수! (종속변수)"
   ]
  },
  {
   "cell_type": "code",
   "execution_count": 29,
   "metadata": {},
   "outputs": [
    {
     "data": {
      "text/plain": [
       "Text(0.5, 1.0, 'Red: Mean, Green : Mean plus/minus 2sd')"
      ]
     },
     "execution_count": 29,
     "metadata": {},
     "output_type": "execute_result"
    },
    {
     "data": {
      "image/png": "[encoded data removed]",
      "text/plain": [
       "<Figure size 432x288 with 1 Axes>"
      ]
     },
     "metadata": {
      "needs_background": "light"
     },
     "output_type": "display_data"
    }
   ],
   "source": [
    "sns.distplot(happy.Q4B,kde=False)\n",
    "\n",
    "mn = happy.Q4B.mean()\n",
    "sd = happy.Q4B.std()\n",
    "\n",
    "plt.axvline(mn,color='red')\n",
    "plt.axvline(mn - 2*sd, color='green')\n",
    "plt.axvline(mn + 2*sd, color='green')\n",
    "\n",
    "plt.title('Red: Mean, Green : Mean plus/minus 2sd')"
   ]
  },
  {
   "cell_type": "code",
   "execution_count": 30,
   "metadata": {
    "scrolled": true
   },
   "outputs": [
    {
     "data": {
      "text/plain": [
       "70     8318\n",
       "80     7661\n",
       "60     3426\n",
       "75     2447\n",
       "90     2140\n",
       "85     1709\n",
       "50     1419\n",
       "65      952\n",
       "40      422\n",
       "68      243\n",
       "95      243\n",
       "72      196\n",
       "82      183\n",
       "78      169\n",
       "67      161\n",
       "30      157\n",
       "55      144\n",
       "88      134\n",
       "100     103\n",
       "83       97\n",
       "87       96\n",
       "73       90\n",
       "76       82\n",
       "89       78\n",
       "61       76\n",
       "79       71\n",
       "62       65\n",
       "74       59\n",
       "69       57\n",
       "84       55\n",
       "       ... \n",
       "10       19\n",
       "59       17\n",
       "56       15\n",
       "99       13\n",
       "97       12\n",
       "35       12\n",
       "7        11\n",
       "54       10\n",
       "8         9\n",
       "0         7\n",
       "4         7\n",
       "52        6\n",
       "25        6\n",
       "49        5\n",
       "94        5\n",
       "48        3\n",
       "46        3\n",
       "6         3\n",
       "57        3\n",
       "53        3\n",
       "51        3\n",
       "5         3\n",
       "38        2\n",
       "47        2\n",
       "28        1\n",
       "37        1\n",
       "33        1\n",
       "15        1\n",
       "41        1\n",
       "9         1\n",
       "Name: Q4B, Length: 75, dtype: int64"
      ]
     },
     "execution_count": 30,
     "metadata": {},
     "output_type": "execute_result"
    }
   ],
   "source": [
    "happy.Q4B.value_counts()"
   ]
  },
  {
   "cell_type": "markdown",
   "metadata": {},
   "source": [
    "- 심하게 skew나 bell shape를 위반하는 건 아닐 수는 있어도 아름답지 않은 분포 모양이다.\n",
    "\n",
    "- 그 이유는 사람들 성향 상 10의 배수 혹은 5의 배수로 생각하기 때문이다! 이는 과학적으로 체감되지 않은 점수이며 사람들의 체감 행복지수이므로 감안해야 할 점이다.\n",
    "\n",
    "- 다만 심한 outlier들은 손을 봐야 한다!\n",
    "\n",
    "- 현재는 모델 피팅 이전이여서 outlier 제거가 불가능하나 이후에 모델피팅이 끝나면 사후 조치로써 Outlying Y Observations를 detect해내고 삭제할 수 있다. \n",
    "\n",
    "회귀분석 시간에 배운 Y outlier detection 방식 세가지이다.\n",
    "\n",
    "### Methods of Detecting Outlying Y observations\n",
    "\n",
    "1) Semi- studentized residuals $e_i* = \\frac{e_i}{\\sqrt(MSE)}$\n",
    "\n",
    "\n",
    "2) Internally studentized residuals  $r_i* = \\frac{e_i}{s_(e_i)} = \\frac{e_i}{\\sqrt MSE(1-h_{ii})}$\n",
    "\n",
    "3) studentized Deleted Residuals $t_i  = \\frac{d_i}{s_(d_i)} = e_i [\\frac{n-p-1}{SSE(1-h_{ii})- e_i^2}]^{\\frac{1}{2}} \\sim t(n-p-1)$"
   ]
  },
  {
   "cell_type": "markdown",
   "metadata": {},
   "source": [
    "### Q10 환경실천도"
   ]
  },
  {
   "cell_type": "code",
   "execution_count": 31,
   "metadata": {},
   "outputs": [],
   "source": [
    "env = happy.loc[:,'Q10A1':'Q10A4']\n",
    "happy.Q10A1 = env.mean(1)\n",
    "happy.rename(columns = {'Q10A1':'Q10'}, inplace = True) #Q10A1의 column을 Q10으로 컬럼명 변경\n",
    "\n",
    "#이제 환경실천도 구했으니 Q10A2,Q10A3,Q10A4 삭제가능\n",
    "happy = happy.drop(['Q10A2','Q10A3','Q10A4'], axis=1)"
   ]
  },
  {
   "cell_type": "markdown",
   "metadata": {},
   "source": [
    "### Q12  문화생활횟수\n"
   ]
  },
  {
   "cell_type": "code",
   "execution_count": 32,
   "metadata": {},
   "outputs": [],
   "source": [
    "cult= happy.loc[:,'Q12A1' : 'Q12H1']\n",
    "happy.Q12A1 = cult.sum(1)\n",
    "happy.rename(columns = {'Q12A1':'Q12'}, inplace = True) #Q12 : 총 문화횟수!\n",
    "\n",
    "\n",
    "#이제 문화생활횟수 구했으니 B1,C1... 다 삭제가능!\n",
    "happy = happy.drop(['Q12B1','Q12C1','Q12D1','Q12E1','Q12F1','Q12G1','Q12H1'],axis=1)"
   ]
  },
  {
   "cell_type": "markdown",
   "metadata": {},
   "source": [
    "### Q16A 유적지방문횟수\n"
   ]
  },
  {
   "cell_type": "code",
   "execution_count": 33,
   "metadata": {
    "scrolled": true
   },
   "outputs": [
    {
     "ename": "ValueError",
     "evalue": "cannot convert float NaN to integer",
     "output_type": "error",
     "traceback": [
      "\u001b[1;31m---------------------------------------------------------------------------\u001b[0m",
      "\u001b[1;31mValueError\u001b[0m                                Traceback (most recent call last)",
      "\u001b[1;32m<ipython-input-33-681de588b28f>\u001b[0m in \u001b[0;36m<module>\u001b[1;34m\u001b[0m\n\u001b[1;32m----> 1\u001b[1;33m \u001b[0msns\u001b[0m\u001b[1;33m.\u001b[0m\u001b[0mdistplot\u001b[0m\u001b[1;33m(\u001b[0m\u001b[0mhappy\u001b[0m\u001b[1;33m.\u001b[0m\u001b[0mQ16A\u001b[0m\u001b[1;33m,\u001b[0m\u001b[0mkde\u001b[0m\u001b[1;33m=\u001b[0m\u001b[1;32mFalse\u001b[0m\u001b[1;33m)\u001b[0m\u001b[1;33m\u001b[0m\u001b[1;33m\u001b[0m\u001b[0m\n\u001b[0m",
      "\u001b[1;32m~\\AppData\\Local\\Continuum\\anaconda3\\lib\\site-packages\\seaborn\\distributions.py\u001b[0m in \u001b[0;36mdistplot\u001b[1;34m(a, bins, hist, kde, rug, fit, hist_kws, kde_kws, rug_kws, fit_kws, color, vertical, norm_hist, axlabel, label, ax)\u001b[0m\n\u001b[0;32m    213\u001b[0m     \u001b[1;32mif\u001b[0m \u001b[0mhist\u001b[0m\u001b[1;33m:\u001b[0m\u001b[1;33m\u001b[0m\u001b[1;33m\u001b[0m\u001b[0m\n\u001b[0;32m    214\u001b[0m         \u001b[1;32mif\u001b[0m \u001b[0mbins\u001b[0m \u001b[1;32mis\u001b[0m \u001b[1;32mNone\u001b[0m\u001b[1;33m:\u001b[0m\u001b[1;33m\u001b[0m\u001b[1;33m\u001b[0m\u001b[0m\n\u001b[1;32m--> 215\u001b[1;33m             \u001b[0mbins\u001b[0m \u001b[1;33m=\u001b[0m \u001b[0mmin\u001b[0m\u001b[1;33m(\u001b[0m\u001b[0m_freedman_diaconis_bins\u001b[0m\u001b[1;33m(\u001b[0m\u001b[0ma\u001b[0m\u001b[1;33m)\u001b[0m\u001b[1;33m,\u001b[0m \u001b[1;36m50\u001b[0m\u001b[1;33m)\u001b[0m\u001b[1;33m\u001b[0m\u001b[1;33m\u001b[0m\u001b[0m\n\u001b[0m\u001b[0;32m    216\u001b[0m         \u001b[0mhist_kws\u001b[0m\u001b[1;33m.\u001b[0m\u001b[0msetdefault\u001b[0m\u001b[1;33m(\u001b[0m\u001b[1;34m\"alpha\"\u001b[0m\u001b[1;33m,\u001b[0m \u001b[1;36m0.4\u001b[0m\u001b[1;33m)\u001b[0m\u001b[1;33m\u001b[0m\u001b[1;33m\u001b[0m\u001b[0m\n\u001b[0;32m    217\u001b[0m         \u001b[1;32mif\u001b[0m \u001b[0mLooseVersion\u001b[0m\u001b[1;33m(\u001b[0m\u001b[0mmpl\u001b[0m\u001b[1;33m.\u001b[0m\u001b[0m__version__\u001b[0m\u001b[1;33m)\u001b[0m \u001b[1;33m<\u001b[0m \u001b[0mLooseVersion\u001b[0m\u001b[1;33m(\u001b[0m\u001b[1;34m\"2.2\"\u001b[0m\u001b[1;33m)\u001b[0m\u001b[1;33m:\u001b[0m\u001b[1;33m\u001b[0m\u001b[1;33m\u001b[0m\u001b[0m\n",
      "\u001b[1;32m~\\AppData\\Local\\Continuum\\anaconda3\\lib\\site-packages\\seaborn\\distributions.py\u001b[0m in \u001b[0;36m_freedman_diaconis_bins\u001b[1;34m(a)\u001b[0m\n\u001b[0;32m     37\u001b[0m         \u001b[1;32mreturn\u001b[0m \u001b[0mint\u001b[0m\u001b[1;33m(\u001b[0m\u001b[0mnp\u001b[0m\u001b[1;33m.\u001b[0m\u001b[0msqrt\u001b[0m\u001b[1;33m(\u001b[0m\u001b[0ma\u001b[0m\u001b[1;33m.\u001b[0m\u001b[0msize\u001b[0m\u001b[1;33m)\u001b[0m\u001b[1;33m)\u001b[0m\u001b[1;33m\u001b[0m\u001b[1;33m\u001b[0m\u001b[0m\n\u001b[0;32m     38\u001b[0m     \u001b[1;32melse\u001b[0m\u001b[1;33m:\u001b[0m\u001b[1;33m\u001b[0m\u001b[1;33m\u001b[0m\u001b[0m\n\u001b[1;32m---> 39\u001b[1;33m         \u001b[1;32mreturn\u001b[0m \u001b[0mint\u001b[0m\u001b[1;33m(\u001b[0m\u001b[0mnp\u001b[0m\u001b[1;33m.\u001b[0m\u001b[0mceil\u001b[0m\u001b[1;33m(\u001b[0m\u001b[1;33m(\u001b[0m\u001b[0ma\u001b[0m\u001b[1;33m.\u001b[0m\u001b[0mmax\u001b[0m\u001b[1;33m(\u001b[0m\u001b[1;33m)\u001b[0m \u001b[1;33m-\u001b[0m \u001b[0ma\u001b[0m\u001b[1;33m.\u001b[0m\u001b[0mmin\u001b[0m\u001b[1;33m(\u001b[0m\u001b[1;33m)\u001b[0m\u001b[1;33m)\u001b[0m \u001b[1;33m/\u001b[0m \u001b[0mh\u001b[0m\u001b[1;33m)\u001b[0m\u001b[1;33m)\u001b[0m\u001b[1;33m\u001b[0m\u001b[1;33m\u001b[0m\u001b[0m\n\u001b[0m\u001b[0;32m     40\u001b[0m \u001b[1;33m\u001b[0m\u001b[0m\n\u001b[0;32m     41\u001b[0m \u001b[1;33m\u001b[0m\u001b[0m\n",
      "\u001b[1;31mValueError\u001b[0m: cannot convert float NaN to integer"
     ]
    },
    {
     "data": {
      "image/png": "[encoded data removed]",
      "text/plain": [
       "<Figure size 432x288 with 1 Axes>"
      ]
     },
     "metadata": {
      "needs_background": "light"
     },
     "output_type": "display_data"
    }
   ],
   "source": [
    "sns.distplot(happy.Q16A,kde=False)"
   ]
  },
  {
   "cell_type": "markdown",
   "metadata": {},
   "source": [
    "### Q23 ) 자원봉사활동 횟수\n",
    "\n",
    "RQ23A1,RQ23B1,RQ23C1,RQ23D1의 $\\sum$\n"
   ]
  },
  {
   "cell_type": "code",
   "execution_count": 34,
   "metadata": {
    "scrolled": true
   },
   "outputs": [],
   "source": [
    "volu= happy.loc[:,'RQ23A1' : 'RQ23D1']\n",
    "happy.RQ23A1 = volu.sum(1)\n",
    "happy.rename(columns = {'RQ23A1':'Q23'}, inplace = True) #Q12 : 총 문화횟수!\n",
    "\n",
    "\n",
    "#이제 문화생활횟수 구했으니 B1,C1... 다 삭제가능!\n",
    "happy = happy.drop(['RQ23B1','RQ23C1','RQ23D1'],axis=1)"
   ]
  },
  {
   "cell_type": "markdown",
   "metadata": {},
   "source": [
    "### Q42C2 통근시간\n"
   ]
  },
  {
   "cell_type": "code",
   "execution_count": 35,
   "metadata": {
    "scrolled": true
   },
   "outputs": [
    {
     "ename": "ValueError",
     "evalue": "cannot convert float NaN to integer",
     "output_type": "error",
     "traceback": [
      "\u001b[1;31m---------------------------------------------------------------------------\u001b[0m",
      "\u001b[1;31mValueError\u001b[0m                                Traceback (most recent call last)",
      "\u001b[1;32m<ipython-input-35-087caa848ba6>\u001b[0m in \u001b[0;36m<module>\u001b[1;34m\u001b[0m\n\u001b[1;32m----> 1\u001b[1;33m \u001b[0msns\u001b[0m\u001b[1;33m.\u001b[0m\u001b[0mdistplot\u001b[0m\u001b[1;33m(\u001b[0m\u001b[0mhappy\u001b[0m\u001b[1;33m.\u001b[0m\u001b[0mQ42C2\u001b[0m\u001b[1;33m,\u001b[0m\u001b[0mkde\u001b[0m\u001b[1;33m=\u001b[0m\u001b[1;32mFalse\u001b[0m\u001b[1;33m)\u001b[0m\u001b[1;33m\u001b[0m\u001b[1;33m\u001b[0m\u001b[0m\n\u001b[0m",
      "\u001b[1;32m~\\AppData\\Local\\Continuum\\anaconda3\\lib\\site-packages\\seaborn\\distributions.py\u001b[0m in \u001b[0;36mdistplot\u001b[1;34m(a, bins, hist, kde, rug, fit, hist_kws, kde_kws, rug_kws, fit_kws, color, vertical, norm_hist, axlabel, label, ax)\u001b[0m\n\u001b[0;32m    213\u001b[0m     \u001b[1;32mif\u001b[0m \u001b[0mhist\u001b[0m\u001b[1;33m:\u001b[0m\u001b[1;33m\u001b[0m\u001b[1;33m\u001b[0m\u001b[0m\n\u001b[0;32m    214\u001b[0m         \u001b[1;32mif\u001b[0m \u001b[0mbins\u001b[0m \u001b[1;32mis\u001b[0m \u001b[1;32mNone\u001b[0m\u001b[1;33m:\u001b[0m\u001b[1;33m\u001b[0m\u001b[1;33m\u001b[0m\u001b[0m\n\u001b[1;32m--> 215\u001b[1;33m             \u001b[0mbins\u001b[0m \u001b[1;33m=\u001b[0m \u001b[0mmin\u001b[0m\u001b[1;33m(\u001b[0m\u001b[0m_freedman_diaconis_bins\u001b[0m\u001b[1;33m(\u001b[0m\u001b[0ma\u001b[0m\u001b[1;33m)\u001b[0m\u001b[1;33m,\u001b[0m \u001b[1;36m50\u001b[0m\u001b[1;33m)\u001b[0m\u001b[1;33m\u001b[0m\u001b[1;33m\u001b[0m\u001b[0m\n\u001b[0m\u001b[0;32m    216\u001b[0m         \u001b[0mhist_kws\u001b[0m\u001b[1;33m.\u001b[0m\u001b[0msetdefault\u001b[0m\u001b[1;33m(\u001b[0m\u001b[1;34m\"alpha\"\u001b[0m\u001b[1;33m,\u001b[0m \u001b[1;36m0.4\u001b[0m\u001b[1;33m)\u001b[0m\u001b[1;33m\u001b[0m\u001b[1;33m\u001b[0m\u001b[0m\n\u001b[0;32m    217\u001b[0m         \u001b[1;32mif\u001b[0m \u001b[0mLooseVersion\u001b[0m\u001b[1;33m(\u001b[0m\u001b[0mmpl\u001b[0m\u001b[1;33m.\u001b[0m\u001b[0m__version__\u001b[0m\u001b[1;33m)\u001b[0m \u001b[1;33m<\u001b[0m \u001b[0mLooseVersion\u001b[0m\u001b[1;33m(\u001b[0m\u001b[1;34m\"2.2\"\u001b[0m\u001b[1;33m)\u001b[0m\u001b[1;33m:\u001b[0m\u001b[1;33m\u001b[0m\u001b[1;33m\u001b[0m\u001b[0m\n",
      "\u001b[1;32m~\\AppData\\Local\\Continuum\\anaconda3\\lib\\site-packages\\seaborn\\distributions.py\u001b[0m in \u001b[0;36m_freedman_diaconis_bins\u001b[1;34m(a)\u001b[0m\n\u001b[0;32m     37\u001b[0m         \u001b[1;32mreturn\u001b[0m \u001b[0mint\u001b[0m\u001b[1;33m(\u001b[0m\u001b[0mnp\u001b[0m\u001b[1;33m.\u001b[0m\u001b[0msqrt\u001b[0m\u001b[1;33m(\u001b[0m\u001b[0ma\u001b[0m\u001b[1;33m.\u001b[0m\u001b[0msize\u001b[0m\u001b[1;33m)\u001b[0m\u001b[1;33m)\u001b[0m\u001b[1;33m\u001b[0m\u001b[1;33m\u001b[0m\u001b[0m\n\u001b[0;32m     38\u001b[0m     \u001b[1;32melse\u001b[0m\u001b[1;33m:\u001b[0m\u001b[1;33m\u001b[0m\u001b[1;33m\u001b[0m\u001b[0m\n\u001b[1;32m---> 39\u001b[1;33m         \u001b[1;32mreturn\u001b[0m \u001b[0mint\u001b[0m\u001b[1;33m(\u001b[0m\u001b[0mnp\u001b[0m\u001b[1;33m.\u001b[0m\u001b[0mceil\u001b[0m\u001b[1;33m(\u001b[0m\u001b[1;33m(\u001b[0m\u001b[0ma\u001b[0m\u001b[1;33m.\u001b[0m\u001b[0mmax\u001b[0m\u001b[1;33m(\u001b[0m\u001b[1;33m)\u001b[0m \u001b[1;33m-\u001b[0m \u001b[0ma\u001b[0m\u001b[1;33m.\u001b[0m\u001b[0mmin\u001b[0m\u001b[1;33m(\u001b[0m\u001b[1;33m)\u001b[0m\u001b[1;33m)\u001b[0m \u001b[1;33m/\u001b[0m \u001b[0mh\u001b[0m\u001b[1;33m)\u001b[0m\u001b[1;33m)\u001b[0m\u001b[1;33m\u001b[0m\u001b[1;33m\u001b[0m\u001b[0m\n\u001b[0m\u001b[0;32m     40\u001b[0m \u001b[1;33m\u001b[0m\u001b[0m\n\u001b[0;32m     41\u001b[0m \u001b[1;33m\u001b[0m\u001b[0m\n",
      "\u001b[1;31mValueError\u001b[0m: cannot convert float NaN to integer"
     ]
    },
    {
     "data": {
      "image/png": "[encoded data removed]",
      "text/plain": [
       "<Figure size 432x288 with 1 Axes>"
      ]
     },
     "metadata": {
      "needs_background": "light"
     },
     "output_type": "display_data"
    }
   ],
   "source": [
    "sns.distplot(happy.Q42C2,kde=False)"
   ]
  },
  {
   "cell_type": "markdown",
   "metadata": {},
   "source": [
    "NA imputing을 인해서 0이 가장 많다. 제외하고는 bell모양의 curve가 잘 지켜진다."
   ]
  },
  {
   "cell_type": "code",
   "execution_count": 36,
   "metadata": {},
   "outputs": [
    {
     "data": {
      "text/plain": [
       "26.61322864837723"
      ]
     },
     "execution_count": 36,
     "metadata": {},
     "output_type": "execute_result"
    }
   ],
   "source": [
    "happy.Q42C2[happy.Q42C2!=0].mean()"
   ]
  },
  {
   "cell_type": "markdown",
   "metadata": {},
   "source": [
    "0분을 제외하고 통근시간은 평균 33분이다"
   ]
  },
  {
   "cell_type": "markdown",
   "metadata": {},
   "source": [
    "### 차원이 많이 줄었는가?"
   ]
  },
  {
   "cell_type": "code",
   "execution_count": 37,
   "metadata": {},
   "outputs": [
    {
     "data": {
      "text/plain": [
       "(31848, 147)"
      ]
     },
     "execution_count": 37,
     "metadata": {},
     "output_type": "execute_result"
    }
   ],
   "source": [
    "happy.shape\n",
    "\n",
    "# 네"
   ]
  },
  {
   "cell_type": "markdown",
   "metadata": {},
   "source": [
    "## 4) 김진영: 데이터 결합 및 삭제, datatype 정리"
   ]
  },
  {
   "cell_type": "markdown",
   "metadata": {},
   "source": [
    "## 안쓰기로 한 variable 삭제\n",
    "- 'JEN', 'AGE', 'EDU', 'DE4', 'MAR', 'GU', 'DE8', 'JOB', 'FC', 'Q2A','Q3A2','Q3A3','Q3A4','Q3A5','Q3A6','Q3A7','Q3A8','Q3A9','Q3A10','Q3A11','Q12I', 'Q20A', 'Q20B1', 'Q20B2', 'Q20B3', 'Q20B4', 'Q20B5', 'Q44A', 'Q45A1'"
   ]
  },
  {
   "cell_type": "code",
   "execution_count": 38,
   "metadata": {},
   "outputs": [],
   "source": [
    "happy=happy.drop(['JEN', 'AGE', 'EDU', 'DE4', 'MAR', 'GU', 'DE8', 'JOB', 'FC', 'Q2A','Q3A2','Q3A3','Q3A4','Q3A5','Q3A6','Q3A7','Q3A8','Q3A9','Q3A10','Q3A11','Q12I', 'Q20A', 'Q20B1', 'Q20B2', 'Q20B3', 'Q20B4', 'Q20B5', 'Q44A', 'Q45A1'],axis=1)"
   ]
  },
  {
   "cell_type": "markdown",
   "metadata": {},
   "source": [
    "## 데이터 정제 및 전처리 (1)\n",
    "### (이가은학우 자료 합치기)"
   ]
  },
  {
   "cell_type": "markdown",
   "metadata": {},
   "source": [
    "### Q14"
   ]
  },
  {
   "cell_type": "code",
   "execution_count": 39,
   "metadata": {},
   "outputs": [
    {
     "ename": "FileNotFoundError",
     "evalue": "[Errno 2] No such file or directory: 'C:/ESC2020_spring/finalproject/na/q14.xlsx'",
     "output_type": "error",
     "traceback": [
      "\u001b[1;31m---------------------------------------------------------------------------\u001b[0m",
      "\u001b[1;31mFileNotFoundError\u001b[0m                         Traceback (most recent call last)",
      "\u001b[1;32m<ipython-input-39-939450a9aaf1>\u001b[0m in \u001b[0;36m<module>\u001b[1;34m\u001b[0m\n\u001b[0;32m      1\u001b[0m \u001b[1;31m# Q14. 이가은학우 자료 불러오기\u001b[0m\u001b[1;33m\u001b[0m\u001b[1;33m\u001b[0m\u001b[1;33m\u001b[0m\u001b[0m\n\u001b[1;32m----> 2\u001b[1;33m \u001b[0mq14\u001b[0m\u001b[1;33m=\u001b[0m\u001b[0mpd\u001b[0m\u001b[1;33m.\u001b[0m\u001b[0mread_excel\u001b[0m\u001b[1;33m(\u001b[0m\u001b[1;34m'C:/ESC2020_spring/finalproject/na/q14.xlsx'\u001b[0m\u001b[1;33m)\u001b[0m\u001b[1;33m\u001b[0m\u001b[1;33m\u001b[0m\u001b[0m\n\u001b[0m\u001b[0;32m      3\u001b[0m \u001b[0mq14\u001b[0m\u001b[1;33m.\u001b[0m\u001b[0mhead\u001b[0m\u001b[1;33m(\u001b[0m\u001b[1;33m)\u001b[0m\u001b[1;33m\u001b[0m\u001b[1;33m\u001b[0m\u001b[0m\n",
      "\u001b[1;32m~\\AppData\\Local\\Continuum\\anaconda3\\lib\\site-packages\\pandas\\util\\_decorators.py\u001b[0m in \u001b[0;36mwrapper\u001b[1;34m(*args, **kwargs)\u001b[0m\n\u001b[0;32m    186\u001b[0m                 \u001b[1;32melse\u001b[0m\u001b[1;33m:\u001b[0m\u001b[1;33m\u001b[0m\u001b[1;33m\u001b[0m\u001b[0m\n\u001b[0;32m    187\u001b[0m                     \u001b[0mkwargs\u001b[0m\u001b[1;33m[\u001b[0m\u001b[0mnew_arg_name\u001b[0m\u001b[1;33m]\u001b[0m \u001b[1;33m=\u001b[0m \u001b[0mnew_arg_value\u001b[0m\u001b[1;33m\u001b[0m\u001b[1;33m\u001b[0m\u001b[0m\n\u001b[1;32m--> 188\u001b[1;33m             \u001b[1;32mreturn\u001b[0m \u001b[0mfunc\u001b[0m\u001b[1;33m(\u001b[0m\u001b[1;33m*\u001b[0m\u001b[0margs\u001b[0m\u001b[1;33m,\u001b[0m \u001b[1;33m**\u001b[0m\u001b[0mkwargs\u001b[0m\u001b[1;33m)\u001b[0m\u001b[1;33m\u001b[0m\u001b[1;33m\u001b[0m\u001b[0m\n\u001b[0m\u001b[0;32m    189\u001b[0m         \u001b[1;32mreturn\u001b[0m \u001b[0mwrapper\u001b[0m\u001b[1;33m\u001b[0m\u001b[1;33m\u001b[0m\u001b[0m\n\u001b[0;32m    190\u001b[0m     \u001b[1;32mreturn\u001b[0m \u001b[0m_deprecate_kwarg\u001b[0m\u001b[1;33m\u001b[0m\u001b[1;33m\u001b[0m\u001b[0m\n",
      "\u001b[1;32m~\\AppData\\Local\\Continuum\\anaconda3\\lib\\site-packages\\pandas\\util\\_decorators.py\u001b[0m in \u001b[0;36mwrapper\u001b[1;34m(*args, **kwargs)\u001b[0m\n\u001b[0;32m    186\u001b[0m                 \u001b[1;32melse\u001b[0m\u001b[1;33m:\u001b[0m\u001b[1;33m\u001b[0m\u001b[1;33m\u001b[0m\u001b[0m\n\u001b[0;32m    187\u001b[0m                     \u001b[0mkwargs\u001b[0m\u001b[1;33m[\u001b[0m\u001b[0mnew_arg_name\u001b[0m\u001b[1;33m]\u001b[0m \u001b[1;33m=\u001b[0m \u001b[0mnew_arg_value\u001b[0m\u001b[1;33m\u001b[0m\u001b[1;33m\u001b[0m\u001b[0m\n\u001b[1;32m--> 188\u001b[1;33m             \u001b[1;32mreturn\u001b[0m \u001b[0mfunc\u001b[0m\u001b[1;33m(\u001b[0m\u001b[1;33m*\u001b[0m\u001b[0margs\u001b[0m\u001b[1;33m,\u001b[0m \u001b[1;33m**\u001b[0m\u001b[0mkwargs\u001b[0m\u001b[1;33m)\u001b[0m\u001b[1;33m\u001b[0m\u001b[1;33m\u001b[0m\u001b[0m\n\u001b[0m\u001b[0;32m    189\u001b[0m         \u001b[1;32mreturn\u001b[0m \u001b[0mwrapper\u001b[0m\u001b[1;33m\u001b[0m\u001b[1;33m\u001b[0m\u001b[0m\n\u001b[0;32m    190\u001b[0m     \u001b[1;32mreturn\u001b[0m \u001b[0m_deprecate_kwarg\u001b[0m\u001b[1;33m\u001b[0m\u001b[1;33m\u001b[0m\u001b[0m\n",
      "\u001b[1;32m~\\AppData\\Local\\Continuum\\anaconda3\\lib\\site-packages\\pandas\\io\\excel.py\u001b[0m in \u001b[0;36mread_excel\u001b[1;34m(io, sheet_name, header, names, index_col, parse_cols, usecols, squeeze, dtype, engine, converters, true_values, false_values, skiprows, nrows, na_values, keep_default_na, verbose, parse_dates, date_parser, thousands, comment, skip_footer, skipfooter, convert_float, mangle_dupe_cols, **kwds)\u001b[0m\n\u001b[0;32m    348\u001b[0m \u001b[1;33m\u001b[0m\u001b[0m\n\u001b[0;32m    349\u001b[0m     \u001b[1;32mif\u001b[0m \u001b[1;32mnot\u001b[0m \u001b[0misinstance\u001b[0m\u001b[1;33m(\u001b[0m\u001b[0mio\u001b[0m\u001b[1;33m,\u001b[0m \u001b[0mExcelFile\u001b[0m\u001b[1;33m)\u001b[0m\u001b[1;33m:\u001b[0m\u001b[1;33m\u001b[0m\u001b[1;33m\u001b[0m\u001b[0m\n\u001b[1;32m--> 350\u001b[1;33m         \u001b[0mio\u001b[0m \u001b[1;33m=\u001b[0m \u001b[0mExcelFile\u001b[0m\u001b[1;33m(\u001b[0m\u001b[0mio\u001b[0m\u001b[1;33m,\u001b[0m \u001b[0mengine\u001b[0m\u001b[1;33m=\u001b[0m\u001b[0mengine\u001b[0m\u001b[1;33m)\u001b[0m\u001b[1;33m\u001b[0m\u001b[1;33m\u001b[0m\u001b[0m\n\u001b[0m\u001b[0;32m    351\u001b[0m \u001b[1;33m\u001b[0m\u001b[0m\n\u001b[0;32m    352\u001b[0m     return io.parse(\n",
      "\u001b[1;32m~\\AppData\\Local\\Continuum\\anaconda3\\lib\\site-packages\\pandas\\io\\excel.py\u001b[0m in \u001b[0;36m__init__\u001b[1;34m(self, io, engine)\u001b[0m\n\u001b[0;32m    651\u001b[0m         \u001b[0mself\u001b[0m\u001b[1;33m.\u001b[0m\u001b[0m_io\u001b[0m \u001b[1;33m=\u001b[0m \u001b[0m_stringify_path\u001b[0m\u001b[1;33m(\u001b[0m\u001b[0mio\u001b[0m\u001b[1;33m)\u001b[0m\u001b[1;33m\u001b[0m\u001b[1;33m\u001b[0m\u001b[0m\n\u001b[0;32m    652\u001b[0m \u001b[1;33m\u001b[0m\u001b[0m\n\u001b[1;32m--> 653\u001b[1;33m         \u001b[0mself\u001b[0m\u001b[1;33m.\u001b[0m\u001b[0m_reader\u001b[0m \u001b[1;33m=\u001b[0m \u001b[0mself\u001b[0m\u001b[1;33m.\u001b[0m\u001b[0m_engines\u001b[0m\u001b[1;33m[\u001b[0m\u001b[0mengine\u001b[0m\u001b[1;33m]\u001b[0m\u001b[1;33m(\u001b[0m\u001b[0mself\u001b[0m\u001b[1;33m.\u001b[0m\u001b[0m_io\u001b[0m\u001b[1;33m)\u001b[0m\u001b[1;33m\u001b[0m\u001b[1;33m\u001b[0m\u001b[0m\n\u001b[0m\u001b[0;32m    654\u001b[0m \u001b[1;33m\u001b[0m\u001b[0m\n\u001b[0;32m    655\u001b[0m     \u001b[1;32mdef\u001b[0m \u001b[0m__fspath__\u001b[0m\u001b[1;33m(\u001b[0m\u001b[0mself\u001b[0m\u001b[1;33m)\u001b[0m\u001b[1;33m:\u001b[0m\u001b[1;33m\u001b[0m\u001b[1;33m\u001b[0m\u001b[0m\n",
      "\u001b[1;32m~\\AppData\\Local\\Continuum\\anaconda3\\lib\\site-packages\\pandas\\io\\excel.py\u001b[0m in \u001b[0;36m__init__\u001b[1;34m(self, filepath_or_buffer)\u001b[0m\n\u001b[0;32m    422\u001b[0m             \u001b[0mself\u001b[0m\u001b[1;33m.\u001b[0m\u001b[0mbook\u001b[0m \u001b[1;33m=\u001b[0m \u001b[0mxlrd\u001b[0m\u001b[1;33m.\u001b[0m\u001b[0mopen_workbook\u001b[0m\u001b[1;33m(\u001b[0m\u001b[0mfile_contents\u001b[0m\u001b[1;33m=\u001b[0m\u001b[0mdata\u001b[0m\u001b[1;33m)\u001b[0m\u001b[1;33m\u001b[0m\u001b[1;33m\u001b[0m\u001b[0m\n\u001b[0;32m    423\u001b[0m         \u001b[1;32melif\u001b[0m \u001b[0misinstance\u001b[0m\u001b[1;33m(\u001b[0m\u001b[0mfilepath_or_buffer\u001b[0m\u001b[1;33m,\u001b[0m \u001b[0mcompat\u001b[0m\u001b[1;33m.\u001b[0m\u001b[0mstring_types\u001b[0m\u001b[1;33m)\u001b[0m\u001b[1;33m:\u001b[0m\u001b[1;33m\u001b[0m\u001b[1;33m\u001b[0m\u001b[0m\n\u001b[1;32m--> 424\u001b[1;33m             \u001b[0mself\u001b[0m\u001b[1;33m.\u001b[0m\u001b[0mbook\u001b[0m \u001b[1;33m=\u001b[0m \u001b[0mxlrd\u001b[0m\u001b[1;33m.\u001b[0m\u001b[0mopen_workbook\u001b[0m\u001b[1;33m(\u001b[0m\u001b[0mfilepath_or_buffer\u001b[0m\u001b[1;33m)\u001b[0m\u001b[1;33m\u001b[0m\u001b[1;33m\u001b[0m\u001b[0m\n\u001b[0m\u001b[0;32m    425\u001b[0m         \u001b[1;32melse\u001b[0m\u001b[1;33m:\u001b[0m\u001b[1;33m\u001b[0m\u001b[1;33m\u001b[0m\u001b[0m\n\u001b[0;32m    426\u001b[0m             raise ValueError('Must explicitly set engine if not passing in'\n",
      "\u001b[1;32m~\\AppData\\Local\\Continuum\\anaconda3\\lib\\site-packages\\xlrd\\__init__.py\u001b[0m in \u001b[0;36mopen_workbook\u001b[1;34m(filename, logfile, verbosity, use_mmap, file_contents, encoding_override, formatting_info, on_demand, ragged_rows)\u001b[0m\n\u001b[0;32m    109\u001b[0m     \u001b[1;32melse\u001b[0m\u001b[1;33m:\u001b[0m\u001b[1;33m\u001b[0m\u001b[1;33m\u001b[0m\u001b[0m\n\u001b[0;32m    110\u001b[0m         \u001b[0mfilename\u001b[0m \u001b[1;33m=\u001b[0m \u001b[0mos\u001b[0m\u001b[1;33m.\u001b[0m\u001b[0mpath\u001b[0m\u001b[1;33m.\u001b[0m\u001b[0mexpanduser\u001b[0m\u001b[1;33m(\u001b[0m\u001b[0mfilename\u001b[0m\u001b[1;33m)\u001b[0m\u001b[1;33m\u001b[0m\u001b[1;33m\u001b[0m\u001b[0m\n\u001b[1;32m--> 111\u001b[1;33m         \u001b[1;32mwith\u001b[0m \u001b[0mopen\u001b[0m\u001b[1;33m(\u001b[0m\u001b[0mfilename\u001b[0m\u001b[1;33m,\u001b[0m \u001b[1;34m\"rb\"\u001b[0m\u001b[1;33m)\u001b[0m \u001b[1;32mas\u001b[0m \u001b[0mf\u001b[0m\u001b[1;33m:\u001b[0m\u001b[1;33m\u001b[0m\u001b[1;33m\u001b[0m\u001b[0m\n\u001b[0m\u001b[0;32m    112\u001b[0m             \u001b[0mpeek\u001b[0m \u001b[1;33m=\u001b[0m \u001b[0mf\u001b[0m\u001b[1;33m.\u001b[0m\u001b[0mread\u001b[0m\u001b[1;33m(\u001b[0m\u001b[0mpeeksz\u001b[0m\u001b[1;33m)\u001b[0m\u001b[1;33m\u001b[0m\u001b[1;33m\u001b[0m\u001b[0m\n\u001b[0;32m    113\u001b[0m     \u001b[1;32mif\u001b[0m \u001b[0mpeek\u001b[0m \u001b[1;33m==\u001b[0m \u001b[1;34mb\"PK\\x03\\x04\"\u001b[0m\u001b[1;33m:\u001b[0m \u001b[1;31m# a ZIP file\u001b[0m\u001b[1;33m\u001b[0m\u001b[1;33m\u001b[0m\u001b[0m\n",
      "\u001b[1;31mFileNotFoundError\u001b[0m: [Errno 2] No such file or directory: 'C:/ESC2020_spring/finalproject/na/q14.xlsx'"
     ]
    }
   ],
   "source": [
    "# Q14. 이가은학우 자료 불러오기\n",
    "q14=pd.read_excel('C:/ESC2020_spring/finalproject/na/q14.xlsx')\n",
    "q14.head()"
   ]
  },
  {
   "cell_type": "code",
   "execution_count": null,
   "metadata": {},
   "outputs": [],
   "source": [
    "# 결측치 채워진 column으로 대체 (2순위 무응답 -> 1순위와 동일하게)\n",
    "happy['Q14A2']=q14['Q14A2']\n",
    "happy['Q14A2'].isnull().sum()"
   ]
  },
  {
   "cell_type": "markdown",
   "metadata": {},
   "source": [
    "### Q16"
   ]
  },
  {
   "cell_type": "code",
   "execution_count": null,
   "metadata": {},
   "outputs": [],
   "source": [
    "# Q16. 이가은학우 자료 불러오기\n",
    "q16=pd.read_excel('C:/ESC2020_spring/finalproject/na/q16.xlsx')\n",
    "q16.head()"
   ]
  },
  {
   "cell_type": "code",
   "execution_count": null,
   "metadata": {},
   "outputs": [],
   "source": [
    "# 결측치 채워진 column으로 대체 (방문한 적 없을 때 결측치인 것 0으로 대체)\n",
    "happy['Q16A']=q16[0]\n",
    "happy['Q16A'].isnull().sum()"
   ]
  },
  {
   "cell_type": "markdown",
   "metadata": {},
   "source": [
    "### Q17"
   ]
  },
  {
   "cell_type": "code",
   "execution_count": null,
   "metadata": {},
   "outputs": [],
   "source": [
    "# Q17. 이가은학우 자료 불러오기\n",
    "q17=pd.read_excel('C:/ESC2020_spring/finalproject/na/q17.xlsx')\n",
    "q17.head()"
   ]
  },
  {
   "cell_type": "code",
   "execution_count": null,
   "metadata": {},
   "outputs": [],
   "source": [
    "# 결측치 채워진 column으로 대체 (2순위 무응답 -> 1순위와 동일하게)\n",
    "happy[['Q17A1','Q17A2']]=q17[['Q17A1','Q17A2']]\n",
    "happy['Q17A2'].isnull().sum()"
   ]
  },
  {
   "cell_type": "markdown",
   "metadata": {},
   "source": [
    "### Q19"
   ]
  },
  {
   "cell_type": "code",
   "execution_count": null,
   "metadata": {},
   "outputs": [],
   "source": [
    "# Q19. 이가은학우 자료 불러오기\n",
    "q19=pd.read_excel('C:/ESC2020_spring/finalproject/na/q19.xlsx')\n",
    "q19.head()"
   ]
  },
  {
   "cell_type": "code",
   "execution_count": null,
   "metadata": {},
   "outputs": [],
   "source": [
    "# 결측치 채워진 column으로 대체 (2순위 무응답 -> 1순위와 동일하게)\n",
    "happy[['Q19A1','Q19A2']]=q19[['Q19A1','Q19A2']]\n",
    "happy['Q19A2'].isnull().sum()"
   ]
  },
  {
   "cell_type": "markdown",
   "metadata": {},
   "source": [
    "### Q21"
   ]
  },
  {
   "cell_type": "code",
   "execution_count": null,
   "metadata": {},
   "outputs": [],
   "source": [
    "# Q21. 이가은학우 자료 불러오기\n",
    "q21_a=pd.read_excel('C:/ESC2020_spring/finalproject/na/q21_a.xlsx')\n",
    "q21_a.head()"
   ]
  },
  {
   "cell_type": "code",
   "execution_count": null,
   "metadata": {},
   "outputs": [],
   "source": [
    "# 가공된 column 새로 추가 (받은 평생교육의 형태 -> 평생교육 받은 여부)\n",
    "happy['Q21A']=q21_a[0]"
   ]
  },
  {
   "cell_type": "markdown",
   "metadata": {},
   "source": [
    "### Q21-1"
   ]
  },
  {
   "cell_type": "code",
   "execution_count": null,
   "metadata": {},
   "outputs": [],
   "source": [
    "# Q21-1. 이가은학우 자료 불러오기\n",
    "q21_b=pd.read_excel('C:/ESC2020_spring/finalproject/na/q21_b.xlsx')\n",
    "q21_b.head()"
   ]
  },
  {
   "cell_type": "code",
   "execution_count": null,
   "metadata": {},
   "outputs": [],
   "source": [
    "# 결측치 채워진 column으로 대체 (2순위 무응답 -> 1순위와 동일하게)\n",
    "happy[['Q21B1','Q21B2']]=q21_b[['Q21B1','Q21B2']]\n",
    "happy['Q21B2'].isnull().sum()"
   ]
  },
  {
   "cell_type": "markdown",
   "metadata": {},
   "source": [
    "### Q24"
   ]
  },
  {
   "cell_type": "code",
   "execution_count": null,
   "metadata": {},
   "outputs": [],
   "source": [
    "# Q24. 이가은학우 자료 불러오기\n",
    "q24=pd.read_excel('C:/ESC2020_spring/finalproject/na/q24.xlsx')\n",
    "q24.head()"
   ]
  },
  {
   "cell_type": "code",
   "execution_count": null,
   "metadata": {},
   "outputs": [],
   "source": [
    "# 가공된 column으로 대체 (자원봉사 참여의향 정도 -> 참여의향 여부)\n",
    "happy['Q24']=q24['Q24']"
   ]
  },
  {
   "cell_type": "markdown",
   "metadata": {},
   "source": [
    "### Q25"
   ]
  },
  {
   "cell_type": "code",
   "execution_count": null,
   "metadata": {},
   "outputs": [],
   "source": [
    "# Q25. 이가은학우 자료 불러오기\n",
    "q25=pd.read_excel('C:/ESC2020_spring/finalproject/na/q25.xlsx')\n",
    "q25.head()"
   ]
  },
  {
   "cell_type": "code",
   "execution_count": null,
   "metadata": {
    "scrolled": true
   },
   "outputs": [],
   "source": [
    "# 결측치 채워진 column으로 대체 (2순위 무응답 -> 1순위와 동일하게)\n",
    "happy[['Q25A1','Q25A2']]=q25[['Q25A1','Q25A2']]\n",
    "happy['Q25A2'].isnull().sum()"
   ]
  },
  {
   "cell_type": "markdown",
   "metadata": {},
   "source": [
    "### Q26"
   ]
  },
  {
   "cell_type": "code",
   "execution_count": null,
   "metadata": {},
   "outputs": [],
   "source": [
    "# Q26. 이가은학우 자료 불러오기\n",
    "q26=pd.read_excel('C:/ESC2020_spring/finalproject/na/q26.xlsx')\n",
    "q26.head()"
   ]
  },
  {
   "cell_type": "code",
   "execution_count": null,
   "metadata": {},
   "outputs": [],
   "source": [
    "# 가공된 column 새로 추가 (기부 형태 -> 기부 했는지 여부)\n",
    "happy['Q26']=q26[0]"
   ]
  },
  {
   "cell_type": "markdown",
   "metadata": {},
   "source": [
    "### Q31"
   ]
  },
  {
   "cell_type": "code",
   "execution_count": null,
   "metadata": {},
   "outputs": [],
   "source": [
    "# Q31. 이가은학우 자료 불러오기\n",
    "q31=pd.read_excel('C:/ESC2020_spring/finalproject/na/q31.xlsx')\n",
    "q31.head()"
   ]
  },
  {
   "cell_type": "code",
   "execution_count": null,
   "metadata": {},
   "outputs": [],
   "source": [
    "# 결측치 채워진 column으로 대체 (2순위 무응답 -> 1순위와 동일하게)\n",
    "happy[['Q31A1','Q31A2']]=q31[['Q31A1','Q31A2']]\n",
    "happy['Q31A2'].isnull().sum()"
   ]
  },
  {
   "cell_type": "markdown",
   "metadata": {},
   "source": [
    "### Q41"
   ]
  },
  {
   "cell_type": "code",
   "execution_count": null,
   "metadata": {},
   "outputs": [],
   "source": [
    "# Q41. 이가은학우 자료 불러오기\n",
    "q41=pd.read_excel('C:/ESC2020_spring/finalproject/na/q41.xlsx')\n",
    "q41.head()"
   ]
  },
  {
   "cell_type": "code",
   "execution_count": null,
   "metadata": {},
   "outputs": [],
   "source": [
    "# 가공된 column으로 대체 (1~5: 진보정도, 6~10: 보수정도 -> 0: 매우진보 ~ 10: 매우보수)\n",
    "happy['Q41']=q41['Q41']"
   ]
  },
  {
   "cell_type": "markdown",
   "metadata": {},
   "source": [
    "### Q42"
   ]
  },
  {
   "cell_type": "code",
   "execution_count": null,
   "metadata": {},
   "outputs": [],
   "source": [
    "# Q42. 이가은학우 자료 불러오기\n",
    "q42=pd.read_excel('C:/ESC2020_spring/finalproject/na/q42.xlsx')\n",
    "q42.head()"
   ]
  },
  {
   "cell_type": "code",
   "execution_count": null,
   "metadata": {},
   "outputs": [],
   "source": [
    "# 가공된 column으로 대체 (1:통학,2:통근 -> 1:통학or통근)\n",
    "happy['Q42']=q42['Q42']"
   ]
  },
  {
   "cell_type": "markdown",
   "metadata": {},
   "source": [
    "### Q42-3"
   ]
  },
  {
   "cell_type": "code",
   "execution_count": null,
   "metadata": {},
   "outputs": [],
   "source": [
    "# Q42-3. 이가은학우 자료 불러오기\n",
    "q42_c=pd.read_excel('C:/ESC2020_spring/finalproject/na/q42_c.xlsx')\n",
    "q42_c.head()"
   ]
  },
  {
   "cell_type": "code",
   "execution_count": null,
   "metadata": {},
   "outputs": [],
   "source": [
    "# 가공된 column으로 대체 (통학/통근 안하는 경우 통학/통근시간 0으로 반영)\n",
    "happy['Q42C2']=q42_c[0]"
   ]
  },
  {
   "cell_type": "markdown",
   "metadata": {},
   "source": [
    "### Q47-3"
   ]
  },
  {
   "cell_type": "code",
   "execution_count": null,
   "metadata": {},
   "outputs": [],
   "source": [
    "# Q47-3. 이가은학우 자료 불러오기\n",
    "q47=pd.read_excel('C:/ESC2020_spring/finalproject/na/q47.xlsx')\n",
    "q47.head()"
   ]
  },
  {
   "cell_type": "code",
   "execution_count": null,
   "metadata": {},
   "outputs": [],
   "source": [
    "# 가공된 column으로 대체 (0:무직, 1~5 직업만족정도)\n",
    "happy['Q47C']=q47[0]"
   ]
  },
  {
   "cell_type": "markdown",
   "metadata": {},
   "source": [
    "## 데이터 정제 및 전처리 (2)\n",
    "### (박태석학우 자료 합치기)"
   ]
  },
  {
   "cell_type": "markdown",
   "metadata": {},
   "source": [
    "# Q30"
   ]
  },
  {
   "cell_type": "code",
   "execution_count": null,
   "metadata": {},
   "outputs": [],
   "source": [
    "# 가공된 column 새로 추가 \n",
    "happy['Q30Mean34']=Q30Mean34"
   ]
  },
  {
   "cell_type": "markdown",
   "metadata": {},
   "source": [
    "# Q32"
   ]
  },
  {
   "cell_type": "code",
   "execution_count": null,
   "metadata": {},
   "outputs": [],
   "source": [
    "# 가공된 column 새로 추가 \n",
    "happy['Q32Mean12']=Q32Mean12\n",
    "happy['Q32Mean67']=Q32Mean67"
   ]
  },
  {
   "cell_type": "markdown",
   "metadata": {},
   "source": [
    "# Q33"
   ]
  },
  {
   "cell_type": "code",
   "execution_count": null,
   "metadata": {},
   "outputs": [],
   "source": [
    "# 가공된 column 새로 추가 \n",
    "happy['Q33Mean12']=Q33Mean12\n",
    "happy['Q33Mean45']=Q33Mean45"
   ]
  },
  {
   "cell_type": "markdown",
   "metadata": {},
   "source": [
    "### Q36-1"
   ]
  },
  {
   "cell_type": "code",
   "execution_count": null,
   "metadata": {},
   "outputs": [],
   "source": [
    "# 가공된 column 새로 추가 \n",
    "happy['Q36Mean']=Q36Mean"
   ]
  },
  {
   "cell_type": "markdown",
   "metadata": {},
   "source": [
    "### Q43"
   ]
  },
  {
   "cell_type": "code",
   "execution_count": 40,
   "metadata": {},
   "outputs": [],
   "source": [
    "# 가공된 column 새로 추가 \n",
    "happy['Q43Mean']=Q43Mean"
   ]
  },
  {
   "cell_type": "markdown",
   "metadata": {},
   "source": [
    "# Q46"
   ]
  },
  {
   "cell_type": "code",
   "execution_count": 41,
   "metadata": {},
   "outputs": [],
   "source": [
    "# 가공된 column 새로 추가 \n",
    "happy['Q46Mean235']=Q46Mean235"
   ]
  },
  {
   "cell_type": "code",
   "execution_count": 42,
   "metadata": {},
   "outputs": [],
   "source": [
    "# 합치기 전 columns 삭제\n",
    "happy=happy.drop(['Q30A3', 'Q30A4', 'Q32A1', 'Q32A2', 'Q32A6', 'Q32A7', 'Q33A1', 'Q33A2', 'Q33A4', 'Q33A5', 'Q36A1'\n",
    "                  ,'Q36A2','Q43A1','Q43A2', 'Q46A2', 'Q46A3', 'Q46A5'], axis = 1)"
   ]
  },
  {
   "cell_type": "markdown",
   "metadata": {},
   "source": [
    "## 데이터 정제 및 전처리 (3)\n",
    "### (누락된 자료)"
   ]
  },
  {
   "cell_type": "markdown",
   "metadata": {},
   "source": [
    "### Q2"
   ]
  },
  {
   "cell_type": "code",
   "execution_count": 43,
   "metadata": {},
   "outputs": [],
   "source": [
    "# 결측치 0으로 채우기 (축제참여 X = 0)\n",
    "happy['Q2B']=happy['Q2B'].fillna(0)"
   ]
  },
  {
   "cell_type": "markdown",
   "metadata": {},
   "source": [
    "### Q3"
   ]
  },
  {
   "cell_type": "code",
   "execution_count": 44,
   "metadata": {},
   "outputs": [
    {
     "data": {
      "text/plain": [
       "(31848,)"
      ]
     },
     "execution_count": 44,
     "metadata": {},
     "output_type": "execute_result"
    }
   ],
   "source": [
    "happy['Q3A1'].shape"
   ]
  },
  {
   "cell_type": "code",
   "execution_count": 45,
   "metadata": {},
   "outputs": [
    {
     "data": {
      "text/plain": [
       "(31848,)"
      ]
     },
     "execution_count": 45,
     "metadata": {},
     "output_type": "execute_result"
    }
   ],
   "source": [
    "# 새로운 Q3A1 가공\n",
    "q3_nd=np.zeros(31848)\n",
    "q3_nd.shape"
   ]
  },
  {
   "cell_type": "code",
   "execution_count": 46,
   "metadata": {},
   "outputs": [],
   "source": [
    "i=0\n",
    "for n in happy['Q3A1']:\n",
    "    if n==12:\n",
    "        q3_nd[i]=0\n",
    "    else:\n",
    "        q3_nd[i]=1\n",
    "    i+=1"
   ]
  },
  {
   "cell_type": "code",
   "execution_count": 47,
   "metadata": {},
   "outputs": [
    {
     "data": {
      "text/html": [
       "<div>\n",
       "<style scoped>\n",
       "    .dataframe tbody tr th:only-of-type {\n",
       "        vertical-align: middle;\n",
       "    }\n",
       "\n",
       "    .dataframe tbody tr th {\n",
       "        vertical-align: top;\n",
       "    }\n",
       "\n",
       "    .dataframe thead th {\n",
       "        text-align: right;\n",
       "    }\n",
       "</style>\n",
       "<table border=\"1\" class=\"dataframe\">\n",
       "  <thead>\n",
       "    <tr style=\"text-align: right;\">\n",
       "      <th></th>\n",
       "      <th>Q3A1</th>\n",
       "    </tr>\n",
       "  </thead>\n",
       "  <tbody>\n",
       "    <tr>\n",
       "      <th>0</th>\n",
       "      <td>1.0</td>\n",
       "    </tr>\n",
       "    <tr>\n",
       "      <th>1</th>\n",
       "      <td>1.0</td>\n",
       "    </tr>\n",
       "    <tr>\n",
       "      <th>2</th>\n",
       "      <td>1.0</td>\n",
       "    </tr>\n",
       "    <tr>\n",
       "      <th>3</th>\n",
       "      <td>1.0</td>\n",
       "    </tr>\n",
       "    <tr>\n",
       "      <th>4</th>\n",
       "      <td>0.0</td>\n",
       "    </tr>\n",
       "  </tbody>\n",
       "</table>\n",
       "</div>"
      ],
      "text/plain": [
       "   Q3A1\n",
       "0   1.0\n",
       "1   1.0\n",
       "2   1.0\n",
       "3   1.0\n",
       "4   0.0"
      ]
     },
     "execution_count": 47,
     "metadata": {},
     "output_type": "execute_result"
    }
   ],
   "source": [
    "q3=pd.DataFrame(q3_nd,columns=['Q3A1'])\n",
    "q3.head()"
   ]
  },
  {
   "cell_type": "code",
   "execution_count": 48,
   "metadata": {},
   "outputs": [],
   "source": [
    "# 가공된 column으로 대체 (단체활동 참여 형태 -> 참여여부)\n",
    "happy['Q3A1']=q3['Q3A1']"
   ]
  },
  {
   "cell_type": "markdown",
   "metadata": {},
   "source": [
    "## 데이터 타입 정리"
   ]
  },
  {
   "cell_type": "markdown",
   "metadata": {},
   "source": [
    "## nominal\n",
    "'HTYP','HLIV','REL','RLI','Q1','Q2B','Q3A1','Q14A1','Q17A1','Q17A2','Q18','Q19A1','Q19A2','Q21A','Q21B1','Q21B2','Q24','Q25A1','Q25A2','Q26','Q31A1','Q31A2','Q35','Q38','Q39','Q42','Q44','Q47','DE1','DE2','DE3','DE5','DE6','DE7','DE9'\n",
    "\n",
    "\n",
    "## ordinal\n",
    "'INC','Q2','Q5A1','Q5A2','Q5A3','Q5A4','Q6A1','Q6A2','Q6A3','Q6A4','Q6A5','Q6A6','Q6A7','Q6A8','Q6A9','Q6A10','Q6A11','Q6A12','Q6A13','Q7','Q8','Q9','Q10','Q11','Q13','Q13A','Q15','Q20','Q22','Q27','Q28','Q29A1','Q29A2','Q29A3','Q29A4','Q30A1','Q30A2','Q30A3','Q30A4','Q30A5','Q32A1','Q32A2','Q32A3','Q32A4','Q32A5','Q32A6','Q32A7','Q32A1','Q33A1','Q33A2','Q33A3','Q33A4','Q33A5','Q33A6','Q33A7','Q33A8','Q33A9','Q36','Q36Mean','Q37','Q40','Q41','Q43Mean','Q45A2','Q45A3','Q46A1','Q46A2','Q46A3','Q46A4','Q46A5','Q47C','Q48','Q49'\n",
    "\n",
    "## numerical\n",
    "'FAM1','FAM2','AGE','Q12A1','Q12I1','Q16A','Q23','Q34','Q42C2'"
   ]
  },
  {
   "cell_type": "code",
   "execution_count": 49,
   "metadata": {},
   "outputs": [
    {
     "ename": "KeyError",
     "evalue": "\"['Q21A', 'Q26'] not in index\"",
     "output_type": "error",
     "traceback": [
      "\u001b[1;31m---------------------------------------------------------------------------\u001b[0m",
      "\u001b[1;31mKeyError\u001b[0m                                  Traceback (most recent call last)",
      "\u001b[1;32m<ipython-input-49-c6b87661726b>\u001b[0m in \u001b[0;36m<module>\u001b[1;34m\u001b[0m\n\u001b[0;32m      1\u001b[0m \u001b[1;31m# data type: nominal로 변환\u001b[0m\u001b[1;33m\u001b[0m\u001b[1;33m\u001b[0m\u001b[1;33m\u001b[0m\u001b[0m\n\u001b[1;32m----> 2\u001b[1;33m \u001b[0mhappy\u001b[0m\u001b[1;33m[\u001b[0m\u001b[1;33m[\u001b[0m\u001b[1;34m'HTYP'\u001b[0m\u001b[1;33m,\u001b[0m\u001b[1;34m'HLIV'\u001b[0m\u001b[1;33m,\u001b[0m\u001b[1;34m'REL'\u001b[0m\u001b[1;33m,\u001b[0m\u001b[1;34m'RLI'\u001b[0m\u001b[1;33m,\u001b[0m\u001b[1;34m'Q1'\u001b[0m\u001b[1;33m,\u001b[0m\u001b[1;34m'Q2B'\u001b[0m\u001b[1;33m,\u001b[0m\u001b[1;34m'Q3A1'\u001b[0m\u001b[1;33m,\u001b[0m\u001b[1;34m'Q14A1'\u001b[0m\u001b[1;33m,\u001b[0m\u001b[1;34m'Q17A1'\u001b[0m\u001b[1;33m,\u001b[0m\u001b[1;34m'Q17A2'\u001b[0m\u001b[1;33m,\u001b[0m\u001b[1;34m'Q18'\u001b[0m\u001b[1;33m,\u001b[0m\u001b[1;34m'Q19A1'\u001b[0m\u001b[1;33m,\u001b[0m\u001b[1;34m'Q19A2'\u001b[0m\u001b[1;33m,\u001b[0m\u001b[1;34m'Q21A'\u001b[0m\u001b[1;33m,\u001b[0m\u001b[1;34m'Q21B1'\u001b[0m\u001b[1;33m,\u001b[0m\u001b[1;34m'Q21B2'\u001b[0m\u001b[1;33m,\u001b[0m\u001b[1;34m'Q24'\u001b[0m\u001b[1;33m,\u001b[0m\u001b[1;34m'Q25A1'\u001b[0m\u001b[1;33m,\u001b[0m\u001b[1;34m'Q25A2'\u001b[0m\u001b[1;33m,\u001b[0m\u001b[1;34m'Q26'\u001b[0m\u001b[1;33m,\u001b[0m\u001b[1;34m'Q31A1'\u001b[0m\u001b[1;33m,\u001b[0m\u001b[1;34m'Q31A2'\u001b[0m\u001b[1;33m,\u001b[0m\u001b[1;34m'Q35'\u001b[0m\u001b[1;33m,\u001b[0m\u001b[1;34m'Q38'\u001b[0m\u001b[1;33m,\u001b[0m\u001b[1;34m'Q39'\u001b[0m\u001b[1;33m,\u001b[0m\u001b[1;34m'Q42'\u001b[0m\u001b[1;33m,\u001b[0m\u001b[1;34m'Q44'\u001b[0m\u001b[1;33m,\u001b[0m\u001b[1;34m'Q47'\u001b[0m\u001b[1;33m,\u001b[0m\u001b[1;34m'DE1'\u001b[0m\u001b[1;33m,\u001b[0m\u001b[1;34m'DE2'\u001b[0m\u001b[1;33m,\u001b[0m\u001b[1;34m'DE3'\u001b[0m\u001b[1;33m,\u001b[0m\u001b[1;34m'DE5'\u001b[0m\u001b[1;33m,\u001b[0m\u001b[1;34m'DE6'\u001b[0m\u001b[1;33m,\u001b[0m\u001b[1;34m'DE7'\u001b[0m\u001b[1;33m,\u001b[0m\u001b[1;34m'DE9'\u001b[0m\u001b[1;33m]\u001b[0m\u001b[1;33m]\u001b[0m\u001b[1;33m=\u001b[0m\u001b[0mhappy\u001b[0m\u001b[1;33m[\u001b[0m\u001b[1;33m[\u001b[0m\u001b[1;34m'HTYP'\u001b[0m\u001b[1;33m,\u001b[0m\u001b[1;34m'HLIV'\u001b[0m\u001b[1;33m,\u001b[0m\u001b[1;34m'REL'\u001b[0m\u001b[1;33m,\u001b[0m\u001b[1;34m'RLI'\u001b[0m\u001b[1;33m,\u001b[0m\u001b[1;34m'Q1'\u001b[0m\u001b[1;33m,\u001b[0m\u001b[1;34m'Q2B'\u001b[0m\u001b[1;33m,\u001b[0m\u001b[1;34m'Q3A1'\u001b[0m\u001b[1;33m,\u001b[0m\u001b[1;34m'Q14A1'\u001b[0m\u001b[1;33m,\u001b[0m\u001b[1;34m'Q17A1'\u001b[0m\u001b[1;33m,\u001b[0m\u001b[1;34m'Q17A2'\u001b[0m\u001b[1;33m,\u001b[0m\u001b[1;34m'Q18'\u001b[0m\u001b[1;33m,\u001b[0m\u001b[1;34m'Q19A1'\u001b[0m\u001b[1;33m,\u001b[0m\u001b[1;34m'Q19A2'\u001b[0m\u001b[1;33m,\u001b[0m\u001b[1;34m'Q21A'\u001b[0m\u001b[1;33m,\u001b[0m\u001b[1;34m'Q21B1'\u001b[0m\u001b[1;33m,\u001b[0m\u001b[1;34m'Q21B2'\u001b[0m\u001b[1;33m,\u001b[0m\u001b[1;34m'Q24'\u001b[0m\u001b[1;33m,\u001b[0m\u001b[1;34m'Q25A1'\u001b[0m\u001b[1;33m,\u001b[0m\u001b[1;34m'Q25A2'\u001b[0m\u001b[1;33m,\u001b[0m\u001b[1;34m'Q26'\u001b[0m\u001b[1;33m,\u001b[0m\u001b[1;34m'Q31A1'\u001b[0m\u001b[1;33m,\u001b[0m\u001b[1;34m'Q31A2'\u001b[0m\u001b[1;33m,\u001b[0m\u001b[1;34m'Q35'\u001b[0m\u001b[1;33m,\u001b[0m\u001b[1;34m'Q38'\u001b[0m\u001b[1;33m,\u001b[0m\u001b[1;34m'Q39'\u001b[0m\u001b[1;33m,\u001b[0m\u001b[1;34m'Q42'\u001b[0m\u001b[1;33m,\u001b[0m\u001b[1;34m'Q44'\u001b[0m\u001b[1;33m,\u001b[0m\u001b[1;34m'Q47'\u001b[0m\u001b[1;33m,\u001b[0m\u001b[1;34m'DE1'\u001b[0m\u001b[1;33m,\u001b[0m\u001b[1;34m'DE2'\u001b[0m\u001b[1;33m,\u001b[0m\u001b[1;34m'DE3'\u001b[0m\u001b[1;33m,\u001b[0m\u001b[1;34m'DE5'\u001b[0m\u001b[1;33m,\u001b[0m\u001b[1;34m'DE6'\u001b[0m\u001b[1;33m,\u001b[0m\u001b[1;34m'DE7'\u001b[0m\u001b[1;33m,\u001b[0m\u001b[1;34m'DE9'\u001b[0m\u001b[1;33m]\u001b[0m\u001b[1;33m]\u001b[0m\u001b[1;33m.\u001b[0m\u001b[0mastype\u001b[0m\u001b[1;33m(\u001b[0m\u001b[1;34m'category'\u001b[0m\u001b[1;33m)\u001b[0m\u001b[1;33m\u001b[0m\u001b[1;33m\u001b[0m\u001b[0m\n\u001b[0m",
      "\u001b[1;32m~\\AppData\\Local\\Continuum\\anaconda3\\lib\\site-packages\\pandas\\core\\frame.py\u001b[0m in \u001b[0;36m__getitem__\u001b[1;34m(self, key)\u001b[0m\n\u001b[0;32m   2932\u001b[0m                 \u001b[0mkey\u001b[0m \u001b[1;33m=\u001b[0m \u001b[0mlist\u001b[0m\u001b[1;33m(\u001b[0m\u001b[0mkey\u001b[0m\u001b[1;33m)\u001b[0m\u001b[1;33m\u001b[0m\u001b[1;33m\u001b[0m\u001b[0m\n\u001b[0;32m   2933\u001b[0m             indexer = self.loc._convert_to_indexer(key, axis=1,\n\u001b[1;32m-> 2934\u001b[1;33m                                                    raise_missing=True)\n\u001b[0m\u001b[0;32m   2935\u001b[0m \u001b[1;33m\u001b[0m\u001b[0m\n\u001b[0;32m   2936\u001b[0m         \u001b[1;31m# take() does not accept boolean indexers\u001b[0m\u001b[1;33m\u001b[0m\u001b[1;33m\u001b[0m\u001b[1;33m\u001b[0m\u001b[0m\n",
      "\u001b[1;32m~\\AppData\\Local\\Continuum\\anaconda3\\lib\\site-packages\\pandas\\core\\indexing.py\u001b[0m in \u001b[0;36m_convert_to_indexer\u001b[1;34m(self, obj, axis, is_setter, raise_missing)\u001b[0m\n\u001b[0;32m   1352\u001b[0m                 kwargs = {'raise_missing': True if is_setter else\n\u001b[0;32m   1353\u001b[0m                           raise_missing}\n\u001b[1;32m-> 1354\u001b[1;33m                 \u001b[1;32mreturn\u001b[0m \u001b[0mself\u001b[0m\u001b[1;33m.\u001b[0m\u001b[0m_get_listlike_indexer\u001b[0m\u001b[1;33m(\u001b[0m\u001b[0mobj\u001b[0m\u001b[1;33m,\u001b[0m \u001b[0maxis\u001b[0m\u001b[1;33m,\u001b[0m \u001b[1;33m**\u001b[0m\u001b[0mkwargs\u001b[0m\u001b[1;33m)\u001b[0m\u001b[1;33m[\u001b[0m\u001b[1;36m1\u001b[0m\u001b[1;33m]\u001b[0m\u001b[1;33m\u001b[0m\u001b[1;33m\u001b[0m\u001b[0m\n\u001b[0m\u001b[0;32m   1355\u001b[0m         \u001b[1;32melse\u001b[0m\u001b[1;33m:\u001b[0m\u001b[1;33m\u001b[0m\u001b[1;33m\u001b[0m\u001b[0m\n\u001b[0;32m   1356\u001b[0m             \u001b[1;32mtry\u001b[0m\u001b[1;33m:\u001b[0m\u001b[1;33m\u001b[0m\u001b[1;33m\u001b[0m\u001b[0m\n",
      "\u001b[1;32m~\\AppData\\Local\\Continuum\\anaconda3\\lib\\site-packages\\pandas\\core\\indexing.py\u001b[0m in \u001b[0;36m_get_listlike_indexer\u001b[1;34m(self, key, axis, raise_missing)\u001b[0m\n\u001b[0;32m   1159\u001b[0m         self._validate_read_indexer(keyarr, indexer,\n\u001b[0;32m   1160\u001b[0m                                     \u001b[0mo\u001b[0m\u001b[1;33m.\u001b[0m\u001b[0m_get_axis_number\u001b[0m\u001b[1;33m(\u001b[0m\u001b[0maxis\u001b[0m\u001b[1;33m)\u001b[0m\u001b[1;33m,\u001b[0m\u001b[1;33m\u001b[0m\u001b[1;33m\u001b[0m\u001b[0m\n\u001b[1;32m-> 1161\u001b[1;33m                                     raise_missing=raise_missing)\n\u001b[0m\u001b[0;32m   1162\u001b[0m         \u001b[1;32mreturn\u001b[0m \u001b[0mkeyarr\u001b[0m\u001b[1;33m,\u001b[0m \u001b[0mindexer\u001b[0m\u001b[1;33m\u001b[0m\u001b[1;33m\u001b[0m\u001b[0m\n\u001b[0;32m   1163\u001b[0m \u001b[1;33m\u001b[0m\u001b[0m\n",
      "\u001b[1;32m~\\AppData\\Local\\Continuum\\anaconda3\\lib\\site-packages\\pandas\\core\\indexing.py\u001b[0m in \u001b[0;36m_validate_read_indexer\u001b[1;34m(self, key, indexer, axis, raise_missing)\u001b[0m\n\u001b[0;32m   1250\u001b[0m             \u001b[1;32mif\u001b[0m \u001b[1;32mnot\u001b[0m\u001b[1;33m(\u001b[0m\u001b[0mself\u001b[0m\u001b[1;33m.\u001b[0m\u001b[0mname\u001b[0m \u001b[1;33m==\u001b[0m \u001b[1;34m'loc'\u001b[0m \u001b[1;32mand\u001b[0m \u001b[1;32mnot\u001b[0m \u001b[0mraise_missing\u001b[0m\u001b[1;33m)\u001b[0m\u001b[1;33m:\u001b[0m\u001b[1;33m\u001b[0m\u001b[1;33m\u001b[0m\u001b[0m\n\u001b[0;32m   1251\u001b[0m                 \u001b[0mnot_found\u001b[0m \u001b[1;33m=\u001b[0m \u001b[0mlist\u001b[0m\u001b[1;33m(\u001b[0m\u001b[0mset\u001b[0m\u001b[1;33m(\u001b[0m\u001b[0mkey\u001b[0m\u001b[1;33m)\u001b[0m \u001b[1;33m-\u001b[0m \u001b[0mset\u001b[0m\u001b[1;33m(\u001b[0m\u001b[0max\u001b[0m\u001b[1;33m)\u001b[0m\u001b[1;33m)\u001b[0m\u001b[1;33m\u001b[0m\u001b[1;33m\u001b[0m\u001b[0m\n\u001b[1;32m-> 1252\u001b[1;33m                 \u001b[1;32mraise\u001b[0m \u001b[0mKeyError\u001b[0m\u001b[1;33m(\u001b[0m\u001b[1;34m\"{} not in index\"\u001b[0m\u001b[1;33m.\u001b[0m\u001b[0mformat\u001b[0m\u001b[1;33m(\u001b[0m\u001b[0mnot_found\u001b[0m\u001b[1;33m)\u001b[0m\u001b[1;33m)\u001b[0m\u001b[1;33m\u001b[0m\u001b[1;33m\u001b[0m\u001b[0m\n\u001b[0m\u001b[0;32m   1253\u001b[0m \u001b[1;33m\u001b[0m\u001b[0m\n\u001b[0;32m   1254\u001b[0m             \u001b[1;31m# we skip the warning on Categorical/Interval\u001b[0m\u001b[1;33m\u001b[0m\u001b[1;33m\u001b[0m\u001b[1;33m\u001b[0m\u001b[0m\n",
      "\u001b[1;31mKeyError\u001b[0m: \"['Q21A', 'Q26'] not in index\""
     ]
    }
   ],
   "source": [
    "# data type: nominal로 변환\n",
    "happy[['HTYP','HLIV','REL','RLI','Q1','Q2B','Q3A1','Q14A1','Q17A1','Q17A2','Q18','Q19A1','Q19A2','Q21A','Q21B1','Q21B2','Q24','Q25A1','Q25A2','Q26','Q31A1','Q31A2','Q35','Q38','Q39','Q42','Q44','Q47','DE1','DE2','DE3','DE5','DE6','DE7','DE9']]=happy[['HTYP','HLIV','REL','RLI','Q1','Q2B','Q3A1','Q14A1','Q17A1','Q17A2','Q18','Q19A1','Q19A2','Q21A','Q21B1','Q21B2','Q24','Q25A1','Q25A2','Q26','Q31A1','Q31A2','Q35','Q38','Q39','Q42','Q44','Q47','DE1','DE2','DE3','DE5','DE6','DE7','DE9']].astype('category')"
   ]
  },
  {
   "cell_type": "code",
   "execution_count": null,
   "metadata": {},
   "outputs": [],
   "source": [
    "ordinal_dtype=pd.api.types.CategoricalDtype(ordered=True)\n",
    "ordinal_dtype"
   ]
  },
  {
   "cell_type": "code",
   "execution_count": null,
   "metadata": {},
   "outputs": [],
   "source": [
    "#data type: ordinal로 변환\n",
    "happy[['INC','Q2','Q5A1','Q5A2','Q5A3','Q5A4','Q6A1','Q6A2','Q6A3','Q6A4','Q6A5','Q6A6','Q6A7','Q6A8','Q6A9','Q6A10','Q6A11','Q6A12','Q6A13','Q7','Q8','Q9','Q10','Q11','Q13','Q13A','Q15','Q20','Q22','Q27','Q28','Q29A1','Q29A2','Q29A3','Q29A4','Q30A1','Q30A2','Q30A3','Q30A4','Q30A5','Q32A1','Q32A2','Q32A3','Q32A4','Q32A5','Q32A6','Q32A7','Q32A1','Q33A1','Q33A2','Q33A3','Q33A4','Q33A5','Q33A6','Q33A7','Q33A8','Q33A9','Q36','Q36Mean','Q37','Q40','Q41','Q43Mean','Q45A2','Q45A3','Q46A1','Q46A2','Q46A3','Q46A4','Q46A5','Q47C','Q48','Q49']]=happy[['INC','Q2','Q5A1','Q5A2','Q5A3','Q5A4','Q6A1','Q6A2','Q6A3','Q6A4','Q6A5','Q6A6','Q6A7','Q6A8','Q6A9','Q6A10','Q6A11','Q6A12','Q6A13','Q7','Q8','Q9','Q10','Q11','Q13','Q13A','Q15','Q20','Q22','Q27','Q28','Q29A1','Q29A2','Q29A3','Q29A4','Q30A1','Q30A2','Q30A3','Q30A4','Q30A5','Q32A1','Q32A2','Q32A3','Q32A4','Q32A5','Q32A6','Q32A7','Q32A1','Q33A1','Q33A2','Q33A3','Q33A4','Q33A5','Q33A6','Q33A7','Q33A8','Q33A9','Q36','Q36Mean','Q37','Q40','Q41','Q43Mean','Q45A2','Q45A3','Q46A1','Q46A2','Q46A3','Q46A4','Q46A5','Q47C','Q48','Q49']]=happy[['INC','Q2','Q5A1','Q5A2','Q5A3','Q5A4','Q6A1','Q6A2','Q6A3','Q6A4','Q6A5','Q6A6','Q6A7','Q6A8','Q6A9','Q6A10','Q6A11','Q6A12','Q6A13','Q7','Q8','Q9','Q10','Q11','Q13','Q13A','Q15','Q20','Q22','Q27','Q28','Q29A1','Q29A2','Q29A3','Q29A4','Q30A1','Q30A2','Q30A3','Q30A4','Q30A5','Q32A1','Q32A2','Q32A3','Q32A4','Q32A5','Q32A6','Q32A7','Q32A1','Q33A1','Q33A2','Q33A3','Q33A4','Q33A5','Q33A6','Q33A7','Q33A8','Q33A9','Q36','Q36Mean','Q37','Q40','Q41','Q43Mean','Q45A2','Q45A3','Q46A1','Q46A2','Q46A3','Q46A4','Q46A5','Q47C','Q48','Q49']]=happy[['INC','Q2','Q5A1','Q5A2','Q5A3','Q5A4','Q6A1','Q6A2','Q6A3','Q6A4','Q6A5','Q6A6','Q6A7','Q6A8','Q6A9','Q6A10','Q6A11','Q6A12','Q6A13','Q7','Q8','Q9','Q10','Q11','Q13','Q13A','Q15','Q20','Q22','Q27','Q28','Q29A1','Q29A2','Q29A3','Q29A4','Q30A1','Q30A2','Q30A3','Q30A4','Q30A5','Q32A1','Q32A2','Q32A3','Q32A4','Q32A5','Q32A6','Q32A7','Q32A1','Q33A1','Q33A2','Q33A3','Q33A4','Q33A5','Q33A6','Q33A7','Q33A8','Q33A9','Q36','Q36Mean','Q37','Q40','Q41','Q43Mean','Q45A2','Q45A3','Q46A1','Q46A2','Q46A3','Q46A4','Q46A5','Q47C','Q48','Q49']].astype(ordinal_dtype)"
   ]
  },
  {
   "cell_type": "markdown",
   "metadata": {},
   "source": [
    "# Model Building"
   ]
  },
  {
   "cell_type": "code",
   "execution_count": null,
   "metadata": {},
   "outputs": [],
   "source": [
    "from scipy.stats import norm\n",
    "import math\n",
    "import sklearn.linear_model as lm\n",
    "from sklearn.preprocessing import PolynomialFeatures"
   ]
  },
  {
   "cell_type": "markdown",
   "metadata": {},
   "source": [
    "## LASSO"
   ]
  },
  {
   "cell_type": "code",
   "execution_count": null,
   "metadata": {},
   "outputs": [],
   "source": [
    "from sklearn.pipeline import Pipeline\n",
    "from sklearn.linear_model import Ridge\n",
    "from sklearn.linear_model import Lasso\n",
    "from sklearn.model_selection import cross_val_score"
   ]
  },
  {
   "cell_type": "markdown",
   "metadata": {},
   "source": [
    "## Principal Component Regression"
   ]
  },
  {
   "cell_type": "markdown",
   "metadata": {},
   "source": [
    "## Partial Least Square Regression"
   ]
  },
  {
   "cell_type": "markdown",
   "metadata": {},
   "source": [
    "## FA -> Some Regression"
   ]
  },
  {
   "cell_type": "markdown",
   "metadata": {},
   "source": [
    "## Support Vector Machine Regression"
   ]
  },
  {
   "cell_type": "code",
   "execution_count": null,
   "metadata": {},
   "outputs": [],
   "source": []
  },
  {
   "cell_type": "code",
   "execution_count": null,
   "metadata": {},
   "outputs": [],
   "source": []
  },
  {
   "cell_type": "code",
   "execution_count": null,
   "metadata": {},
   "outputs": [],
   "source": []
  },
  {
   "cell_type": "code",
   "execution_count": null,
   "metadata": {},
   "outputs": [],
   "source": [
    "import geopandas as gpd\n",
    "import pickle"
   ]
  }
 ],
 "metadata": {
  "kernelspec": {
   "display_name": "Python 3",
   "language": "python",
   "name": "python3"
  },
  "language_info": {
   "codemirror_mode": {
    "name": "ipython",
    "version": 3
   },
   "file_extension": ".py",
   "mimetype": "text/x-python",
   "name": "python",
   "nbconvert_exporter": "python",
   "pygments_lexer": "ipython3",
   "version": "3.7.3"
  }
 },
 "nbformat": 4,
 "nbformat_minor": 2
}
