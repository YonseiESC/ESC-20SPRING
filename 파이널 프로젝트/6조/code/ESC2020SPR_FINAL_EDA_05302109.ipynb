{
 "cells": [
  {
   "cell_type": "code",
   "execution_count": 1,
   "metadata": {},
   "outputs": [],
   "source": [
    "import numpy as np\n",
    "np.set_printoptions(precision = 3)\n",
    "import pandas as pd\n",
    "pd.set_option('display.precision',3)\n",
    "import matplotlib.pyplot as plt\n",
    "import seaborn as sns\n",
    "color = sns.color_palette()\n",
    "sns.set_style('whitegrid')"
   ]
  },
  {
   "cell_type": "code",
   "execution_count": 2,
   "metadata": {},
   "outputs": [],
   "source": [
    "happy = pd.read_csv('C:/ESC2020_spring/finalproject/Seoul_Happiness_2014_train.csv',thousands = ',')"
   ]
  },
  {
   "cell_type": "markdown",
   "metadata": {},
   "source": [
    "# Problem Setting and EDA"
   ]
  },
  {
   "cell_type": "code",
   "execution_count": 3,
   "metadata": {
    "scrolled": false
   },
   "outputs": [],
   "source": [
    "from IPython.display import Image\n",
    "# Image(filename=\"C:/ESC2020_spring/finalproject/description.png\",width=1500,height=1500)  ## 실행이 안돼서 잠시 예외처리했습니다!"
   ]
  },
  {
   "cell_type": "markdown",
   "metadata": {},
   "source": [
    "### Project Steps\n",
    "\n",
    "1) EDA : 각 변수들의 상호 연관성, outlier, 각 변수들의 분포 (plain, bell, skewed, lots of NA's(무응답))\n",
    "\n",
    "2) Prediction  : Q4B 단일변수 (**정규성 가정 만족 ?? 아님 변환?? 혹은 GLM??**)\n",
    "\n",
    "3) 정책적 제언 : 구별 특징 두드러지면 mapping  + **문항에 대한 보완점**\n",
    "\n",
    "### 짚고 넘어갈 주의점들\n",
    "\n",
    "- NA가 많다! NA가 없는 데이터라고 학술부장께서 얘기한 거는 필요한 코딩이 다 완료되었다는 것.\n",
    "\n",
    "  1) 연결문항으로 인해 답하지 않아도 되는 문항들은 다 NA(빔)\n",
    "  \n",
    "  2) 무응답이여서 99/9로 코딩된 것들 : NA가 아니지만 사실상 NA. 1)의 실제 NA랑 비교 위해 '무응답'으로 표시\n",
    "\n",
    "- Y변수에 무응답이 있는 record는 삭제해야!\n",
    "\n",
    "- 연결문항에 대해 어떻게 할지 !!!! \n",
    "\n",
    "- 1순위, 2순위들 ( Q14,17,19,21,25,31)\n",
    "\n",
    "- **같은 카테고리 안의 문항들 사이의 수치적 연관성!**\n",
    "\n",
    "\n",
    "### EDA 순서\n",
    "\n",
    "1) 먼저, data glimpse 없이도 없애버릴 수 있는 변수들 제거!\n",
    "\n",
    "2) 일단 어떤 변수들에 NA가 있는지 확인! -> **각 변수별로 무응답 돌아다니며 탐구 및 처리 !**\n",
    "\n",
    "(말했지만 무응답이 많다! 결측치 처리법들을 참고해 무응답들을 처리하자! 가령, 변수 제거 / median or mean으로 대체)\n",
    "\n",
    "3) 변수 Type 확인 및 정리 : numeric /ordinal(박사석사대졸등등) / nominal(종교)\n",
    "\n",
    "4) 각 변수들의 분포 파악\n",
    "\n",
    "5) Outlier 제거? 남김?\n",
    "\n",
    "6) 각 설명변수들끼리의 상호 연관성\n",
    "\n",
    "\n",
    "\n",
    "\n",
    "\n",
    "1 - 행정구역 : nominal\n",
    "\n",
    "2 - Fam 1 - Fam2 : 집에 15세 미만이 몇명?\n",
    "\n",
    "3 - Fam 2 : 15세 이상   -  다중공선성 문제 x 이유는 전체 가구원 수가 다르므로\n",
    "\n",
    "4 - HTYP : NOMINAL\n",
    "\n",
    "5 - HLIV : NOMINAL\n",
    "\n",
    "6 - INC : NUMERIC 50 100 150 200 ... 900이상 -> 900이상에서 문제가 발생!\n",
    "\n",
    "        : ORDINAL 여기서는 정보손실이 있으나 900만원 이상에 대한 문제가 X : ORDINAL!!!!!!!\n",
    "        \n",
    "7 - REL : NOMINAL\n",
    "\n",
    "8 - JEN : NOMINAL\n",
    "\n",
    "9 : MAR : NOMINAL - 기타! 를 NA로 처리할지?\n",
    "\n",
    "10 : RLI : NOMINAL (7~99 없음)\n",
    "\n",
    "11 : FC : 변수 삭제 \n",
    "\n",
    "12 : NUMERICAL ->2014에서 빼서 + 1\n",
    "\n",
    "13 : Q1 : NOMINAL 그대로\n",
    "\n",
    "14 : Q2 : ORDINAL \n",
    "\n",
    "15 : Q2A &B 합쳐 : 0(경험없음) 12345 NOMINAL(ORDINAL 큰일!)\n",
    "\n",
    "16 : Q3 : 어느 모임이나 단체에도 참여한 적 없다 / 뭐라도 했다 이것만! (Q3A1 ~ Q3A11을 녹인다!) \n",
    "\n",
    "단, 외향성 변수는 아님! 이들 중 아무것도 안했어도 외향적일수도\n",
    "\n",
    "17 : Q5 모두 살려놓고 ORDINAL\n",
    "\n",
    "18 : Q6 다 살려놓거나 EDA에서 묶을 수 있는거 보자 ORDINAL\n",
    "\n",
    "19 : Q7 ORDINAL\n",
    "\n",
    "20 : Q8 ORDINAL -> Q7,8도 EDA에서 다중공선성 심하면 하나로 합쳐\n",
    "\n",
    "21 : Q9 ORDINAL\n",
    "\n",
    "22 : Q10(실천도 변수들) : ORDINAL (9 빼고 평균)\n",
    "\n",
    "23 : Q11 : ORDINAL\n",
    "\n",
    "24 : Q12 : EDA 이후 분야별로 합칠 수 있으면 합치기!\n",
    "\n",
    "    Q 12-I -1만 쓰기\n",
    "    \n",
    "25 : Q13 , Q13 1 둘 다 남기고 공선성 크면 하나만\n",
    "\n",
    "26 : Q14 : 여기 기타는 남겨두기, 무응답은 전 답과 같게\n",
    "\n",
    "27 : Q15 : ORDINAL\n",
    "\n",
    "Q16 : 없애고 Q16A를 살려, Q16 : 2면 0으로\n",
    "\n",
    "Q17 : 3순위 정보 없앤다!, 2순위의 NA를 1순위랑 똑같이 한다 (2순위 NA인 사람은 3순위도 NA이다. 똑같은거 3가지로 하기 그렇잖아)\n",
    "\n",
    "Q18 : NOMINAL\n",
    "\n",
    "Q19 : 여기 기타는 남겨두기, 무응답은 전 답과 같게\n",
    "\n",
    "Q20 만 살린다 ! 1,2를 없앤다 결측치가 10000대 /10000대여서\n",
    "\n",
    "Q21 : 받았다 안받았다만!! \n",
    "\n",
    "Q21-1 : 3순위 정보 없앤다!, 2순위의 NA를 1순위랑 똑같이 한다 (2순위 NA인 사람은 3순위도 NA이다. 똑같은거 3가지로 하기 그렇잖아)\n",
    "\n",
    "\n",
    "Q22 : ORDINAL\n",
    "\n",
    "Q23 : Q12처럼 한다.\n",
    "\n",
    "Q24 : 24만 하고 작은 문제들 삭제\n",
    "\n",
    "Q25 : 땡겨쓰기\n",
    "\n",
    "Q26 : 있다 없다\n",
    "\n",
    "Q27 : ORDINAL\n",
    "\n",
    "Q28 : ORDINAL\n",
    "\n",
    "Q29 : 분포 보고 다르면 각각 쓰고 비슷하면 평균\n",
    "\n",
    "Q30 : 분포 보고 다르면 각각 쓰고 비슷하면 평균\n",
    "\n",
    "Q31 : 땡겨쓰기\n",
    "\n",
    "Q32 : 분포 보고 다르면 각각 쓰고 비슷하면 평균\n",
    "\n",
    "Q33: 분포 보고 다르면 각각 쓰고 비슷하면 평균\n",
    "\n",
    "Q34 : NUMERICAL\n",
    "\n",
    "Q35 : ORDINAL, 34와 공선성 보고 비슷하면 합치기\n",
    "\n",
    "Q36 : 분포 보고 다르면 각각 쓰고 비슷하면 평균\n",
    "\n",
    "Q37 : ORDINAL\n",
    "\n",
    "Q38 : NOMINAL\n",
    "\n",
    "Q39 : NOMINAL\n",
    "\n",
    "Q40 : ORDINAL\n",
    "\n",
    "Q41 : ORDINAL로 쓸거면 변환을 해야! (보수적인 정도로 변수 이름짓기)\n",
    "\n",
    "Q42 : 42-2를 뺀 이유는 나중에 다루기 때문에. 통학 안하는 사람때문이 있어서도. **통근시간만 살려** \n",
    "\n",
    "**시, 분 변환**\n",
    "\n",
    "Q43 : 분포 보고 다르면 각각 쓰고 비슷하면 평균\n",
    "\n",
    "Q44 : NOMINAL, 삭제\n",
    "\n",
    "Q44 -1 삭제\n",
    "\n",
    "### Q45: 이번주는 평균치로 하고 다음주는 regression imputation.\n",
    "\n",
    "Q46 : 평균 (살린다)\n",
    "\n",
    "### Q47) ZOOM으로 생각하는걸로 하자! \n",
    "\n",
    "작은 1,2번 넘어가고 \n",
    "\n",
    "Q48 : 6번문제처럼 ORDINAL\n",
    "\n",
    "Q49 : 6번문제처럼 ORDINAL\n",
    "\n",
    "DE 1, 2, 3, 5, 6, 7(안쓸가능성높음), 9는 쓴다!!!! \n",
    "\n",
    "### DE 1,2,3,5,6,7(안쓸가능성높음),9 쓰고 이에 해당하는 위의 문항들을 지운다!\n",
    "\n",
    "### DE 4, DE8은 안쓰고 위에껄 쓴다\n",
    "\n",
    "RDQ 1 : ORDINAL\n",
    "\n",
    "RDQ 2 : ORDINAL\n",
    "\n",
    "\n"
   ]
  },
  {
   "cell_type": "markdown",
   "metadata": {},
   "source": [
    "# EDA"
   ]
  },
  {
   "cell_type": "markdown",
   "metadata": {},
   "source": [
    "## 1) 의미상 아무 의미 없는 원가중치, 표준화가중치, 기본값 (wtb1,wtb2,X)제거\n",
    "\n"
   ]
  },
  {
   "cell_type": "code",
   "execution_count": 4,
   "metadata": {},
   "outputs": [
    {
     "data": {
      "text/plain": [
       "(31848, 198)"
      ]
     },
     "execution_count": 4,
     "metadata": {},
     "output_type": "execute_result"
    }
   ],
   "source": [
    "happy.shape"
   ]
  },
  {
   "cell_type": "code",
   "execution_count": 5,
   "metadata": {
    "scrolled": false
   },
   "outputs": [
    {
     "data": {
      "text/html": [
       "<div>\n",
       "<style scoped>\n",
       "    .dataframe tbody tr th:only-of-type {\n",
       "        vertical-align: middle;\n",
       "    }\n",
       "\n",
       "    .dataframe tbody tr th {\n",
       "        vertical-align: top;\n",
       "    }\n",
       "\n",
       "    .dataframe thead th {\n",
       "        text-align: right;\n",
       "    }\n",
       "</style>\n",
       "<table border=\"1\" class=\"dataframe\">\n",
       "  <thead>\n",
       "    <tr style=\"text-align: right;\">\n",
       "      <th></th>\n",
       "      <th>GU</th>\n",
       "      <th>FAM1</th>\n",
       "      <th>FAM2</th>\n",
       "      <th>HTYP</th>\n",
       "      <th>HLIV</th>\n",
       "      <th>INC</th>\n",
       "      <th>REL</th>\n",
       "      <th>JEN</th>\n",
       "      <th>MAR</th>\n",
       "      <th>RLI</th>\n",
       "      <th>...</th>\n",
       "      <th>JOB</th>\n",
       "      <th>DE1</th>\n",
       "      <th>DE2</th>\n",
       "      <th>DE3</th>\n",
       "      <th>DE4</th>\n",
       "      <th>DE5</th>\n",
       "      <th>DE6</th>\n",
       "      <th>DE7</th>\n",
       "      <th>DE8</th>\n",
       "      <th>DE9</th>\n",
       "    </tr>\n",
       "  </thead>\n",
       "  <tbody>\n",
       "    <tr>\n",
       "      <th>0</th>\n",
       "      <td>680</td>\n",
       "      <td>2</td>\n",
       "      <td>2</td>\n",
       "      <td>2</td>\n",
       "      <td>1</td>\n",
       "      <td>5</td>\n",
       "      <td>1</td>\n",
       "      <td>1</td>\n",
       "      <td>1</td>\n",
       "      <td>6</td>\n",
       "      <td>...</td>\n",
       "      <td>5</td>\n",
       "      <td>1.0</td>\n",
       "      <td>6.0</td>\n",
       "      <td>2.0</td>\n",
       "      <td>3.0</td>\n",
       "      <td>1.0</td>\n",
       "      <td>680.0</td>\n",
       "      <td>5.0</td>\n",
       "      <td>2.0</td>\n",
       "      <td>3.0</td>\n",
       "    </tr>\n",
       "    <tr>\n",
       "      <th>1</th>\n",
       "      <td>680</td>\n",
       "      <td>2</td>\n",
       "      <td>2</td>\n",
       "      <td>2</td>\n",
       "      <td>1</td>\n",
       "      <td>5</td>\n",
       "      <td>2</td>\n",
       "      <td>2</td>\n",
       "      <td>1</td>\n",
       "      <td>6</td>\n",
       "      <td>...</td>\n",
       "      <td>11</td>\n",
       "      <td>2.0</td>\n",
       "      <td>6.0</td>\n",
       "      <td>2.0</td>\n",
       "      <td>3.0</td>\n",
       "      <td>1.0</td>\n",
       "      <td>680.0</td>\n",
       "      <td>5.0</td>\n",
       "      <td>4.0</td>\n",
       "      <td>4.0</td>\n",
       "    </tr>\n",
       "    <tr>\n",
       "      <th>2</th>\n",
       "      <td>680</td>\n",
       "      <td>5</td>\n",
       "      <td>5</td>\n",
       "      <td>2</td>\n",
       "      <td>1</td>\n",
       "      <td>11</td>\n",
       "      <td>3</td>\n",
       "      <td>2</td>\n",
       "      <td>2</td>\n",
       "      <td>6</td>\n",
       "      <td>...</td>\n",
       "      <td>3</td>\n",
       "      <td>2.0</td>\n",
       "      <td>2.0</td>\n",
       "      <td>3.0</td>\n",
       "      <td>6.0</td>\n",
       "      <td>2.0</td>\n",
       "      <td>680.0</td>\n",
       "      <td>5.0</td>\n",
       "      <td>3.0</td>\n",
       "      <td>2.0</td>\n",
       "    </tr>\n",
       "    <tr>\n",
       "      <th>3</th>\n",
       "      <td>680</td>\n",
       "      <td>5</td>\n",
       "      <td>5</td>\n",
       "      <td>2</td>\n",
       "      <td>1</td>\n",
       "      <td>11</td>\n",
       "      <td>3</td>\n",
       "      <td>2</td>\n",
       "      <td>2</td>\n",
       "      <td>6</td>\n",
       "      <td>...</td>\n",
       "      <td>10</td>\n",
       "      <td>2.0</td>\n",
       "      <td>1.0</td>\n",
       "      <td>3.0</td>\n",
       "      <td>6.0</td>\n",
       "      <td>2.0</td>\n",
       "      <td>680.0</td>\n",
       "      <td>5.0</td>\n",
       "      <td>3.0</td>\n",
       "      <td>4.0</td>\n",
       "    </tr>\n",
       "    <tr>\n",
       "      <th>4</th>\n",
       "      <td>680</td>\n",
       "      <td>5</td>\n",
       "      <td>5</td>\n",
       "      <td>2</td>\n",
       "      <td>1</td>\n",
       "      <td>11</td>\n",
       "      <td>3</td>\n",
       "      <td>1</td>\n",
       "      <td>2</td>\n",
       "      <td>6</td>\n",
       "      <td>...</td>\n",
       "      <td>10</td>\n",
       "      <td>1.0</td>\n",
       "      <td>1.0</td>\n",
       "      <td>1.0</td>\n",
       "      <td>6.0</td>\n",
       "      <td>2.0</td>\n",
       "      <td>680.0</td>\n",
       "      <td>5.0</td>\n",
       "      <td>3.0</td>\n",
       "      <td>4.0</td>\n",
       "    </tr>\n",
       "  </tbody>\n",
       "</table>\n",
       "<p>5 rows × 195 columns</p>\n",
       "</div>"
      ],
      "text/plain": [
       "    GU  FAM1  FAM2  HTYP  HLIV  INC  REL  JEN  MAR  RLI  ...  JOB  DE1  DE2  \\\n",
       "0  680     2     2     2     1    5    1    1    1    6  ...    5  1.0  6.0   \n",
       "1  680     2     2     2     1    5    2    2    1    6  ...   11  2.0  6.0   \n",
       "2  680     5     5     2     1   11    3    2    2    6  ...    3  2.0  2.0   \n",
       "3  680     5     5     2     1   11    3    2    2    6  ...   10  2.0  1.0   \n",
       "4  680     5     5     2     1   11    3    1    2    6  ...   10  1.0  1.0   \n",
       "\n",
       "   DE3  DE4  DE5    DE6  DE7  DE8  DE9  \n",
       "0  2.0  3.0  1.0  680.0  5.0  2.0  3.0  \n",
       "1  2.0  3.0  1.0  680.0  5.0  4.0  4.0  \n",
       "2  3.0  6.0  2.0  680.0  5.0  3.0  2.0  \n",
       "3  3.0  6.0  2.0  680.0  5.0  3.0  4.0  \n",
       "4  1.0  6.0  2.0  680.0  5.0  3.0  4.0  \n",
       "\n",
       "[5 rows x 195 columns]"
      ]
     },
     "execution_count": 5,
     "metadata": {},
     "output_type": "execute_result"
    }
   ],
   "source": [
    "happy = happy.drop(['X','wtb1','wtb2'], axis = 1) \n",
    "happy.head()"
   ]
  },
  {
   "cell_type": "markdown",
   "metadata": {},
   "source": [
    "## 2) 박태석 : 분포보고 묶기\n",
    "\n",
    "- 대상문항 : 29, 30, 32, 33, 36-1, 43, 46"
   ]
  },
  {
   "cell_type": "code",
   "execution_count": 6,
   "metadata": {},
   "outputs": [
    {
     "name": "stdout",
     "output_type": "stream",
     "text": [
      "       Q29A1  Q29A2  Q29A3  Q29A4\n",
      "Q29A1  1.000  0.169  0.164  0.201\n",
      "Q29A2  0.169  1.000  0.203  0.168\n",
      "Q29A3  0.164  0.203  1.000  0.276\n",
      "Q29A4  0.201  0.168  0.276  1.000\n"
     ]
    },
    {
     "data": {
      "image/png": "[encoded data removed]",
      "text/plain": [
       "<Figure size 432x288 with 2 Axes>"
      ]
     },
     "metadata": {
      "needs_background": "light"
     },
     "output_type": "display_data"
    }
   ],
   "source": [
    "# Q 29\n",
    "\n",
    "# Compute the correlation matrix\n",
    "corr29 = happy[['Q29A1', 'Q29A2', 'Q29A3', 'Q29A4']].corr() # corr값 계산하고\n",
    "print(corr29)\n",
    "# Generate a mask for the upper triangle\n",
    "mask = np.zeros_like(corr29, dtype=np.bool) # Upper triangular로 만드는거라네요\n",
    "mask[np.triu_indices_from(mask)] = True\n",
    "\n",
    "# Set up the matplotlib figure\n",
    "fig, ax = plt.subplots()\n",
    "\n",
    "# Draw the heatmap with the mask and correct aspect ratio\n",
    "vmax = np.abs(corr29.values[~mask]).max()\n",
    "sns.heatmap(corr29, mask=mask, cmap=plt.cm.PuOr, vmin=-vmax, vmax=vmax,\n",
    "            square=True, linecolor=\"lightgray\", linewidths=1, ax=ax)\n",
    "for i in range(len(corr29)): # 위치 조절\n",
    "    ax.text(i+0.5,(i+0.5), corr29.columns[i], \n",
    "            ha=\"center\", va=\"center\", rotation=45)\n",
    "    for j in range(i+1, len(corr29)):\n",
    "        s = \"{:.3f}\".format(corr29.values[i,j])\n",
    "        ax.text(j+0.5,i+0.5,s, \n",
    "            ha=\"center\", va=\"center\")\n",
    "ax.axis(\"off\")\n",
    "plt.show()"
   ]
  },
  {
   "cell_type": "code",
   "execution_count": 7,
   "metadata": {},
   "outputs": [
    {
     "name": "stdout",
     "output_type": "stream",
     "text": [
      "       Q30A1  Q30A2  Q30A3  Q30A4  Q30A5\n",
      "Q30A1  1.000  0.247 -0.052 -0.091  0.108\n",
      "Q30A2  0.247  1.000  0.379  0.271  0.229\n",
      "Q30A3 -0.052  0.379  1.000  0.679  0.203\n",
      "Q30A4 -0.091  0.271  0.679  1.000  0.235\n",
      "Q30A5  0.108  0.229  0.203  0.235  1.000\n"
     ]
    },
    {
     "data": {
      "image/png": "[encoded data removed]",
      "text/plain": [
       "<Figure size 432x288 with 2 Axes>"
      ]
     },
     "metadata": {
      "needs_background": "light"
     },
     "output_type": "display_data"
    }
   ],
   "source": [
    "# Q 30\n",
    "\n",
    "# Compute the correlation matrix\n",
    "corr30 = happy[['Q30A1', 'Q30A2', 'Q30A3', 'Q30A4', 'Q30A5']].corr() # corr값 계산하고\n",
    "print(corr30)\n",
    "# Generate a mask for the upper triangle\n",
    "mask = np.zeros_like(corr30, dtype=np.bool) # Upper triangular로 만드는거라네요\n",
    "mask[np.triu_indices_from(mask)] = True\n",
    "\n",
    "# Set up the matplotlib figure\n",
    "fig, ax = plt.subplots()\n",
    "\n",
    "# Draw the heatmap with the mask and correct aspect ratio\n",
    "vmax = np.abs(corr30.values[~mask]).max()\n",
    "sns.heatmap(corr30, mask=mask, cmap=plt.cm.PuOr, vmin=-vmax, vmax=vmax,\n",
    "            square=True, linecolor=\"lightgray\", linewidths=1, ax=ax)\n",
    "for i in range(len(corr30)): # 위치 조절\n",
    "    ax.text(i+0.5,(i+0.5), corr30.columns[i], \n",
    "            ha=\"center\", va=\"center\", rotation=45)\n",
    "    for j in range(i+1, len(corr30)):\n",
    "        s = \"{:.3f}\".format(corr30.values[i,j])\n",
    "        ax.text(j+0.5,i+0.5,s, \n",
    "            ha=\"center\", va=\"center\")\n",
    "ax.axis(\"off\")\n",
    "plt.show()\n",
    "\n",
    "# 3번과 4번은 같은 문항으로 합쳐도 될 듯!"
   ]
  },
  {
   "cell_type": "code",
   "execution_count": 8,
   "metadata": {},
   "outputs": [
    {
     "name": "stdout",
     "output_type": "stream",
     "text": [
      "       Q32A1  Q32A2  Q32A3  Q32A4  Q32A5  Q32A6  Q32A7\n",
      "Q32A1  1.000  0.475  0.243  0.284  0.234  0.181  0.167\n",
      "Q32A2  0.475  1.000  0.293  0.267  0.298  0.205  0.187\n",
      "Q32A3  0.243  0.293  1.000  0.320  0.268  0.356  0.270\n",
      "Q32A4  0.284  0.267  0.320  1.000  0.316  0.226  0.234\n",
      "Q32A5  0.234  0.298  0.268  0.316  1.000  0.365  0.279\n",
      "Q32A6  0.181  0.205  0.356  0.226  0.365  1.000  0.434\n",
      "Q32A7  0.167  0.187  0.270  0.234  0.279  0.434  1.000\n"
     ]
    },
    {
     "data": {
      "image/png": "[encoded data removed]",
      "text/plain": [
       "<Figure size 432x288 with 2 Axes>"
      ]
     },
     "metadata": {
      "needs_background": "light"
     },
     "output_type": "display_data"
    }
   ],
   "source": [
    "# Q 32\n",
    "\n",
    "# Compute the correlation matrix\n",
    "corr32 = happy[['Q32A1', 'Q32A2', 'Q32A3', 'Q32A4', 'Q32A5', 'Q32A6', 'Q32A7']].corr() # corr값 계산하고\n",
    "print(corr32)\n",
    "# Generate a mask for the upper triangle\n",
    "mask = np.zeros_like(corr32, dtype=np.bool) # Upper triangular로 만드는거라네요\n",
    "mask[np.triu_indices_from(mask)] = True\n",
    "\n",
    "# Set up the matplotlib figure\n",
    "fig, ax = plt.subplots()\n",
    "\n",
    "# Draw the heatmap with the mask and correct aspect ratio\n",
    "vmax = np.abs(corr32.values[~mask]).max()\n",
    "sns.heatmap(corr32, mask=mask, cmap=plt.cm.PuOr, vmin=-vmax, vmax=vmax,\n",
    "            square=True, linecolor=\"lightgray\", linewidths=1, ax=ax)\n",
    "for i in range(len(corr32)): # 위치 조절\n",
    "    ax.text(i+0.5,(i+0.5), corr32.columns[i], \n",
    "            ha=\"center\", va=\"center\", rotation=45)\n",
    "    for j in range(i+1, len(corr32)):\n",
    "        s = \"{:.3f}\".format(corr32.values[i,j])\n",
    "        ax.text(j+0.5,i+0.5,s, \n",
    "            ha=\"center\", va=\"center\")\n",
    "ax.axis(\"off\")\n",
    "plt.show()\n",
    "\n",
    "# 1번과 2번, 1번과 7번이 꽤 높다."
   ]
  },
  {
   "cell_type": "code",
   "execution_count": 9,
   "metadata": {
    "scrolled": true
   },
   "outputs": [
    {
     "name": "stdout",
     "output_type": "stream",
     "text": [
      "       Q33A1  Q33A2  Q33A3  Q33A4  Q33A5  Q33A6  Q33A7  Q33A8  Q33A9\n",
      "Q33A1  1.000  0.477  0.229  0.205  0.208  0.231  0.277  0.212  0.234\n",
      "Q33A2  0.477  1.000  0.333  0.205  0.236  0.263  0.267  0.236  0.240\n",
      "Q33A3  0.229  0.333  1.000  0.341  0.196  0.253  0.183  0.248  0.149\n",
      "Q33A4  0.205  0.205  0.341  1.000  0.451  0.245  0.252  0.243  0.189\n",
      "Q33A5  0.208  0.236  0.196  0.451  1.000  0.325  0.247  0.221  0.242\n",
      "Q33A6  0.231  0.263  0.253  0.245  0.325  1.000  0.355  0.248  0.248\n",
      "Q33A7  0.277  0.267  0.183  0.252  0.247  0.355  1.000  0.257  0.315\n",
      "Q33A8  0.212  0.236  0.248  0.243  0.221  0.248  0.257  1.000  0.350\n",
      "Q33A9  0.234  0.240  0.149  0.189  0.242  0.248  0.315  0.350  1.000\n"
     ]
    },
    {
     "data": {
      "image/png": "[encoded data removed]",
      "text/plain": [
       "<Figure size 432x288 with 2 Axes>"
      ]
     },
     "metadata": {
      "needs_background": "light"
     },
     "output_type": "display_data"
    },
    {
     "name": "stdout",
     "output_type": "stream",
     "text": [
      "       Q33A1  Q33A2  Q33A3  Q33A4  Q33A5  Q33A6  Q33A7  Q33A8  Q33A9\n",
      "Q33A1  1.000  0.477    NaN    NaN    NaN    NaN    NaN    NaN    NaN\n",
      "Q33A2  0.477  1.000    NaN    NaN    NaN    NaN    NaN    NaN    NaN\n",
      "Q33A3    NaN    NaN    1.0    NaN    NaN    NaN    NaN    NaN    NaN\n",
      "Q33A4    NaN    NaN    NaN  1.000  0.451    NaN    NaN    NaN    NaN\n",
      "Q33A5    NaN    NaN    NaN  0.451  1.000    NaN    NaN    NaN    NaN\n",
      "Q33A6    NaN    NaN    NaN    NaN    NaN    1.0    NaN    NaN    NaN\n",
      "Q33A7    NaN    NaN    NaN    NaN    NaN    NaN    1.0    NaN    NaN\n",
      "Q33A8    NaN    NaN    NaN    NaN    NaN    NaN    NaN    1.0    NaN\n",
      "Q33A9    NaN    NaN    NaN    NaN    NaN    NaN    NaN    NaN    1.0\n"
     ]
    }
   ],
   "source": [
    "# Q 33\n",
    "\n",
    "# Compute the correlation matrix\n",
    "corr33 = happy[['Q33A1', 'Q33A2', 'Q33A3', 'Q33A4', 'Q33A5', 'Q33A6', 'Q33A7', 'Q33A8', 'Q33A9',]].corr() # corr값 계산하고\n",
    "print(corr33)\n",
    "# Generate a mask for the upper triangle\n",
    "mask = np.zeros_like(corr33, dtype=np.bool) # Upper triangular로 만드는거라네요\n",
    "mask[np.triu_indices_from(mask)] = True\n",
    "\n",
    "# Set up the matplotlib figure\n",
    "fig, ax = plt.subplots()\n",
    "\n",
    "# Draw the heatmap with the mask and correct aspect ratio\n",
    "vmax = np.abs(corr33.values[~mask]).max()\n",
    "sns.heatmap(corr33, mask=mask, cmap=plt.cm.PuOr, vmin=-vmax, vmax=vmax,\n",
    "            square=True, linecolor=\"lightgray\", linewidths=1, ax=ax)\n",
    "for i in range(len(corr33)): # 위치 조절\n",
    "    ax.text(i+0.5,(i+0.5), corr33.columns[i], \n",
    "            ha=\"center\", va=\"center\", rotation=45)\n",
    "    for j in range(i+1, len(corr33)):\n",
    "        s = \"{:.3f}\".format(corr33.values[i,j])\n",
    "        ax.text(j+0.5,i+0.5,s, \n",
    "            ha=\"center\", va=\"center\")\n",
    "ax.axis(\"off\")\n",
    "plt.show()\n",
    "\n",
    "print(corr33[corr33>0.4])\n",
    "#1번과 2번, 4번과 5번이 꽤 높은 것으로 확인!"
   ]
  },
  {
   "cell_type": "code",
   "execution_count": 10,
   "metadata": {
    "scrolled": true
   },
   "outputs": [
    {
     "name": "stdout",
     "output_type": "stream",
     "text": [
      "       Q36A1  Q36A2\n",
      "Q36A1   1.00   0.56\n",
      "Q36A2   0.56   1.00\n"
     ]
    },
    {
     "data": {
      "image/png": "[encoded data removed]",
      "text/plain": [
       "<Figure size 432x288 with 2 Axes>"
      ]
     },
     "metadata": {
      "needs_background": "light"
     },
     "output_type": "display_data"
    }
   ],
   "source": [
    "# Q 36-1\n",
    "\n",
    "# Compute the correlation matrix\n",
    "corr36_1 = happy[['Q36A1', 'Q36A2']].corr() # corr값 계산하고\n",
    "print(corr36_1)\n",
    "# Generate a mask for the upper triangle\n",
    "mask = np.zeros_like(corr36_1, dtype=np.bool) # Upper triangular로 만드는거라네요\n",
    "mask[np.triu_indices_from(mask)] = True\n",
    "\n",
    "# Set up the matplotlib figure\n",
    "fig, ax = plt.subplots()\n",
    "\n",
    "# Draw the heatmap with the mask and correct aspect ratio\n",
    "vmax = np.abs(corr36_1.values[~mask]).max()\n",
    "sns.heatmap(corr36_1, mask=mask, cmap=plt.cm.PuOr, vmin=-vmax, vmax=vmax,\n",
    "            square=True, linecolor=\"lightgray\", linewidths=1, ax=ax)\n",
    "for i in range(len(corr36_1)): # 위치 조절\n",
    "    ax.text(i+0.5,(i+0.5), corr36_1.columns[i], \n",
    "            ha=\"center\", va=\"center\", rotation=45)\n",
    "    for j in range(i+1, len(corr36_1)):\n",
    "        s = \"{:.3f}\".format(corr36_1.values[i,j])\n",
    "        ax.text(j+0.5,i+0.5,s, \n",
    "            ha=\"center\", va=\"center\")\n",
    "ax.axis(\"off\")\n",
    "plt.show()\n",
    "\n",
    "# 얘네 두개는 합쳐도 될 것 같다!"
   ]
  },
  {
   "cell_type": "code",
   "execution_count": 11,
   "metadata": {},
   "outputs": [
    {
     "name": "stdout",
     "output_type": "stream",
     "text": [
      "       Q43A1  Q43A2\n",
      "Q43A1  1.000  0.531\n",
      "Q43A2  0.531  1.000\n"
     ]
    },
    {
     "data": {
      "image/png": "[encoded data removed]",
      "text/plain": [
       "<Figure size 432x288 with 2 Axes>"
      ]
     },
     "metadata": {
      "needs_background": "light"
     },
     "output_type": "display_data"
    }
   ],
   "source": [
    "# Q 43\n",
    "\n",
    "# Compute the correlation matrix\n",
    "corr43 = happy[['Q43A1', 'Q43A2']].corr() # corr값 계산하고\n",
    "print(corr43)\n",
    "# Generate a mask for the upper triangle\n",
    "mask = np.zeros_like(corr43, dtype=np.bool) # Upper triangular로 만드는거라네요\n",
    "mask[np.triu_indices_from(mask)] = True\n",
    "\n",
    "# Set up the matplotlib figure\n",
    "fig, ax = plt.subplots()\n",
    "\n",
    "# Draw the heatmap with the mask and correct aspect ratio\n",
    "vmax = np.abs(corr43.values[~mask]).max()\n",
    "sns.heatmap(corr43, mask=mask, cmap=plt.cm.PuOr, vmin=-vmax, vmax=vmax,\n",
    "            square=True, linecolor=\"lightgray\", linewidths=1, ax=ax)\n",
    "for i in range(len(corr43)): # 위치 조절\n",
    "    ax.text(i+0.5,(i+0.5), corr43.columns[i], \n",
    "            ha=\"center\", va=\"center\", rotation=45)\n",
    "    for j in range(i+1, len(corr43)):\n",
    "        s = \"{:.3f}\".format(corr43.values[i,j])\n",
    "        ax.text(j+0.5,i+0.5,s, \n",
    "            ha=\"center\", va=\"center\")\n",
    "ax.axis(\"off\")\n",
    "plt.show()\n",
    "\n",
    "# 얘네도 합쳐도 될 듯!"
   ]
  },
  {
   "cell_type": "code",
   "execution_count": 12,
   "metadata": {},
   "outputs": [
    {
     "name": "stdout",
     "output_type": "stream",
     "text": [
      "       Q46A1  Q46A2  Q46A3  Q46A4  Q46A5\n",
      "Q46A1  1.000  0.365  0.335  0.295  0.319\n",
      "Q46A2  0.365  1.000  0.422  0.340  0.423\n",
      "Q46A3  0.335  0.422  1.000  0.363  0.390\n",
      "Q46A4  0.295  0.340  0.363  1.000  0.415\n",
      "Q46A5  0.319  0.423  0.390  0.415  1.000\n"
     ]
    },
    {
     "data": {
      "image/png": "[encoded data removed]",
      "text/plain": [
       "<Figure size 432x288 with 2 Axes>"
      ]
     },
     "metadata": {
      "needs_background": "light"
     },
     "output_type": "display_data"
    }
   ],
   "source": [
    "# Q 46\n",
    "\n",
    "# Compute the correlation matrix\n",
    "corr46 = happy[['Q46A1', 'Q46A2', 'Q46A3', 'Q46A4', 'Q46A5']].corr() # corr값 계산하고\n",
    "print(corr46)\n",
    "# Generate a mask for the upper triangle\n",
    "mask = np.zeros_like(corr46, dtype=np.bool) # Upper triangular로 만드는거라네요\n",
    "mask[np.triu_indices_from(mask)] = True\n",
    "\n",
    "# Set up the matplotlib figure\n",
    "fig, ax = plt.subplots()\n",
    "\n",
    "# Draw the heatmap with the mask and correct aspect ratio\n",
    "vmax = np.abs(corr46.values[~mask]).max()\n",
    "sns.heatmap(corr46, mask=mask, cmap=plt.cm.PuOr, vmin=-vmax, vmax=vmax,\n",
    "            square=True, linecolor=\"lightgray\", linewidths=1, ax=ax)\n",
    "for i in range(len(corr46)): # 위치 조절\n",
    "    ax.text(i+0.5,(i+0.5), corr46.columns[i], \n",
    "            ha=\"center\", va=\"center\", rotation=45)\n",
    "    for j in range(i+1, len(corr46)):\n",
    "        s = \"{:.3f}\".format(corr46.values[i,j])\n",
    "        ax.text(j+0.5,i+0.5,s, \n",
    "            ha=\"center\", va=\"center\")\n",
    "ax.axis(\"off\")\n",
    "plt.show()\n"
   ]
  },
  {
   "cell_type": "code",
   "execution_count": 13,
   "metadata": {
    "scrolled": true
   },
   "outputs": [
    {
     "data": {
      "text/plain": [
       "<matplotlib.legend.Legend at 0x1a9cc5d5908>"
      ]
     },
     "execution_count": 13,
     "metadata": {},
     "output_type": "execute_result"
    },
    {
     "data": {
      "image/png": "[encoded data removed]",
      "text/plain": [
       "<Figure size 432x288 with 1 Axes>"
      ]
     },
     "metadata": {
      "needs_background": "light"
     },
     "output_type": "display_data"
    }
   ],
   "source": [
    "plt.hist(happy['Q43A1'], rwidth=5, alpha=0.5, label='Q43A1')\n",
    "plt.hist(happy['Q43A2'], rwidth=5, color='green', alpha=0.5, label='Q43A2')\n",
    "plt.grid()\n",
    "plt.legend()"
   ]
  },
  {
   "cell_type": "code",
   "execution_count": 14,
   "metadata": {},
   "outputs": [
    {
     "data": {
      "text/plain": [
       "array([3. , 3. , 1.5, ..., 1. , 1. , 1. ])"
      ]
     },
     "execution_count": 14,
     "metadata": {},
     "output_type": "execute_result"
    }
   ],
   "source": [
    "# 30번의 3번과 4번 평균값 구하기(ordinal)\n",
    "\n",
    "Q30Mean34 = np.zeros(happy.shape[0])\n",
    "for i in np.arange(happy.shape[0]):\n",
    "    Q30Mean34[i] = np.mean([happy['Q30A3'][i], happy['Q30A4'][i]])\n",
    "Q30Mean34"
   ]
  },
  {
   "cell_type": "code",
   "execution_count": 15,
   "metadata": {},
   "outputs": [
    {
     "data": {
      "text/plain": [
       "array([2. , 2.5, 2. , ..., 1.5, 1.5, 1.5])"
      ]
     },
     "execution_count": 15,
     "metadata": {},
     "output_type": "execute_result"
    }
   ],
   "source": [
    "# 32번의 1번과 2번 평균값 구하기(ordinal)\n",
    "\n",
    "Q32Mean12 = np.zeros(happy.shape[0])\n",
    "for i in np.arange(happy.shape[0]):\n",
    "    Q32Mean12[i] = np.mean([happy['Q32A1'][i], happy['Q32A2'][i]])\n",
    "Q32Mean12"
   ]
  },
  {
   "cell_type": "code",
   "execution_count": 16,
   "metadata": {},
   "outputs": [
    {
     "data": {
      "text/plain": [
       "array([3. , 2.5, 4.5, ..., 3. , 3.5, 3.5])"
      ]
     },
     "execution_count": 16,
     "metadata": {},
     "output_type": "execute_result"
    }
   ],
   "source": [
    "# 32번의 6번과 7번 평균값 구하기(ordinal)\n",
    "\n",
    "Q32Mean67 = np.zeros(happy.shape[0])\n",
    "for i in np.arange(happy.shape[0]):\n",
    "    Q32Mean67[i] = np.mean([happy['Q32A6'][i], happy['Q32A7'][i]])\n",
    "Q32Mean67"
   ]
  },
  {
   "cell_type": "code",
   "execution_count": 17,
   "metadata": {},
   "outputs": [
    {
     "data": {
      "text/plain": [
       "array([3.5, 3.5, 1. , ..., 2.5, 2. , 2. ])"
      ]
     },
     "execution_count": 17,
     "metadata": {},
     "output_type": "execute_result"
    }
   ],
   "source": [
    "# 33번의 1번과 2번 평균값 구하기(ordinal)\n",
    "\n",
    "Q33Mean12 = np.zeros(happy.shape[0])\n",
    "for i in np.arange(happy.shape[0]):\n",
    "    Q33Mean12[i] = np.mean([happy['Q33A1'][i], happy['Q33A2'][i]])\n",
    "Q33Mean12"
   ]
  },
  {
   "cell_type": "code",
   "execution_count": 18,
   "metadata": {},
   "outputs": [
    {
     "data": {
      "text/plain": [
       "array([4. , 4.5, 3. , ..., 1.5, 2. , 2. ])"
      ]
     },
     "execution_count": 18,
     "metadata": {},
     "output_type": "execute_result"
    }
   ],
   "source": [
    "# 33번의 4번과 5번 평균값 구하기(ordinal)\n",
    "\n",
    "Q33Mean45 = np.zeros(happy.shape[0])\n",
    "for i in np.arange(happy.shape[0]):\n",
    "    Q33Mean45[i] = np.mean([happy['Q33A4'][i], happy['Q33A5'][i]])\n",
    "Q33Mean45"
   ]
  },
  {
   "cell_type": "code",
   "execution_count": 19,
   "metadata": {},
   "outputs": [
    {
     "data": {
      "text/plain": [
       "array([2. , 2. , 4. , ..., 1.5, 3. , 1.5])"
      ]
     },
     "execution_count": 19,
     "metadata": {},
     "output_type": "execute_result"
    }
   ],
   "source": [
    "# 36-1번 평균값 구하기(oridnal)\n",
    "\n",
    "Q36AMean = np.zeros(happy.shape[0])\n",
    "for i in np.arange(happy.shape[0]):\n",
    "    Q36AMean[i] = np.mean([happy['Q36A1'][i], happy['Q36A2'][i]])\n",
    "Q36AMean"
   ]
  },
  {
   "cell_type": "code",
   "execution_count": 20,
   "metadata": {},
   "outputs": [
    {
     "data": {
      "text/plain": [
       "array([3.5, 4. , 4. , ..., 3.5, 4. , 4. ])"
      ]
     },
     "execution_count": 20,
     "metadata": {},
     "output_type": "execute_result"
    }
   ],
   "source": [
    "# 43번 평균값 구하기(oridnal)\n",
    "\n",
    "Q43Mean = np.zeros(happy.shape[0])\n",
    "for i in np.arange(happy.shape[0]):\n",
    "    Q43Mean[i] = np.mean([happy['Q43A1'][i], happy['Q43A2'][i]])\n",
    "Q43Mean"
   ]
  },
  {
   "cell_type": "code",
   "execution_count": 21,
   "metadata": {},
   "outputs": [
    {
     "data": {
      "text/plain": [
       "array([4.25, 4.5 , 3.5 , ..., 3.5 , 4.75, 4.75])"
      ]
     },
     "execution_count": 21,
     "metadata": {},
     "output_type": "execute_result"
    }
   ],
   "source": [
    "# 46번의 2번, 3번, 4번, 5번문항의 평균값 구하기(ordinal)\n",
    "\n",
    "Q46Mean2345 = np.zeros(happy.shape[0])\n",
    "for i in np.arange(happy.shape[0]):\n",
    "    Q46Mean2345[i] = np.mean([happy['Q46A2'][i], happy['Q46A3'][i], happy['Q46A4'][i], happy['Q46A5'][i]])\n",
    "Q46Mean2345"
   ]
  },
  {
   "cell_type": "markdown",
   "metadata": {},
   "source": [
    "## 3) 이가은 : NA imputation, 땡겨쓰기"
   ]
  },
  {
   "cell_type": "markdown",
   "metadata": {},
   "source": [
    "- Q2A, Q2B 합쳐서 0~5 범주화(nominal처리)\n",
    "- Q3 binary화\n",
    "- Q10 column별 mean으로 imputation -> 선우님 '환경실천도'로 numeric화\n",
    "- Q14 땡겨쓰기\n",
    "- Q16A만 살리고, NA=0으로 처리\n",
    "- Q17, Q19 땡겨쓰기\n",
    "- Q21A binary화\n",
    "- Q21B 땡겨쓰기\n",
    "- Q24 binary화(참여(1), 비참여(0))\n",
    "- Q25 땡겨쓰기\n",
    "- Q26 binary화\n",
    "- Q31 땡겨쓰기\n",
    "- Q41 매우진보(0)~매우보수(10) ordinal 순서변경\n",
    "- Q42 binary화(통학+통근 = 1, 하지않음 = 0)\n",
    "- Q42C 분(minute)으로 통일\n",
    "- Q45 mean으로 NA imputation\n",
    "- Q47,Q47C 합쳐서 6개 범주화(없다(0), 매우불만족(1),,,매우만족(5))"
   ]
  },
  {
   "cell_type": "code",
   "execution_count": 22,
   "metadata": {},
   "outputs": [],
   "source": [
    "# Q2A, Q2B\n",
    "happy['Q2B']=happy['Q2B'].fillna(0)"
   ]
  },
  {
   "cell_type": "code",
   "execution_count": 23,
   "metadata": {},
   "outputs": [
    {
     "data": {
      "text/plain": [
       "0"
      ]
     },
     "execution_count": 23,
     "metadata": {},
     "output_type": "execute_result"
    }
   ],
   "source": [
    "# Q3\n",
    "q3 = happy.loc[:,\"Q3A1\"]\n",
    "q3=np.where(q3 == 12,0,1)\n",
    "q3=pd.DataFrame(q3)\n",
    "q3.columns=[\"Q3\"]\n",
    "q3.head()\n",
    "happy['Q3A1']=q3\n",
    "happy['Q3A1'].isnull().sum()"
   ]
  },
  {
   "cell_type": "code",
   "execution_count": 24,
   "metadata": {},
   "outputs": [
    {
     "name": "stdout",
     "output_type": "stream",
     "text": [
      "<class 'pandas.core.frame.DataFrame'>\n",
      "RangeIndex: 31848 entries, 0 to 31847\n",
      "Data columns (total 5 columns):\n",
      " #   Column  Non-Null Count  Dtype  \n",
      "---  ------  --------------  -----  \n",
      " 0   Q10A1   31341 non-null  float64\n",
      " 1   Q10A2   29122 non-null  float64\n",
      " 2   Q10A3   23168 non-null  float64\n",
      " 3   Q10A4   31516 non-null  float64\n",
      " 4   Q10A5   31755 non-null  float64\n",
      "dtypes: float64(5)\n",
      "memory usage: 1.2 MB\n",
      "<class 'pandas.core.frame.DataFrame'>\n",
      "RangeIndex: 31848 entries, 0 to 31847\n",
      "Data columns (total 5 columns):\n",
      " #   Column  Non-Null Count  Dtype  \n",
      "---  ------  --------------  -----  \n",
      " 0   0       31848 non-null  float64\n",
      " 1   1       31848 non-null  float64\n",
      " 2   2       31848 non-null  float64\n",
      " 3   3       31848 non-null  float64\n",
      " 4   4       31848 non-null  float64\n",
      "dtypes: float64(5)\n",
      "memory usage: 1.2 MB\n",
      "None\n",
      "       0      1      2    3    4\n",
      "0  4.000  3.000  3.000  4.0  3.0\n",
      "1  3.086  4.000  4.000  3.0  4.0\n",
      "2  4.000  3.044  3.008  1.0  4.0\n",
      "3  3.000  3.044  3.008  1.0  1.0\n",
      "4  4.000  3.044  3.008  1.0  3.0\n"
     ]
    },
    {
     "data": {
      "text/plain": [
       "0"
      ]
     },
     "execution_count": 24,
     "metadata": {},
     "output_type": "execute_result"
    }
   ],
   "source": [
    "# Q10\n",
    "q10 = happy.loc[:,\"Q10A1\":\"Q10A5\"]\n",
    "q10.head(5)\n",
    "q10.info()\n",
    "\n",
    "from sklearn.impute import SimpleImputer\n",
    "imputer = SimpleImputer(strategy=\"mean\")\n",
    "q10 = pd.DataFrame(imputer.fit_transform(q10))\n",
    "print(q10.info())\n",
    "print(q10.head())\n",
    "\n",
    "q10.columns=[\"Q10A1\",\"Q10A2\",\"Q10A3\",\"Q10A4\",\"Q10A5\"]\n",
    "q10[\"Q10A1\"] = q10[\"Q10A1\"].round()\n",
    "q10[\"Q10A2\"] = q10[\"Q10A2\"].round()\n",
    "q10[\"Q10A3\"] = q10[\"Q10A3\"].round()\n",
    "q10[\"Q10A4\"] = q10[\"Q10A4\"].round()\n",
    "q10[\"Q10A5\"] = q10[\"Q10A5\"].round()\n",
    "\n",
    "happy['Q10A1']=q10['Q10A1']\n",
    "happy['Q10A2']=q10['Q10A2']\n",
    "happy['Q10A3']=q10['Q10A3']\n",
    "happy['Q10A4']=q10['Q10A4']\n",
    "happy['Q10A5']=q10['Q10A5']\n",
    "\n",
    "happy['Q10A1'].isnull().sum()\n",
    "happy['Q10A2'].isnull().sum()\n",
    "happy['Q10A3'].isnull().sum()\n",
    "happy['Q10A4'].isnull().sum()\n",
    "happy['Q10A5'].isnull().sum()"
   ]
  },
  {
   "cell_type": "code",
   "execution_count": 25,
   "metadata": {},
   "outputs": [
    {
     "name": "stdout",
     "output_type": "stream",
     "text": [
      "<class 'pandas.core.frame.DataFrame'>\n",
      "RangeIndex: 31848 entries, 0 to 31847\n",
      "Data columns (total 2 columns):\n",
      " #   Column  Non-Null Count  Dtype  \n",
      "---  ------  --------------  -----  \n",
      " 0   Q14A1   31848 non-null  int64  \n",
      " 1   Q14A2   31186 non-null  float64\n",
      "dtypes: float64(1), int64(1)\n",
      "memory usage: 497.8 KB\n"
     ]
    },
    {
     "data": {
      "text/plain": [
       "0"
      ]
     },
     "execution_count": 25,
     "metadata": {},
     "output_type": "execute_result"
    }
   ],
   "source": [
    "# Q14\n",
    "\n",
    "q14 = happy.loc[:,\"Q14A1\":\"Q14A2\"]\n",
    "q14.head(5)\n",
    "q14.info()\n",
    "\n",
    "q14['Q14A2_2'] = np.where(pd.notnull(q14['Q14A2'])==True,q14['Q14A2'], q14['Q14A1'])\n",
    "q14.head(5)\n",
    "q14.iloc[255,:]\n",
    "\n",
    "del q14['Q14A2']\n",
    "q14.head(5)\n",
    "q14.columns = ['Q14A1', 'Q14A2']\n",
    "q14.head(5)\n",
    "\n",
    "happy['Q14A2']=q14['Q14A2']\n",
    "happy['Q14A2'].isnull().sum()"
   ]
  },
  {
   "cell_type": "code",
   "execution_count": 26,
   "metadata": {},
   "outputs": [
    {
     "name": "stdout",
     "output_type": "stream",
     "text": [
      "<class 'pandas.core.frame.DataFrame'>\n",
      "RangeIndex: 31848 entries, 0 to 31847\n",
      "Data columns (total 1 columns):\n",
      " #   Column  Non-Null Count  Dtype  \n",
      "---  ------  --------------  -----  \n",
      " 0   0       31848 non-null  float64\n",
      "dtypes: float64(1)\n",
      "memory usage: 248.9 KB\n",
      "None\n",
      "     0\n",
      "0  1.0\n",
      "1  0.0\n",
      "2  1.0\n",
      "3  2.0\n",
      "4  2.0\n"
     ]
    },
    {
     "data": {
      "text/plain": [
       "0"
      ]
     },
     "execution_count": 26,
     "metadata": {},
     "output_type": "execute_result"
    }
   ],
   "source": [
    "# Q16\n",
    "q16 = happy.loc[:,\"Q16A\"]\n",
    "q16.head(5)\n",
    "from sklearn.impute import SimpleImputer\n",
    "imputer = SimpleImputer(strategy=\"constant\", fill_value=0)\n",
    "\n",
    "q16 = pd.DataFrame(q16)\n",
    "q16 = pd.DataFrame(imputer.fit_transform(q16))\n",
    "print(q16.info())\n",
    "print(q16.head())\n",
    "happy['Q16A']=q16[0]\n",
    "happy['Q16A'].isnull().sum()"
   ]
  },
  {
   "cell_type": "code",
   "execution_count": 27,
   "metadata": {},
   "outputs": [
    {
     "name": "stdout",
     "output_type": "stream",
     "text": [
      "<class 'pandas.core.frame.DataFrame'>\n",
      "RangeIndex: 31848 entries, 0 to 31847\n",
      "Data columns (total 2 columns):\n",
      " #   Column  Non-Null Count  Dtype  \n",
      "---  ------  --------------  -----  \n",
      " 0   Q17A1   31848 non-null  int64  \n",
      " 1   Q17A2   28997 non-null  float64\n",
      "dtypes: float64(1), int64(1)\n",
      "memory usage: 497.8 KB\n"
     ]
    },
    {
     "data": {
      "text/plain": [
       "0"
      ]
     },
     "execution_count": 27,
     "metadata": {},
     "output_type": "execute_result"
    }
   ],
   "source": [
    "# Q17\n",
    "q17 = happy.loc[:,\"Q17A1\":\"Q17A2\"]\n",
    "q17.head(5)\n",
    "q17.info()\n",
    "\n",
    "q17['Q17A2_2'] = np.where(pd.notnull(q17['Q17A2'])==True,q17['Q17A2'], q17['Q17A1'])\n",
    "q17.head(5)\n",
    "q17.iloc[178,:]\n",
    "\n",
    "del q17['Q17A2']\n",
    "q17.head(5)\n",
    "q17.columns = ['Q17A1', 'Q17A2']\n",
    "q17.head(5)\n",
    "\n",
    "happy[['Q17A1','Q17A2']]=q17[['Q17A1','Q17A2']]\n",
    "happy['Q17A2'].isnull().sum()"
   ]
  },
  {
   "cell_type": "code",
   "execution_count": 28,
   "metadata": {},
   "outputs": [
    {
     "name": "stdout",
     "output_type": "stream",
     "text": [
      "<class 'pandas.core.frame.DataFrame'>\n",
      "RangeIndex: 31848 entries, 0 to 31847\n",
      "Data columns (total 2 columns):\n",
      " #   Column  Non-Null Count  Dtype  \n",
      "---  ------  --------------  -----  \n",
      " 0   Q19A1   31848 non-null  int64  \n",
      " 1   Q19A2   28588 non-null  float64\n",
      "dtypes: float64(1), int64(1)\n",
      "memory usage: 497.8 KB\n"
     ]
    },
    {
     "data": {
      "text/plain": [
       "0"
      ]
     },
     "execution_count": 28,
     "metadata": {},
     "output_type": "execute_result"
    }
   ],
   "source": [
    "# Q19\n",
    "q19 = happy.loc[:,\"Q19A1\":\"Q19A2\"]\n",
    "q19.head(5)\n",
    "q19.info()\n",
    "\n",
    "q19['Q19A2_2'] = np.where(pd.notnull(q19['Q19A2'])==True,q19['Q19A2'], q19['Q19A1'])\n",
    "q19.head(5)\n",
    "q19.iloc[178,:]\n",
    "\n",
    "del q19['Q19A2']\n",
    "q19.head(5)\n",
    "q19.columns = ['Q19A1', 'Q19A2']\n",
    "q19.head(5)\n",
    "happy[['Q19A1','Q19A2']]=q19[['Q19A1','Q19A2']]\n",
    "happy['Q19A2'].isnull().sum()"
   ]
  },
  {
   "cell_type": "code",
   "execution_count": 29,
   "metadata": {},
   "outputs": [
    {
     "name": "stdout",
     "output_type": "stream",
     "text": [
      "<class 'pandas.core.frame.DataFrame'>\n",
      "RangeIndex: 31848 entries, 0 to 31847\n",
      "Data columns (total 1 columns):\n",
      " #   Column  Non-Null Count  Dtype\n",
      "---  ------  --------------  -----\n",
      " 0   Q21A1   31848 non-null  int64\n",
      "dtypes: int64(1)\n",
      "memory usage: 248.9 KB\n"
     ]
    },
    {
     "data": {
      "text/plain": [
       "0"
      ]
     },
     "execution_count": 29,
     "metadata": {},
     "output_type": "execute_result"
    }
   ],
   "source": [
    "# Q21A\n",
    "q21_a = happy.loc[:,\"Q21A1\"]\n",
    "q21_a=pd.DataFrame(q21_a)\n",
    "q21_a.info()\n",
    "\n",
    "q21_a=np.where(q21_a == 7,0,1)\n",
    "q21_a=pd.DataFrame(q21_a)\n",
    "q21_a.head(5)\n",
    "happy['Q21A']=q21_a[0]\n",
    "happy['Q21A'].isnull().sum()"
   ]
  },
  {
   "cell_type": "code",
   "execution_count": 30,
   "metadata": {},
   "outputs": [
    {
     "name": "stdout",
     "output_type": "stream",
     "text": [
      "<class 'pandas.core.frame.DataFrame'>\n",
      "RangeIndex: 31848 entries, 0 to 31847\n",
      "Data columns (total 2 columns):\n",
      " #   Column  Non-Null Count  Dtype  \n",
      "---  ------  --------------  -----  \n",
      " 0   Q21B1   31848 non-null  int64  \n",
      " 1   Q21B2   22060 non-null  float64\n",
      "dtypes: float64(1), int64(1)\n",
      "memory usage: 497.8 KB\n"
     ]
    },
    {
     "data": {
      "text/plain": [
       "0"
      ]
     },
     "execution_count": 30,
     "metadata": {},
     "output_type": "execute_result"
    }
   ],
   "source": [
    "# Q21B\n",
    "q21_b = happy.loc[:,\"Q21B1\":\"Q21B2\"]\n",
    "q21_b.head(5)\n",
    "q21_b.info()\n",
    "\n",
    "q21_b['Q21B2_2'] = np.where(pd.notnull(q21_b['Q21B2'])==True,q21_b['Q21B2'], q21_b['Q21B1'])\n",
    "q21_b.head(5)\n",
    "\n",
    "del q21_b['Q21B2']\n",
    "q21_b.head(5)\n",
    "q21_b.columns = ['Q21B1', 'Q21B2']\n",
    "q21_b.head(5)\n",
    "\n",
    "happy[['Q21B1','Q21B2']]=q21_b[['Q21B1','Q21B2']]\n",
    "happy['Q21B2'].isnull().sum()"
   ]
  },
  {
   "cell_type": "code",
   "execution_count": 31,
   "metadata": {},
   "outputs": [
    {
     "name": "stdout",
     "output_type": "stream",
     "text": [
      "<class 'pandas.core.frame.DataFrame'>\n",
      "RangeIndex: 31848 entries, 0 to 31847\n",
      "Data columns (total 1 columns):\n",
      " #   Column  Non-Null Count  Dtype\n",
      "---  ------  --------------  -----\n",
      " 0   Q24     31848 non-null  int64\n",
      "dtypes: int64(1)\n",
      "memory usage: 248.9 KB\n"
     ]
    },
    {
     "data": {
      "text/plain": [
       "0"
      ]
     },
     "execution_count": 31,
     "metadata": {},
     "output_type": "execute_result"
    }
   ],
   "source": [
    "# Q24\n",
    "q24 = happy.loc[:,\"Q24\"]\n",
    "q24 = pd.DataFrame(q24)\n",
    "q24.info()\n",
    "\n",
    "q24.loc[q24[\"Q24\"]==1, \"Q24\"] = 0\n",
    "q24.loc[q24[\"Q24\"]==2, \"Q24\"] = 0\n",
    "q24.loc[q24[\"Q24\"]==3, \"Q24\"] = 1\n",
    "q24.loc[q24[\"Q24\"]==4, \"Q24\"] = 1\n",
    "q24.head(5)\n",
    "\n",
    "happy['Q24']=q24['Q24']\n",
    "happy['Q24'].isnull().sum()"
   ]
  },
  {
   "cell_type": "code",
   "execution_count": 32,
   "metadata": {},
   "outputs": [
    {
     "name": "stdout",
     "output_type": "stream",
     "text": [
      "<class 'pandas.core.frame.DataFrame'>\n",
      "RangeIndex: 31848 entries, 0 to 31847\n",
      "Data columns (total 2 columns):\n",
      " #   Column  Non-Null Count  Dtype  \n",
      "---  ------  --------------  -----  \n",
      " 0   Q25A1   31848 non-null  int64  \n",
      " 1   Q25A2   31583 non-null  float64\n",
      "dtypes: float64(1), int64(1)\n",
      "memory usage: 497.8 KB\n"
     ]
    },
    {
     "data": {
      "text/plain": [
       "0"
      ]
     },
     "execution_count": 32,
     "metadata": {},
     "output_type": "execute_result"
    }
   ],
   "source": [
    "# Q25\n",
    "q25 = happy.loc[:,\"Q25A1\":\"Q25A2\"]\n",
    "\n",
    "q25.head(5)\n",
    "q25.info()\n",
    "\n",
    "q25['Q25A_2'] = np.where(pd.notnull(q25['Q25A2'])==True,q25['Q25A2'], q25['Q25A1'])\n",
    "q25.head(5)\n",
    "q25.iloc[61,:]\n",
    "\n",
    "del q25['Q25A2']\n",
    "q25.head(5)\n",
    "q25.columns = ['Q25A1', 'Q25A2']\n",
    "q25.head(5)\n",
    "\n",
    "happy[['Q25A1','Q25A2']]=q25[['Q25A1','Q25A2']]\n",
    "happy['Q25A2'].isnull().sum()"
   ]
  },
  {
   "cell_type": "code",
   "execution_count": 33,
   "metadata": {},
   "outputs": [
    {
     "name": "stdout",
     "output_type": "stream",
     "text": [
      "<class 'pandas.core.frame.DataFrame'>\n",
      "RangeIndex: 31848 entries, 0 to 31847\n",
      "Data columns (total 1 columns):\n",
      " #   Column  Non-Null Count  Dtype\n",
      "---  ------  --------------  -----\n",
      " 0   Q26A1   31848 non-null  int64\n",
      "dtypes: int64(1)\n",
      "memory usage: 248.9 KB\n"
     ]
    },
    {
     "data": {
      "text/plain": [
       "0"
      ]
     },
     "execution_count": 33,
     "metadata": {},
     "output_type": "execute_result"
    }
   ],
   "source": [
    "# Q26\n",
    "q26 = happy.loc[:,\"Q26A1\"]\n",
    "q26=pd.DataFrame(q26)\n",
    "q26.info()\n",
    "\n",
    "q26=np.where(q26 == 7,0,1)\n",
    "q26=pd.DataFrame(q26)\n",
    "q26.head(10)\n",
    "\n",
    "happy['Q26']=q26[0]\n",
    "happy['Q26'].isnull().sum()"
   ]
  },
  {
   "cell_type": "code",
   "execution_count": 34,
   "metadata": {},
   "outputs": [
    {
     "name": "stdout",
     "output_type": "stream",
     "text": [
      "<class 'pandas.core.frame.DataFrame'>\n",
      "RangeIndex: 31848 entries, 0 to 31847\n",
      "Data columns (total 2 columns):\n",
      " #   Column  Non-Null Count  Dtype  \n",
      "---  ------  --------------  -----  \n",
      " 0   Q31A1   31848 non-null  int64  \n",
      " 1   Q31A2   31797 non-null  float64\n",
      "dtypes: float64(1), int64(1)\n",
      "memory usage: 497.8 KB\n"
     ]
    },
    {
     "data": {
      "text/plain": [
       "0"
      ]
     },
     "execution_count": 34,
     "metadata": {},
     "output_type": "execute_result"
    }
   ],
   "source": [
    "# Q31\n",
    "q31 = happy.loc[:,\"Q31A1\":\"Q31A2\"]\n",
    "q31.head(5)\n",
    "q31.info()\n",
    "\n",
    "q31['Q31A2_2'] = np.where(pd.notnull(q31['Q31A2'])==True,q31['Q31A2'], q31['Q31A1'])\n",
    "q31.head(5)\n",
    "\n",
    "\n",
    "del q31['Q31A2']\n",
    "q31.head(5)\n",
    "q31.columns = ['Q31A1', 'Q31A2']\n",
    "q31.head(5)\n",
    "\n",
    "happy[['Q31A1','Q31A2']]=q31[['Q31A1','Q31A2']]\n",
    "happy['Q31A2'].isnull().sum()"
   ]
  },
  {
   "cell_type": "code",
   "execution_count": 35,
   "metadata": {},
   "outputs": [
    {
     "name": "stdout",
     "output_type": "stream",
     "text": [
      "<class 'pandas.core.frame.DataFrame'>\n",
      "RangeIndex: 31848 entries, 0 to 31847\n",
      "Data columns (total 1 columns):\n",
      " #   Column  Non-Null Count  Dtype\n",
      "---  ------  --------------  -----\n",
      " 0   Q41     31848 non-null  int64\n",
      "dtypes: int64(1)\n",
      "memory usage: 248.9 KB\n"
     ]
    },
    {
     "data": {
      "text/plain": [
       "0"
      ]
     },
     "execution_count": 35,
     "metadata": {},
     "output_type": "execute_result"
    }
   ],
   "source": [
    "# Q41\n",
    "q41 = happy.loc[:,\"Q41\"]\n",
    "q41 = pd.DataFrame(q41)\n",
    "q41.info()\n",
    "\n",
    "q41.loc[q41[\"Q41\"]==5, \"Q41\"] = 0\n",
    "q41.loc[q41[\"Q41\"]==4, \"Q41\"] = 1\n",
    "q41.loc[q41[\"Q41\"]==3, \"Q41\"] = 2\n",
    "q41.loc[q41[\"Q41\"]==2, \"Q41\"] = 3\n",
    "q41.loc[q41[\"Q41\"]==1, \"Q41\"] = 4\n",
    "q41.loc[q41[\"Q41\"]==0, \"Q41\"] = 5\n",
    "\n",
    "q41.head(5)\n",
    "\n",
    "happy['Q41']=q41['Q41']\n",
    "happy['Q41'].isnull().sum()"
   ]
  },
  {
   "cell_type": "code",
   "execution_count": 36,
   "metadata": {},
   "outputs": [
    {
     "name": "stdout",
     "output_type": "stream",
     "text": [
      "<class 'pandas.core.frame.DataFrame'>\n",
      "RangeIndex: 31848 entries, 0 to 31847\n",
      "Data columns (total 1 columns):\n",
      " #   Column  Non-Null Count  Dtype\n",
      "---  ------  --------------  -----\n",
      " 0   Q42     31848 non-null  int64\n",
      "dtypes: int64(1)\n",
      "memory usage: 248.9 KB\n"
     ]
    },
    {
     "data": {
      "text/plain": [
       "0"
      ]
     },
     "execution_count": 36,
     "metadata": {},
     "output_type": "execute_result"
    }
   ],
   "source": [
    "# Q42\n",
    "q42 = happy.loc[:,\"Q42\"]\n",
    "q42=pd.DataFrame(q42)\n",
    "q42.info()\n",
    "\n",
    "q42.loc[q42[\"Q42\"]==2, \"Q42\"] = 1\n",
    "q42.loc[q42[\"Q42\"]==3, \"Q42\"] = 0\n",
    "\n",
    "q42.head(5)\n",
    "\n",
    "happy['Q42']=q42['Q42']\n",
    "happy['Q42'].isnull().sum()"
   ]
  },
  {
   "cell_type": "code",
   "execution_count": 37,
   "metadata": {},
   "outputs": [
    {
     "name": "stdout",
     "output_type": "stream",
     "text": [
      "<class 'pandas.core.frame.DataFrame'>\n",
      "RangeIndex: 31848 entries, 0 to 31847\n",
      "Data columns (total 2 columns):\n",
      " #   Column  Non-Null Count  Dtype  \n",
      "---  ------  --------------  -----  \n",
      " 0   Q42C1   23908 non-null  float64\n",
      " 1   Q42C2   23908 non-null  float64\n",
      "dtypes: float64(2)\n",
      "memory usage: 497.8 KB\n",
      "<class 'pandas.core.frame.DataFrame'>\n",
      "RangeIndex: 31848 entries, 0 to 31847\n",
      "Data columns (total 1 columns):\n",
      " #   Column  Non-Null Count  Dtype  \n",
      "---  ------  --------------  -----  \n",
      " 0   0       31848 non-null  float64\n",
      "dtypes: float64(1)\n",
      "memory usage: 248.9 KB\n",
      "None\n",
      "      0\n",
      "0  60.0\n",
      "1   0.0\n",
      "2  30.0\n",
      "3  30.0\n",
      "4  20.0\n"
     ]
    },
    {
     "data": {
      "text/plain": [
       "0"
      ]
     },
     "execution_count": 37,
     "metadata": {},
     "output_type": "execute_result"
    }
   ],
   "source": [
    "# Q42C\n",
    "q42_c = happy.loc[:,\"Q42C1\":\"Q42C2\"]\n",
    "q42_c.head(5)\n",
    "q42_c.info()\n",
    "\n",
    "q42_c['q42_c_sum'] = q42_c[\"Q42C1\"] * 60 + q42_c[\"Q42C2\"]\n",
    "q42_c.head(10)\n",
    "\n",
    "del q42_c['Q42C1']\n",
    "del q42_c['Q42C2']\n",
    "\n",
    "q42_c.columns=[\"Q42C\"]\n",
    "q42_c.head(5)\n",
    "\n",
    "from sklearn.impute import SimpleImputer\n",
    "imputer = SimpleImputer(strategy=\"constant\", fill_value=0)\n",
    "\n",
    "q42_c = pd.DataFrame(q42_c)\n",
    "q42_c = pd.DataFrame(imputer.fit_transform(q42_c))\n",
    "print(q42_c.info())\n",
    "print(q42_c.head())\n",
    "\n",
    "happy['Q42C2']=q42_c[0]\n",
    "happy['Q42C2'].isnull().sum()"
   ]
  },
  {
   "cell_type": "code",
   "execution_count": 38,
   "metadata": {},
   "outputs": [
    {
     "data": {
      "text/plain": [
       "0"
      ]
     },
     "execution_count": 38,
     "metadata": {},
     "output_type": "execute_result"
    }
   ],
   "source": [
    "# Q45\n",
    "\n",
    "q45 = happy.loc[:,\"Q45A1\":\"Q45A3\"]\n",
    "\n",
    "q45.loc[q45[\"Q45A1\"]==9, \"Q45A1\"] = 0\n",
    "q45.loc[q45[\"Q45A2\"]==9, \"Q45A2\"] = 0\n",
    "q45.loc[q45[\"Q45A3\"]==9, \"Q45A3\"] = 0\n",
    "\n",
    "a1 = q45[\"Q45A1\"]\n",
    "a2 = q45[\"Q45A2\"]\n",
    "a3 = q45[\"Q45A3\"]\n",
    "\n",
    "a1_mean = a1.mean()\n",
    "a2_mean = a2.mean()\n",
    "a3_mean = a3.mean()\n",
    "\n",
    "q45.loc[q45[\"Q45A1\"]==0, \"Q45A1\"] = a1_mean\n",
    "q45.loc[q45[\"Q45A2\"]==0, \"Q45A2\"] = a2_mean\n",
    "q45.loc[q45[\"Q45A3\"]==0, \"Q45A3\"] = a3_mean\n",
    "\n",
    "\n",
    "q45.columns=[\"Q45A1\",\"Q45A2\",\"Q45A3\"]\n",
    "q45[\"Q45A1\"] = q45[\"Q45A1\"].round()\n",
    "q45[\"Q45A2\"] = q45[\"Q45A2\"].round()\n",
    "q45[\"Q45A3\"] = q45[\"Q45A3\"].round()\n",
    "\n",
    "happy[['Q45A2','Q45A3']]=q45[['Q45A2','Q45A3']]\n",
    "happy['Q45A2'].isnull().sum()\n",
    "happy['Q45A3'].isnull().sum()"
   ]
  },
  {
   "cell_type": "code",
   "execution_count": 39,
   "metadata": {},
   "outputs": [
    {
     "name": "stdout",
     "output_type": "stream",
     "text": [
      "<class 'pandas.core.frame.DataFrame'>\n",
      "RangeIndex: 31848 entries, 0 to 31847\n",
      "Data columns (total 1 columns):\n",
      " #   Column  Non-Null Count  Dtype  \n",
      "---  ------  --------------  -----  \n",
      " 0   Q47C    20064 non-null  float64\n",
      "dtypes: float64(1)\n",
      "memory usage: 248.9 KB\n",
      "<class 'pandas.core.frame.DataFrame'>\n",
      "RangeIndex: 31848 entries, 0 to 31847\n",
      "Data columns (total 1 columns):\n",
      " #   Column  Non-Null Count  Dtype  \n",
      "---  ------  --------------  -----  \n",
      " 0   0       31848 non-null  float64\n",
      "dtypes: float64(1)\n",
      "memory usage: 248.9 KB\n",
      "None\n",
      "     0\n",
      "0  3.0\n",
      "1  0.0\n",
      "2  3.0\n",
      "3  0.0\n",
      "4  0.0\n"
     ]
    },
    {
     "data": {
      "text/plain": [
       "0"
      ]
     },
     "execution_count": 39,
     "metadata": {},
     "output_type": "execute_result"
    }
   ],
   "source": [
    "# Q47C\n",
    "q47 = happy.loc[:,\"Q47C\"]\n",
    "q47 = pd.DataFrame(q47)\n",
    "q47.head(5)\n",
    "q47.info()\n",
    "\n",
    "from sklearn.impute import SimpleImputer\n",
    "imputer = SimpleImputer(strategy=\"constant\", fill_value=0)\n",
    "\n",
    "q47 = pd.DataFrame(q47)\n",
    "q47 = pd.DataFrame(imputer.fit_transform(q47))\n",
    "print(q47.info())\n",
    "print(q47.head())\n",
    "happy['Q47C']=q47[0]\n",
    "happy['Q47C'].isnull().sum()"
   ]
  },
  {
   "cell_type": "markdown",
   "metadata": {},
   "source": [
    "## 4) 임선우 역할 : 이가은 회원의 NA 처리한 것에 맞춰 변수 삭제 &수치형변수들 다루기 (skewness, normality 등등)\n",
    "\n",
    "### 삭제문항 \n",
    "\n",
    "- 1) Q12A2,Q12B2,Q12C2,Q12D2,Q12E2,Q12F2,Q12G2,Q12H2 (Q12A1,A12B1,...는 다 다 더한다음에 문화생활 총횟수의 의미를 만들고 난 다음에 삭제) \n",
    "\n",
    "- Q16(있다없다를 지우고 Q16A 방문횟수만남김)\n",
    "\n",
    "- Q17A3\n",
    "\n",
    "- Q21A1,Q21A2,Q21A3, Q21A4, Q21A5, Q21A6, Q21B3\n",
    "\n",
    "- RQ23A2,RQ23B2,RQ23C2,RQ23D2 (각각 유형의 자원봉사 시간)   (RQ23A1,RQ23B1,RQ23C1,RQ23D1은 다더한다음에 자원봉사 총횟수의 의미를 만들고 난 다음에 삭제. 12번문항과 똑같다!)\n",
    "\n",
    "- Q24A,Q24B\n",
    "\n",
    "- Q26A1,Q26A2,Q26A3,Q26A4,Q26A5,Q26A6\n",
    "\n",
    "- Q42A,Q42A1,Q42B,Q42C1\n",
    "\n",
    "- Q47,Q47A,Q47B (직업만족도인 Q47C만 남음)\n",
    "\n",
    "## 내 원래 대상인 수치형자료들 \n",
    "\n",
    "- FAM1 - FAM2(15세미만가구원수) , FAM2(15세이상가구원수)\n",
    "\n",
    "- BIR (출생년도)\n",
    "\n",
    "- Q4B\n",
    "\n",
    "- Q10(환경실천도 : Q10A1,Q10A2,...,Q10A5 평균내기)\n",
    "\n",
    "- Q12(총문화생활횟수)\n",
    "\n",
    "- Q16A(유적지 방문횟수, Q16방문여부는 삭제됨)\n",
    "\n",
    "- Q23(자원봉사활동의 총 횟수. 시간은 삭제)\n",
    "\n",
    "- Q42C2(통근시간)"
   ]
  },
  {
   "cell_type": "code",
   "execution_count": 40,
   "metadata": {},
   "outputs": [],
   "source": [
    "happy = happy.drop(['Q16','Q17A3','Q21A1','Q21A2','Q21A3','Q21A4','Q21A5','Q21A6','Q21B3','Q24A','Q24B','Q26A1','Q26A2','Q26A3','Q26A4','Q26A5','Q26A6','Q42A','Q42A1','Q42B','Q42C1','Q47A','Q47A','Q47B'], axis = 1)\n",
    "\n",
    "#추가로 Q12에서는 금액을 버리고 문화활동 횟수만 더하기로 했으므로\n",
    "happy = happy.drop(['Q12A2','Q12B2','Q12C2','Q12D2','Q12E2','Q12F2','Q12G2','Q12H2'] , axis=1)\n",
    "\n",
    "#추가로 Q23에서는 봉사활동 시간을 버리고 봉사활동 횟수만 하기로 했으므로\n",
    "happy = happy.drop(['RQ23A2','RQ23B2','RQ23C2','RQ23D2'] , axis=1)\n"
   ]
  },
  {
   "cell_type": "code",
   "execution_count": 41,
   "metadata": {},
   "outputs": [
    {
     "data": {
      "text/plain": [
       "(31848, 162)"
      ]
     },
     "execution_count": 41,
     "metadata": {},
     "output_type": "execute_result"
    }
   ],
   "source": [
    "happy.shape"
   ]
  },
  {
   "cell_type": "markdown",
   "metadata": {},
   "source": [
    "### FAM 변수"
   ]
  },
  {
   "cell_type": "code",
   "execution_count": 42,
   "metadata": {},
   "outputs": [
    {
     "data": {
      "text/plain": [
       "True"
      ]
     },
     "execution_count": 42,
     "metadata": {},
     "output_type": "execute_result"
    }
   ],
   "source": [
    "#Fam1 / Fam2 변수 -> Fam1 = Fam1 - Fam2 (15세 미만 가구원수의 의미로 변환!)\n",
    "sum(happy.FAM1 >= happy.FAM2) ==happy.shape[0]\n",
    "happy.FAM1 = happy.FAM1 - happy.FAM2 ;all(happy.FAM1>=0)"
   ]
  },
  {
   "cell_type": "code",
   "execution_count": 43,
   "metadata": {},
   "outputs": [
    {
     "data": {
      "text/plain": [
       "False"
      ]
     },
     "execution_count": 43,
     "metadata": {},
     "output_type": "execute_result"
    }
   ],
   "source": [
    "any(happy.FAM2 ==0)"
   ]
  },
  {
   "cell_type": "code",
   "execution_count": 44,
   "metadata": {},
   "outputs": [
    {
     "name": "stderr",
     "output_type": "stream",
     "text": [
      "C:\\ProgramData\\Anaconda3\\lib\\site-packages\\matplotlib\\axes\\_axes.py:6462: UserWarning: The 'normed' kwarg is deprecated, and has been replaced by the 'density' kwarg.\n",
      "  warnings.warn(\"The 'normed' kwarg is deprecated, and has been \"\n",
      "C:\\ProgramData\\Anaconda3\\lib\\site-packages\\matplotlib\\axes\\_axes.py:6462: UserWarning: The 'normed' kwarg is deprecated, and has been replaced by the 'density' kwarg.\n",
      "  warnings.warn(\"The 'normed' kwarg is deprecated, and has been \"\n"
     ]
    },
    {
     "data": {
      "image/png": "[encoded data removed]",
      "text/plain": [
       "<Figure size 720x432 with 1 Axes>"
      ]
     },
     "metadata": {
      "needs_background": "light"
     },
     "output_type": "display_data"
    }
   ],
   "source": [
    "#FAM 변수\n",
    "fig = plt.figure(figsize=(10,6))\n",
    "\n",
    "fam = pd.DataFrame(happy, columns=['FAM1', 'FAM2'])\n",
    "\n",
    "for col in fam.columns:\n",
    "    plt.hist(fam[col], normed=False, alpha=0.5)\n",
    "    fig.legend(labels=['Number of Households under Age 15','Number of Households greater or equal than Age 15'],loc=7,fontsize=10)\n",
    "    plt.title('At least one household aged greater or equal than 15',fontsize=20)"
   ]
  },
  {
   "cell_type": "markdown",
   "metadata": {},
   "source": [
    "애초에 15세 이상의 사람한테 묻는 것이니 애초에 15세 이상 가구원들이 더욱 많은 것은 당연하다!"
   ]
  },
  {
   "cell_type": "markdown",
   "metadata": {},
   "source": [
    "### BIR변수"
   ]
  },
  {
   "cell_type": "code",
   "execution_count": 45,
   "metadata": {},
   "outputs": [],
   "source": [
    "happy.BIR = 2014 - happy.BIR +1 \n",
    "happy.rename(columns = {'BIR':'AGE'}, inplace = True)\n",
    "\n"
   ]
  },
  {
   "cell_type": "code",
   "execution_count": 46,
   "metadata": {},
   "outputs": [
    {
     "data": {
      "text/plain": [
       "<matplotlib.axes._subplots.AxesSubplot at 0x1a9cc93f240>"
      ]
     },
     "execution_count": 46,
     "metadata": {},
     "output_type": "execute_result"
    },
    {
     "data": {
      "image/png": "[encoded data removed]",
      "text/plain": [
       "<Figure size 432x288 with 1 Axes>"
      ]
     },
     "metadata": {
      "needs_background": "light"
     },
     "output_type": "display_data"
    }
   ],
   "source": [
    "sns.distplot(happy.AGE,kde=False)"
   ]
  },
  {
   "cell_type": "markdown",
   "metadata": {},
   "source": [
    "40대 중반이 가장 응답자들이 많은 듯하고 그 중심으로 양옆으로 줄어드는 모양. 적절히 조사한 듯하다"
   ]
  },
  {
   "cell_type": "markdown",
   "metadata": {},
   "source": [
    "### Q4B변수! (종속변수)"
   ]
  },
  {
   "cell_type": "code",
   "execution_count": 47,
   "metadata": {},
   "outputs": [
    {
     "data": {
      "text/plain": [
       "Text(0.5,1,'Red: Mean, Green : Mean plus/minus 2sd')"
      ]
     },
     "execution_count": 47,
     "metadata": {},
     "output_type": "execute_result"
    },
    {
     "data": {
      "image/png": "[encoded data removed]",
      "text/plain": [
       "<Figure size 432x288 with 1 Axes>"
      ]
     },
     "metadata": {
      "needs_background": "light"
     },
     "output_type": "display_data"
    }
   ],
   "source": [
    "sns.distplot(happy.Q4B,kde=False)\n",
    "\n",
    "mn = happy.Q4B.mean()\n",
    "sd = happy.Q4B.std()\n",
    "\n",
    "plt.axvline(mn,color='red')\n",
    "plt.axvline(mn - 2*sd, color='green')\n",
    "plt.axvline(mn + 2*sd, color='green')\n",
    "\n",
    "plt.title('Red: Mean, Green : Mean plus/minus 2sd')"
   ]
  },
  {
   "cell_type": "code",
   "execution_count": 48,
   "metadata": {
    "scrolled": true
   },
   "outputs": [
    {
     "data": {
      "text/plain": [
       "70    8318\n",
       "80    7661\n",
       "60    3426\n",
       "75    2447\n",
       "90    2140\n",
       "      ... \n",
       "37       1\n",
       "33       1\n",
       "15       1\n",
       "41       1\n",
       "9        1\n",
       "Name: Q4B, Length: 75, dtype: int64"
      ]
     },
     "execution_count": 48,
     "metadata": {},
     "output_type": "execute_result"
    }
   ],
   "source": [
    "happy.Q4B.value_counts()"
   ]
  },
  {
   "cell_type": "markdown",
   "metadata": {},
   "source": [
    "- 심하게 skew나 bell shape를 위반하는 건 아닐 수는 있어도 아름답지 않은 분포 모양이다.\n",
    "\n",
    "- 그 이유는 사람들 성향 상 10의 배수 혹은 5의 배수로 생각하기 때문이다! 이는 과학적으로 체감되지 않은 점수이며 사람들의 체감 행복지수이므로 감안해야 할 점이다.\n",
    "\n",
    "- 다만 심한 outlier들은 손을 봐야 한다!\n",
    "\n",
    "- 현재는 모델 피팅 이전이여서 outlier 제거가 불가능하나 이후에 모델피팅이 끝나면 사후 조치로써 Outlying Y Observations를 detect해내고 삭제할 수 있다. \n",
    "\n",
    "회귀분석 시간에 배운 Y outlier detection 방식 세가지이다.\n",
    "\n",
    "### Methods of Detecting Outlying Y observations\n",
    "\n",
    "1) Semi- studentized residuals $e_i* = \\frac{e_i}{\\sqrt(MSE)}$\n",
    "\n",
    "\n",
    "2) Internally studentized residuals  $r_i* = \\frac{e_i}{s_(e_i)} = \\frac{e_i}{\\sqrt MSE(1-h_{ii})}$\n",
    "\n",
    "3) studentized Deleted Residuals $t_i  = \\frac{d_i}{s_(d_i)} = e_i [\\frac{n-p-1}{SSE(1-h_{ii})- e_i^2}]^{\\frac{1}{2}} \\sim t(n-p-1)$"
   ]
  },
  {
   "cell_type": "markdown",
   "metadata": {},
   "source": [
    "### Q10 환경실천도"
   ]
  },
  {
   "cell_type": "code",
   "execution_count": 49,
   "metadata": {},
   "outputs": [],
   "source": [
    "env = happy.loc[:,'Q10A1':'Q10A5']\n",
    "happy.Q10A1 = env.mean(1)\n",
    "happy.rename(columns = {'Q10A1':'Q10'}, inplace = True) #Q10A1의 column을 Q10으로 컬럼명 변경\n",
    "\n",
    "#이제 환경실천도 구했으니 Q10A2,Q10A3,Q10A4,Q10A5 삭제가능\n",
    "happy = happy.drop(['Q10A2','Q10A3','Q10A4','Q10A5'], axis=1)"
   ]
  },
  {
   "cell_type": "markdown",
   "metadata": {},
   "source": [
    "### Q12  문화생활횟수\n"
   ]
  },
  {
   "cell_type": "code",
   "execution_count": 50,
   "metadata": {},
   "outputs": [],
   "source": [
    "cult= happy.loc[:,'Q12A1' : 'Q12H1']\n",
    "happy.Q12A1 = cult.sum(1)\n",
    "happy.rename(columns = {'Q12A1':'Q12'}, inplace = True) #Q12 : 총 문화횟수!\n",
    "\n",
    "\n",
    "#이제 문화생활횟수 구했으니 B1,C1... 다 삭제가능!\n",
    "happy = happy.drop(['Q12B1','Q12C1','Q12D1','Q12E1','Q12F1','Q12G1','Q12H1'],axis=1)"
   ]
  },
  {
   "cell_type": "markdown",
   "metadata": {},
   "source": [
    "### Q16A 유적지방문횟수\n"
   ]
  },
  {
   "cell_type": "code",
   "execution_count": 51,
   "metadata": {
    "scrolled": true
   },
   "outputs": [
    {
     "data": {
      "text/plain": [
       "<matplotlib.axes._subplots.AxesSubplot at 0x1a9cd4fa710>"
      ]
     },
     "execution_count": 51,
     "metadata": {},
     "output_type": "execute_result"
    },
    {
     "data": {
      "image/png": "[encoded data removed]",
      "text/plain": [
       "<Figure size 432x288 with 1 Axes>"
      ]
     },
     "metadata": {
      "needs_background": "light"
     },
     "output_type": "display_data"
    }
   ],
   "source": [
    "sns.distplot(happy.Q16A,kde=False)"
   ]
  },
  {
   "cell_type": "markdown",
   "metadata": {},
   "source": [
    "### Q23 ) 자원봉사활동 횟수\n",
    "\n",
    "RQ23A1,RQ23B1,RQ23C1,RQ23D1의 $\\sum$\n"
   ]
  },
  {
   "cell_type": "code",
   "execution_count": 52,
   "metadata": {
    "scrolled": true
   },
   "outputs": [],
   "source": [
    "volu= happy.loc[:,'RQ23A1' : 'RQ23D1']\n",
    "happy.RQ23A1 = volu.sum(1)\n",
    "happy.rename(columns = {'RQ23A1':'Q23'}, inplace = True) #Q12 : 총 문화횟수!\n",
    "\n",
    "\n",
    "#이제 문화생활횟수 구했으니 B1,C1... 다 삭제가능!\n",
    "happy = happy.drop(['RQ23B1','RQ23C1','RQ23D1'],axis=1)"
   ]
  },
  {
   "cell_type": "markdown",
   "metadata": {},
   "source": [
    "### Q42C2 통근시간\n"
   ]
  },
  {
   "cell_type": "code",
   "execution_count": 53,
   "metadata": {
    "scrolled": true
   },
   "outputs": [
    {
     "data": {
      "text/plain": [
       "<matplotlib.axes._subplots.AxesSubplot at 0x1a9cd514ac8>"
      ]
     },
     "execution_count": 53,
     "metadata": {},
     "output_type": "execute_result"
    },
    {
     "data": {
      "image/png": "[encoded data removed]",
      "text/plain": [
       "<Figure size 432x288 with 1 Axes>"
      ]
     },
     "metadata": {
      "needs_background": "light"
     },
     "output_type": "display_data"
    }
   ],
   "source": [
    "sns.distplot(happy.Q42C2,kde=False)"
   ]
  },
  {
   "cell_type": "markdown",
   "metadata": {},
   "source": [
    "NA imputing을 인해서 0이 가장 많다. 제외하고는 bell모양의 curve가 잘 지켜진다."
   ]
  },
  {
   "cell_type": "code",
   "execution_count": 54,
   "metadata": {},
   "outputs": [
    {
     "data": {
      "text/plain": [
       "33.096704032123135"
      ]
     },
     "execution_count": 54,
     "metadata": {},
     "output_type": "execute_result"
    }
   ],
   "source": [
    "happy.Q42C2[happy.Q42C2!=0].mean()"
   ]
  },
  {
   "cell_type": "markdown",
   "metadata": {},
   "source": [
    "0분을 제외하고 통근시간은 평균 33분이다"
   ]
  },
  {
   "cell_type": "markdown",
   "metadata": {},
   "source": [
    "### 차원이 많이 줄었는가?"
   ]
  },
  {
   "cell_type": "code",
   "execution_count": 55,
   "metadata": {},
   "outputs": [
    {
     "data": {
      "text/plain": [
       "(31848, 148)"
      ]
     },
     "execution_count": 55,
     "metadata": {},
     "output_type": "execute_result"
    }
   ],
   "source": [
    "happy.shape\n",
    "\n",
    "# 네"
   ]
  },
  {
   "cell_type": "markdown",
   "metadata": {},
   "source": [
    "## 4) 김진영: 데이터 결합 및 삭제, datatype 정리"
   ]
  },
  {
   "cell_type": "markdown",
   "metadata": {},
   "source": [
    "### 안쓰기로 한 variable 삭제\n",
    "- 'JEN', 'AGE', 'EDU', 'DE4', 'MAR', 'GU', 'DE8', 'JOB', 'FC', 'Q2A','Q3A2','Q3A3','Q3A4','Q3A5','Q3A6','Q3A7','Q3A8','Q3A9','Q3A10','Q3A11','Q12I', 'Q20A', 'Q20B1', 'Q20B2', 'Q20B3', 'Q20B4', 'Q20B5', 'Q44A', 'Q45A1','Q47'"
   ]
  },
  {
   "cell_type": "code",
   "execution_count": 56,
   "metadata": {},
   "outputs": [],
   "source": [
    "happy=happy.drop(['JEN', 'AGE', 'EDU', 'DE4', 'MAR', 'GU', 'DE8', 'JOB', 'FC',  'Q2A','Q3A2','Q3A3','Q3A4','Q3A5','Q3A6','Q3A7','Q3A8','Q3A9','Q3A10','Q3A11','Q12I', 'Q20A', 'Q20B1', 'Q20B2', 'Q20B3', 'Q20B4', 'Q20B5', 'Q44A', 'Q45A1','Q47'],axis=1)"
   ]
  },
  {
   "cell_type": "markdown",
   "metadata": {},
   "source": [
    "### 데이터 정제 및 전처리 (1)\n",
    "### (이가은,박태석학우 자료 합치기)"
   ]
  },
  {
   "cell_type": "code",
   "execution_count": 57,
   "metadata": {},
   "outputs": [],
   "source": [
    "# 가공된 column 새로 추가 \n",
    "happy['Q30Mean34']=Q30Mean34\n",
    "happy['Q32Mean12']=Q32Mean12\n",
    "happy['Q32Mean67']=Q32Mean67\n",
    "happy['Q33Mean12']=Q33Mean12\n",
    "happy['Q33Mean45']=Q33Mean45\n",
    "happy['Q36AMean']=Q36AMean\n",
    "happy['Q43Mean']=Q43Mean\n",
    "happy['Q46Mean2345']=Q46Mean2345"
   ]
  },
  {
   "cell_type": "code",
   "execution_count": 58,
   "metadata": {},
   "outputs": [
    {
     "data": {
      "text/html": [
       "<div>\n",
       "<style scoped>\n",
       "    .dataframe tbody tr th:only-of-type {\n",
       "        vertical-align: middle;\n",
       "    }\n",
       "\n",
       "    .dataframe tbody tr th {\n",
       "        vertical-align: top;\n",
       "    }\n",
       "\n",
       "    .dataframe thead th {\n",
       "        text-align: right;\n",
       "    }\n",
       "</style>\n",
       "<table border=\"1\" class=\"dataframe\">\n",
       "  <thead>\n",
       "    <tr style=\"text-align: right;\">\n",
       "      <th></th>\n",
       "      <th>FAM1</th>\n",
       "      <th>FAM2</th>\n",
       "      <th>HTYP</th>\n",
       "      <th>HLIV</th>\n",
       "      <th>INC</th>\n",
       "      <th>REL</th>\n",
       "      <th>RLI</th>\n",
       "      <th>Q1</th>\n",
       "      <th>Q2</th>\n",
       "      <th>Q2B</th>\n",
       "      <th>...</th>\n",
       "      <th>Q21A</th>\n",
       "      <th>Q26</th>\n",
       "      <th>Q30Mean34</th>\n",
       "      <th>Q32Mean12</th>\n",
       "      <th>Q32Mean67</th>\n",
       "      <th>Q33Mean12</th>\n",
       "      <th>Q33Mean45</th>\n",
       "      <th>Q36AMean</th>\n",
       "      <th>Q43Mean</th>\n",
       "      <th>Q46Mean2345</th>\n",
       "    </tr>\n",
       "  </thead>\n",
       "  <tbody>\n",
       "    <tr>\n",
       "      <th>0</th>\n",
       "      <td>0</td>\n",
       "      <td>2</td>\n",
       "      <td>2</td>\n",
       "      <td>1</td>\n",
       "      <td>5</td>\n",
       "      <td>1</td>\n",
       "      <td>6</td>\n",
       "      <td>1</td>\n",
       "      <td>3</td>\n",
       "      <td>0.0</td>\n",
       "      <td>...</td>\n",
       "      <td>0</td>\n",
       "      <td>0</td>\n",
       "      <td>3.0</td>\n",
       "      <td>2.0</td>\n",
       "      <td>3.0</td>\n",
       "      <td>3.5</td>\n",
       "      <td>4.0</td>\n",
       "      <td>2.0</td>\n",
       "      <td>3.5</td>\n",
       "      <td>4.25</td>\n",
       "    </tr>\n",
       "    <tr>\n",
       "      <th>1</th>\n",
       "      <td>0</td>\n",
       "      <td>2</td>\n",
       "      <td>2</td>\n",
       "      <td>1</td>\n",
       "      <td>5</td>\n",
       "      <td>2</td>\n",
       "      <td>6</td>\n",
       "      <td>3</td>\n",
       "      <td>3</td>\n",
       "      <td>4.0</td>\n",
       "      <td>...</td>\n",
       "      <td>0</td>\n",
       "      <td>0</td>\n",
       "      <td>3.0</td>\n",
       "      <td>2.5</td>\n",
       "      <td>2.5</td>\n",
       "      <td>3.5</td>\n",
       "      <td>4.5</td>\n",
       "      <td>2.0</td>\n",
       "      <td>4.0</td>\n",
       "      <td>4.50</td>\n",
       "    </tr>\n",
       "    <tr>\n",
       "      <th>2</th>\n",
       "      <td>0</td>\n",
       "      <td>5</td>\n",
       "      <td>2</td>\n",
       "      <td>1</td>\n",
       "      <td>11</td>\n",
       "      <td>3</td>\n",
       "      <td>6</td>\n",
       "      <td>1</td>\n",
       "      <td>3</td>\n",
       "      <td>3.0</td>\n",
       "      <td>...</td>\n",
       "      <td>1</td>\n",
       "      <td>0</td>\n",
       "      <td>1.5</td>\n",
       "      <td>2.0</td>\n",
       "      <td>4.5</td>\n",
       "      <td>1.0</td>\n",
       "      <td>3.0</td>\n",
       "      <td>4.0</td>\n",
       "      <td>4.0</td>\n",
       "      <td>3.50</td>\n",
       "    </tr>\n",
       "    <tr>\n",
       "      <th>3</th>\n",
       "      <td>0</td>\n",
       "      <td>5</td>\n",
       "      <td>2</td>\n",
       "      <td>1</td>\n",
       "      <td>11</td>\n",
       "      <td>3</td>\n",
       "      <td>6</td>\n",
       "      <td>1</td>\n",
       "      <td>4</td>\n",
       "      <td>3.0</td>\n",
       "      <td>...</td>\n",
       "      <td>1</td>\n",
       "      <td>0</td>\n",
       "      <td>1.5</td>\n",
       "      <td>1.0</td>\n",
       "      <td>3.5</td>\n",
       "      <td>2.0</td>\n",
       "      <td>3.0</td>\n",
       "      <td>3.5</td>\n",
       "      <td>4.0</td>\n",
       "      <td>4.25</td>\n",
       "    </tr>\n",
       "    <tr>\n",
       "      <th>4</th>\n",
       "      <td>0</td>\n",
       "      <td>5</td>\n",
       "      <td>2</td>\n",
       "      <td>1</td>\n",
       "      <td>11</td>\n",
       "      <td>3</td>\n",
       "      <td>6</td>\n",
       "      <td>1</td>\n",
       "      <td>4</td>\n",
       "      <td>3.0</td>\n",
       "      <td>...</td>\n",
       "      <td>1</td>\n",
       "      <td>0</td>\n",
       "      <td>1.0</td>\n",
       "      <td>1.0</td>\n",
       "      <td>3.5</td>\n",
       "      <td>1.0</td>\n",
       "      <td>3.0</td>\n",
       "      <td>1.0</td>\n",
       "      <td>4.0</td>\n",
       "      <td>4.25</td>\n",
       "    </tr>\n",
       "  </tbody>\n",
       "</table>\n",
       "<p>5 rows × 126 columns</p>\n",
       "</div>"
      ],
      "text/plain": [
       "   FAM1  FAM2  HTYP  HLIV  INC  REL  RLI  Q1  Q2  Q2B  ...  Q21A  Q26  \\\n",
       "0     0     2     2     1    5    1    6   1   3  0.0  ...     0    0   \n",
       "1     0     2     2     1    5    2    6   3   3  4.0  ...     0    0   \n",
       "2     0     5     2     1   11    3    6   1   3  3.0  ...     1    0   \n",
       "3     0     5     2     1   11    3    6   1   4  3.0  ...     1    0   \n",
       "4     0     5     2     1   11    3    6   1   4  3.0  ...     1    0   \n",
       "\n",
       "   Q30Mean34  Q32Mean12  Q32Mean67  Q33Mean12  Q33Mean45  Q36AMean  Q43Mean  \\\n",
       "0        3.0        2.0        3.0        3.5        4.0       2.0      3.5   \n",
       "1        3.0        2.5        2.5        3.5        4.5       2.0      4.0   \n",
       "2        1.5        2.0        4.5        1.0        3.0       4.0      4.0   \n",
       "3        1.5        1.0        3.5        2.0        3.0       3.5      4.0   \n",
       "4        1.0        1.0        3.5        1.0        3.0       1.0      4.0   \n",
       "\n",
       "   Q46Mean2345  \n",
       "0         4.25  \n",
       "1         4.50  \n",
       "2         3.50  \n",
       "3         4.25  \n",
       "4         4.25  \n",
       "\n",
       "[5 rows x 126 columns]"
      ]
     },
     "execution_count": 58,
     "metadata": {},
     "output_type": "execute_result"
    }
   ],
   "source": [
    "happy.head()"
   ]
  },
  {
   "cell_type": "code",
   "execution_count": 59,
   "metadata": {},
   "outputs": [],
   "source": [
    "happy.to_excel('happy.xlsx')"
   ]
  },
  {
   "cell_type": "code",
   "execution_count": 60,
   "metadata": {},
   "outputs": [],
   "source": [
    "happy.to_csv('happy.csv')"
   ]
  },
  {
   "cell_type": "code",
   "execution_count": 61,
   "metadata": {},
   "outputs": [],
   "source": [
    "# 합치기 전 columns 삭제\n",
    "#happy=happy.drop(['Q30A3', 'Q30A4', 'Q32A1', 'Q32A2', 'Q32A6', 'Q32A7', 'Q33A1', 'Q33A2', 'Q33A4', 'Q33A5', 'Q36A1'\n",
    "#                  ,'Q36A2','Q43A1','Q43A2', 'Q46A2', 'Q46A3', 'Q46A5'], axis = 1)"
   ]
  },
  {
   "cell_type": "code",
   "execution_count": 62,
   "metadata": {},
   "outputs": [],
   "source": [
    "#happy.to_excel('happy_1.xlsx')"
   ]
  },
  {
   "cell_type": "code",
   "execution_count": 63,
   "metadata": {},
   "outputs": [],
   "source": [
    "#happy.to_csv('happy_1.csv')"
   ]
  },
  {
   "cell_type": "code",
   "execution_count": 64,
   "metadata": {},
   "outputs": [],
   "source": [
    "# ordinal에 소수점 없는 happy가지고 datatype 지정"
   ]
  },
  {
   "cell_type": "markdown",
   "metadata": {},
   "source": [
    "## Likert Scale 문항의 데이터 전처리"
   ]
  },
  {
   "cell_type": "markdown",
   "metadata": {},
   "source": [
    "#### Likert Scale 문항의 한계점\n",
    "\n",
    "1) 극단적인 선택을 피하려는 경향이 있기 때문에 실제 본인 상태를 왜곡할 수 있다. \n",
    "2) 리커트척도를 5점으로 구성했을 때 선지 간의 간격이 등간격이라는 가정을 한다. 그러나 실제로 이렇게 인지하고 응답을 하는지를 검증하는 데는 한계가 있다. \n",
    "\n",
    "#### 따라서 이러한 왜곡을 줄이기 위해 다음과 같이 조정\n",
    "\n",
    "- 1/2 -> 1(negative)\n",
    "- 3 -> 2(normal)\n",
    "- 4/5 -> 3(positive)\n",
    "- 0 -> 0(inexperienced)\n",
    "\n"
   ]
  },
  {
   "cell_type": "markdown",
   "metadata": {},
   "source": [
    "### Likert Scale 문항 중 통합할 문항 목록\n",
    "- 'Q2','Q2B','Q5A1','Q5A2','Q5A3','Q5A4','Q6A1','Q6A2','Q6A3','Q6A4','Q6A5','Q6A6','Q6A7','Q6A8','Q6A9','Q6A10','Q6A11','Q6A12','Q6A13','Q7','Q8','Q9','Q13','Q13A','Q15','Q22','Q28','Q29A1','Q29A2','Q29A3','Q29A4','Q30A1','Q30A2','Q30A5','Q32A3','Q32A4','Q32A5','Q33A3','Q33A6','Q33A7','Q33A8','Q33A9','Q35','Q36','Q37','Q38','Q39','Q40','Q45A2','Q45A3','Q46A1','Q46A4','Q47C','Q48','Q49'\n",
    "\n",
    "#### 특이사항\n",
    "- Q27: 정치/경제/사회적 지위 (상상,상하,중상,중하,하상,하하)\n",
    "- Q41: 정치 성향 (0~10)\n",
    "- 이미 합쳐서 평균내버린 것들...  'Q10','Q30Mean34','Q32Mean12','Q32Mean12','Q32Mean67','Q33Mean12','Q33Mean45','Q36AMean', 'Q43Mean','Q46Mean2345',\n",
    "\n",
    "- Q38, Q39: 98 = 없다\n"
   ]
  },
  {
   "cell_type": "code",
   "execution_count": 65,
   "metadata": {},
   "outputs": [],
   "source": [
    "#likert_list=['Q2','Q2B','Q5A1','Q5A2','Q5A3','Q5A4','Q6A1','Q6A2','Q6A3','Q6A4','Q6A5','Q6A6','Q6A7','Q6A8','Q6A9','Q6A10','Q6A11','Q6A12','Q6A13','Q7','Q8','Q9','Q13','Q13A','Q15','Q22','Q28','Q29A1','Q29A2','Q29A3','Q29A4','Q30A1','Q30A2','Q30A5','Q32A3','Q32A4','Q32A5','Q33A3','Q33A6','Q33A7','Q33A8','Q33A9','Q35','Q36','Q37','Q38','Q39','Q40','Q45A2','Q45A3','Q46A1','Q46A4','Q47C','Q48','Q49']\n",
    "#happy_likert=happy[likert_list]"
   ]
  },
  {
   "cell_type": "code",
   "execution_count": 66,
   "metadata": {
    "scrolled": true
   },
   "outputs": [],
   "source": [
    "#happy_likert.shape"
   ]
  },
  {
   "cell_type": "code",
   "execution_count": 67,
   "metadata": {
    "scrolled": true
   },
   "outputs": [],
   "source": [
    "#likert=np.zeros(happy_likert.shape)\n",
    "#for i in np.arange(happy_likert.shape[1]):\n",
    "#   for j in np.arange(happy_likert.shape[0]):\n",
    "#        if (happy_likert.iloc[j,i]==1) or (happy_likert.iloc[j,i]==2):\n",
    "#            likert[j,i]=1\n",
    "#        elif (happy_likert.iloc[j,i]==4) or (happy_likert.iloc[j,i]==5):\n",
    "#            likert[j,i]=3\n",
    "#        elif happy_likert.iloc[j,i]==3:\n",
    "#            likert[j,i]=2\n",
    "#        else:\n",
    "#            likert[j,i]=2\n",
    "#        else:\n",
    "#            likert[j,i]=0\n",
    "#likert"
   ]
  },
  {
   "cell_type": "code",
   "execution_count": 68,
   "metadata": {},
   "outputs": [],
   "source": [
    "#happy[likert_list]=likert"
   ]
  },
  {
   "cell_type": "markdown",
   "metadata": {},
   "source": [
    "## 데이터 타입 정리"
   ]
  },
  {
   "cell_type": "code",
   "execution_count": 69,
   "metadata": {},
   "outputs": [],
   "source": [
    "float_col_list=['Q10','Q30Mean34', 'Q32Mean12', 'Q32Mean67', 'Q33Mean12','Q33Mean45', 'Q36AMean', 'Q43Mean', 'Q46Mean2345']"
   ]
  },
  {
   "cell_type": "code",
   "execution_count": 70,
   "metadata": {},
   "outputs": [],
   "source": [
    "int_col_list=happy.loc[:,~happy.columns.isin(float_col_list)].columns"
   ]
  },
  {
   "cell_type": "code",
   "execution_count": 71,
   "metadata": {},
   "outputs": [],
   "source": [
    "happy[int_col_list]=happy[int_col_list].astype('int64')"
   ]
  },
  {
   "cell_type": "markdown",
   "metadata": {},
   "source": [
    "## nominal\n",
    "'HTYP','HLIV','REL','RLI','Q1','Q2B','Q3A1','Q14A1','Q17A1','Q17A2','Q18','Q19A1','Q19A2','Q21A','Q21B1','Q21B2','Q24','Q25A1','Q25A2','Q26','Q31A1','Q31A2','Q38','Q39','Q42','Q44','Q47C','DE1','DE2','DE3','DE5','DE6','DE7','DE9'\n",
    "\n",
    "\n",
    "## ordinal\n",
    "'INC','Q2','Q5A1','Q5A2','Q5A3','Q5A4','Q6A1','Q6A2','Q6A3','Q6A4','Q6A5','Q6A6','Q6A7','Q6A8','Q6A9','Q6A10','Q6A11','Q6A12','Q6A13','Q7','Q8','Q9','Q10','Q11','Q13','Q13A','Q15','Q20','Q22','Q27','Q28','Q29A1','Q29A2','Q29A3','Q29A4','Q30A1','Q30A2','Q30Mean34','Q30A5','Q32Mean12','Q32A3','Q32A4','Q32A5','Q32Mean67','Q33Mean12','Q33A3','Q33Mean45','Q33A6','Q33A7','Q33A8','Q33A9','Q35,'Q36','Q36AMean','Q37','Q40','Q41','Q43Mean','Q45A2','Q45A3','Q46A1','Q46Mean2345','Q48','Q49'\n",
    "\n",
    "## numerical\n",
    "'FAM1','FAM2','AGE','Q12A1','Q12I1','Q16A','Q23','Q34','Q42C2'"
   ]
  },
  {
   "cell_type": "code",
   "execution_count": 72,
   "metadata": {
    "scrolled": false
   },
   "outputs": [
    {
     "data": {
      "text/html": [
       "<div>\n",
       "<style scoped>\n",
       "    .dataframe tbody tr th:only-of-type {\n",
       "        vertical-align: middle;\n",
       "    }\n",
       "\n",
       "    .dataframe tbody tr th {\n",
       "        vertical-align: top;\n",
       "    }\n",
       "\n",
       "    .dataframe thead th {\n",
       "        text-align: right;\n",
       "    }\n",
       "</style>\n",
       "<table border=\"1\" class=\"dataframe\">\n",
       "  <thead>\n",
       "    <tr style=\"text-align: right;\">\n",
       "      <th></th>\n",
       "      <th>FAM1</th>\n",
       "      <th>FAM2</th>\n",
       "      <th>INC</th>\n",
       "      <th>Q2</th>\n",
       "      <th>Q4B</th>\n",
       "      <th>Q5A1</th>\n",
       "      <th>Q5A2</th>\n",
       "      <th>Q5A3</th>\n",
       "      <th>Q5A4</th>\n",
       "      <th>Q6A1</th>\n",
       "      <th>...</th>\n",
       "      <th>DE7_4</th>\n",
       "      <th>DE7_5</th>\n",
       "      <th>DE9_1</th>\n",
       "      <th>DE9_2</th>\n",
       "      <th>DE9_3</th>\n",
       "      <th>DE9_4</th>\n",
       "      <th>Q21A_0</th>\n",
       "      <th>Q21A_1</th>\n",
       "      <th>Q26_0</th>\n",
       "      <th>Q26_1</th>\n",
       "    </tr>\n",
       "  </thead>\n",
       "  <tbody>\n",
       "    <tr>\n",
       "      <th>0</th>\n",
       "      <td>0</td>\n",
       "      <td>2</td>\n",
       "      <td>5</td>\n",
       "      <td>3</td>\n",
       "      <td>50</td>\n",
       "      <td>3</td>\n",
       "      <td>4</td>\n",
       "      <td>3</td>\n",
       "      <td>3</td>\n",
       "      <td>5</td>\n",
       "      <td>...</td>\n",
       "      <td>0</td>\n",
       "      <td>1</td>\n",
       "      <td>0</td>\n",
       "      <td>0</td>\n",
       "      <td>1</td>\n",
       "      <td>0</td>\n",
       "      <td>1</td>\n",
       "      <td>0</td>\n",
       "      <td>1</td>\n",
       "      <td>0</td>\n",
       "    </tr>\n",
       "    <tr>\n",
       "      <th>1</th>\n",
       "      <td>0</td>\n",
       "      <td>2</td>\n",
       "      <td>5</td>\n",
       "      <td>3</td>\n",
       "      <td>70</td>\n",
       "      <td>2</td>\n",
       "      <td>3</td>\n",
       "      <td>3</td>\n",
       "      <td>3</td>\n",
       "      <td>4</td>\n",
       "      <td>...</td>\n",
       "      <td>0</td>\n",
       "      <td>1</td>\n",
       "      <td>0</td>\n",
       "      <td>0</td>\n",
       "      <td>0</td>\n",
       "      <td>1</td>\n",
       "      <td>1</td>\n",
       "      <td>0</td>\n",
       "      <td>1</td>\n",
       "      <td>0</td>\n",
       "    </tr>\n",
       "    <tr>\n",
       "      <th>2</th>\n",
       "      <td>0</td>\n",
       "      <td>5</td>\n",
       "      <td>11</td>\n",
       "      <td>3</td>\n",
       "      <td>60</td>\n",
       "      <td>1</td>\n",
       "      <td>1</td>\n",
       "      <td>1</td>\n",
       "      <td>1</td>\n",
       "      <td>4</td>\n",
       "      <td>...</td>\n",
       "      <td>0</td>\n",
       "      <td>1</td>\n",
       "      <td>0</td>\n",
       "      <td>1</td>\n",
       "      <td>0</td>\n",
       "      <td>0</td>\n",
       "      <td>0</td>\n",
       "      <td>1</td>\n",
       "      <td>1</td>\n",
       "      <td>0</td>\n",
       "    </tr>\n",
       "    <tr>\n",
       "      <th>3</th>\n",
       "      <td>0</td>\n",
       "      <td>5</td>\n",
       "      <td>11</td>\n",
       "      <td>4</td>\n",
       "      <td>50</td>\n",
       "      <td>1</td>\n",
       "      <td>1</td>\n",
       "      <td>1</td>\n",
       "      <td>1</td>\n",
       "      <td>5</td>\n",
       "      <td>...</td>\n",
       "      <td>0</td>\n",
       "      <td>1</td>\n",
       "      <td>0</td>\n",
       "      <td>0</td>\n",
       "      <td>0</td>\n",
       "      <td>1</td>\n",
       "      <td>0</td>\n",
       "      <td>1</td>\n",
       "      <td>1</td>\n",
       "      <td>0</td>\n",
       "    </tr>\n",
       "    <tr>\n",
       "      <th>4</th>\n",
       "      <td>0</td>\n",
       "      <td>5</td>\n",
       "      <td>11</td>\n",
       "      <td>4</td>\n",
       "      <td>70</td>\n",
       "      <td>2</td>\n",
       "      <td>3</td>\n",
       "      <td>3</td>\n",
       "      <td>1</td>\n",
       "      <td>5</td>\n",
       "      <td>...</td>\n",
       "      <td>0</td>\n",
       "      <td>1</td>\n",
       "      <td>0</td>\n",
       "      <td>0</td>\n",
       "      <td>0</td>\n",
       "      <td>1</td>\n",
       "      <td>0</td>\n",
       "      <td>1</td>\n",
       "      <td>1</td>\n",
       "      <td>0</td>\n",
       "    </tr>\n",
       "  </tbody>\n",
       "</table>\n",
       "<p>5 rows × 326 columns</p>\n",
       "</div>"
      ],
      "text/plain": [
       "   FAM1  FAM2  INC  Q2  Q4B  Q5A1  Q5A2  Q5A3  Q5A4  Q6A1  ...  DE7_4  DE7_5  \\\n",
       "0     0     2    5   3   50     3     4     3     3     5  ...      0      1   \n",
       "1     0     2    5   3   70     2     3     3     3     4  ...      0      1   \n",
       "2     0     5   11   3   60     1     1     1     1     4  ...      0      1   \n",
       "3     0     5   11   4   50     1     1     1     1     5  ...      0      1   \n",
       "4     0     5   11   4   70     2     3     3     1     5  ...      0      1   \n",
       "\n",
       "   DE9_1  DE9_2  DE9_3  DE9_4  Q21A_0  Q21A_1  Q26_0  Q26_1  \n",
       "0      0      0      1      0       1       0      1      0  \n",
       "1      0      0      0      1       1       0      1      0  \n",
       "2      0      1      0      0       0       1      1      0  \n",
       "3      0      0      0      1       0       1      1      0  \n",
       "4      0      0      0      1       0       1      1      0  \n",
       "\n",
       "[5 rows x 326 columns]"
      ]
     },
     "execution_count": 72,
     "metadata": {},
     "output_type": "execute_result"
    }
   ],
   "source": [
    "# data type: nominal로 변환 -> dummies\n",
    "nominal_list=['HTYP','HLIV','REL','RLI','Q1','Q2B','Q3A1','Q14A1', 'Q14A2','Q17A1','Q17A2','Q18','Q19A1','Q19A2','Q21A','Q21B1','Q21B2','Q24','Q25A1','Q25A2','Q26','Q31A1','Q31A2','Q38','Q39','Q42','Q44','Q47C','DE1','DE2','DE3','DE5','DE6','DE7','DE9']\n",
    "happy[nominal_list]=happy[nominal_list].astype('category')\n",
    "happy_dummies = pd.get_dummies(happy)\n",
    "happy_dummies.head()"
   ]
  },
  {
   "cell_type": "code",
   "execution_count": 73,
   "metadata": {},
   "outputs": [],
   "source": [
    "#data type: ordinal로 변환\n",
    "ordinal_dtype=pd.api.types.CategoricalDtype(ordered=True)\n",
    "ordinal_dtype\n",
    "ordinal_list=['INC','Q2','Q5A1','Q5A2','Q5A3','Q5A4','Q6A1','Q6A2','Q6A3','Q6A4','Q6A5','Q6A6','Q6A7','Q6A8','Q6A9','Q6A10','Q6A11','Q6A12','Q6A13','Q7','Q8','Q9','Q10','Q11','Q13','Q13A','Q15','Q20','Q22','Q27','Q28','Q29A1','Q29A2','Q29A3','Q29A4','Q30A1','Q30A2','Q30Mean34','Q30A5','Q32Mean12','Q32A3','Q32A4','Q32A5','Q32Mean67','Q33Mean12','Q33A3','Q33Mean45','Q33A6','Q33A7','Q33A8','Q33A9','Q35','Q36','Q36AMean','Q37','Q40','Q41','Q43Mean','Q45A2','Q45A3','Q46A1','Q46Mean2345','Q48','Q49']\n",
    "happy[ordinal_list]=happy[ordinal_list].astype(ordinal_dtype)"
   ]
  },
  {
   "cell_type": "code",
   "execution_count": 74,
   "metadata": {},
   "outputs": [
    {
     "data": {
      "text/plain": [
       "(31848, 126)"
      ]
     },
     "execution_count": 74,
     "metadata": {},
     "output_type": "execute_result"
    }
   ],
   "source": [
    "happy.shape"
   ]
  },
  {
   "cell_type": "code",
   "execution_count": 75,
   "metadata": {},
   "outputs": [],
   "source": [
    "happy.to_csv(\"Seoul_Happiness_2014_train_new.csv\")"
   ]
  },
  {
   "cell_type": "code",
   "execution_count": 76,
   "metadata": {},
   "outputs": [],
   "source": [
    "happy_dummies.to_csv(\"Seoul_Happiness_2014_train_dummies.csv\")"
   ]
  },
  {
   "cell_type": "markdown",
   "metadata": {},
   "source": [
    "# Model Building"
   ]
  },
  {
   "cell_type": "code",
   "execution_count": 77,
   "metadata": {},
   "outputs": [],
   "source": [
    "from scipy.stats import norm\n",
    "import math\n",
    "import sklearn.linear_model as lm\n",
    "from sklearn.preprocessing import PolynomialFeatures"
   ]
  },
  {
   "cell_type": "markdown",
   "metadata": {},
   "source": [
    "## LASSO"
   ]
  },
  {
   "cell_type": "code",
   "execution_count": 78,
   "metadata": {},
   "outputs": [],
   "source": [
    "from sklearn.pipeline import Pipeline\n",
    "from sklearn.linear_model import Ridge\n",
    "from sklearn.linear_model import Lasso\n",
    "from sklearn.model_selection import cross_val_score"
   ]
  },
  {
   "cell_type": "markdown",
   "metadata": {},
   "source": [
    "## Principal Component Regression"
   ]
  },
  {
   "cell_type": "markdown",
   "metadata": {},
   "source": [
    "## Partial Least Square Regression"
   ]
  },
  {
   "cell_type": "markdown",
   "metadata": {},
   "source": [
    "## FA -> Some Regression"
   ]
  },
  {
   "cell_type": "markdown",
   "metadata": {},
   "source": [
    "## Support Vector Machine Regression"
   ]
  },
  {
   "cell_type": "code",
   "execution_count": null,
   "metadata": {},
   "outputs": [],
   "source": []
  },
  {
   "cell_type": "code",
   "execution_count": null,
   "metadata": {},
   "outputs": [],
   "source": []
  },
  {
   "cell_type": "code",
   "execution_count": null,
   "metadata": {},
   "outputs": [],
   "source": []
  },
  {
   "cell_type": "code",
   "execution_count": 79,
   "metadata": {},
   "outputs": [
    {
     "ename": "ModuleNotFoundError",
     "evalue": "No module named 'geopandas'",
     "output_type": "error",
     "traceback": [
      "\u001b[1;31m---------------------------------------------------------------------------\u001b[0m",
      "\u001b[1;31mModuleNotFoundError\u001b[0m                       Traceback (most recent call last)",
      "\u001b[1;32m<ipython-input-79-af06abb545e9>\u001b[0m in \u001b[0;36m<module>\u001b[1;34m\u001b[0m\n\u001b[1;32m----> 1\u001b[1;33m \u001b[1;32mimport\u001b[0m \u001b[0mgeopandas\u001b[0m \u001b[1;32mas\u001b[0m \u001b[0mgpd\u001b[0m\u001b[1;33m\u001b[0m\u001b[1;33m\u001b[0m\u001b[0m\n\u001b[0m\u001b[0;32m      2\u001b[0m \u001b[1;32mimport\u001b[0m \u001b[0mpickle\u001b[0m\u001b[1;33m\u001b[0m\u001b[1;33m\u001b[0m\u001b[0m\n",
      "\u001b[1;31mModuleNotFoundError\u001b[0m: No module named 'geopandas'"
     ]
    }
   ],
   "source": [
    "import geopandas as gpd\n",
    "import pickle"
   ]
  }
 ],
 "metadata": {
  "kernelspec": {
   "display_name": "Python 3",
   "language": "python",
   "name": "python3"
  },
  "language_info": {
   "codemirror_mode": {
    "name": "ipython",
    "version": 3
   },
   "file_extension": ".py",
   "mimetype": "text/x-python",
   "name": "python",
   "nbconvert_exporter": "python",
   "pygments_lexer": "ipython3",
   "version": "3.6.10"
  }
 },
 "nbformat": 4,
 "nbformat_minor": 2
}
