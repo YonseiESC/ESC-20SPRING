{
  "nbformat": 4,
  "nbformat_minor": 0,
  "metadata": {
    "colab": {
      "name": "EDA_정재은_FA.ipynb",
      "provenance": [],
      "collapsed_sections": []
    },
    "kernelspec": {
      "name": "python3",
      "display_name": "Python 3"
    }
  },
  "cells": [
    {
      "cell_type": "code",
      "metadata": {
        "id": "m9mHHnTpx8Ft",
        "colab_type": "code",
        "outputId": "973e8f3d-7b6f-4fd9-9851-a35f2b3a5a44",
        "colab": {
          "base_uri": "https://localhost:8080/",
          "height": 168
        }
      },
      "source": [
        "!pip install factor_analyzer"
      ],
      "execution_count": 104,
      "outputs": [
        {
          "output_type": "stream",
          "text": [
            "Requirement already satisfied: factor_analyzer in /usr/local/lib/python3.6/dist-packages (0.3.2)\n",
            "Requirement already satisfied: scikit-learn in /usr/local/lib/python3.6/dist-packages (from factor_analyzer) (0.22.2.post1)\n",
            "Requirement already satisfied: pandas in /usr/local/lib/python3.6/dist-packages (from factor_analyzer) (1.0.3)\n",
            "Requirement already satisfied: numpy in /usr/local/lib/python3.6/dist-packages (from factor_analyzer) (1.18.4)\n",
            "Requirement already satisfied: scipy in /usr/local/lib/python3.6/dist-packages (from factor_analyzer) (1.4.1)\n",
            "Requirement already satisfied: joblib>=0.11 in /usr/local/lib/python3.6/dist-packages (from scikit-learn->factor_analyzer) (0.15.1)\n",
            "Requirement already satisfied: pytz>=2017.2 in /usr/local/lib/python3.6/dist-packages (from pandas->factor_analyzer) (2018.9)\n",
            "Requirement already satisfied: python-dateutil>=2.6.1 in /usr/local/lib/python3.6/dist-packages (from pandas->factor_analyzer) (2.8.1)\n",
            "Requirement already satisfied: six>=1.5 in /usr/local/lib/python3.6/dist-packages (from python-dateutil>=2.6.1->pandas->factor_analyzer) (1.12.0)\n"
          ],
          "name": "stdout"
        }
      ]
    },
    {
      "cell_type": "code",
      "metadata": {
        "id": "ok4E9CtsyR7G",
        "colab_type": "code",
        "outputId": "8eff2a07-f713-40f1-dd5d-657bccb19664",
        "colab": {
          "base_uri": "https://localhost:8080/",
          "height": 34
        }
      },
      "source": [
        "from google.colab import drive\n",
        "\n",
        "drive.mount('/content/gdrive')"
      ],
      "execution_count": 105,
      "outputs": [
        {
          "output_type": "stream",
          "text": [
            "Drive already mounted at /content/gdrive; to attempt to forcibly remount, call drive.mount(\"/content/gdrive\", force_remount=True).\n"
          ],
          "name": "stdout"
        }
      ]
    },
    {
      "cell_type": "code",
      "metadata": {
        "id": "CUA1BbjFyYtC",
        "colab_type": "code",
        "outputId": "5f87b4f2-ac07-4573-a99b-d5f4f9df254c",
        "colab": {
          "base_uri": "https://localhost:8080/",
          "height": 34
        }
      },
      "source": [
        "%cd /content/gdrive/My Drive/Colab Notebooks/Classification_Bankruptcy/5조 "
      ],
      "execution_count": 106,
      "outputs": [
        {
          "output_type": "stream",
          "text": [
            "/content/gdrive/My Drive/Colab Notebooks/Classification_Bankruptcy/5조\n"
          ],
          "name": "stdout"
        }
      ]
    },
    {
      "cell_type": "code",
      "metadata": {
        "id": "9SCu3nCOyJDH",
        "colab_type": "code",
        "colab": {}
      },
      "source": [
        "import numpy as np\n",
        "import pandas as pd\n",
        "import matplotlib.pyplot as plt\n",
        "import seaborn as sns\n",
        "from factor_analyzer import FactorAnalyzer\n",
        "%matplotlib inline"
      ],
      "execution_count": 0,
      "outputs": []
    },
    {
      "cell_type": "code",
      "metadata": {
        "id": "DJ-GnmrMyJGC",
        "colab_type": "code",
        "outputId": "adf6c3a9-4c55-48e2-c4fc-02a01f4d7454",
        "colab": {
          "base_uri": "https://localhost:8080/",
          "height": 34
        }
      },
      "source": [
        "df = pd.read_csv('imputed_final.csv')\n",
        "print(df.shape)"
      ],
      "execution_count": 108,
      "outputs": [
        {
          "output_type": "stream",
          "text": [
            "(6836, 50)\n"
          ],
          "name": "stdout"
        }
      ]
    },
    {
      "cell_type": "code",
      "metadata": {
        "id": "8bcFZ0uGyt95",
        "colab_type": "code",
        "outputId": "fb546fb2-61c2-4527-8f93-14c6c3d7569f",
        "colab": {
          "base_uri": "https://localhost:8080/",
          "height": 34
        }
      },
      "source": [
        "X, y = df.iloc[:, :-1], df.iloc[:, -1]\n",
        "print(X.shape, y.shape)"
      ],
      "execution_count": 109,
      "outputs": [
        {
          "output_type": "stream",
          "text": [
            "(6836, 49) (6836,)\n"
          ],
          "name": "stdout"
        }
      ]
    },
    {
      "cell_type": "markdown",
      "metadata": {
        "id": "B9nkW9h0yy2A",
        "colab_type": "text"
      },
      "source": [
        "# 1. Scailing for Factor Analysis"
      ]
    },
    {
      "cell_type": "code",
      "metadata": {
        "id": "9twWeDTPyJJT",
        "colab_type": "code",
        "colab": {}
      },
      "source": [
        "from sklearn.preprocessing import StandardScaler\n",
        "\n",
        "scaler = StandardScaler()\n",
        "X_scaled = scaler.fit_transform(X)"
      ],
      "execution_count": 0,
      "outputs": []
    },
    {
      "cell_type": "markdown",
      "metadata": {
        "id": "8sybB1zmyJSq",
        "colab_type": "text"
      },
      "source": [
        "# 2. Draw Scree Plot using PCA"
      ]
    },
    {
      "cell_type": "code",
      "metadata": {
        "id": "mAIE8eh3yJXC",
        "colab_type": "code",
        "outputId": "12da8968-766e-4348-9994-510f5b656412",
        "colab": {
          "base_uri": "https://localhost:8080/",
          "height": 376
        }
      },
      "source": [
        "from sklearn.decomposition import PCA\n",
        "\n",
        "pca = PCA()\n",
        "pca.fit(X_scaled)\n",
        "plt.style.use('seaborn')\n",
        "lambdas = pca.explained_variance_ratio_\n",
        "sns.lineplot(x = range(1, X_scaled.shape[1]+1),y  = lambdas, marker = 'o')\n",
        "plt.xlabel('Principal Component')\n",
        "plt.ylabel('Explained Variance')\n",
        "plt.title('Explained Variance of PCs')\n",
        "plt.grid(True)\n",
        "plt.show()"
      ],
      "execution_count": 111,
      "outputs": [
        {
          "output_type": "display_data",
          "data": {
            "image/png": "[encoded data removed]",
            "text/plain": [
              "<Figure size 576x396 with 1 Axes>"
            ]
          },
          "metadata": {
            "tags": []
          }
        }
      ]
    },
    {
      "cell_type": "code",
      "metadata": {
        "id": "3xdMZX06yJZq",
        "colab_type": "code",
        "colab": {}
      },
      "source": [
        "lambdas_cumsum = np.cumsum(lambdas) "
      ],
      "execution_count": 0,
      "outputs": []
    },
    {
      "cell_type": "code",
      "metadata": {
        "id": "fXRg2yonyJeT",
        "colab_type": "code",
        "outputId": "5c023961-ac1c-40c8-bba9-b92ac62e0267",
        "colab": {
          "base_uri": "https://localhost:8080/",
          "height": 376
        }
      },
      "source": [
        "sns.lineplot(x = range(11, X_scaled.shape[1]+1),y  = lambdas_cumsum[10:], marker = 'o')\n",
        "plt.xlabel('Principal Component')\n",
        "plt.ylabel('Explained Variance')\n",
        "plt.title('Cumulative Sum of Explained Variance of PCs')\n",
        "plt.grid(True)\n",
        "plt.show()"
      ],
      "execution_count": 113,
      "outputs": [
        {
          "output_type": "display_data",
          "data": {
            "image/png": "[encoded data removed]",
            "text/plain": [
              "<Figure size 576x396 with 1 Axes>"
            ]
          },
          "metadata": {
            "tags": []
          }
        }
      ]
    },
    {
      "cell_type": "markdown",
      "metadata": {
        "id": "3MNufzrU0EVC",
        "colab_type": "text"
      },
      "source": [
        "30개 정도의 PC만 사용해도 충분하다!"
      ]
    },
    {
      "cell_type": "markdown",
      "metadata": {
        "id": "vx7-dVFF1OB5",
        "colab_type": "text"
      },
      "source": [
        "# 3. Draw Scree Plot using FA"
      ]
    },
    {
      "cell_type": "code",
      "metadata": {
        "id": "By5gOsCH1OE4",
        "colab_type": "code",
        "outputId": "a9261632-1a70-48a8-9c5a-a2e44c8e1e24",
        "colab": {
          "base_uri": "https://localhost:8080/",
          "height": 376
        }
      },
      "source": [
        "fa = FactorAnalyzer(n_factors = 30, rotation = 'varimax', bounds = (0, 1), method = 'principal')\n",
        "fa.fit(X_scaled)\n",
        "ev, v = fa.get_eigenvalues()\n",
        "plt.plot(range(1,X.shape[1]+1),v, 'o-') # factor eigen values\n",
        "plt.title('Scree Plot')\n",
        "plt.xlabel('Factors')\n",
        "plt.ylabel('Eigenvalue')\n",
        "plt.grid(True)\n",
        "plt.style.use('seaborn')"
      ],
      "execution_count": 114,
      "outputs": [
        {
          "output_type": "display_data",
          "data": {
            "image/png": "[encoded data removed]",
            "text/plain": [
              "<Figure size 576x396 with 1 Axes>"
            ]
          },
          "metadata": {
            "tags": []
          }
        }
      ]
    },
    {
      "cell_type": "markdown",
      "metadata": {
        "id": "1DXPbKkY1OR7",
        "colab_type": "text"
      },
      "source": [
        "10개 정도의 factor로 데이터를 설명할 수 있을 것 같다"
      ]
    },
    {
      "cell_type": "markdown",
      "metadata": {
        "id": "xIUR_IyCARaC",
        "colab_type": "text"
      },
      "source": [
        "# 4. Factor Analysis"
      ]
    },
    {
      "cell_type": "code",
      "metadata": {
        "id": "YImwyHV42qCU",
        "colab_type": "code",
        "colab": {}
      },
      "source": [
        "fa_df = pd.DataFrame(np.round(fa.loadings_.T, 3), columns = X.columns)\n",
        "index = ['Loading'+str(i) for i in range(1, fa_df.shape[0]+1)]\n",
        "fa_df.index = index"
      ],
      "execution_count": 0,
      "outputs": []
    },
    {
      "cell_type": "code",
      "metadata": {
        "id": "LtsKn9Gk0EYB",
        "colab_type": "code",
        "outputId": "adb6da7c-4048-47ad-ba19-f8eee2e5595a",
        "colab": {
          "base_uri": "https://localhost:8080/",
          "height": 363
        }
      },
      "source": [
        "fa_df.head(10)"
      ],
      "execution_count": 116,
      "outputs": [
        {
          "output_type": "execute_result",
          "data": {
            "text/html": [
              "<div>\n",
              "<style scoped>\n",
              "    .dataframe tbody tr th:only-of-type {\n",
              "        vertical-align: middle;\n",
              "    }\n",
              "\n",
              "    .dataframe tbody tr th {\n",
              "        vertical-align: top;\n",
              "    }\n",
              "\n",
              "    .dataframe thead th {\n",
              "        text-align: right;\n",
              "    }\n",
              "</style>\n",
              "<table border=\"1\" class=\"dataframe\">\n",
              "  <thead>\n",
              "    <tr style=\"text-align: right;\">\n",
              "      <th></th>\n",
              "      <th>Attr1</th>\n",
              "      <th>Attr2</th>\n",
              "      <th>Attr3</th>\n",
              "      <th>Attr4</th>\n",
              "      <th>Attr5</th>\n",
              "      <th>Attr6</th>\n",
              "      <th>Attr7</th>\n",
              "      <th>Attr8</th>\n",
              "      <th>Attr9</th>\n",
              "      <th>Attr10</th>\n",
              "      <th>Attr11</th>\n",
              "      <th>Attr12</th>\n",
              "      <th>Attr13</th>\n",
              "      <th>Attr14</th>\n",
              "      <th>Attr16</th>\n",
              "      <th>Attr18</th>\n",
              "      <th>Attr21</th>\n",
              "      <th>Attr22</th>\n",
              "      <th>Attr23</th>\n",
              "      <th>Attr24</th>\n",
              "      <th>Attr25</th>\n",
              "      <th>Attr26</th>\n",
              "      <th>Attr27</th>\n",
              "      <th>Attr29</th>\n",
              "      <th>Attr30</th>\n",
              "      <th>Attr32</th>\n",
              "      <th>Attr33</th>\n",
              "      <th>Attr35</th>\n",
              "      <th>Attr36</th>\n",
              "      <th>Attr38</th>\n",
              "      <th>Attr39</th>\n",
              "      <th>Attr40</th>\n",
              "      <th>Attr43</th>\n",
              "      <th>Attr45</th>\n",
              "      <th>Attr47</th>\n",
              "      <th>Attr48</th>\n",
              "      <th>Attr49</th>\n",
              "      <th>Attr50</th>\n",
              "      <th>Attr51</th>\n",
              "      <th>Attr52</th>\n",
              "      <th>Attr53</th>\n",
              "      <th>Attr54</th>\n",
              "      <th>Attr56</th>\n",
              "      <th>Attr58</th>\n",
              "      <th>Attr59</th>\n",
              "      <th>Attr60</th>\n",
              "      <th>Attr61</th>\n",
              "      <th>Attr63</th>\n",
              "      <th>Attr64</th>\n",
              "    </tr>\n",
              "  </thead>\n",
              "  <tbody>\n",
              "    <tr>\n",
              "      <th>Loading1</th>\n",
              "      <td>0.982</td>\n",
              "      <td>-0.143</td>\n",
              "      <td>0.179</td>\n",
              "      <td>0.002</td>\n",
              "      <td>0.002</td>\n",
              "      <td>0.010</td>\n",
              "      <td>0.988</td>\n",
              "      <td>-0.001</td>\n",
              "      <td>0.019</td>\n",
              "      <td>0.135</td>\n",
              "      <td>0.981</td>\n",
              "      <td>-0.006</td>\n",
              "      <td>-0.058</td>\n",
              "      <td>0.988</td>\n",
              "      <td>0.024</td>\n",
              "      <td>0.335</td>\n",
              "      <td>0.003</td>\n",
              "      <td>0.768</td>\n",
              "      <td>0.001</td>\n",
              "      <td>0.044</td>\n",
              "      <td>0.123</td>\n",
              "      <td>0.027</td>\n",
              "      <td>0.037</td>\n",
              "      <td>0.048</td>\n",
              "      <td>-0.003</td>\n",
              "      <td>-0.008</td>\n",
              "      <td>0.023</td>\n",
              "      <td>0.583</td>\n",
              "      <td>0.080</td>\n",
              "      <td>0.092</td>\n",
              "      <td>0.001</td>\n",
              "      <td>-0.001</td>\n",
              "      <td>-0.003</td>\n",
              "      <td>0.023</td>\n",
              "      <td>0.004</td>\n",
              "      <td>0.572</td>\n",
              "      <td>0.002</td>\n",
              "      <td>0.017</td>\n",
              "      <td>-0.181</td>\n",
              "      <td>-0.007</td>\n",
              "      <td>0.026</td>\n",
              "      <td>0.013</td>\n",
              "      <td>0.040</td>\n",
              "      <td>-0.026</td>\n",
              "      <td>-0.003</td>\n",
              "      <td>-0.001</td>\n",
              "      <td>-0.001</td>\n",
              "      <td>-0.013</td>\n",
              "      <td>0.021</td>\n",
              "    </tr>\n",
              "    <tr>\n",
              "      <th>Loading2</th>\n",
              "      <td>0.120</td>\n",
              "      <td>-0.964</td>\n",
              "      <td>0.492</td>\n",
              "      <td>0.044</td>\n",
              "      <td>0.012</td>\n",
              "      <td>0.181</td>\n",
              "      <td>0.119</td>\n",
              "      <td>0.020</td>\n",
              "      <td>-0.042</td>\n",
              "      <td>0.972</td>\n",
              "      <td>0.100</td>\n",
              "      <td>0.001</td>\n",
              "      <td>0.043</td>\n",
              "      <td>0.119</td>\n",
              "      <td>0.001</td>\n",
              "      <td>0.036</td>\n",
              "      <td>0.002</td>\n",
              "      <td>0.105</td>\n",
              "      <td>0.002</td>\n",
              "      <td>-0.126</td>\n",
              "      <td>0.926</td>\n",
              "      <td>0.001</td>\n",
              "      <td>0.006</td>\n",
              "      <td>0.139</td>\n",
              "      <td>-0.165</td>\n",
              "      <td>-0.030</td>\n",
              "      <td>0.013</td>\n",
              "      <td>0.137</td>\n",
              "      <td>-0.046</td>\n",
              "      <td>0.902</td>\n",
              "      <td>0.002</td>\n",
              "      <td>0.040</td>\n",
              "      <td>-0.099</td>\n",
              "      <td>-0.013</td>\n",
              "      <td>0.004</td>\n",
              "      <td>0.086</td>\n",
              "      <td>0.002</td>\n",
              "      <td>0.038</td>\n",
              "      <td>-0.554</td>\n",
              "      <td>-0.026</td>\n",
              "      <td>0.028</td>\n",
              "      <td>0.009</td>\n",
              "      <td>0.010</td>\n",
              "      <td>-0.048</td>\n",
              "      <td>0.001</td>\n",
              "      <td>0.004</td>\n",
              "      <td>0.003</td>\n",
              "      <td>0.002</td>\n",
              "      <td>-0.014</td>\n",
              "    </tr>\n",
              "    <tr>\n",
              "      <th>Loading3</th>\n",
              "      <td>-0.001</td>\n",
              "      <td>-0.011</td>\n",
              "      <td>0.011</td>\n",
              "      <td>0.089</td>\n",
              "      <td>0.001</td>\n",
              "      <td>-0.000</td>\n",
              "      <td>0.001</td>\n",
              "      <td>0.938</td>\n",
              "      <td>-0.002</td>\n",
              "      <td>0.010</td>\n",
              "      <td>0.051</td>\n",
              "      <td>-0.000</td>\n",
              "      <td>0.001</td>\n",
              "      <td>0.001</td>\n",
              "      <td>0.985</td>\n",
              "      <td>-0.000</td>\n",
              "      <td>-0.002</td>\n",
              "      <td>0.045</td>\n",
              "      <td>0.000</td>\n",
              "      <td>-0.000</td>\n",
              "      <td>0.003</td>\n",
              "      <td>0.984</td>\n",
              "      <td>0.001</td>\n",
              "      <td>-0.032</td>\n",
              "      <td>-0.001</td>\n",
              "      <td>-0.002</td>\n",
              "      <td>0.890</td>\n",
              "      <td>-0.006</td>\n",
              "      <td>0.003</td>\n",
              "      <td>0.016</td>\n",
              "      <td>0.000</td>\n",
              "      <td>0.371</td>\n",
              "      <td>0.006</td>\n",
              "      <td>0.002</td>\n",
              "      <td>-0.001</td>\n",
              "      <td>0.030</td>\n",
              "      <td>0.001</td>\n",
              "      <td>0.564</td>\n",
              "      <td>-0.024</td>\n",
              "      <td>-0.003</td>\n",
              "      <td>0.001</td>\n",
              "      <td>0.000</td>\n",
              "      <td>-0.001</td>\n",
              "      <td>-0.002</td>\n",
              "      <td>0.000</td>\n",
              "      <td>0.001</td>\n",
              "      <td>0.002</td>\n",
              "      <td>-0.000</td>\n",
              "      <td>-0.000</td>\n",
              "    </tr>\n",
              "    <tr>\n",
              "      <th>Loading4</th>\n",
              "      <td>0.009</td>\n",
              "      <td>-0.010</td>\n",
              "      <td>0.037</td>\n",
              "      <td>-0.002</td>\n",
              "      <td>0.000</td>\n",
              "      <td>-0.001</td>\n",
              "      <td>0.014</td>\n",
              "      <td>-0.002</td>\n",
              "      <td>0.006</td>\n",
              "      <td>0.009</td>\n",
              "      <td>0.016</td>\n",
              "      <td>-0.001</td>\n",
              "      <td>0.012</td>\n",
              "      <td>0.014</td>\n",
              "      <td>-0.001</td>\n",
              "      <td>0.020</td>\n",
              "      <td>-0.001</td>\n",
              "      <td>0.006</td>\n",
              "      <td>-0.001</td>\n",
              "      <td>0.000</td>\n",
              "      <td>0.002</td>\n",
              "      <td>-0.001</td>\n",
              "      <td>0.011</td>\n",
              "      <td>-0.037</td>\n",
              "      <td>0.004</td>\n",
              "      <td>-0.001</td>\n",
              "      <td>0.004</td>\n",
              "      <td>0.009</td>\n",
              "      <td>0.010</td>\n",
              "      <td>0.007</td>\n",
              "      <td>0.000</td>\n",
              "      <td>0.000</td>\n",
              "      <td>-0.001</td>\n",
              "      <td>-0.000</td>\n",
              "      <td>-0.001</td>\n",
              "      <td>0.006</td>\n",
              "      <td>-0.002</td>\n",
              "      <td>0.005</td>\n",
              "      <td>-0.012</td>\n",
              "      <td>-0.001</td>\n",
              "      <td>0.946</td>\n",
              "      <td>0.955</td>\n",
              "      <td>0.001</td>\n",
              "      <td>0.002</td>\n",
              "      <td>0.000</td>\n",
              "      <td>0.001</td>\n",
              "      <td>-0.001</td>\n",
              "      <td>-0.000</td>\n",
              "      <td>0.804</td>\n",
              "    </tr>\n",
              "    <tr>\n",
              "      <th>Loading5</th>\n",
              "      <td>0.004</td>\n",
              "      <td>0.009</td>\n",
              "      <td>-0.028</td>\n",
              "      <td>-0.003</td>\n",
              "      <td>-0.017</td>\n",
              "      <td>-0.003</td>\n",
              "      <td>-0.002</td>\n",
              "      <td>0.005</td>\n",
              "      <td>-0.006</td>\n",
              "      <td>-0.006</td>\n",
              "      <td>-0.000</td>\n",
              "      <td>-0.001</td>\n",
              "      <td>0.004</td>\n",
              "      <td>-0.002</td>\n",
              "      <td>0.001</td>\n",
              "      <td>-0.012</td>\n",
              "      <td>-0.001</td>\n",
              "      <td>-0.003</td>\n",
              "      <td>0.000</td>\n",
              "      <td>-0.002</td>\n",
              "      <td>-0.030</td>\n",
              "      <td>0.001</td>\n",
              "      <td>-0.002</td>\n",
              "      <td>0.015</td>\n",
              "      <td>-0.050</td>\n",
              "      <td>0.974</td>\n",
              "      <td>-0.013</td>\n",
              "      <td>-0.015</td>\n",
              "      <td>-0.016</td>\n",
              "      <td>-0.008</td>\n",
              "      <td>0.001</td>\n",
              "      <td>-0.002</td>\n",
              "      <td>0.196</td>\n",
              "      <td>0.307</td>\n",
              "      <td>0.592</td>\n",
              "      <td>-0.040</td>\n",
              "      <td>0.001</td>\n",
              "      <td>-0.002</td>\n",
              "      <td>0.034</td>\n",
              "      <td>0.974</td>\n",
              "      <td>-0.003</td>\n",
              "      <td>0.002</td>\n",
              "      <td>-0.004</td>\n",
              "      <td>0.022</td>\n",
              "      <td>-0.000</td>\n",
              "      <td>-0.023</td>\n",
              "      <td>-0.001</td>\n",
              "      <td>-0.001</td>\n",
              "      <td>-0.001</td>\n",
              "    </tr>\n",
              "    <tr>\n",
              "      <th>Loading6</th>\n",
              "      <td>0.013</td>\n",
              "      <td>-0.012</td>\n",
              "      <td>0.028</td>\n",
              "      <td>-0.002</td>\n",
              "      <td>0.001</td>\n",
              "      <td>0.962</td>\n",
              "      <td>0.016</td>\n",
              "      <td>0.000</td>\n",
              "      <td>0.001</td>\n",
              "      <td>0.010</td>\n",
              "      <td>0.014</td>\n",
              "      <td>-0.000</td>\n",
              "      <td>0.001</td>\n",
              "      <td>0.016</td>\n",
              "      <td>0.001</td>\n",
              "      <td>0.005</td>\n",
              "      <td>-0.002</td>\n",
              "      <td>0.006</td>\n",
              "      <td>0.000</td>\n",
              "      <td>0.968</td>\n",
              "      <td>0.035</td>\n",
              "      <td>0.001</td>\n",
              "      <td>0.000</td>\n",
              "      <td>-0.013</td>\n",
              "      <td>-0.006</td>\n",
              "      <td>-0.003</td>\n",
              "      <td>-0.003</td>\n",
              "      <td>0.012</td>\n",
              "      <td>0.002</td>\n",
              "      <td>-0.012</td>\n",
              "      <td>0.000</td>\n",
              "      <td>-0.001</td>\n",
              "      <td>-0.006</td>\n",
              "      <td>-0.001</td>\n",
              "      <td>-0.001</td>\n",
              "      <td>0.003</td>\n",
              "      <td>0.000</td>\n",
              "      <td>-0.001</td>\n",
              "      <td>-0.038</td>\n",
              "      <td>-0.002</td>\n",
              "      <td>-0.000</td>\n",
              "      <td>0.000</td>\n",
              "      <td>0.001</td>\n",
              "      <td>-0.003</td>\n",
              "      <td>-0.000</td>\n",
              "      <td>-0.000</td>\n",
              "      <td>-0.000</td>\n",
              "      <td>-0.000</td>\n",
              "      <td>-0.001</td>\n",
              "    </tr>\n",
              "    <tr>\n",
              "      <th>Loading7</th>\n",
              "      <td>0.050</td>\n",
              "      <td>-0.023</td>\n",
              "      <td>0.024</td>\n",
              "      <td>-0.002</td>\n",
              "      <td>0.001</td>\n",
              "      <td>0.002</td>\n",
              "      <td>0.050</td>\n",
              "      <td>0.001</td>\n",
              "      <td>0.001</td>\n",
              "      <td>0.020</td>\n",
              "      <td>0.046</td>\n",
              "      <td>-0.001</td>\n",
              "      <td>0.963</td>\n",
              "      <td>0.056</td>\n",
              "      <td>0.002</td>\n",
              "      <td>0.925</td>\n",
              "      <td>-0.000</td>\n",
              "      <td>0.027</td>\n",
              "      <td>0.000</td>\n",
              "      <td>0.003</td>\n",
              "      <td>0.017</td>\n",
              "      <td>0.002</td>\n",
              "      <td>0.002</td>\n",
              "      <td>-0.030</td>\n",
              "      <td>-0.040</td>\n",
              "      <td>-0.004</td>\n",
              "      <td>-0.004</td>\n",
              "      <td>0.033</td>\n",
              "      <td>-0.007</td>\n",
              "      <td>0.013</td>\n",
              "      <td>0.000</td>\n",
              "      <td>-0.001</td>\n",
              "      <td>-0.040</td>\n",
              "      <td>-0.009</td>\n",
              "      <td>-0.000</td>\n",
              "      <td>0.030</td>\n",
              "      <td>0.000</td>\n",
              "      <td>-0.001</td>\n",
              "      <td>-0.043</td>\n",
              "      <td>-0.002</td>\n",
              "      <td>0.049</td>\n",
              "      <td>-0.017</td>\n",
              "      <td>-0.093</td>\n",
              "      <td>-0.015</td>\n",
              "      <td>-0.000</td>\n",
              "      <td>0.000</td>\n",
              "      <td>-0.000</td>\n",
              "      <td>-0.001</td>\n",
              "      <td>-0.011</td>\n",
              "    </tr>\n",
              "    <tr>\n",
              "      <th>Loading8</th>\n",
              "      <td>-0.005</td>\n",
              "      <td>0.066</td>\n",
              "      <td>-0.119</td>\n",
              "      <td>0.028</td>\n",
              "      <td>-0.008</td>\n",
              "      <td>0.000</td>\n",
              "      <td>-0.005</td>\n",
              "      <td>0.015</td>\n",
              "      <td>-0.008</td>\n",
              "      <td>-0.051</td>\n",
              "      <td>-0.009</td>\n",
              "      <td>-0.000</td>\n",
              "      <td>-0.112</td>\n",
              "      <td>-0.005</td>\n",
              "      <td>-0.003</td>\n",
              "      <td>0.048</td>\n",
              "      <td>-0.002</td>\n",
              "      <td>0.010</td>\n",
              "      <td>0.001</td>\n",
              "      <td>-0.010</td>\n",
              "      <td>0.001</td>\n",
              "      <td>-0.003</td>\n",
              "      <td>0.000</td>\n",
              "      <td>-0.005</td>\n",
              "      <td>0.830</td>\n",
              "      <td>0.073</td>\n",
              "      <td>-0.006</td>\n",
              "      <td>0.032</td>\n",
              "      <td>-0.019</td>\n",
              "      <td>-0.072</td>\n",
              "      <td>0.000</td>\n",
              "      <td>0.001</td>\n",
              "      <td>0.916</td>\n",
              "      <td>0.050</td>\n",
              "      <td>-0.041</td>\n",
              "      <td>-0.008</td>\n",
              "      <td>-0.000</td>\n",
              "      <td>0.004</td>\n",
              "      <td>0.183</td>\n",
              "      <td>0.074</td>\n",
              "      <td>0.007</td>\n",
              "      <td>-0.003</td>\n",
              "      <td>-0.138</td>\n",
              "      <td>0.156</td>\n",
              "      <td>-0.000</td>\n",
              "      <td>-0.001</td>\n",
              "      <td>-0.000</td>\n",
              "      <td>0.000</td>\n",
              "      <td>-0.007</td>\n",
              "    </tr>\n",
              "    <tr>\n",
              "      <th>Loading9</th>\n",
              "      <td>-0.000</td>\n",
              "      <td>-0.001</td>\n",
              "      <td>-0.002</td>\n",
              "      <td>0.001</td>\n",
              "      <td>0.000</td>\n",
              "      <td>-0.000</td>\n",
              "      <td>0.000</td>\n",
              "      <td>0.000</td>\n",
              "      <td>0.001</td>\n",
              "      <td>0.001</td>\n",
              "      <td>0.001</td>\n",
              "      <td>0.031</td>\n",
              "      <td>0.000</td>\n",
              "      <td>0.000</td>\n",
              "      <td>-0.000</td>\n",
              "      <td>0.000</td>\n",
              "      <td>0.000</td>\n",
              "      <td>0.003</td>\n",
              "      <td>0.959</td>\n",
              "      <td>0.001</td>\n",
              "      <td>-0.002</td>\n",
              "      <td>-0.000</td>\n",
              "      <td>-0.001</td>\n",
              "      <td>0.001</td>\n",
              "      <td>0.001</td>\n",
              "      <td>0.001</td>\n",
              "      <td>0.001</td>\n",
              "      <td>0.003</td>\n",
              "      <td>-0.002</td>\n",
              "      <td>0.003</td>\n",
              "      <td>0.102</td>\n",
              "      <td>0.000</td>\n",
              "      <td>0.000</td>\n",
              "      <td>0.000</td>\n",
              "      <td>0.000</td>\n",
              "      <td>-0.001</td>\n",
              "      <td>0.827</td>\n",
              "      <td>0.001</td>\n",
              "      <td>-0.006</td>\n",
              "      <td>0.000</td>\n",
              "      <td>-0.001</td>\n",
              "      <td>-0.000</td>\n",
              "      <td>-0.000</td>\n",
              "      <td>0.000</td>\n",
              "      <td>0.000</td>\n",
              "      <td>0.001</td>\n",
              "      <td>0.000</td>\n",
              "      <td>-0.002</td>\n",
              "      <td>-0.001</td>\n",
              "    </tr>\n",
              "    <tr>\n",
              "      <th>Loading10</th>\n",
              "      <td>0.002</td>\n",
              "      <td>-0.011</td>\n",
              "      <td>0.049</td>\n",
              "      <td>0.127</td>\n",
              "      <td>0.009</td>\n",
              "      <td>-0.006</td>\n",
              "      <td>0.002</td>\n",
              "      <td>0.171</td>\n",
              "      <td>-0.006</td>\n",
              "      <td>0.026</td>\n",
              "      <td>0.004</td>\n",
              "      <td>-0.001</td>\n",
              "      <td>-0.002</td>\n",
              "      <td>0.002</td>\n",
              "      <td>0.055</td>\n",
              "      <td>0.001</td>\n",
              "      <td>-0.001</td>\n",
              "      <td>0.002</td>\n",
              "      <td>0.001</td>\n",
              "      <td>0.004</td>\n",
              "      <td>-0.001</td>\n",
              "      <td>0.056</td>\n",
              "      <td>0.001</td>\n",
              "      <td>-0.044</td>\n",
              "      <td>0.009</td>\n",
              "      <td>-0.001</td>\n",
              "      <td>0.180</td>\n",
              "      <td>0.001</td>\n",
              "      <td>-0.005</td>\n",
              "      <td>0.017</td>\n",
              "      <td>0.000</td>\n",
              "      <td>0.872</td>\n",
              "      <td>-0.003</td>\n",
              "      <td>0.004</td>\n",
              "      <td>-0.003</td>\n",
              "      <td>0.009</td>\n",
              "      <td>0.000</td>\n",
              "      <td>0.772</td>\n",
              "      <td>-0.018</td>\n",
              "      <td>-0.001</td>\n",
              "      <td>0.004</td>\n",
              "      <td>0.001</td>\n",
              "      <td>0.001</td>\n",
              "      <td>0.006</td>\n",
              "      <td>0.001</td>\n",
              "      <td>0.001</td>\n",
              "      <td>0.077</td>\n",
              "      <td>-0.001</td>\n",
              "      <td>-0.003</td>\n",
              "    </tr>\n",
              "  </tbody>\n",
              "</table>\n",
              "</div>"
            ],
            "text/plain": [
              "           Attr1  Attr2  Attr3  Attr4  ...  Attr60  Attr61  Attr63  Attr64\n",
              "Loading1   0.982 -0.143  0.179  0.002  ...  -0.001  -0.001  -0.013   0.021\n",
              "Loading2   0.120 -0.964  0.492  0.044  ...   0.004   0.003   0.002  -0.014\n",
              "Loading3  -0.001 -0.011  0.011  0.089  ...   0.001   0.002  -0.000  -0.000\n",
              "Loading4   0.009 -0.010  0.037 -0.002  ...   0.001  -0.001  -0.000   0.804\n",
              "Loading5   0.004  0.009 -0.028 -0.003  ...  -0.023  -0.001  -0.001  -0.001\n",
              "Loading6   0.013 -0.012  0.028 -0.002  ...  -0.000  -0.000  -0.000  -0.001\n",
              "Loading7   0.050 -0.023  0.024 -0.002  ...   0.000  -0.000  -0.001  -0.011\n",
              "Loading8  -0.005  0.066 -0.119  0.028  ...  -0.001  -0.000   0.000  -0.007\n",
              "Loading9  -0.000 -0.001 -0.002  0.001  ...   0.001   0.000  -0.002  -0.001\n",
              "Loading10  0.002 -0.011  0.049  0.127  ...   0.001   0.077  -0.001  -0.003\n",
              "\n",
              "[10 rows x 49 columns]"
            ]
          },
          "metadata": {
            "tags": []
          },
          "execution_count": 116
        }
      ]
    },
    {
      "cell_type": "code",
      "metadata": {
        "id": "RcDsgkzL4Ehm",
        "colab_type": "code",
        "colab": {}
      },
      "source": [
        "columns = ['net profit / total assets',\n",
        "'total liabilities / total assets',\n",
        "'working capital / total assets',\n",
        "'current assets / short-term liabilities',\n",
        "'[(cash + short-term securities + receivables - short-term liabilities) / (operating expenses - depreciation)] * 365',\n",
        "'retained earnings / total assets',\n",
        "'EBIT / total assets',\n",
        "'book value of equity / total liabilities',\n",
        "'sales / total assets',\n",
        "'equity / total assets',\n",
        "'(gross profit + extraordinary items + financial expenses) / total assets',\n",
        "'gross profit / short-term liabilities',\n",
        "'(gross profit + depreciation) / sales',\n",
        "'(gross profit + interest) / total assets',\n",
        "'(total liabilities * 365) / (gross profit + depreciation)',\n",
        "'(gross profit + depreciation) / total liabilities',\n",
        "'total assets / total liabilities',\n",
        "'gross profit / total assets',\n",
        "'gross profit / sales',\n",
        "'(inventory * 365) / sales',\n",
        "'sales (n) / sales (n-1)',\n",
        "'profit on operating activities / total assets',\n",
        "'net profit / sales',\n",
        "'gross profit (in 3 years) / total assets',\n",
        "'(equity - share capital) / total assets',\n",
        "'(net profit + depreciation) / total liabilities',\n",
        "'profit on operating activities / financial expenses',\n",
        "'working capital / fixed assets',\n",
        "'logarithm of total assets',\n",
        "'(total liabilities - cash) / sales',\n",
        "'(gross profit + interest) / sales',\n",
        "'(current liabilities * 365) / cost of products sold',\n",
        "'operating expenses / short-term liabilities',\n",
        "'operating expenses / total liabilities',\n",
        "'profit on sales / total assets',\n",
        "'total sales / total assets',\n",
        "'(current assets - inventories) / long-term liabilities',\n",
        "'constant capital / total assets',\n",
        "'profit on sales / sales',\n",
        "'X40 (current assets - inventory - receivables) / short-term liabilities',\n",
        "'total liabilities / ((profit on operating activities + depreciation) * (12/365))',\n",
        "'profit on operating activities / sales',\n",
        "'rotation receivables + inventory turnover in days',\n",
        "'(receivables * 365) / sales',\n",
        "'net profit / inventory',\n",
        "'(current assets - inventory) / short-term liabilities',\n",
        "'(inventory * 365) / cost of products sold',\n",
        "'EBITDA (profit on operating activities - depreciation) / total assets',\n",
        "'EBITDA (profit on operating activities - depreciation) / sales',\n",
        "'X50 current assets / total liabilities',\n",
        "'short-term liabilities / total assets',\n",
        "'(short-term liabilities * 365) / cost of products sold)',\n",
        "'equity / fixed assets',\n",
        "'constant capital / fixed assets',\n",
        "'working capital',\n",
        "'(sales - cost of products sold) / sales',\n",
        "'(current assets - inventory - short-term liabilities) / (sales - gross profit - depreciation)',\n",
        "'total costs /total sales',\n",
        "'long-term liabilities / equity',\n",
        "'sales / inventory',\n",
        "'sales / receivables',\n",
        "'(short-term liabilities *365) / sales',\n",
        "'sales / short-term liabilities',\n",
        "'sales / fixed assets',\n",
        "'class'    \n",
        "]"
      ],
      "execution_count": 0,
      "outputs": []
    },
    {
      "cell_type": "code",
      "metadata": {
        "id": "xZhxuHlI-kUH",
        "colab_type": "code",
        "colab": {}
      },
      "source": [
        "real_columns = []\n",
        "trash = {15,17,19,20,28,31,34,37,41,42,44,46,55,57,62}\n",
        "\n",
        "for idx, col in enumerate(columns):\n",
        "  if idx+1 in trash:\n",
        "    continue\n",
        "  else:\n",
        "    real_columns.append(col)"
      ],
      "execution_count": 0,
      "outputs": []
    },
    {
      "cell_type": "markdown",
      "metadata": {
        "id": "hVIoR7i77Yly",
        "colab_type": "text"
      },
      "source": [
        "용이한 시각화를 위해 Factor 2개만 봅시다"
      ]
    },
    {
      "cell_type": "code",
      "metadata": {
        "id": "ptBckpbg2ZYt",
        "colab_type": "code",
        "outputId": "6136e70c-cff3-4eed-b3f0-8fac05f71054",
        "colab": {
          "base_uri": "https://localhost:8080/",
          "height": 134
        }
      },
      "source": [
        "for i in range(1, 3):\n",
        "  tmp = fa_df.iloc[i, :]\n",
        "  top3 = list(np.argsort(-tmp.values)[:3].reshape(3,))\n",
        "  bottom3 = list(np.argsort(tmp.values)[:3].reshape(3))\n",
        "  print(\"Factor\"+str(i))\n",
        "  print(f\"Top3 is {real_columns[top3[0]]}, {real_columns[top3[1]]}, {real_columns[top3[2]]}\")\n",
        "  print(f\"Bottom3 is {real_columns[bottom3[0]]}, {real_columns[bottom3[1]]}, {real_columns[bottom3[2]]}\")\n",
        "  if i == 1:\n",
        "    print(\"=\" * 50)"
      ],
      "execution_count": 122,
      "outputs": [
        {
          "output_type": "stream",
          "text": [
            "Factor1\n",
            "Top3 is equity / total assets, (equity - share capital) / total assets, constant capital / total assets\n",
            "Bottom3 is total liabilities / total assets, short-term liabilities / total assets, (total liabilities - cash) / sales\n",
            "==================================================\n",
            "Factor2\n",
            "Top3 is (gross profit + depreciation) / total liabilities, (net profit + depreciation) / total liabilities, book value of equity / total liabilities\n",
            "Bottom3 is logarithm of total assets, short-term liabilities / total assets, total liabilities / total assets\n"
          ],
          "name": "stdout"
        }
      ]
    },
    {
      "cell_type": "markdown",
      "metadata": {
        "id": "0xloH4Q4_V1v",
        "colab_type": "text"
      },
      "source": [
        "Factor1, Factor2 모두 재정 건전성(?)과 관계가 있는 것 같음"
      ]
    },
    {
      "cell_type": "code",
      "metadata": {
        "id": "i6LAugVj3YuU",
        "colab_type": "code",
        "outputId": "d802d326-0da6-4f1c-b045-c6d83070895f",
        "colab": {
          "base_uri": "https://localhost:8080/",
          "height": 195
        }
      },
      "source": [
        "fa_df_top2 = pd.DataFrame(fa.fit_transform(X_scaled)[:, :2], columns=['Factor1', 'Factor2'])\n",
        "fa_df_top2['class'] = y.astype(np.int)\n",
        "fa_df_top2.head()"
      ],
      "execution_count": 123,
      "outputs": [
        {
          "output_type": "execute_result",
          "data": {
            "text/html": [
              "<div>\n",
              "<style scoped>\n",
              "    .dataframe tbody tr th:only-of-type {\n",
              "        vertical-align: middle;\n",
              "    }\n",
              "\n",
              "    .dataframe tbody tr th {\n",
              "        vertical-align: top;\n",
              "    }\n",
              "\n",
              "    .dataframe thead th {\n",
              "        text-align: right;\n",
              "    }\n",
              "</style>\n",
              "<table border=\"1\" class=\"dataframe\">\n",
              "  <thead>\n",
              "    <tr style=\"text-align: right;\">\n",
              "      <th></th>\n",
              "      <th>Factor1</th>\n",
              "      <th>Factor2</th>\n",
              "      <th>class</th>\n",
              "    </tr>\n",
              "  </thead>\n",
              "  <tbody>\n",
              "    <tr>\n",
              "      <th>0</th>\n",
              "      <td>-0.362842</td>\n",
              "      <td>0.356317</td>\n",
              "      <td>0</td>\n",
              "    </tr>\n",
              "    <tr>\n",
              "      <th>1</th>\n",
              "      <td>2.834162</td>\n",
              "      <td>-0.067040</td>\n",
              "      <td>0</td>\n",
              "    </tr>\n",
              "    <tr>\n",
              "      <th>2</th>\n",
              "      <td>-2.039172</td>\n",
              "      <td>0.414194</td>\n",
              "      <td>0</td>\n",
              "    </tr>\n",
              "    <tr>\n",
              "      <th>3</th>\n",
              "      <td>0.253466</td>\n",
              "      <td>0.321257</td>\n",
              "      <td>0</td>\n",
              "    </tr>\n",
              "    <tr>\n",
              "      <th>4</th>\n",
              "      <td>0.788076</td>\n",
              "      <td>0.090220</td>\n",
              "      <td>0</td>\n",
              "    </tr>\n",
              "  </tbody>\n",
              "</table>\n",
              "</div>"
            ],
            "text/plain": [
              "    Factor1   Factor2  class\n",
              "0 -0.362842  0.356317      0\n",
              "1  2.834162 -0.067040      0\n",
              "2 -2.039172  0.414194      0\n",
              "3  0.253466  0.321257      0\n",
              "4  0.788076  0.090220      0"
            ]
          },
          "metadata": {
            "tags": []
          },
          "execution_count": 123
        }
      ]
    },
    {
      "cell_type": "code",
      "metadata": {
        "id": "bOP646nT3Y1E",
        "colab_type": "code",
        "outputId": "c3176a5b-0c19-4856-ed46-0b56bd01ae99",
        "colab": {
          "base_uri": "https://localhost:8080/",
          "height": 388
        }
      },
      "source": [
        "plt.figure(figsize=(8, 6))\n",
        "sns.scatterplot(x='Factor1', y='Factor2', data=fa_df_top2, hue='class', palette='plasma');"
      ],
      "execution_count": 124,
      "outputs": [
        {
          "output_type": "display_data",
          "data": {
            "image/png": "[encoded data removed]",
            "text/plain": [
              "<Figure size 576x432 with 1 Axes>"
            ]
          },
          "metadata": {
            "tags": []
          }
        }
      ]
    },
    {
      "cell_type": "markdown",
      "metadata": {
        "id": "MghQy7uA2Zhk",
        "colab_type": "text"
      },
      "source": [
        "부도가 난 회사들은 대부분 Factor1의 - 부분과, Factor2의 0 부분에 위치하는 것으로 보아 재정건전성이 부족해 보인다 <br>\n",
        "그 다음으로, 어떤 변수들의 정보량이 Factor에 많이 반영되었는지 알아보자."
      ]
    },
    {
      "cell_type": "code",
      "metadata": {
        "id": "wI1zGjzK2ZqR",
        "colab_type": "code",
        "outputId": "bdeabc59-d8f8-4ec9-e1b3-12ef5179e99d",
        "colab": {
          "base_uri": "https://localhost:8080/",
          "height": 185
        }
      },
      "source": [
        "top10 = np.argsort(-fa.get_communalities())[:10]\n",
        "\n",
        "for t in top10:\n",
        "  print(real_columns[t])"
      ],
      "execution_count": 125,
      "outputs": [
        {
          "output_type": "stream",
          "text": [
            "long-term liabilities / equity\n",
            "sales (n) / sales (n-1)\n",
            "sales / short-term liabilities\n",
            "profit on operating activities / financial expenses\n",
            "gross profit / short-term liabilities\n",
            "[(cash + short-term securities + receivables - short-term liabilities) / (operating expenses - depreciation)] * 365\n",
            "sales / receivables\n",
            "total costs /total sales\n",
            "sales / total assets\n",
            "(gross profit + interest) / total assets\n"
          ],
          "name": "stdout"
        }
      ]
    },
    {
      "cell_type": "markdown",
      "metadata": {
        "id": "RWuX3biA2Zvs",
        "colab_type": "text"
      },
      "source": [
        "Liabilites, Profit, Sales 관련된 변수들이 많이 반영되었음을 알 수 있다"
      ]
    },
    {
      "cell_type": "code",
      "metadata": {
        "id": "HRHbGu6E2Ztr",
        "colab_type": "code",
        "outputId": "13d25e79-06e9-461e-aa31-7106e50edc1e",
        "colab": {
          "base_uri": "https://localhost:8080/",
          "height": 34
        }
      },
      "source": [
        "len(real_columns)"
      ],
      "execution_count": 126,
      "outputs": [
        {
          "output_type": "execute_result",
          "data": {
            "text/plain": [
              "50"
            ]
          },
          "metadata": {
            "tags": []
          },
          "execution_count": 126
        }
      ]
    },
    {
      "cell_type": "code",
      "metadata": {
        "id": "An2uoIZ12Zfv",
        "colab_type": "code",
        "outputId": "cb5535c9-1fb7-4f34-b07a-8aabe9932099",
        "colab": {
          "base_uri": "https://localhost:8080/",
          "height": 54
        }
      },
      "source": [
        "print(real_columns)"
      ],
      "execution_count": 127,
      "outputs": [
        {
          "output_type": "stream",
          "text": [
            "['net profit / total assets', 'total liabilities / total assets', 'working capital / total assets', 'current assets / short-term liabilities', '[(cash + short-term securities + receivables - short-term liabilities) / (operating expenses - depreciation)] * 365', 'retained earnings / total assets', 'EBIT / total assets', 'book value of equity / total liabilities', 'sales / total assets', 'equity / total assets', '(gross profit + extraordinary items + financial expenses) / total assets', 'gross profit / short-term liabilities', '(gross profit + depreciation) / sales', '(gross profit + interest) / total assets', '(gross profit + depreciation) / total liabilities', 'gross profit / total assets', 'sales (n) / sales (n-1)', 'profit on operating activities / total assets', 'net profit / sales', 'gross profit (in 3 years) / total assets', '(equity - share capital) / total assets', '(net profit + depreciation) / total liabilities', 'profit on operating activities / financial expenses', 'logarithm of total assets', '(total liabilities - cash) / sales', '(current liabilities * 365) / cost of products sold', 'operating expenses / short-term liabilities', 'profit on sales / total assets', 'total sales / total assets', 'constant capital / total assets', 'profit on sales / sales', 'X40 (current assets - inventory - receivables) / short-term liabilities', 'rotation receivables + inventory turnover in days', 'net profit / inventory', '(inventory * 365) / cost of products sold', 'EBITDA (profit on operating activities - depreciation) / total assets', 'EBITDA (profit on operating activities - depreciation) / sales', 'X50 current assets / total liabilities', 'short-term liabilities / total assets', '(short-term liabilities * 365) / cost of products sold)', 'equity / fixed assets', 'constant capital / fixed assets', '(sales - cost of products sold) / sales', 'total costs /total sales', 'long-term liabilities / equity', 'sales / inventory', 'sales / receivables', 'sales / short-term liabilities', 'sales / fixed assets', 'class']\n"
          ],
          "name": "stdout"
        }
      ]
    },
    {
      "cell_type": "code",
      "metadata": {
        "id": "fgbd9rr0yJhG",
        "colab_type": "code",
        "colab": {}
      },
      "source": [
        ""
      ],
      "execution_count": 0,
      "outputs": []
    },
    {
      "cell_type": "code",
      "metadata": {
        "id": "dj7Ok7ACyJcl",
        "colab_type": "code",
        "colab": {}
      },
      "source": [
        ""
      ],
      "execution_count": 0,
      "outputs": []
    },
    {
      "cell_type": "code",
      "metadata": {
        "id": "FJZXo2--yJMF",
        "colab_type": "code",
        "colab": {}
      },
      "source": [
        ""
      ],
      "execution_count": 0,
      "outputs": []
    }
  ]
}