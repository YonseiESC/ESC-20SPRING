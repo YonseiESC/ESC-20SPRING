{
  "nbformat": 4,
  "nbformat_minor": 0,
  "metadata": {
    "colab": {
      "name": "EDA_정재은_FA.ipynb",
      "provenance": [],
      "collapsed_sections": []
    },
    "kernelspec": {
      "name": "python3",
      "display_name": "Python 3"
    }
  },
  "cells": [
    {
      "cell_type": "code",
      "metadata": {
        "id": "m9mHHnTpx8Ft",
        "colab_type": "code",
        "outputId": "f02e782d-c9dc-4938-e0d6-cc2d9a895316",
        "colab": {
          "base_uri": "https://localhost:8080/",
          "height": 319
        }
      },
      "source": [
        "!pip install factor_analyzer"
      ],
      "execution_count": 1,
      "outputs": [
        {
          "output_type": "stream",
          "text": [
            "Collecting factor_analyzer\n",
            "\u001b[?25l  Downloading https://files.pythonhosted.org/packages/44/b5/cbd83484ca6dd4c6562c6d66a6a3a0ecf526e79b2b575b9fb4bf5ad172dd/factor_analyzer-0.3.2.tar.gz (40kB)\n",
            "\r\u001b[K     |████████▏                       | 10kB 18.0MB/s eta 0:00:01\r\u001b[K     |████████████████▍               | 20kB 1.7MB/s eta 0:00:01\r\u001b[K     |████████████████████████▌       | 30kB 2.2MB/s eta 0:00:01\r\u001b[K     |████████████████████████████████| 40kB 1.9MB/s \n",
            "\u001b[?25hRequirement already satisfied: pandas in /usr/local/lib/python3.6/dist-packages (from factor_analyzer) (1.0.3)\n",
            "Requirement already satisfied: scipy in /usr/local/lib/python3.6/dist-packages (from factor_analyzer) (1.4.1)\n",
            "Requirement already satisfied: numpy in /usr/local/lib/python3.6/dist-packages (from factor_analyzer) (1.18.4)\n",
            "Requirement already satisfied: scikit-learn in /usr/local/lib/python3.6/dist-packages (from factor_analyzer) (0.22.2.post1)\n",
            "Requirement already satisfied: pytz>=2017.2 in /usr/local/lib/python3.6/dist-packages (from pandas->factor_analyzer) (2018.9)\n",
            "Requirement already satisfied: python-dateutil>=2.6.1 in /usr/local/lib/python3.6/dist-packages (from pandas->factor_analyzer) (2.8.1)\n",
            "Requirement already satisfied: joblib>=0.11 in /usr/local/lib/python3.6/dist-packages (from scikit-learn->factor_analyzer) (0.15.1)\n",
            "Requirement already satisfied: six>=1.5 in /usr/local/lib/python3.6/dist-packages (from python-dateutil>=2.6.1->pandas->factor_analyzer) (1.12.0)\n",
            "Building wheels for collected packages: factor-analyzer\n",
            "  Building wheel for factor-analyzer (setup.py) ... \u001b[?25l\u001b[?25hdone\n",
            "  Created wheel for factor-analyzer: filename=factor_analyzer-0.3.2-cp36-none-any.whl size=40380 sha256=89e34d67e95b02a459cb7bd5515e993b23af4dd6860b1155ebbd14e1ad277b9c\n",
            "  Stored in directory: /root/.cache/pip/wheels/4a/d0/57/f1330cb9c80e82d8d05391c74c94ed61ce3f03bf6157f3d6db\n",
            "Successfully built factor-analyzer\n",
            "Installing collected packages: factor-analyzer\n",
            "Successfully installed factor-analyzer-0.3.2\n"
          ],
          "name": "stdout"
        }
      ]
    },
    {
      "cell_type": "code",
      "metadata": {
        "id": "ok4E9CtsyR7G",
        "colab_type": "code",
        "outputId": "198357f1-c5b1-4a8e-da42-38f29257c793",
        "colab": {
          "base_uri": "https://localhost:8080/",
          "height": 121
        }
      },
      "source": [
        "from google.colab import drive\n",
        "\n",
        "drive.mount('/content/gdrive')"
      ],
      "execution_count": 2,
      "outputs": [
        {
          "output_type": "stream",
          "text": [
            "Go to this URL in a browser: https://accounts.google.com/o/oauth2/auth?client_id=947318989803-6bn6qk8qdgf4n4g3pfee6491hc0brc4i.apps.googleusercontent.com&redirect_uri=urn%3aietf%3awg%3aoauth%3a2.0%3aoob&response_type=code&scope=email%20https%3a%2f%2fwww.googleapis.com%2fauth%2fdocs.test%20https%3a%2f%2fwww.googleapis.com%2fauth%2fdrive%20https%3a%2f%2fwww.googleapis.com%2fauth%2fdrive.photos.readonly%20https%3a%2f%2fwww.googleapis.com%2fauth%2fpeopleapi.readonly\n",
            "\n",
            "Enter your authorization code:\n",
            "··········\n",
            "Mounted at /content/gdrive\n"
          ],
          "name": "stdout"
        }
      ]
    },
    {
      "cell_type": "code",
      "metadata": {
        "id": "CUA1BbjFyYtC",
        "colab_type": "code",
        "outputId": "a5d0b159-3dd7-4b44-af8b-596cd942c447",
        "colab": {
          "base_uri": "https://localhost:8080/",
          "height": 34
        }
      },
      "source": [
        "%cd /content/gdrive/My Drive/Colab Notebooks/Classification_Bankruptcy/5조 "
      ],
      "execution_count": 3,
      "outputs": [
        {
          "output_type": "stream",
          "text": [
            "/content/gdrive/My Drive/Colab Notebooks/Classification_Bankruptcy/5조\n"
          ],
          "name": "stdout"
        }
      ]
    },
    {
      "cell_type": "code",
      "metadata": {
        "id": "9SCu3nCOyJDH",
        "colab_type": "code",
        "colab": {
          "base_uri": "https://localhost:8080/",
          "height": 50
        },
        "outputId": "baeb5b0e-456e-4ec4-e720-8311ca2d0d99"
      },
      "source": [
        "import numpy as np\n",
        "import pandas as pd\n",
        "import matplotlib.pyplot as plt\n",
        "import seaborn as sns\n",
        "from factor_analyzer import FactorAnalyzer\n",
        "%matplotlib inline"
      ],
      "execution_count": 4,
      "outputs": [
        {
          "output_type": "stream",
          "text": [
            "/usr/local/lib/python3.6/dist-packages/statsmodels/tools/_testing.py:19: FutureWarning: pandas.util.testing is deprecated. Use the functions in the public API at pandas.testing instead.\n",
            "  import pandas.util.testing as tm\n"
          ],
          "name": "stderr"
        }
      ]
    },
    {
      "cell_type": "code",
      "metadata": {
        "id": "DJ-GnmrMyJGC",
        "colab_type": "code",
        "outputId": "c9882fca-9857-42d1-e044-464991db7edd",
        "colab": {
          "base_uri": "https://localhost:8080/",
          "height": 34
        }
      },
      "source": [
        "df = pd.read_csv('imputed_final.csv')\n",
        "print(df.shape)"
      ],
      "execution_count": 5,
      "outputs": [
        {
          "output_type": "stream",
          "text": [
            "(6835, 50)\n"
          ],
          "name": "stdout"
        }
      ]
    },
    {
      "cell_type": "code",
      "metadata": {
        "id": "8bcFZ0uGyt95",
        "colab_type": "code",
        "outputId": "b59fcc03-05c5-42cd-d312-5b58e3889569",
        "colab": {
          "base_uri": "https://localhost:8080/",
          "height": 34
        }
      },
      "source": [
        "X, y = df.iloc[:, :-1], df.iloc[:, -1]\n",
        "print(X.shape, y.shape)"
      ],
      "execution_count": 6,
      "outputs": [
        {
          "output_type": "stream",
          "text": [
            "(6835, 49) (6835,)\n"
          ],
          "name": "stdout"
        }
      ]
    },
    {
      "cell_type": "markdown",
      "metadata": {
        "id": "B9nkW9h0yy2A",
        "colab_type": "text"
      },
      "source": [
        "# 1. Scailing for Factor Analysis"
      ]
    },
    {
      "cell_type": "code",
      "metadata": {
        "id": "9twWeDTPyJJT",
        "colab_type": "code",
        "colab": {}
      },
      "source": [
        "from sklearn.preprocessing import StandardScaler\n",
        "\n",
        "scaler = StandardScaler()\n",
        "X_scaled = scaler.fit_transform(X)"
      ],
      "execution_count": 0,
      "outputs": []
    },
    {
      "cell_type": "markdown",
      "metadata": {
        "id": "8sybB1zmyJSq",
        "colab_type": "text"
      },
      "source": [
        "# 2. Draw Scree Plot using PCA"
      ]
    },
    {
      "cell_type": "code",
      "metadata": {
        "id": "mAIE8eh3yJXC",
        "colab_type": "code",
        "outputId": "a9548afe-f79b-4160-9f71-8a6ee3225212",
        "colab": {
          "base_uri": "https://localhost:8080/",
          "height": 376
        }
      },
      "source": [
        "from sklearn.decomposition import PCA\n",
        "\n",
        "pca = PCA()\n",
        "pca.fit(X_scaled)\n",
        "plt.style.use('seaborn')\n",
        "lambdas = pca.explained_variance_ratio_\n",
        "sns.lineplot(x = range(1, X_scaled.shape[1]+1),y  = lambdas, marker = 'o')\n",
        "plt.xlabel('Principal Component')\n",
        "plt.ylabel('Explained Variance')\n",
        "plt.title('Explained Variance of PCs')\n",
        "plt.grid(True)\n",
        "plt.show()"
      ],
      "execution_count": 8,
      "outputs": [
        {
          "output_type": "display_data",
          "data": {
            "image/png": "[encoded data removed]",
            "text/plain": [
              "<Figure size 576x396 with 1 Axes>"
            ]
          },
          "metadata": {
            "tags": []
          }
        }
      ]
    },
    {
      "cell_type": "code",
      "metadata": {
        "id": "3xdMZX06yJZq",
        "colab_type": "code",
        "colab": {}
      },
      "source": [
        "lambdas_cumsum = np.cumsum(lambdas) "
      ],
      "execution_count": 0,
      "outputs": []
    },
    {
      "cell_type": "code",
      "metadata": {
        "id": "fXRg2yonyJeT",
        "colab_type": "code",
        "outputId": "996b1a7a-f279-4ca4-88ca-b8b661e0156b",
        "colab": {
          "base_uri": "https://localhost:8080/",
          "height": 376
        }
      },
      "source": [
        "sns.lineplot(x = range(11, X_scaled.shape[1]+1),y  = lambdas_cumsum[10:], marker = 'o')\n",
        "plt.xlabel('Principal Component')\n",
        "plt.ylabel('Explained Variance')\n",
        "plt.title('Cumulative Sum of Explained Variance of PCs')\n",
        "plt.grid(True)\n",
        "plt.show()"
      ],
      "execution_count": 10,
      "outputs": [
        {
          "output_type": "display_data",
          "data": {
            "image/png": "[encoded data removed]",
            "text/plain": [
              "<Figure size 576x396 with 1 Axes>"
            ]
          },
          "metadata": {
            "tags": []
          }
        }
      ]
    },
    {
      "cell_type": "markdown",
      "metadata": {
        "id": "3MNufzrU0EVC",
        "colab_type": "text"
      },
      "source": [
        "30개 정도의 PC만 사용해도 충분하다!"
      ]
    },
    {
      "cell_type": "markdown",
      "metadata": {
        "id": "vx7-dVFF1OB5",
        "colab_type": "text"
      },
      "source": [
        "# 3. Draw Scree Plot using FA"
      ]
    },
    {
      "cell_type": "code",
      "metadata": {
        "id": "By5gOsCH1OE4",
        "colab_type": "code",
        "outputId": "eeafb83e-b4c2-42f6-9298-cce977c64f5c",
        "colab": {
          "base_uri": "https://localhost:8080/",
          "height": 376
        }
      },
      "source": [
        "fa = FactorAnalyzer(n_factors = 30, rotation = 'varimax', bounds = (0, 1), method = 'principal')\n",
        "fa.fit(X_scaled)\n",
        "ev, v = fa.get_eigenvalues()\n",
        "plt.plot(range(1,X.shape[1]+1),v, 'o-') # factor eigen values\n",
        "plt.title('Scree Plot')\n",
        "plt.xlabel('Factors')\n",
        "plt.ylabel('Eigenvalue')\n",
        "plt.grid(True)\n",
        "plt.style.use('seaborn')"
      ],
      "execution_count": 11,
      "outputs": [
        {
          "output_type": "display_data",
          "data": {
            "image/png": "[encoded data removed]",
            "text/plain": [
              "<Figure size 576x396 with 1 Axes>"
            ]
          },
          "metadata": {
            "tags": []
          }
        }
      ]
    },
    {
      "cell_type": "markdown",
      "metadata": {
        "id": "1DXPbKkY1OR7",
        "colab_type": "text"
      },
      "source": [
        "10개 정도의 factor로 데이터를 설명할 수 있을 것 같다"
      ]
    },
    {
      "cell_type": "markdown",
      "metadata": {
        "id": "xIUR_IyCARaC",
        "colab_type": "text"
      },
      "source": [
        "# 4. Factor Analysis"
      ]
    },
    {
      "cell_type": "code",
      "metadata": {
        "id": "YImwyHV42qCU",
        "colab_type": "code",
        "colab": {}
      },
      "source": [
        "fa_df = pd.DataFrame(np.round(fa.loadings_.T, 10), columns = X.columns)\n",
        "index = ['Loading'+str(i) for i in range(1, fa_df.shape[0]+1)]\n",
        "fa_df.index = index"
      ],
      "execution_count": 0,
      "outputs": []
    },
    {
      "cell_type": "code",
      "metadata": {
        "id": "LtsKn9Gk0EYB",
        "colab_type": "code",
        "outputId": "99c72ae4-c2f8-4fd4-a636-a99c4735205e",
        "colab": {
          "base_uri": "https://localhost:8080/",
          "height": 363
        }
      },
      "source": [
        "fa_df.head(10)"
      ],
      "execution_count": 20,
      "outputs": [
        {
          "output_type": "execute_result",
          "data": {
            "text/html": [
              "<div>\n",
              "<style scoped>\n",
              "    .dataframe tbody tr th:only-of-type {\n",
              "        vertical-align: middle;\n",
              "    }\n",
              "\n",
              "    .dataframe tbody tr th {\n",
              "        vertical-align: top;\n",
              "    }\n",
              "\n",
              "    .dataframe thead th {\n",
              "        text-align: right;\n",
              "    }\n",
              "</style>\n",
              "<table border=\"1\" class=\"dataframe\">\n",
              "  <thead>\n",
              "    <tr style=\"text-align: right;\">\n",
              "      <th></th>\n",
              "      <th>Attr1</th>\n",
              "      <th>Attr2</th>\n",
              "      <th>Attr3</th>\n",
              "      <th>Attr4</th>\n",
              "      <th>Attr5</th>\n",
              "      <th>Attr6</th>\n",
              "      <th>Attr7</th>\n",
              "      <th>Attr8</th>\n",
              "      <th>Attr9</th>\n",
              "      <th>Attr10</th>\n",
              "      <th>Attr11</th>\n",
              "      <th>Attr12</th>\n",
              "      <th>Attr13</th>\n",
              "      <th>Attr14</th>\n",
              "      <th>Attr16</th>\n",
              "      <th>Attr18</th>\n",
              "      <th>Attr21</th>\n",
              "      <th>Attr22</th>\n",
              "      <th>Attr23</th>\n",
              "      <th>Attr24</th>\n",
              "      <th>Attr25</th>\n",
              "      <th>Attr26</th>\n",
              "      <th>Attr27</th>\n",
              "      <th>Attr29</th>\n",
              "      <th>Attr30</th>\n",
              "      <th>Attr32</th>\n",
              "      <th>Attr33</th>\n",
              "      <th>Attr35</th>\n",
              "      <th>Attr36</th>\n",
              "      <th>Attr38</th>\n",
              "      <th>Attr39</th>\n",
              "      <th>Attr40</th>\n",
              "      <th>Attr43</th>\n",
              "      <th>Attr45</th>\n",
              "      <th>Attr47</th>\n",
              "      <th>Attr48</th>\n",
              "      <th>Attr49</th>\n",
              "      <th>Attr50</th>\n",
              "      <th>Attr51</th>\n",
              "      <th>Attr52</th>\n",
              "      <th>Attr53</th>\n",
              "      <th>Attr54</th>\n",
              "      <th>Attr56</th>\n",
              "      <th>Attr58</th>\n",
              "      <th>Attr59</th>\n",
              "      <th>Attr60</th>\n",
              "      <th>Attr61</th>\n",
              "      <th>Attr63</th>\n",
              "      <th>Attr64</th>\n",
              "    </tr>\n",
              "  </thead>\n",
              "  <tbody>\n",
              "    <tr>\n",
              "      <th>Loading1</th>\n",
              "      <td>0.981231</td>\n",
              "      <td>-0.143128</td>\n",
              "      <td>0.179838</td>\n",
              "      <td>-0.006906</td>\n",
              "      <td>0.002497</td>\n",
              "      <td>0.009540</td>\n",
              "      <td>0.987477</td>\n",
              "      <td>0.001711</td>\n",
              "      <td>0.018206</td>\n",
              "      <td>0.135194</td>\n",
              "      <td>0.979726</td>\n",
              "      <td>0.024828</td>\n",
              "      <td>-0.048244</td>\n",
              "      <td>0.987145</td>\n",
              "      <td>0.022848</td>\n",
              "      <td>0.332310</td>\n",
              "      <td>0.003088</td>\n",
              "      <td>0.767867</td>\n",
              "      <td>0.028882</td>\n",
              "      <td>0.045336</td>\n",
              "      <td>0.123628</td>\n",
              "      <td>0.025878</td>\n",
              "      <td>0.034778</td>\n",
              "      <td>0.047737</td>\n",
              "      <td>0.008326</td>\n",
              "      <td>-0.007329</td>\n",
              "      <td>0.022066</td>\n",
              "      <td>0.581830</td>\n",
              "      <td>0.080186</td>\n",
              "      <td>0.092133</td>\n",
              "      <td>0.084336</td>\n",
              "      <td>0.002620</td>\n",
              "      <td>0.000936</td>\n",
              "      <td>0.022331</td>\n",
              "      <td>0.004094</td>\n",
              "      <td>0.572247</td>\n",
              "      <td>0.149771</td>\n",
              "      <td>0.005124</td>\n",
              "      <td>-0.181853</td>\n",
              "      <td>-0.006966</td>\n",
              "      <td>0.025659</td>\n",
              "      <td>0.012436</td>\n",
              "      <td>-0.002310</td>\n",
              "      <td>-0.023646</td>\n",
              "      <td>-0.000716</td>\n",
              "      <td>0.000606</td>\n",
              "      <td>-0.001231</td>\n",
              "      <td>0.002710</td>\n",
              "      <td>0.021950</td>\n",
              "    </tr>\n",
              "    <tr>\n",
              "      <th>Loading2</th>\n",
              "      <td>0.120632</td>\n",
              "      <td>-0.963558</td>\n",
              "      <td>0.491812</td>\n",
              "      <td>0.043499</td>\n",
              "      <td>0.011923</td>\n",
              "      <td>0.181020</td>\n",
              "      <td>0.119176</td>\n",
              "      <td>0.011241</td>\n",
              "      <td>-0.042155</td>\n",
              "      <td>0.971552</td>\n",
              "      <td>0.099767</td>\n",
              "      <td>0.010989</td>\n",
              "      <td>0.041121</td>\n",
              "      <td>0.119111</td>\n",
              "      <td>0.003092</td>\n",
              "      <td>0.036527</td>\n",
              "      <td>0.002161</td>\n",
              "      <td>0.106021</td>\n",
              "      <td>0.008471</td>\n",
              "      <td>-0.126907</td>\n",
              "      <td>0.925519</td>\n",
              "      <td>0.003104</td>\n",
              "      <td>0.004915</td>\n",
              "      <td>0.138745</td>\n",
              "      <td>-0.161449</td>\n",
              "      <td>-0.030985</td>\n",
              "      <td>0.013869</td>\n",
              "      <td>0.138742</td>\n",
              "      <td>-0.046079</td>\n",
              "      <td>0.901743</td>\n",
              "      <td>-0.002415</td>\n",
              "      <td>0.023084</td>\n",
              "      <td>-0.110934</td>\n",
              "      <td>0.011200</td>\n",
              "      <td>0.003771</td>\n",
              "      <td>0.085928</td>\n",
              "      <td>-0.003683</td>\n",
              "      <td>0.013159</td>\n",
              "      <td>-0.552493</td>\n",
              "      <td>-0.026473</td>\n",
              "      <td>0.026844</td>\n",
              "      <td>0.008345</td>\n",
              "      <td>0.015411</td>\n",
              "      <td>-0.046063</td>\n",
              "      <td>-0.003664</td>\n",
              "      <td>0.003165</td>\n",
              "      <td>0.003714</td>\n",
              "      <td>0.004805</td>\n",
              "      <td>-0.014139</td>\n",
              "    </tr>\n",
              "    <tr>\n",
              "      <th>Loading3</th>\n",
              "      <td>0.000459</td>\n",
              "      <td>-0.008214</td>\n",
              "      <td>0.003634</td>\n",
              "      <td>0.025764</td>\n",
              "      <td>0.001908</td>\n",
              "      <td>-0.000327</td>\n",
              "      <td>0.002330</td>\n",
              "      <td>0.947420</td>\n",
              "      <td>-0.002331</td>\n",
              "      <td>0.007097</td>\n",
              "      <td>0.052495</td>\n",
              "      <td>0.141526</td>\n",
              "      <td>0.000681</td>\n",
              "      <td>0.002328</td>\n",
              "      <td>0.991172</td>\n",
              "      <td>0.000620</td>\n",
              "      <td>-0.002061</td>\n",
              "      <td>0.037891</td>\n",
              "      <td>0.008326</td>\n",
              "      <td>0.000160</td>\n",
              "      <td>0.001528</td>\n",
              "      <td>0.989763</td>\n",
              "      <td>0.000880</td>\n",
              "      <td>-0.026370</td>\n",
              "      <td>0.000933</td>\n",
              "      <td>-0.002133</td>\n",
              "      <td>0.954688</td>\n",
              "      <td>-0.012494</td>\n",
              "      <td>-0.002881</td>\n",
              "      <td>0.013772</td>\n",
              "      <td>0.004089</td>\n",
              "      <td>0.414969</td>\n",
              "      <td>-0.000167</td>\n",
              "      <td>0.000611</td>\n",
              "      <td>-0.001152</td>\n",
              "      <td>0.026238</td>\n",
              "      <td>0.010731</td>\n",
              "      <td>0.011671</td>\n",
              "      <td>-0.022371</td>\n",
              "      <td>-0.002291</td>\n",
              "      <td>0.000957</td>\n",
              "      <td>0.000120</td>\n",
              "      <td>-0.000768</td>\n",
              "      <td>0.000062</td>\n",
              "      <td>-0.000909</td>\n",
              "      <td>0.000555</td>\n",
              "      <td>0.003131</td>\n",
              "      <td>-0.001947</td>\n",
              "      <td>0.000099</td>\n",
              "    </tr>\n",
              "    <tr>\n",
              "      <th>Loading4</th>\n",
              "      <td>0.009417</td>\n",
              "      <td>-0.009003</td>\n",
              "      <td>0.036059</td>\n",
              "      <td>-0.002065</td>\n",
              "      <td>0.000214</td>\n",
              "      <td>-0.000875</td>\n",
              "      <td>0.014061</td>\n",
              "      <td>-0.001270</td>\n",
              "      <td>0.005343</td>\n",
              "      <td>0.008053</td>\n",
              "      <td>0.015575</td>\n",
              "      <td>-0.000782</td>\n",
              "      <td>0.011713</td>\n",
              "      <td>0.014160</td>\n",
              "      <td>-0.000719</td>\n",
              "      <td>0.019708</td>\n",
              "      <td>-0.000609</td>\n",
              "      <td>0.005654</td>\n",
              "      <td>-0.000877</td>\n",
              "      <td>0.000395</td>\n",
              "      <td>0.001722</td>\n",
              "      <td>-0.000847</td>\n",
              "      <td>0.011253</td>\n",
              "      <td>-0.034680</td>\n",
              "      <td>0.003295</td>\n",
              "      <td>-0.000984</td>\n",
              "      <td>0.004054</td>\n",
              "      <td>0.008942</td>\n",
              "      <td>0.009092</td>\n",
              "      <td>0.007497</td>\n",
              "      <td>0.000352</td>\n",
              "      <td>0.001217</td>\n",
              "      <td>-0.001677</td>\n",
              "      <td>-0.000543</td>\n",
              "      <td>-0.000854</td>\n",
              "      <td>0.005833</td>\n",
              "      <td>-0.001398</td>\n",
              "      <td>-0.000646</td>\n",
              "      <td>-0.011835</td>\n",
              "      <td>-0.001063</td>\n",
              "      <td>0.945609</td>\n",
              "      <td>0.955084</td>\n",
              "      <td>0.001128</td>\n",
              "      <td>0.001616</td>\n",
              "      <td>-0.000111</td>\n",
              "      <td>0.001149</td>\n",
              "      <td>-0.000555</td>\n",
              "      <td>-0.000351</td>\n",
              "      <td>0.805329</td>\n",
              "    </tr>\n",
              "    <tr>\n",
              "      <th>Loading5</th>\n",
              "      <td>0.003944</td>\n",
              "      <td>0.009190</td>\n",
              "      <td>-0.026481</td>\n",
              "      <td>-0.001061</td>\n",
              "      <td>-0.022784</td>\n",
              "      <td>-0.002358</td>\n",
              "      <td>-0.002543</td>\n",
              "      <td>0.001351</td>\n",
              "      <td>-0.005804</td>\n",
              "      <td>-0.006345</td>\n",
              "      <td>-0.000407</td>\n",
              "      <td>-0.000587</td>\n",
              "      <td>0.001770</td>\n",
              "      <td>-0.002594</td>\n",
              "      <td>0.001244</td>\n",
              "      <td>-0.008407</td>\n",
              "      <td>-0.001296</td>\n",
              "      <td>-0.002123</td>\n",
              "      <td>0.060061</td>\n",
              "      <td>-0.002717</td>\n",
              "      <td>-0.028901</td>\n",
              "      <td>0.001259</td>\n",
              "      <td>-0.001298</td>\n",
              "      <td>0.013955</td>\n",
              "      <td>-0.038337</td>\n",
              "      <td>0.971194</td>\n",
              "      <td>-0.008525</td>\n",
              "      <td>-0.014341</td>\n",
              "      <td>-0.015487</td>\n",
              "      <td>-0.009127</td>\n",
              "      <td>-0.006864</td>\n",
              "      <td>-0.002021</td>\n",
              "      <td>0.215000</td>\n",
              "      <td>0.307050</td>\n",
              "      <td>0.567256</td>\n",
              "      <td>-0.041035</td>\n",
              "      <td>-0.008232</td>\n",
              "      <td>-0.001423</td>\n",
              "      <td>0.035893</td>\n",
              "      <td>0.971530</td>\n",
              "      <td>-0.003127</td>\n",
              "      <td>0.001377</td>\n",
              "      <td>0.002794</td>\n",
              "      <td>0.021568</td>\n",
              "      <td>-0.000739</td>\n",
              "      <td>-0.020270</td>\n",
              "      <td>-0.000444</td>\n",
              "      <td>-0.000103</td>\n",
              "      <td>-0.000598</td>\n",
              "    </tr>\n",
              "    <tr>\n",
              "      <th>Loading6</th>\n",
              "      <td>0.013319</td>\n",
              "      <td>-0.012121</td>\n",
              "      <td>0.028018</td>\n",
              "      <td>-0.003228</td>\n",
              "      <td>0.000553</td>\n",
              "      <td>0.962392</td>\n",
              "      <td>0.015893</td>\n",
              "      <td>0.000814</td>\n",
              "      <td>0.000704</td>\n",
              "      <td>0.009440</td>\n",
              "      <td>0.013622</td>\n",
              "      <td>0.000838</td>\n",
              "      <td>0.001314</td>\n",
              "      <td>0.015887</td>\n",
              "      <td>0.001060</td>\n",
              "      <td>0.005196</td>\n",
              "      <td>-0.002080</td>\n",
              "      <td>0.006048</td>\n",
              "      <td>0.000584</td>\n",
              "      <td>0.968996</td>\n",
              "      <td>0.034387</td>\n",
              "      <td>0.001042</td>\n",
              "      <td>0.000192</td>\n",
              "      <td>-0.012447</td>\n",
              "      <td>-0.006236</td>\n",
              "      <td>-0.002716</td>\n",
              "      <td>-0.002896</td>\n",
              "      <td>0.011715</td>\n",
              "      <td>0.002022</td>\n",
              "      <td>-0.012381</td>\n",
              "      <td>0.001559</td>\n",
              "      <td>-0.001053</td>\n",
              "      <td>-0.005964</td>\n",
              "      <td>0.000538</td>\n",
              "      <td>-0.000754</td>\n",
              "      <td>0.003536</td>\n",
              "      <td>0.003140</td>\n",
              "      <td>-0.001003</td>\n",
              "      <td>-0.037440</td>\n",
              "      <td>-0.002415</td>\n",
              "      <td>-0.000190</td>\n",
              "      <td>0.000353</td>\n",
              "      <td>0.000432</td>\n",
              "      <td>-0.003356</td>\n",
              "      <td>-0.000451</td>\n",
              "      <td>-0.000168</td>\n",
              "      <td>-0.000309</td>\n",
              "      <td>0.000483</td>\n",
              "      <td>-0.001110</td>\n",
              "    </tr>\n",
              "    <tr>\n",
              "      <th>Loading7</th>\n",
              "      <td>0.011397</td>\n",
              "      <td>-0.002323</td>\n",
              "      <td>0.005374</td>\n",
              "      <td>0.001977</td>\n",
              "      <td>0.001152</td>\n",
              "      <td>0.001038</td>\n",
              "      <td>0.011606</td>\n",
              "      <td>0.001034</td>\n",
              "      <td>0.003328</td>\n",
              "      <td>0.002311</td>\n",
              "      <td>0.010854</td>\n",
              "      <td>0.000078</td>\n",
              "      <td>-0.203288</td>\n",
              "      <td>0.012162</td>\n",
              "      <td>0.001288</td>\n",
              "      <td>0.084694</td>\n",
              "      <td>0.000336</td>\n",
              "      <td>0.009258</td>\n",
              "      <td>-0.022422</td>\n",
              "      <td>0.000521</td>\n",
              "      <td>0.013384</td>\n",
              "      <td>0.001571</td>\n",
              "      <td>-0.000074</td>\n",
              "      <td>-0.002895</td>\n",
              "      <td>-0.247319</td>\n",
              "      <td>-0.000581</td>\n",
              "      <td>-0.001908</td>\n",
              "      <td>0.053819</td>\n",
              "      <td>0.000553</td>\n",
              "      <td>0.002961</td>\n",
              "      <td>0.850877</td>\n",
              "      <td>0.002913</td>\n",
              "      <td>0.003418</td>\n",
              "      <td>0.000130</td>\n",
              "      <td>0.000408</td>\n",
              "      <td>0.001126</td>\n",
              "      <td>0.164727</td>\n",
              "      <td>-0.000159</td>\n",
              "      <td>0.012195</td>\n",
              "      <td>-0.000572</td>\n",
              "      <td>0.005119</td>\n",
              "      <td>-0.002924</td>\n",
              "      <td>0.984477</td>\n",
              "      <td>-0.013286</td>\n",
              "      <td>-0.002087</td>\n",
              "      <td>-0.000447</td>\n",
              "      <td>0.000268</td>\n",
              "      <td>-0.000760</td>\n",
              "      <td>-0.002334</td>\n",
              "    </tr>\n",
              "    <tr>\n",
              "      <th>Loading8</th>\n",
              "      <td>0.052449</td>\n",
              "      <td>-0.022936</td>\n",
              "      <td>0.022796</td>\n",
              "      <td>-0.003155</td>\n",
              "      <td>0.001066</td>\n",
              "      <td>0.002756</td>\n",
              "      <td>0.052165</td>\n",
              "      <td>0.000631</td>\n",
              "      <td>0.000794</td>\n",
              "      <td>0.019421</td>\n",
              "      <td>0.048747</td>\n",
              "      <td>0.005275</td>\n",
              "      <td>0.960237</td>\n",
              "      <td>0.058463</td>\n",
              "      <td>0.001579</td>\n",
              "      <td>0.927992</td>\n",
              "      <td>-0.000174</td>\n",
              "      <td>0.029367</td>\n",
              "      <td>0.002915</td>\n",
              "      <td>0.002909</td>\n",
              "      <td>0.016583</td>\n",
              "      <td>0.001824</td>\n",
              "      <td>0.001638</td>\n",
              "      <td>-0.029471</td>\n",
              "      <td>-0.037953</td>\n",
              "      <td>-0.003714</td>\n",
              "      <td>-0.002403</td>\n",
              "      <td>0.035800</td>\n",
              "      <td>-0.007379</td>\n",
              "      <td>0.012434</td>\n",
              "      <td>-0.054171</td>\n",
              "      <td>-0.000152</td>\n",
              "      <td>-0.044983</td>\n",
              "      <td>0.003978</td>\n",
              "      <td>-0.000327</td>\n",
              "      <td>0.031895</td>\n",
              "      <td>0.012874</td>\n",
              "      <td>-0.000673</td>\n",
              "      <td>-0.041271</td>\n",
              "      <td>-0.001688</td>\n",
              "      <td>0.049083</td>\n",
              "      <td>-0.017217</td>\n",
              "      <td>-0.078780</td>\n",
              "      <td>-0.015010</td>\n",
              "      <td>0.000350</td>\n",
              "      <td>0.000045</td>\n",
              "      <td>-0.000313</td>\n",
              "      <td>-0.000017</td>\n",
              "      <td>-0.011237</td>\n",
              "    </tr>\n",
              "    <tr>\n",
              "      <th>Loading9</th>\n",
              "      <td>-0.003064</td>\n",
              "      <td>0.071951</td>\n",
              "      <td>-0.130916</td>\n",
              "      <td>0.012554</td>\n",
              "      <td>-0.007282</td>\n",
              "      <td>0.000995</td>\n",
              "      <td>-0.003658</td>\n",
              "      <td>-0.002166</td>\n",
              "      <td>-0.008057</td>\n",
              "      <td>-0.058762</td>\n",
              "      <td>-0.007032</td>\n",
              "      <td>-0.000010</td>\n",
              "      <td>-0.121694</td>\n",
              "      <td>-0.003299</td>\n",
              "      <td>-0.001095</td>\n",
              "      <td>0.050229</td>\n",
              "      <td>-0.002131</td>\n",
              "      <td>0.015509</td>\n",
              "      <td>-0.014704</td>\n",
              "      <td>-0.011524</td>\n",
              "      <td>-0.002882</td>\n",
              "      <td>-0.000687</td>\n",
              "      <td>-0.000065</td>\n",
              "      <td>-0.005803</td>\n",
              "      <td>0.880547</td>\n",
              "      <td>0.081715</td>\n",
              "      <td>0.003656</td>\n",
              "      <td>0.042458</td>\n",
              "      <td>-0.020961</td>\n",
              "      <td>-0.080624</td>\n",
              "      <td>-0.078041</td>\n",
              "      <td>0.004407</td>\n",
              "      <td>0.895560</td>\n",
              "      <td>-0.024053</td>\n",
              "      <td>-0.044019</td>\n",
              "      <td>-0.006654</td>\n",
              "      <td>-0.069732</td>\n",
              "      <td>0.000684</td>\n",
              "      <td>0.198418</td>\n",
              "      <td>0.079699</td>\n",
              "      <td>0.007211</td>\n",
              "      <td>-0.002868</td>\n",
              "      <td>-0.137140</td>\n",
              "      <td>0.180181</td>\n",
              "      <td>-0.000349</td>\n",
              "      <td>0.003862</td>\n",
              "      <td>0.000206</td>\n",
              "      <td>-0.002392</td>\n",
              "      <td>-0.007218</td>\n",
              "    </tr>\n",
              "    <tr>\n",
              "      <th>Loading10</th>\n",
              "      <td>-0.003205</td>\n",
              "      <td>0.005210</td>\n",
              "      <td>0.030813</td>\n",
              "      <td>0.688608</td>\n",
              "      <td>0.008439</td>\n",
              "      <td>-0.001285</td>\n",
              "      <td>-0.003810</td>\n",
              "      <td>0.021999</td>\n",
              "      <td>0.087294</td>\n",
              "      <td>0.010209</td>\n",
              "      <td>-0.005173</td>\n",
              "      <td>0.241344</td>\n",
              "      <td>-0.000585</td>\n",
              "      <td>-0.003805</td>\n",
              "      <td>-0.004607</td>\n",
              "      <td>-0.000844</td>\n",
              "      <td>-0.000332</td>\n",
              "      <td>0.019966</td>\n",
              "      <td>-0.000478</td>\n",
              "      <td>0.000401</td>\n",
              "      <td>0.001051</td>\n",
              "      <td>-0.004923</td>\n",
              "      <td>-0.000626</td>\n",
              "      <td>0.006293</td>\n",
              "      <td>0.002028</td>\n",
              "      <td>-0.000611</td>\n",
              "      <td>0.000157</td>\n",
              "      <td>0.017594</td>\n",
              "      <td>0.007878</td>\n",
              "      <td>0.017365</td>\n",
              "      <td>0.000162</td>\n",
              "      <td>0.019260</td>\n",
              "      <td>0.001612</td>\n",
              "      <td>-0.000177</td>\n",
              "      <td>0.004750</td>\n",
              "      <td>0.016636</td>\n",
              "      <td>-0.000649</td>\n",
              "      <td>0.033969</td>\n",
              "      <td>-0.007377</td>\n",
              "      <td>-0.000970</td>\n",
              "      <td>-0.000746</td>\n",
              "      <td>0.000084</td>\n",
              "      <td>0.000012</td>\n",
              "      <td>-0.000639</td>\n",
              "      <td>-0.000156</td>\n",
              "      <td>-0.000471</td>\n",
              "      <td>0.000920</td>\n",
              "      <td>0.963769</td>\n",
              "      <td>-0.001013</td>\n",
              "    </tr>\n",
              "  </tbody>\n",
              "</table>\n",
              "</div>"
            ],
            "text/plain": [
              "              Attr1     Attr2     Attr3  ...    Attr61    Attr63    Attr64\n",
              "Loading1   0.981231 -0.143128  0.179838  ... -0.001231  0.002710  0.021950\n",
              "Loading2   0.120632 -0.963558  0.491812  ...  0.003714  0.004805 -0.014139\n",
              "Loading3   0.000459 -0.008214  0.003634  ...  0.003131 -0.001947  0.000099\n",
              "Loading4   0.009417 -0.009003  0.036059  ... -0.000555 -0.000351  0.805329\n",
              "Loading5   0.003944  0.009190 -0.026481  ... -0.000444 -0.000103 -0.000598\n",
              "Loading6   0.013319 -0.012121  0.028018  ... -0.000309  0.000483 -0.001110\n",
              "Loading7   0.011397 -0.002323  0.005374  ...  0.000268 -0.000760 -0.002334\n",
              "Loading8   0.052449 -0.022936  0.022796  ... -0.000313 -0.000017 -0.011237\n",
              "Loading9  -0.003064  0.071951 -0.130916  ...  0.000206 -0.002392 -0.007218\n",
              "Loading10 -0.003205  0.005210  0.030813  ...  0.000920  0.963769 -0.001013\n",
              "\n",
              "[10 rows x 49 columns]"
            ]
          },
          "metadata": {
            "tags": []
          },
          "execution_count": 20
        }
      ]
    },
    {
      "cell_type": "code",
      "metadata": {
        "id": "RcDsgkzL4Ehm",
        "colab_type": "code",
        "colab": {}
      },
      "source": [
        "columns = ['net profit / total assets',\n",
        "'total liabilities / total assets',\n",
        "'working capital / total assets',\n",
        "'current assets / short-term liabilities',\n",
        "'[(cash + short-term securities + receivables - short-term liabilities) / (operating expenses - depreciation)] * 365',\n",
        "'retained earnings / total assets',\n",
        "'EBIT / total assets',\n",
        "'book value of equity / total liabilities',\n",
        "'sales / total assets',\n",
        "'equity / total assets',\n",
        "'(gross profit + extraordinary items + financial expenses) / total assets',\n",
        "'gross profit / short-term liabilities',\n",
        "'(gross profit + depreciation) / sales',\n",
        "'(gross profit + interest) / total assets',\n",
        "'(total liabilities * 365) / (gross profit + depreciation)',\n",
        "'(gross profit + depreciation) / total liabilities',\n",
        "'total assets / total liabilities',\n",
        "'gross profit / total assets',\n",
        "'gross profit / sales',\n",
        "'(inventory * 365) / sales',\n",
        "'sales (n) / sales (n-1)',\n",
        "'profit on operating activities / total assets',\n",
        "'net profit / sales',\n",
        "'gross profit (in 3 years) / total assets',\n",
        "'(equity - share capital) / total assets',\n",
        "'(net profit + depreciation) / total liabilities',\n",
        "'profit on operating activities / financial expenses',\n",
        "'working capital / fixed assets',\n",
        "'logarithm of total assets',\n",
        "'(total liabilities - cash) / sales',\n",
        "'(gross profit + interest) / sales',\n",
        "'(current liabilities * 365) / cost of products sold',\n",
        "'operating expenses / short-term liabilities',\n",
        "'operating expenses / total liabilities',\n",
        "'profit on sales / total assets',\n",
        "'total sales / total assets',\n",
        "'(current assets - inventories) / long-term liabilities',\n",
        "'constant capital / total assets',\n",
        "'profit on sales / sales',\n",
        "'X40 (current assets - inventory - receivables) / short-term liabilities',\n",
        "'total liabilities / ((profit on operating activities + depreciation) * (12/365))',\n",
        "'profit on operating activities / sales',\n",
        "'rotation receivables + inventory turnover in days',\n",
        "'(receivables * 365) / sales',\n",
        "'net profit / inventory',\n",
        "'(current assets - inventory) / short-term liabilities',\n",
        "'(inventory * 365) / cost of products sold',\n",
        "'EBITDA (profit on operating activities - depreciation) / total assets',\n",
        "'EBITDA (profit on operating activities - depreciation) / sales',\n",
        "'X50 current assets / total liabilities',\n",
        "'short-term liabilities / total assets',\n",
        "'(short-term liabilities * 365) / cost of products sold)',\n",
        "'equity / fixed assets',\n",
        "'constant capital / fixed assets',\n",
        "'working capital',\n",
        "'(sales - cost of products sold) / sales',\n",
        "'(current assets - inventory - short-term liabilities) / (sales - gross profit - depreciation)',\n",
        "'total costs /total sales',\n",
        "'long-term liabilities / equity',\n",
        "'sales / inventory',\n",
        "'sales / receivables',\n",
        "'(short-term liabilities *365) / sales',\n",
        "'sales / short-term liabilities',\n",
        "'sales / fixed assets',\n",
        "'class'    \n",
        "]"
      ],
      "execution_count": 0,
      "outputs": []
    },
    {
      "cell_type": "code",
      "metadata": {
        "id": "xZhxuHlI-kUH",
        "colab_type": "code",
        "colab": {}
      },
      "source": [
        "real_columns = []\n",
        "trash = {15,17,19,20,28,31,34,37,41,42,44,46,55,57,62}\n",
        "\n",
        "for idx, col in enumerate(columns):\n",
        "  if idx+1 in trash:\n",
        "    continue\n",
        "  else:\n",
        "    real_columns.append(col)"
      ],
      "execution_count": 0,
      "outputs": []
    },
    {
      "cell_type": "code",
      "metadata": {
        "id": "ptBckpbg2ZYt",
        "colab_type": "code",
        "outputId": "fe7db7fc-0ba3-42ee-a6b5-7359935bc00d",
        "colab": {
          "base_uri": "https://localhost:8080/",
          "height": 689
        }
      },
      "source": [
        "for i in range(1, 11):\n",
        "  tmp = fa_df.iloc[i, :]\n",
        "  top3 = list(np.argsort(-tmp.values)[:3].reshape(3,))\n",
        "  bottom3 = list(np.argsort(tmp.values)[:3].reshape(3))\n",
        "  print(\"Factor\"+str(i))\n",
        "  print(f\"Top3 is {real_columns[top3[0]]}, {real_columns[top3[1]]}, {real_columns[top3[2]]}\")\n",
        "  print(f\"Bottom3 is {real_columns[bottom3[0]]}, {real_columns[bottom3[1]]}, {real_columns[bottom3[2]]}\")\n",
        "  print(\"=\" * 50)"
      ],
      "execution_count": 23,
      "outputs": [
        {
          "output_type": "stream",
          "text": [
            "Factor1\n",
            "Top3 is equity / total assets, (equity - share capital) / total assets, constant capital / total assets\n",
            "Bottom3 is total liabilities / total assets, short-term liabilities / total assets, (total liabilities - cash) / sales\n",
            "==================================================\n",
            "Factor2\n",
            "Top3 is (gross profit + depreciation) / total liabilities, (net profit + depreciation) / total liabilities, operating expenses / short-term liabilities\n",
            "Bottom3 is logarithm of total assets, short-term liabilities / total assets, profit on sales / total assets\n",
            "==================================================\n",
            "Factor3\n",
            "Top3 is constant capital / fixed assets, equity / fixed assets, sales / fixed assets\n",
            "Bottom3 is logarithm of total assets, short-term liabilities / total assets, total liabilities / total assets\n",
            "==================================================\n",
            "Factor4\n",
            "Top3 is (short-term liabilities * 365) / cost of products sold), (current liabilities * 365) / cost of products sold, (inventory * 365) / cost of products sold\n",
            "Bottom3 is EBITDA (profit on operating activities - depreciation) / total assets, (total liabilities - cash) / sales, (equity - share capital) / total assets\n",
            "==================================================\n",
            "Factor5\n",
            "Top3 is gross profit (in 3 years) / total assets, retained earnings / total assets, (equity - share capital) / total assets\n",
            "Bottom3 is short-term liabilities / total assets, logarithm of total assets, constant capital / total assets\n",
            "==================================================\n",
            "Factor6\n",
            "Top3 is (sales - cost of products sold) / sales, profit on sales / sales, EBITDA (profit on operating activities - depreciation) / sales\n",
            "Bottom3 is (total liabilities - cash) / sales, (gross profit + depreciation) / sales, net profit / sales\n",
            "==================================================\n",
            "Factor7\n",
            "Top3 is (gross profit + depreciation) / sales, gross profit / total assets, (gross profit + interest) / total assets\n",
            "Bottom3 is (sales - cost of products sold) / sales, profit on sales / sales, rotation receivables + inventory turnover in days\n",
            "==================================================\n",
            "Factor8\n",
            "Top3 is rotation receivables + inventory turnover in days, (total liabilities - cash) / sales, short-term liabilities / total assets\n",
            "Bottom3 is (sales - cost of products sold) / sales, working capital / total assets, (gross profit + depreciation) / sales\n",
            "==================================================\n",
            "Factor9\n",
            "Top3 is sales / short-term liabilities, current assets / short-term liabilities, gross profit / short-term liabilities\n",
            "Bottom3 is short-term liabilities / total assets, (gross profit + extraordinary items + financial expenses) / total assets, (net profit + depreciation) / total liabilities\n",
            "==================================================\n",
            "Factor10\n",
            "Top3 is total sales / total assets, profit on sales / total assets, profit on operating activities / total assets\n",
            "Bottom3 is logarithm of total assets, net profit / total assets, sales / short-term liabilities\n",
            "==================================================\n"
          ],
          "name": "stdout"
        }
      ]
    },
    {
      "cell_type": "markdown",
      "metadata": {
        "id": "0xloH4Q4_V1v",
        "colab_type": "text"
      },
      "source": [
        "모두 재정 건전성(?)과 관계가 있는 것 같음 - sales, profit, equity, short-term liabilities 관련 변수들이 많이 반영됨"
      ]
    },
    {
      "cell_type": "code",
      "metadata": {
        "id": "i6LAugVj3YuU",
        "colab_type": "code",
        "outputId": "3a7f3bb2-3aa8-4b99-c439-5cae47c7410c",
        "colab": {
          "base_uri": "https://localhost:8080/",
          "height": 195
        }
      },
      "source": [
        "fa_df_top2 = pd.DataFrame(fa.fit_transform(X_scaled)[:, :2], columns=['Factor1', 'Factor2'])\n",
        "fa_df_top2['class'] = y.astype(np.int)\n",
        "fa_df_top2.head()"
      ],
      "execution_count": 24,
      "outputs": [
        {
          "output_type": "execute_result",
          "data": {
            "text/html": [
              "<div>\n",
              "<style scoped>\n",
              "    .dataframe tbody tr th:only-of-type {\n",
              "        vertical-align: middle;\n",
              "    }\n",
              "\n",
              "    .dataframe tbody tr th {\n",
              "        vertical-align: top;\n",
              "    }\n",
              "\n",
              "    .dataframe thead th {\n",
              "        text-align: right;\n",
              "    }\n",
              "</style>\n",
              "<table border=\"1\" class=\"dataframe\">\n",
              "  <thead>\n",
              "    <tr style=\"text-align: right;\">\n",
              "      <th></th>\n",
              "      <th>Factor1</th>\n",
              "      <th>Factor2</th>\n",
              "      <th>class</th>\n",
              "    </tr>\n",
              "  </thead>\n",
              "  <tbody>\n",
              "    <tr>\n",
              "      <th>0</th>\n",
              "      <td>-0.366158</td>\n",
              "      <td>0.356621</td>\n",
              "      <td>0</td>\n",
              "    </tr>\n",
              "    <tr>\n",
              "      <th>1</th>\n",
              "      <td>2.729368</td>\n",
              "      <td>-0.157320</td>\n",
              "      <td>0</td>\n",
              "    </tr>\n",
              "    <tr>\n",
              "      <th>2</th>\n",
              "      <td>-2.053705</td>\n",
              "      <td>0.416218</td>\n",
              "      <td>0</td>\n",
              "    </tr>\n",
              "    <tr>\n",
              "      <th>3</th>\n",
              "      <td>0.256449</td>\n",
              "      <td>0.322400</td>\n",
              "      <td>0</td>\n",
              "    </tr>\n",
              "    <tr>\n",
              "      <th>4</th>\n",
              "      <td>0.794249</td>\n",
              "      <td>0.090685</td>\n",
              "      <td>0</td>\n",
              "    </tr>\n",
              "  </tbody>\n",
              "</table>\n",
              "</div>"
            ],
            "text/plain": [
              "    Factor1   Factor2  class\n",
              "0 -0.366158  0.356621      0\n",
              "1  2.729368 -0.157320      0\n",
              "2 -2.053705  0.416218      0\n",
              "3  0.256449  0.322400      0\n",
              "4  0.794249  0.090685      0"
            ]
          },
          "metadata": {
            "tags": []
          },
          "execution_count": 24
        }
      ]
    },
    {
      "cell_type": "code",
      "metadata": {
        "id": "bOP646nT3Y1E",
        "colab_type": "code",
        "outputId": "e67a58f1-f95e-4362-e881-d9d6322f6709",
        "colab": {
          "base_uri": "https://localhost:8080/",
          "height": 388
        }
      },
      "source": [
        "plt.figure(figsize=(8, 6))\n",
        "sns.scatterplot(x='Factor1', y='Factor2', data=fa_df_top2, hue='class', palette='plasma');"
      ],
      "execution_count": 25,
      "outputs": [
        {
          "output_type": "display_data",
          "data": {
            "image/png": "[encoded data removed]",
            "text/plain": [
              "<Figure size 576x432 with 1 Axes>"
            ]
          },
          "metadata": {
            "tags": []
          }
        }
      ]
    },
    {
      "cell_type": "markdown",
      "metadata": {
        "id": "MghQy7uA2Zhk",
        "colab_type": "text"
      },
      "source": [
        "부도가 난 회사들은 대부분 Factor1의 - 부분과, Factor2의 0 부분에 위치하는 것으로 보아 재정건전성이 부족해 보인다 <br>\n",
        "그 다음으로, 어떤 변수들의 정보량이 Factor에 많이 반영되었는지 알아보자."
      ]
    },
    {
      "cell_type": "code",
      "metadata": {
        "id": "wI1zGjzK2ZqR",
        "colab_type": "code",
        "outputId": "e21fc5bb-f22c-4d01-f907-791a8b4526d3",
        "colab": {
          "base_uri": "https://localhost:8080/",
          "height": 185
        }
      },
      "source": [
        "top10 = np.argsort(-fa.get_communalities())[:10]\n",
        "\n",
        "for t in top10:\n",
        "  print(real_columns[t])"
      ],
      "execution_count": 26,
      "outputs": [
        {
          "output_type": "stream",
          "text": [
            "sales (n) / sales (n-1)\n",
            "profit on operating activities / financial expenses\n",
            "long-term liabilities / equity\n",
            "[(cash + short-term securities + receivables - short-term liabilities) / (operating expenses - depreciation)] * 365\n",
            "sales / receivables\n",
            "net profit / sales\n",
            "total costs /total sales\n",
            "EBITDA (profit on operating activities - depreciation) / sales\n",
            "(sales - cost of products sold) / sales\n",
            "sales / total assets\n"
          ],
          "name": "stdout"
        }
      ]
    },
    {
      "cell_type": "markdown",
      "metadata": {
        "id": "RWuX3biA2Zvs",
        "colab_type": "text"
      },
      "source": [
        "Liabilites, Profit, Sales 관련된 변수들이 많이 반영되었음을 알 수 있다"
      ]
    },
    {
      "cell_type": "code",
      "metadata": {
        "id": "fgbd9rr0yJhG",
        "colab_type": "code",
        "colab": {}
      },
      "source": [
        ""
      ],
      "execution_count": 0,
      "outputs": []
    },
    {
      "cell_type": "code",
      "metadata": {
        "id": "dj7Ok7ACyJcl",
        "colab_type": "code",
        "colab": {}
      },
      "source": [
        ""
      ],
      "execution_count": 0,
      "outputs": []
    },
    {
      "cell_type": "code",
      "metadata": {
        "id": "FJZXo2--yJMF",
        "colab_type": "code",
        "colab": {}
      },
      "source": [
        ""
      ],
      "execution_count": 0,
      "outputs": []
    }
  ]
}