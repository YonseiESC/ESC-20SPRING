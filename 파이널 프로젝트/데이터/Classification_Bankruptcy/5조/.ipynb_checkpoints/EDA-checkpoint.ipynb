{
 "cells": [
  {
   "cell_type": "code",
   "execution_count": 1,
   "metadata": {},
   "outputs": [],
   "source": [
    "import numpy as np\n",
    "import pandas as pd\n",
    "import matplotlib.pyplot as plt\n",
    "import seaborn as sns\n",
    "%matplotlib inline"
   ]
  },
  {
   "cell_type": "code",
   "execution_count": 2,
   "metadata": {},
   "outputs": [],
   "source": [
    "#df = pd.read_csv('../FS_2y_before_Bankruptcy_train.csv')"
   ]
  },
  {
   "cell_type": "code",
   "execution_count": 3,
   "metadata": {},
   "outputs": [],
   "source": [
    "#df.head()"
   ]
  },
  {
   "cell_type": "code",
   "execution_count": 4,
   "metadata": {},
   "outputs": [],
   "source": [
    "#df['class'].value_counts()"
   ]
  },
  {
   "cell_type": "code",
   "execution_count": 5,
   "metadata": {},
   "outputs": [],
   "source": [
    "#df.dtypes"
   ]
  },
  {
   "cell_type": "code",
   "execution_count": 6,
   "metadata": {},
   "outputs": [],
   "source": [
    "#df.replace('?', np.nan, inplace=True)"
   ]
  },
  {
   "cell_type": "code",
   "execution_count": 7,
   "metadata": {},
   "outputs": [],
   "source": [
    "#print([*df.isnull().sum()])"
   ]
  },
  {
   "cell_type": "code",
   "execution_count": 8,
   "metadata": {},
   "outputs": [],
   "source": [
    "#df.to_csv(\"na_filled_train.csv\", index=False)"
   ]
  },
  {
   "cell_type": "code",
   "execution_count": 109,
   "metadata": {},
   "outputs": [],
   "source": [
    "df = pd.read_csv(\"na_filled_train.csv\")"
   ]
  },
  {
   "cell_type": "code",
   "execution_count": 3,
   "metadata": {},
   "outputs": [
    {
     "data": {
      "text/html": [
       "<div>\n",
       "<style scoped>\n",
       "    .dataframe tbody tr th:only-of-type {\n",
       "        vertical-align: middle;\n",
       "    }\n",
       "\n",
       "    .dataframe tbody tr th {\n",
       "        vertical-align: top;\n",
       "    }\n",
       "\n",
       "    .dataframe thead th {\n",
       "        text-align: right;\n",
       "    }\n",
       "</style>\n",
       "<table border=\"1\" class=\"dataframe\">\n",
       "  <thead>\n",
       "    <tr style=\"text-align: right;\">\n",
       "      <th></th>\n",
       "      <th>Attr1</th>\n",
       "      <th>Attr2</th>\n",
       "      <th>Attr3</th>\n",
       "      <th>Attr4</th>\n",
       "      <th>Attr5</th>\n",
       "      <th>Attr6</th>\n",
       "      <th>Attr7</th>\n",
       "      <th>Attr8</th>\n",
       "      <th>Attr9</th>\n",
       "      <th>Attr10</th>\n",
       "      <th>...</th>\n",
       "      <th>Attr56</th>\n",
       "      <th>Attr57</th>\n",
       "      <th>Attr58</th>\n",
       "      <th>Attr59</th>\n",
       "      <th>Attr60</th>\n",
       "      <th>Attr61</th>\n",
       "      <th>Attr62</th>\n",
       "      <th>Attr63</th>\n",
       "      <th>Attr64</th>\n",
       "      <th>class</th>\n",
       "    </tr>\n",
       "  </thead>\n",
       "  <tbody>\n",
       "    <tr>\n",
       "      <th>0</th>\n",
       "      <td>-0.024558</td>\n",
       "      <td>0.30051</td>\n",
       "      <td>0.10733</td>\n",
       "      <td>1.8368</td>\n",
       "      <td>34.382</td>\n",
       "      <td>-0.026711</td>\n",
       "      <td>-0.020067</td>\n",
       "      <td>2.2519</td>\n",
       "      <td>1.06670</td>\n",
       "      <td>0.67673</td>\n",
       "      <td>...</td>\n",
       "      <td>0.062497</td>\n",
       "      <td>-0.036289</td>\n",
       "      <td>0.93750</td>\n",
       "      <td>0.25454</td>\n",
       "      <td>13.6320</td>\n",
       "      <td>3.6930</td>\n",
       "      <td>69.389</td>\n",
       "      <td>5.2602</td>\n",
       "      <td>0.8826</td>\n",
       "      <td>0</td>\n",
       "    </tr>\n",
       "    <tr>\n",
       "      <th>1</th>\n",
       "      <td>0.639180</td>\n",
       "      <td>0.00000</td>\n",
       "      <td>1.00000</td>\n",
       "      <td>NaN</td>\n",
       "      <td>29.678</td>\n",
       "      <td>-1.139300</td>\n",
       "      <td>0.760520</td>\n",
       "      <td>NaN</td>\n",
       "      <td>1.11850</td>\n",
       "      <td>1.00000</td>\n",
       "      <td>...</td>\n",
       "      <td>0.679830</td>\n",
       "      <td>0.639180</td>\n",
       "      <td>0.32014</td>\n",
       "      <td>0.00000</td>\n",
       "      <td>NaN</td>\n",
       "      <td>37.8860</td>\n",
       "      <td>0.000</td>\n",
       "      <td>NaN</td>\n",
       "      <td>NaN</td>\n",
       "      <td>0</td>\n",
       "    </tr>\n",
       "    <tr>\n",
       "      <th>2</th>\n",
       "      <td>-0.440760</td>\n",
       "      <td>0.47723</td>\n",
       "      <td>0.19260</td>\n",
       "      <td>1.4678</td>\n",
       "      <td>34.555</td>\n",
       "      <td>0.000000</td>\n",
       "      <td>-0.440760</td>\n",
       "      <td>1.0954</td>\n",
       "      <td>1.51860</td>\n",
       "      <td>0.52277</td>\n",
       "      <td>...</td>\n",
       "      <td>-0.290590</td>\n",
       "      <td>-0.843130</td>\n",
       "      <td>1.28710</td>\n",
       "      <td>0.12538</td>\n",
       "      <td>NaN</td>\n",
       "      <td>2.5649</td>\n",
       "      <td>98.950</td>\n",
       "      <td>3.6887</td>\n",
       "      <td>3.8376</td>\n",
       "      <td>0</td>\n",
       "    </tr>\n",
       "    <tr>\n",
       "      <th>3</th>\n",
       "      <td>0.119520</td>\n",
       "      <td>0.17679</td>\n",
       "      <td>0.63546</td>\n",
       "      <td>4.5944</td>\n",
       "      <td>117.650</td>\n",
       "      <td>0.251540</td>\n",
       "      <td>0.148750</td>\n",
       "      <td>4.5826</td>\n",
       "      <td>1.12630</td>\n",
       "      <td>0.81017</td>\n",
       "      <td>...</td>\n",
       "      <td>0.112110</td>\n",
       "      <td>0.147520</td>\n",
       "      <td>0.88789</td>\n",
       "      <td>0.00000</td>\n",
       "      <td>8.9302</td>\n",
       "      <td>10.2870</td>\n",
       "      <td>40.355</td>\n",
       "      <td>9.0448</td>\n",
       "      <td>8.5169</td>\n",
       "      <td>0</td>\n",
       "    </tr>\n",
       "    <tr>\n",
       "      <th>4</th>\n",
       "      <td>0.230400</td>\n",
       "      <td>0.27095</td>\n",
       "      <td>0.23762</td>\n",
       "      <td>2.5745</td>\n",
       "      <td>-26.928</td>\n",
       "      <td>0.617540</td>\n",
       "      <td>0.282690</td>\n",
       "      <td>2.6907</td>\n",
       "      <td>0.80411</td>\n",
       "      <td>0.72905</td>\n",
       "      <td>...</td>\n",
       "      <td>0.459570</td>\n",
       "      <td>0.316020</td>\n",
       "      <td>0.62320</td>\n",
       "      <td>0.16465</td>\n",
       "      <td>7.9274</td>\n",
       "      <td>6.6605</td>\n",
       "      <td>68.502</td>\n",
       "      <td>5.3283</td>\n",
       "      <td>1.3150</td>\n",
       "      <td>0</td>\n",
       "    </tr>\n",
       "  </tbody>\n",
       "</table>\n",
       "<p>5 rows × 65 columns</p>\n",
       "</div>"
      ],
      "text/plain": [
       "      Attr1    Attr2    Attr3   Attr4    Attr5     Attr6     Attr7   Attr8  \\\n",
       "0 -0.024558  0.30051  0.10733  1.8368   34.382 -0.026711 -0.020067  2.2519   \n",
       "1  0.639180  0.00000  1.00000     NaN   29.678 -1.139300  0.760520     NaN   \n",
       "2 -0.440760  0.47723  0.19260  1.4678   34.555  0.000000 -0.440760  1.0954   \n",
       "3  0.119520  0.17679  0.63546  4.5944  117.650  0.251540  0.148750  4.5826   \n",
       "4  0.230400  0.27095  0.23762  2.5745  -26.928  0.617540  0.282690  2.6907   \n",
       "\n",
       "     Attr9   Attr10  ...    Attr56    Attr57   Attr58   Attr59   Attr60  \\\n",
       "0  1.06670  0.67673  ...  0.062497 -0.036289  0.93750  0.25454  13.6320   \n",
       "1  1.11850  1.00000  ...  0.679830  0.639180  0.32014  0.00000      NaN   \n",
       "2  1.51860  0.52277  ... -0.290590 -0.843130  1.28710  0.12538      NaN   \n",
       "3  1.12630  0.81017  ...  0.112110  0.147520  0.88789  0.00000   8.9302   \n",
       "4  0.80411  0.72905  ...  0.459570  0.316020  0.62320  0.16465   7.9274   \n",
       "\n",
       "    Attr61  Attr62  Attr63  Attr64  class  \n",
       "0   3.6930  69.389  5.2602  0.8826      0  \n",
       "1  37.8860   0.000     NaN     NaN      0  \n",
       "2   2.5649  98.950  3.6887  3.8376      0  \n",
       "3  10.2870  40.355  9.0448  8.5169      0  \n",
       "4   6.6605  68.502  5.3283  1.3150      0  \n",
       "\n",
       "[5 rows x 65 columns]"
      ]
     },
     "execution_count": 3,
     "metadata": {},
     "output_type": "execute_result"
    }
   ],
   "source": [
    "df.head()"
   ]
  },
  {
   "cell_type": "code",
   "execution_count": 4,
   "metadata": {},
   "outputs": [
    {
     "name": "stdout",
     "output_type": "stream",
     "text": [
      "[(0, 0), (1, 0), (2, 0), (3, 28), (4, 15), (5, 0), (6, 0), (7, 15), (8, 0), (9, 0), (10, 0), (11, 28), (12, 14), (13, 0), (14, 5), (15, 15), (16, 15), (17, 0), (18, 14), (19, 14), (20, 112), (21, 0), (22, 14), (23, 149), (24, 0), (25, 15), (26, 462), (27, 162), (28, 0), (29, 14), (30, 14), (31, 72), (32, 28), (33, 15), (34, 0), (35, 0), (36, 3100), (37, 0), (38, 14), (39, 28), (40, 142), (41, 14), (42, 14), (43, 14), (44, 418), (45, 28), (46, 57), (47, 0), (48, 14), (49, 15), (50, 0), (51, 60), (52, 162), (53, 162), (54, 0), (55, 14), (56, 1), (57, 10), (58, 1), (59, 420), (60, 20), (61, 14), (62, 28), (63, 162), (64, 0)]\n"
     ]
    }
   ],
   "source": [
    "print([*enumerate([*df.isnull().sum()])])"
   ]
  },
  {
   "cell_type": "code",
   "execution_count": 5,
   "metadata": {},
   "outputs": [
    {
     "data": {
      "text/html": [
       "<div>\n",
       "<style scoped>\n",
       "    .dataframe tbody tr th:only-of-type {\n",
       "        vertical-align: middle;\n",
       "    }\n",
       "\n",
       "    .dataframe tbody tr th {\n",
       "        vertical-align: top;\n",
       "    }\n",
       "\n",
       "    .dataframe thead th {\n",
       "        text-align: right;\n",
       "    }\n",
       "</style>\n",
       "<table border=\"1\" class=\"dataframe\">\n",
       "  <thead>\n",
       "    <tr style=\"text-align: right;\">\n",
       "      <th></th>\n",
       "      <th>Attr1</th>\n",
       "      <th>Attr2</th>\n",
       "      <th>Attr3</th>\n",
       "      <th>Attr4</th>\n",
       "      <th>Attr5</th>\n",
       "      <th>Attr6</th>\n",
       "      <th>Attr7</th>\n",
       "      <th>Attr8</th>\n",
       "      <th>Attr9</th>\n",
       "      <th>Attr10</th>\n",
       "      <th>...</th>\n",
       "      <th>Attr56</th>\n",
       "      <th>Attr57</th>\n",
       "      <th>Attr58</th>\n",
       "      <th>Attr59</th>\n",
       "      <th>Attr60</th>\n",
       "      <th>Attr61</th>\n",
       "      <th>Attr62</th>\n",
       "      <th>Attr63</th>\n",
       "      <th>Attr64</th>\n",
       "      <th>class</th>\n",
       "    </tr>\n",
       "  </thead>\n",
       "  <tbody>\n",
       "    <tr>\n",
       "      <th>0</th>\n",
       "      <td>-0.024558</td>\n",
       "      <td>0.30051</td>\n",
       "      <td>0.10733</td>\n",
       "      <td>1.8368</td>\n",
       "      <td>34.382</td>\n",
       "      <td>-0.026711</td>\n",
       "      <td>-0.020067</td>\n",
       "      <td>2.2519</td>\n",
       "      <td>1.06670</td>\n",
       "      <td>0.67673</td>\n",
       "      <td>...</td>\n",
       "      <td>0.062497</td>\n",
       "      <td>-0.036289</td>\n",
       "      <td>0.93750</td>\n",
       "      <td>0.25454</td>\n",
       "      <td>13.6320</td>\n",
       "      <td>3.6930</td>\n",
       "      <td>69.389</td>\n",
       "      <td>5.2602</td>\n",
       "      <td>0.8826</td>\n",
       "      <td>0</td>\n",
       "    </tr>\n",
       "    <tr>\n",
       "      <th>1</th>\n",
       "      <td>0.639180</td>\n",
       "      <td>0.00000</td>\n",
       "      <td>1.00000</td>\n",
       "      <td>NaN</td>\n",
       "      <td>29.678</td>\n",
       "      <td>-1.139300</td>\n",
       "      <td>0.760520</td>\n",
       "      <td>NaN</td>\n",
       "      <td>1.11850</td>\n",
       "      <td>1.00000</td>\n",
       "      <td>...</td>\n",
       "      <td>0.679830</td>\n",
       "      <td>0.639180</td>\n",
       "      <td>0.32014</td>\n",
       "      <td>0.00000</td>\n",
       "      <td>NaN</td>\n",
       "      <td>37.8860</td>\n",
       "      <td>0.000</td>\n",
       "      <td>NaN</td>\n",
       "      <td>NaN</td>\n",
       "      <td>0</td>\n",
       "    </tr>\n",
       "    <tr>\n",
       "      <th>2</th>\n",
       "      <td>-0.440760</td>\n",
       "      <td>0.47723</td>\n",
       "      <td>0.19260</td>\n",
       "      <td>1.4678</td>\n",
       "      <td>34.555</td>\n",
       "      <td>0.000000</td>\n",
       "      <td>-0.440760</td>\n",
       "      <td>1.0954</td>\n",
       "      <td>1.51860</td>\n",
       "      <td>0.52277</td>\n",
       "      <td>...</td>\n",
       "      <td>-0.290590</td>\n",
       "      <td>-0.843130</td>\n",
       "      <td>1.28710</td>\n",
       "      <td>0.12538</td>\n",
       "      <td>NaN</td>\n",
       "      <td>2.5649</td>\n",
       "      <td>98.950</td>\n",
       "      <td>3.6887</td>\n",
       "      <td>3.8376</td>\n",
       "      <td>0</td>\n",
       "    </tr>\n",
       "    <tr>\n",
       "      <th>3</th>\n",
       "      <td>0.119520</td>\n",
       "      <td>0.17679</td>\n",
       "      <td>0.63546</td>\n",
       "      <td>4.5944</td>\n",
       "      <td>117.650</td>\n",
       "      <td>0.251540</td>\n",
       "      <td>0.148750</td>\n",
       "      <td>4.5826</td>\n",
       "      <td>1.12630</td>\n",
       "      <td>0.81017</td>\n",
       "      <td>...</td>\n",
       "      <td>0.112110</td>\n",
       "      <td>0.147520</td>\n",
       "      <td>0.88789</td>\n",
       "      <td>0.00000</td>\n",
       "      <td>8.9302</td>\n",
       "      <td>10.2870</td>\n",
       "      <td>40.355</td>\n",
       "      <td>9.0448</td>\n",
       "      <td>8.5169</td>\n",
       "      <td>0</td>\n",
       "    </tr>\n",
       "    <tr>\n",
       "      <th>4</th>\n",
       "      <td>0.230400</td>\n",
       "      <td>0.27095</td>\n",
       "      <td>0.23762</td>\n",
       "      <td>2.5745</td>\n",
       "      <td>-26.928</td>\n",
       "      <td>0.617540</td>\n",
       "      <td>0.282690</td>\n",
       "      <td>2.6907</td>\n",
       "      <td>0.80411</td>\n",
       "      <td>0.72905</td>\n",
       "      <td>...</td>\n",
       "      <td>0.459570</td>\n",
       "      <td>0.316020</td>\n",
       "      <td>0.62320</td>\n",
       "      <td>0.16465</td>\n",
       "      <td>7.9274</td>\n",
       "      <td>6.6605</td>\n",
       "      <td>68.502</td>\n",
       "      <td>5.3283</td>\n",
       "      <td>1.3150</td>\n",
       "      <td>0</td>\n",
       "    </tr>\n",
       "  </tbody>\n",
       "</table>\n",
       "<p>5 rows × 65 columns</p>\n",
       "</div>"
      ],
      "text/plain": [
       "      Attr1    Attr2    Attr3   Attr4    Attr5     Attr6     Attr7   Attr8  \\\n",
       "0 -0.024558  0.30051  0.10733  1.8368   34.382 -0.026711 -0.020067  2.2519   \n",
       "1  0.639180  0.00000  1.00000     NaN   29.678 -1.139300  0.760520     NaN   \n",
       "2 -0.440760  0.47723  0.19260  1.4678   34.555  0.000000 -0.440760  1.0954   \n",
       "3  0.119520  0.17679  0.63546  4.5944  117.650  0.251540  0.148750  4.5826   \n",
       "4  0.230400  0.27095  0.23762  2.5745  -26.928  0.617540  0.282690  2.6907   \n",
       "\n",
       "     Attr9   Attr10  ...    Attr56    Attr57   Attr58   Attr59   Attr60  \\\n",
       "0  1.06670  0.67673  ...  0.062497 -0.036289  0.93750  0.25454  13.6320   \n",
       "1  1.11850  1.00000  ...  0.679830  0.639180  0.32014  0.00000      NaN   \n",
       "2  1.51860  0.52277  ... -0.290590 -0.843130  1.28710  0.12538      NaN   \n",
       "3  1.12630  0.81017  ...  0.112110  0.147520  0.88789  0.00000   8.9302   \n",
       "4  0.80411  0.72905  ...  0.459570  0.316020  0.62320  0.16465   7.9274   \n",
       "\n",
       "    Attr61  Attr62  Attr63  Attr64  class  \n",
       "0   3.6930  69.389  5.2602  0.8826      0  \n",
       "1  37.8860   0.000     NaN     NaN      0  \n",
       "2   2.5649  98.950  3.6887  3.8376      0  \n",
       "3  10.2870  40.355  9.0448  8.5169      0  \n",
       "4   6.6605  68.502  5.3283  1.3150      0  \n",
       "\n",
       "[5 rows x 65 columns]"
      ]
     },
     "execution_count": 5,
     "metadata": {},
     "output_type": "execute_result"
    }
   ],
   "source": [
    "df.head()"
   ]
  },
  {
   "cell_type": "code",
   "execution_count": 6,
   "metadata": {},
   "outputs": [],
   "source": [
    "#drop_list = []\n",
    "#for i in (15,17,19,20,34,41,42,44,46,55,57,62):\n",
    "    #drop_list.append(\"Attr\" + str(i))\n",
    "    \n",
    "#df.drop(drop_list, axis=1, inplace=True)"
   ]
  },
  {
   "cell_type": "code",
   "execution_count": 7,
   "metadata": {},
   "outputs": [],
   "source": [
    "df_raw = pd.read_csv(\"./na_filled_train.csv\")"
   ]
  },
  {
   "cell_type": "code",
   "execution_count": 110,
   "metadata": {},
   "outputs": [
    {
     "name": "stdout",
     "output_type": "stream",
     "text": [
      "Attr1 NA not found\n",
      "Attr2 NA not found\n",
      "Attr3 NA not found\n",
      "Attr4 NA found\n",
      "Attr5 NA found\n",
      "Attr6 NA not found\n",
      "Attr7 NA not found\n",
      "Attr8 NA found\n",
      "Attr9 NA not found\n",
      "Attr10 NA not found\n",
      "Attr11 NA not found\n",
      "Attr12 NA found\n",
      "Attr13 NA found\n",
      "Attr14 NA not found\n",
      "Attr15 NA found\n",
      "Attr16 NA found\n",
      "Attr17 NA found\n",
      "Attr18 NA not found\n",
      "Attr19 NA found\n",
      "Attr20 NA found\n",
      "Attr21 NA found\n",
      "Attr22 NA not found\n",
      "Attr23 NA found\n",
      "Attr24 NA found\n",
      "Attr25 NA not found\n",
      "Attr26 NA found\n",
      "Attr27 NA found\n",
      "Attr28 NA found\n",
      "Attr29 NA not found\n",
      "Attr30 NA found\n",
      "Attr31 NA found\n",
      "Attr32 NA found\n",
      "Attr33 NA found\n",
      "Attr34 NA found\n",
      "Attr35 NA not found\n",
      "Attr36 NA not found\n",
      "Attr37 NA found\n",
      "Attr38 NA not found\n",
      "Attr39 NA found\n",
      "Attr40 NA found\n",
      "Attr41 NA found\n",
      "Attr42 NA found\n",
      "Attr43 NA found\n",
      "Attr44 NA found\n",
      "Attr45 NA found\n",
      "Attr46 NA found\n",
      "Attr47 NA found\n",
      "Attr48 NA not found\n",
      "Attr49 NA found\n",
      "Attr50 NA found\n",
      "Attr51 NA not found\n",
      "Attr52 NA found\n",
      "Attr53 NA found\n",
      "Attr54 NA found\n",
      "Attr55 NA not found\n",
      "Attr56 NA found\n",
      "Attr57 NA found\n",
      "Attr58 NA found\n",
      "Attr59 NA found\n",
      "Attr60 NA found\n",
      "Attr61 NA found\n",
      "Attr62 NA found\n",
      "Attr63 NA found\n",
      "Attr64 NA found\n",
      "class NA not found\n"
     ]
    }
   ],
   "source": [
    "for idx, col in enumerate(df.columns):\n",
    "    if df[col].isnull().sum():\n",
    "        print(col, 'NA found')\n",
    "    else:\n",
    "        print(col, 'NA not found')"
   ]
  },
  {
   "cell_type": "code",
   "execution_count": 177,
   "metadata": {},
   "outputs": [],
   "source": [
    "total_assets = pd.Series(np.exp(df['Attr29']), index=df['Attr29'].index)\n",
    "total_equity = df['Attr10']* total_assets\n",
    "\n",
    "assert not bool(total_assets.isnull().sum())\n",
    "assert not bool(total_equity.isnull().sum())\n",
    "\n",
    "total_liabilities = total_assets - total_equity\n",
    "assert not bool(total_liabilities.isnull().sum())\n",
    "\n",
    "short_term_liabilities =  df['Attr51']  * total_assets\n",
    "long_term_liabilities = total_liabilities - short_term_liabilities\n",
    "\n",
    "assert not bool(short_term_liabilities.isnull().sum())\n",
    "assert not bool(long_term_liabilities.isnull().sum())\n",
    "\n",
    "total_sales = pd.Series(np.array(short_term_liabilities) * np.array(df['Attr36']))\n",
    "assert not bool(total_sales.isnull().sum())\n",
    "\n",
    "sales = total_assets* df['Attr9'].values\n",
    "assert not bool(sales.isnull().sum())"
   ]
  },
  {
   "cell_type": "markdown",
   "metadata": {},
   "source": [
    "### Attr4"
   ]
  },
  {
   "cell_type": "code",
   "execution_count": 113,
   "metadata": {},
   "outputs": [
    {
     "name": "stdout",
     "output_type": "stream",
     "text": [
      "15\n",
      "0.0006\n"
     ]
    }
   ],
   "source": [
    "current_assets = df['Attr50'] * total_liabilites\n",
    "print(current_assets.isnull().sum())\n",
    "\n",
    "current_assets.fillna(30.04, inplace=True)\n",
    "assert not bool(current_assets.isnull().sum())\n",
    "\n",
    "print([round(x, 4) for x in np.sort(short_term_liabilities) if x][0])\n",
    "\n",
    "min_short_term_liabilities = 0.006\n",
    "\n",
    "short_term_liabilities_new = short_term_liabilities.replace(0, min_short_term_liabilities)\n",
    "df['Attr4'] = current_assets / short_term_liabilities_new"
   ]
  },
  {
   "cell_type": "code",
   "execution_count": 114,
   "metadata": {},
   "outputs": [
    {
     "name": "stdout",
     "output_type": "stream",
     "text": [
      "count     6855.000000\n",
      "mean        33.219642\n",
      "std        546.989619\n",
      "min         -0.047351\n",
      "25%          1.062958\n",
      "50%          1.656112\n",
      "75%          3.066595\n",
      "max      29476.884654\n",
      "Name: Attr4, dtype: float64\n"
     ]
    }
   ],
   "source": [
    "print(df['Attr4'].describe())"
   ]
  },
  {
   "cell_type": "code",
   "execution_count": 123,
   "metadata": {},
   "outputs": [],
   "source": [
    "pd.set_option('display.max_rows', 100)"
   ]
  },
  {
   "cell_type": "markdown",
   "metadata": {},
   "source": [
    "46-64 <br>"
   ]
  },
  {
   "cell_type": "code",
   "execution_count": 156,
   "metadata": {},
   "outputs": [
    {
     "data": {
      "text/plain": [
       "6232   -2834.90\n",
       "4569   -1533.80\n",
       "4562   -1191.60\n",
       "4982    -784.52\n",
       "4588    -337.90\n",
       "         ...   \n",
       "6711        NaN\n",
       "6717        NaN\n",
       "6731        NaN\n",
       "6749        NaN\n",
       "6829        NaN\n",
       "Name: Attr45, Length: 6855, dtype: float64"
      ]
     },
     "execution_count": 156,
     "metadata": {},
     "output_type": "execute_result"
    }
   ],
   "source": [
    "df['Attr45'].sort_values(ascending=True)"
   ]
  },
  {
   "cell_type": "code",
   "execution_count": 157,
   "metadata": {},
   "outputs": [],
   "source": [
    "drop_rows = {2555,2099,4994,1458,3074,1593,5377,423,1207,1934,1593} |  \\\n",
    "{423, 998, 2555, 3527, 5249, 5313, 2654, 5810, 2008, 4192, 2099, 6665, 3074, 1458, 6424, 1593, 6232}"
   ]
  },
  {
   "cell_type": "code",
   "execution_count": 165,
   "metadata": {},
   "outputs": [
    {
     "data": {
      "text/plain": [
       "21"
      ]
     },
     "execution_count": 165,
     "metadata": {},
     "output_type": "execute_result"
    }
   ],
   "source": [
    "len(drop_rows)"
   ]
  },
  {
   "cell_type": "code",
   "execution_count": 161,
   "metadata": {},
   "outputs": [],
   "source": [
    "for row in drop_rows:\n",
    "    if df['class'][row] == 1:\n",
    "        continue\n",
    "    elif df['class'][row] == 0:\n",
    "        df.drop([row], axis=0, inplace=True)"
   ]
  },
  {
   "cell_type": "code",
   "execution_count": 168,
   "metadata": {},
   "outputs": [],
   "source": [
    "df.reset_index(inplace=True)"
   ]
  },
  {
   "cell_type": "code",
   "execution_count": 174,
   "metadata": {},
   "outputs": [],
   "source": [
    "df = pd.read_csv('outlier_removed_train.csv')"
   ]
  },
  {
   "cell_type": "code",
   "execution_count": 183,
   "metadata": {},
   "outputs": [],
   "source": [
    "total_assets = pd.Series(np.exp(df['Attr29']), index=df['Attr29'].index)\n",
    "total_equity = df['Attr10']* total_assets\n",
    "\n",
    "assert not bool(total_assets.isnull().sum())\n",
    "assert not bool(total_equity.isnull().sum())\n",
    "\n",
    "total_liabilities = total_assets - total_equity\n",
    "assert not bool(total_liabilities.isnull().sum())\n",
    "\n",
    "short_term_liabilities =  df['Attr51']  * total_assets\n",
    "long_term_liabilities = total_liabilities - short_term_liabilities\n",
    "\n",
    "assert not bool(short_term_liabilities.isnull().sum())\n",
    "assert not bool(long_term_liabilities.isnull().sum())\n",
    "\n",
    "total_sales = pd.Series(np.array(short_term_liabilities) * np.array(df['Attr36']))\n",
    "assert not bool(total_sales.isnull().sum())\n",
    "\n",
    "sales = total_assets* df['Attr9'].values\n",
    "assert not bool(sales.isnull().sum())\n",
    "\n",
    "gross_profit = total_assets * df['Attr18']"
   ]
  },
  {
   "cell_type": "code",
   "execution_count": 180,
   "metadata": {},
   "outputs": [
    {
     "name": "stdout",
     "output_type": "stream",
     "text": [
      "Attr1 NA not found\n",
      "Attr2 NA not found\n",
      "Attr3 NA not found\n",
      "Attr4 NA not found\n",
      "Attr5 NA found\n",
      "Attr6 NA not found\n",
      "Attr7 NA not found\n",
      "Attr8 NA found\n",
      "Attr9 NA not found\n",
      "Attr10 NA not found\n",
      "Attr11 NA not found\n",
      "Attr12 NA found\n",
      "Attr13 NA found\n",
      "Attr14 NA not found\n",
      "Attr15 NA found\n",
      "Attr16 NA found\n",
      "Attr17 NA found\n",
      "Attr18 NA not found\n",
      "Attr19 NA found\n",
      "Attr20 NA found\n",
      "Attr21 NA found\n",
      "Attr22 NA not found\n",
      "Attr23 NA found\n",
      "Attr24 NA found\n",
      "Attr25 NA not found\n",
      "Attr26 NA found\n",
      "Attr27 NA found\n",
      "Attr28 NA found\n",
      "Attr29 NA not found\n",
      "Attr30 NA found\n",
      "Attr31 NA found\n",
      "Attr32 NA found\n",
      "Attr33 NA found\n",
      "Attr34 NA found\n",
      "Attr35 NA not found\n",
      "Attr36 NA not found\n",
      "Attr37 NA found\n",
      "Attr38 NA not found\n",
      "Attr39 NA found\n",
      "Attr40 NA found\n",
      "Attr41 NA found\n",
      "Attr42 NA found\n",
      "Attr43 NA found\n",
      "Attr44 NA found\n",
      "Attr45 NA found\n",
      "Attr46 NA found\n",
      "Attr47 NA found\n",
      "Attr48 NA not found\n",
      "Attr49 NA found\n",
      "Attr50 NA found\n",
      "Attr51 NA not found\n",
      "Attr52 NA found\n",
      "Attr53 NA found\n",
      "Attr54 NA found\n",
      "Attr55 NA not found\n",
      "Attr56 NA found\n",
      "Attr57 NA found\n",
      "Attr58 NA found\n",
      "Attr59 NA found\n",
      "Attr60 NA found\n",
      "Attr61 NA found\n",
      "Attr62 NA found\n",
      "Attr63 NA found\n",
      "Attr64 NA found\n",
      "class NA not found\n"
     ]
    }
   ],
   "source": [
    "for idx, col in enumerate(df.columns):\n",
    "    if df[col].isnull().sum():\n",
    "        print(col, 'NA found')\n",
    "    else:\n",
    "        print(col, 'NA not found')"
   ]
  },
  {
   "cell_type": "markdown",
   "metadata": {},
   "source": [
    "5번은 simple imputation, 8번도 simple"
   ]
  },
  {
   "cell_type": "code",
   "execution_count": 182,
   "metadata": {},
   "outputs": [
    {
     "data": {
      "text/plain": [
       "9"
      ]
     },
     "execution_count": 182,
     "metadata": {},
     "output_type": "execute_result"
    }
   ],
   "source": [
    "(total_liabilities == 0).sum()"
   ]
  },
  {
   "cell_type": "code",
   "execution_count": 191,
   "metadata": {},
   "outputs": [
    {
     "data": {
      "text/plain": [
       "0    5488\n",
       "1     156\n",
       "Name: class, dtype: int64"
      ]
     },
     "execution_count": 191,
     "metadata": {},
     "output_type": "execute_result"
    }
   ],
   "source": [
    "df.drop(['Attr37'], axis=1).dropna()['class'].value_counts()"
   ]
  },
  {
   "cell_type": "code",
   "execution_count": 192,
   "metadata": {},
   "outputs": [
    {
     "data": {
      "text/plain": [
       "0    6475\n",
       "1     361\n",
       "Name: class, dtype: int64"
      ]
     },
     "execution_count": 192,
     "metadata": {},
     "output_type": "execute_result"
    }
   ],
   "source": [
    "df['class'].value_counts()"
   ]
  },
  {
   "cell_type": "code",
   "execution_count": null,
   "metadata": {},
   "outputs": [],
   "source": []
  },
  {
   "cell_type": "code",
   "execution_count": null,
   "metadata": {},
   "outputs": [],
   "source": []
  },
  {
   "cell_type": "code",
   "execution_count": null,
   "metadata": {},
   "outputs": [],
   "source": []
  },
  {
   "cell_type": "code",
   "execution_count": null,
   "metadata": {},
   "outputs": [],
   "source": []
  },
  {
   "cell_type": "code",
   "execution_count": null,
   "metadata": {},
   "outputs": [],
   "source": []
  },
  {
   "cell_type": "code",
   "execution_count": null,
   "metadata": {},
   "outputs": [],
   "source": []
  },
  {
   "cell_type": "code",
   "execution_count": null,
   "metadata": {},
   "outputs": [],
   "source": []
  },
  {
   "cell_type": "code",
   "execution_count": null,
   "metadata": {},
   "outputs": [],
   "source": []
  },
  {
   "cell_type": "code",
   "execution_count": null,
   "metadata": {},
   "outputs": [],
   "source": []
  },
  {
   "cell_type": "code",
   "execution_count": null,
   "metadata": {},
   "outputs": [],
   "source": []
  },
  {
   "cell_type": "code",
   "execution_count": null,
   "metadata": {},
   "outputs": [],
   "source": []
  },
  {
   "cell_type": "code",
   "execution_count": null,
   "metadata": {},
   "outputs": [],
   "source": []
  },
  {
   "cell_type": "code",
   "execution_count": null,
   "metadata": {},
   "outputs": [],
   "source": []
  },
  {
   "cell_type": "code",
   "execution_count": null,
   "metadata": {},
   "outputs": [],
   "source": []
  },
  {
   "cell_type": "code",
   "execution_count": null,
   "metadata": {},
   "outputs": [],
   "source": []
  },
  {
   "cell_type": "code",
   "execution_count": null,
   "metadata": {},
   "outputs": [],
   "source": []
  },
  {
   "cell_type": "code",
   "execution_count": null,
   "metadata": {},
   "outputs": [],
   "source": []
  },
  {
   "cell_type": "code",
   "execution_count": null,
   "metadata": {},
   "outputs": [],
   "source": []
  },
  {
   "cell_type": "code",
   "execution_count": null,
   "metadata": {},
   "outputs": [],
   "source": []
  },
  {
   "cell_type": "code",
   "execution_count": null,
   "metadata": {},
   "outputs": [],
   "source": []
  },
  {
   "cell_type": "code",
   "execution_count": null,
   "metadata": {},
   "outputs": [],
   "source": []
  },
  {
   "cell_type": "code",
   "execution_count": null,
   "metadata": {},
   "outputs": [],
   "source": []
  },
  {
   "cell_type": "code",
   "execution_count": null,
   "metadata": {},
   "outputs": [],
   "source": []
  },
  {
   "cell_type": "code",
   "execution_count": null,
   "metadata": {},
   "outputs": [],
   "source": []
  },
  {
   "cell_type": "code",
   "execution_count": null,
   "metadata": {},
   "outputs": [],
   "source": []
  },
  {
   "cell_type": "code",
   "execution_count": null,
   "metadata": {},
   "outputs": [],
   "source": []
  },
  {
   "cell_type": "code",
   "execution_count": null,
   "metadata": {},
   "outputs": [],
   "source": []
  },
  {
   "cell_type": "code",
   "execution_count": null,
   "metadata": {},
   "outputs": [],
   "source": []
  },
  {
   "cell_type": "code",
   "execution_count": null,
   "metadata": {},
   "outputs": [],
   "source": []
  },
  {
   "cell_type": "code",
   "execution_count": null,
   "metadata": {},
   "outputs": [],
   "source": []
  },
  {
   "cell_type": "code",
   "execution_count": null,
   "metadata": {},
   "outputs": [],
   "source": []
  },
  {
   "cell_type": "code",
   "execution_count": null,
   "metadata": {},
   "outputs": [],
   "source": []
  },
  {
   "cell_type": "code",
   "execution_count": null,
   "metadata": {},
   "outputs": [],
   "source": []
  },
  {
   "cell_type": "code",
   "execution_count": null,
   "metadata": {},
   "outputs": [],
   "source": []
  },
  {
   "cell_type": "code",
   "execution_count": null,
   "metadata": {},
   "outputs": [],
   "source": []
  },
  {
   "cell_type": "code",
   "execution_count": null,
   "metadata": {},
   "outputs": [],
   "source": []
  },
  {
   "cell_type": "code",
   "execution_count": null,
   "metadata": {},
   "outputs": [],
   "source": []
  },
  {
   "cell_type": "code",
   "execution_count": null,
   "metadata": {},
   "outputs": [],
   "source": []
  },
  {
   "cell_type": "code",
   "execution_count": null,
   "metadata": {},
   "outputs": [],
   "source": []
  },
  {
   "cell_type": "code",
   "execution_count": null,
   "metadata": {},
   "outputs": [],
   "source": []
  },
  {
   "cell_type": "code",
   "execution_count": null,
   "metadata": {},
   "outputs": [],
   "source": []
  },
  {
   "cell_type": "code",
   "execution_count": null,
   "metadata": {},
   "outputs": [],
   "source": []
  },
  {
   "cell_type": "code",
   "execution_count": null,
   "metadata": {},
   "outputs": [],
   "source": []
  },
  {
   "cell_type": "code",
   "execution_count": null,
   "metadata": {},
   "outputs": [],
   "source": []
  },
  {
   "cell_type": "code",
   "execution_count": null,
   "metadata": {},
   "outputs": [],
   "source": []
  },
  {
   "cell_type": "code",
   "execution_count": null,
   "metadata": {},
   "outputs": [],
   "source": []
  },
  {
   "cell_type": "code",
   "execution_count": null,
   "metadata": {},
   "outputs": [],
   "source": []
  },
  {
   "cell_type": "code",
   "execution_count": null,
   "metadata": {},
   "outputs": [],
   "source": []
  },
  {
   "cell_type": "code",
   "execution_count": null,
   "metadata": {},
   "outputs": [],
   "source": []
  },
  {
   "cell_type": "code",
   "execution_count": null,
   "metadata": {},
   "outputs": [],
   "source": []
  },
  {
   "cell_type": "code",
   "execution_count": null,
   "metadata": {},
   "outputs": [],
   "source": []
  },
  {
   "cell_type": "code",
   "execution_count": null,
   "metadata": {},
   "outputs": [],
   "source": []
  },
  {
   "cell_type": "code",
   "execution_count": null,
   "metadata": {},
   "outputs": [],
   "source": []
  },
  {
   "cell_type": "code",
   "execution_count": null,
   "metadata": {},
   "outputs": [],
   "source": []
  },
  {
   "cell_type": "code",
   "execution_count": null,
   "metadata": {},
   "outputs": [],
   "source": []
  },
  {
   "cell_type": "code",
   "execution_count": null,
   "metadata": {},
   "outputs": [],
   "source": []
  },
  {
   "cell_type": "code",
   "execution_count": null,
   "metadata": {},
   "outputs": [],
   "source": []
  },
  {
   "cell_type": "code",
   "execution_count": null,
   "metadata": {},
   "outputs": [],
   "source": []
  },
  {
   "cell_type": "code",
   "execution_count": null,
   "metadata": {},
   "outputs": [],
   "source": []
  },
  {
   "cell_type": "code",
   "execution_count": null,
   "metadata": {},
   "outputs": [],
   "source": []
  },
  {
   "cell_type": "code",
   "execution_count": null,
   "metadata": {},
   "outputs": [],
   "source": []
  },
  {
   "cell_type": "code",
   "execution_count": null,
   "metadata": {},
   "outputs": [],
   "source": []
  },
  {
   "cell_type": "code",
   "execution_count": null,
   "metadata": {},
   "outputs": [],
   "source": []
  },
  {
   "cell_type": "code",
   "execution_count": null,
   "metadata": {},
   "outputs": [],
   "source": []
  },
  {
   "cell_type": "code",
   "execution_count": null,
   "metadata": {},
   "outputs": [],
   "source": []
  },
  {
   "cell_type": "code",
   "execution_count": null,
   "metadata": {},
   "outputs": [],
   "source": []
  },
  {
   "cell_type": "code",
   "execution_count": null,
   "metadata": {},
   "outputs": [],
   "source": []
  },
  {
   "cell_type": "code",
   "execution_count": null,
   "metadata": {},
   "outputs": [],
   "source": []
  },
  {
   "cell_type": "code",
   "execution_count": null,
   "metadata": {},
   "outputs": [],
   "source": []
  },
  {
   "cell_type": "code",
   "execution_count": null,
   "metadata": {},
   "outputs": [],
   "source": []
  },
  {
   "cell_type": "code",
   "execution_count": null,
   "metadata": {},
   "outputs": [],
   "source": []
  },
  {
   "cell_type": "code",
   "execution_count": null,
   "metadata": {},
   "outputs": [],
   "source": []
  },
  {
   "cell_type": "code",
   "execution_count": null,
   "metadata": {},
   "outputs": [],
   "source": []
  },
  {
   "cell_type": "code",
   "execution_count": null,
   "metadata": {},
   "outputs": [],
   "source": []
  },
  {
   "cell_type": "code",
   "execution_count": null,
   "metadata": {},
   "outputs": [],
   "source": []
  },
  {
   "cell_type": "code",
   "execution_count": null,
   "metadata": {},
   "outputs": [],
   "source": []
  },
  {
   "cell_type": "code",
   "execution_count": null,
   "metadata": {},
   "outputs": [],
   "source": []
  },
  {
   "cell_type": "code",
   "execution_count": null,
   "metadata": {},
   "outputs": [],
   "source": []
  },
  {
   "cell_type": "code",
   "execution_count": null,
   "metadata": {},
   "outputs": [],
   "source": []
  },
  {
   "cell_type": "code",
   "execution_count": null,
   "metadata": {},
   "outputs": [],
   "source": []
  },
  {
   "cell_type": "code",
   "execution_count": null,
   "metadata": {},
   "outputs": [],
   "source": []
  },
  {
   "cell_type": "code",
   "execution_count": null,
   "metadata": {},
   "outputs": [],
   "source": []
  },
  {
   "cell_type": "code",
   "execution_count": null,
   "metadata": {},
   "outputs": [],
   "source": []
  },
  {
   "cell_type": "code",
   "execution_count": null,
   "metadata": {},
   "outputs": [],
   "source": []
  },
  {
   "cell_type": "code",
   "execution_count": null,
   "metadata": {},
   "outputs": [],
   "source": []
  },
  {
   "cell_type": "code",
   "execution_count": null,
   "metadata": {},
   "outputs": [],
   "source": []
  },
  {
   "cell_type": "code",
   "execution_count": null,
   "metadata": {},
   "outputs": [],
   "source": []
  },
  {
   "cell_type": "code",
   "execution_count": null,
   "metadata": {},
   "outputs": [],
   "source": []
  },
  {
   "cell_type": "code",
   "execution_count": null,
   "metadata": {},
   "outputs": [],
   "source": []
  },
  {
   "cell_type": "code",
   "execution_count": null,
   "metadata": {},
   "outputs": [],
   "source": []
  },
  {
   "cell_type": "code",
   "execution_count": null,
   "metadata": {},
   "outputs": [],
   "source": []
  },
  {
   "cell_type": "code",
   "execution_count": null,
   "metadata": {},
   "outputs": [],
   "source": []
  },
  {
   "cell_type": "code",
   "execution_count": null,
   "metadata": {},
   "outputs": [],
   "source": []
  },
  {
   "cell_type": "code",
   "execution_count": null,
   "metadata": {},
   "outputs": [],
   "source": []
  },
  {
   "cell_type": "code",
   "execution_count": null,
   "metadata": {},
   "outputs": [],
   "source": []
  },
  {
   "cell_type": "code",
   "execution_count": null,
   "metadata": {},
   "outputs": [],
   "source": []
  },
  {
   "cell_type": "code",
   "execution_count": null,
   "metadata": {},
   "outputs": [],
   "source": []
  },
  {
   "cell_type": "code",
   "execution_count": null,
   "metadata": {},
   "outputs": [],
   "source": []
  },
  {
   "cell_type": "code",
   "execution_count": null,
   "metadata": {},
   "outputs": [],
   "source": []
  },
  {
   "cell_type": "code",
   "execution_count": null,
   "metadata": {},
   "outputs": [],
   "source": []
  },
  {
   "cell_type": "code",
   "execution_count": null,
   "metadata": {},
   "outputs": [],
   "source": []
  },
  {
   "cell_type": "code",
   "execution_count": null,
   "metadata": {},
   "outputs": [],
   "source": []
  },
  {
   "cell_type": "code",
   "execution_count": null,
   "metadata": {},
   "outputs": [],
   "source": []
  },
  {
   "cell_type": "code",
   "execution_count": null,
   "metadata": {},
   "outputs": [],
   "source": []
  },
  {
   "cell_type": "code",
   "execution_count": null,
   "metadata": {},
   "outputs": [],
   "source": []
  }
 ],
 "metadata": {
  "kernelspec": {
   "display_name": "Python 3.8.1 64-bit ('test': conda)",
   "language": "python",
   "name": "python38164bittestconda71e86b17d56e4723b6a5e3821da5a065"
  },
  "language_info": {
   "codemirror_mode": {
    "name": "ipython",
    "version": 3
   },
   "file_extension": ".py",
   "mimetype": "text/x-python",
   "name": "python",
   "nbconvert_exporter": "python",
   "pygments_lexer": "ipython3",
   "version": "3.7.6"
  }
 },
 "nbformat": 4,
 "nbformat_minor": 4
}
