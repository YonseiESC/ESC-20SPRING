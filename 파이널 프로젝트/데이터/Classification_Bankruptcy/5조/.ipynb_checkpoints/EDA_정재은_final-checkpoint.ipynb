{
 "cells": [
  {
   "cell_type": "code",
   "execution_count": 1,
   "metadata": {},
   "outputs": [],
   "source": [
    "import numpy as np\n",
    "import pandas as pd\n",
    "pd.set_option('display.max_rows', 100)\n",
    "import matplotlib.pyplot as plt\n",
    "import seaborn as sns\n",
    "%matplotlib inline"
   ]
  },
  {
   "cell_type": "markdown",
   "metadata": {},
   "source": [
    "# 0. Import Raw Data"
   ]
  },
  {
   "cell_type": "code",
   "execution_count": 2,
   "metadata": {},
   "outputs": [
    {
     "data": {
      "text/html": [
       "<div>\n",
       "<style scoped>\n",
       "    .dataframe tbody tr th:only-of-type {\n",
       "        vertical-align: middle;\n",
       "    }\n",
       "\n",
       "    .dataframe tbody tr th {\n",
       "        vertical-align: top;\n",
       "    }\n",
       "\n",
       "    .dataframe thead th {\n",
       "        text-align: right;\n",
       "    }\n",
       "</style>\n",
       "<table border=\"1\" class=\"dataframe\">\n",
       "  <thead>\n",
       "    <tr style=\"text-align: right;\">\n",
       "      <th></th>\n",
       "      <th>Attr1</th>\n",
       "      <th>Attr2</th>\n",
       "      <th>Attr3</th>\n",
       "      <th>Attr4</th>\n",
       "      <th>Attr5</th>\n",
       "      <th>Attr6</th>\n",
       "      <th>Attr7</th>\n",
       "      <th>Attr8</th>\n",
       "      <th>Attr9</th>\n",
       "      <th>Attr10</th>\n",
       "      <th>...</th>\n",
       "      <th>Attr56</th>\n",
       "      <th>Attr57</th>\n",
       "      <th>Attr58</th>\n",
       "      <th>Attr59</th>\n",
       "      <th>Attr60</th>\n",
       "      <th>Attr61</th>\n",
       "      <th>Attr62</th>\n",
       "      <th>Attr63</th>\n",
       "      <th>Attr64</th>\n",
       "      <th>class</th>\n",
       "    </tr>\n",
       "  </thead>\n",
       "  <tbody>\n",
       "    <tr>\n",
       "      <th>0</th>\n",
       "      <td>-0.024558</td>\n",
       "      <td>0.30051</td>\n",
       "      <td>0.10733</td>\n",
       "      <td>1.8368</td>\n",
       "      <td>34.382</td>\n",
       "      <td>-0.026711</td>\n",
       "      <td>-0.020067</td>\n",
       "      <td>2.2519</td>\n",
       "      <td>1.06670</td>\n",
       "      <td>0.67673</td>\n",
       "      <td>...</td>\n",
       "      <td>0.062497</td>\n",
       "      <td>-0.036289</td>\n",
       "      <td>0.93750</td>\n",
       "      <td>0.25454</td>\n",
       "      <td>13.6320</td>\n",
       "      <td>3.6930</td>\n",
       "      <td>69.389</td>\n",
       "      <td>5.2602</td>\n",
       "      <td>0.8826</td>\n",
       "      <td>0</td>\n",
       "    </tr>\n",
       "    <tr>\n",
       "      <th>1</th>\n",
       "      <td>0.639180</td>\n",
       "      <td>0.00000</td>\n",
       "      <td>1.00000</td>\n",
       "      <td>NaN</td>\n",
       "      <td>29.678</td>\n",
       "      <td>-1.139300</td>\n",
       "      <td>0.760520</td>\n",
       "      <td>NaN</td>\n",
       "      <td>1.11850</td>\n",
       "      <td>1.00000</td>\n",
       "      <td>...</td>\n",
       "      <td>0.679830</td>\n",
       "      <td>0.639180</td>\n",
       "      <td>0.32014</td>\n",
       "      <td>0.00000</td>\n",
       "      <td>NaN</td>\n",
       "      <td>37.8860</td>\n",
       "      <td>0.000</td>\n",
       "      <td>NaN</td>\n",
       "      <td>NaN</td>\n",
       "      <td>0</td>\n",
       "    </tr>\n",
       "    <tr>\n",
       "      <th>2</th>\n",
       "      <td>-0.440760</td>\n",
       "      <td>0.47723</td>\n",
       "      <td>0.19260</td>\n",
       "      <td>1.4678</td>\n",
       "      <td>34.555</td>\n",
       "      <td>0.000000</td>\n",
       "      <td>-0.440760</td>\n",
       "      <td>1.0954</td>\n",
       "      <td>1.51860</td>\n",
       "      <td>0.52277</td>\n",
       "      <td>...</td>\n",
       "      <td>-0.290590</td>\n",
       "      <td>-0.843130</td>\n",
       "      <td>1.28710</td>\n",
       "      <td>0.12538</td>\n",
       "      <td>NaN</td>\n",
       "      <td>2.5649</td>\n",
       "      <td>98.950</td>\n",
       "      <td>3.6887</td>\n",
       "      <td>3.8376</td>\n",
       "      <td>0</td>\n",
       "    </tr>\n",
       "    <tr>\n",
       "      <th>3</th>\n",
       "      <td>0.119520</td>\n",
       "      <td>0.17679</td>\n",
       "      <td>0.63546</td>\n",
       "      <td>4.5944</td>\n",
       "      <td>117.650</td>\n",
       "      <td>0.251540</td>\n",
       "      <td>0.148750</td>\n",
       "      <td>4.5826</td>\n",
       "      <td>1.12630</td>\n",
       "      <td>0.81017</td>\n",
       "      <td>...</td>\n",
       "      <td>0.112110</td>\n",
       "      <td>0.147520</td>\n",
       "      <td>0.88789</td>\n",
       "      <td>0.00000</td>\n",
       "      <td>8.9302</td>\n",
       "      <td>10.2870</td>\n",
       "      <td>40.355</td>\n",
       "      <td>9.0448</td>\n",
       "      <td>8.5169</td>\n",
       "      <td>0</td>\n",
       "    </tr>\n",
       "    <tr>\n",
       "      <th>4</th>\n",
       "      <td>0.230400</td>\n",
       "      <td>0.27095</td>\n",
       "      <td>0.23762</td>\n",
       "      <td>2.5745</td>\n",
       "      <td>-26.928</td>\n",
       "      <td>0.617540</td>\n",
       "      <td>0.282690</td>\n",
       "      <td>2.6907</td>\n",
       "      <td>0.80411</td>\n",
       "      <td>0.72905</td>\n",
       "      <td>...</td>\n",
       "      <td>0.459570</td>\n",
       "      <td>0.316020</td>\n",
       "      <td>0.62320</td>\n",
       "      <td>0.16465</td>\n",
       "      <td>7.9274</td>\n",
       "      <td>6.6605</td>\n",
       "      <td>68.502</td>\n",
       "      <td>5.3283</td>\n",
       "      <td>1.3150</td>\n",
       "      <td>0</td>\n",
       "    </tr>\n",
       "  </tbody>\n",
       "</table>\n",
       "<p>5 rows × 65 columns</p>\n",
       "</div>"
      ],
      "text/plain": [
       "      Attr1    Attr2    Attr3   Attr4    Attr5     Attr6     Attr7   Attr8  \\\n",
       "0 -0.024558  0.30051  0.10733  1.8368   34.382 -0.026711 -0.020067  2.2519   \n",
       "1  0.639180  0.00000  1.00000     NaN   29.678 -1.139300  0.760520     NaN   \n",
       "2 -0.440760  0.47723  0.19260  1.4678   34.555  0.000000 -0.440760  1.0954   \n",
       "3  0.119520  0.17679  0.63546  4.5944  117.650  0.251540  0.148750  4.5826   \n",
       "4  0.230400  0.27095  0.23762  2.5745  -26.928  0.617540  0.282690  2.6907   \n",
       "\n",
       "     Attr9   Attr10  ...    Attr56    Attr57   Attr58   Attr59   Attr60  \\\n",
       "0  1.06670  0.67673  ...  0.062497 -0.036289  0.93750  0.25454  13.6320   \n",
       "1  1.11850  1.00000  ...  0.679830  0.639180  0.32014  0.00000      NaN   \n",
       "2  1.51860  0.52277  ... -0.290590 -0.843130  1.28710  0.12538      NaN   \n",
       "3  1.12630  0.81017  ...  0.112110  0.147520  0.88789  0.00000   8.9302   \n",
       "4  0.80411  0.72905  ...  0.459570  0.316020  0.62320  0.16465   7.9274   \n",
       "\n",
       "    Attr61  Attr62  Attr63  Attr64  class  \n",
       "0   3.6930  69.389  5.2602  0.8826      0  \n",
       "1  37.8860   0.000     NaN     NaN      0  \n",
       "2   2.5649  98.950  3.6887  3.8376      0  \n",
       "3  10.2870  40.355  9.0448  8.5169      0  \n",
       "4   6.6605  68.502  5.3283  1.3150      0  \n",
       "\n",
       "[5 rows x 65 columns]"
      ]
     },
     "execution_count": 2,
     "metadata": {},
     "output_type": "execute_result"
    }
   ],
   "source": [
    "df = pd.read_csv('na_filled_train.csv') # '?' -> NA 변환한 파일 \n",
    "df.head()"
   ]
  },
  {
   "cell_type": "code",
   "execution_count": 3,
   "metadata": {},
   "outputs": [
    {
     "name": "stdout",
     "output_type": "stream",
     "text": [
      "Shape: (6855, 65)\n",
      "Attr1        0\n",
      "Attr2        0\n",
      "Attr3        0\n",
      "Attr4       28\n",
      "Attr5       15\n",
      "Attr6        0\n",
      "Attr7        0\n",
      "Attr8       15\n",
      "Attr9        0\n",
      "Attr10       0\n",
      "Attr11       0\n",
      "Attr12      28\n",
      "Attr13      14\n",
      "Attr14       0\n",
      "Attr15       5\n",
      "Attr16      15\n",
      "Attr17      15\n",
      "Attr18       0\n",
      "Attr19      14\n",
      "Attr20      14\n",
      "Attr21     112\n",
      "Attr22       0\n",
      "Attr23      14\n",
      "Attr24     149\n",
      "Attr25       0\n",
      "Attr26      15\n",
      "Attr27     462\n",
      "Attr28     162\n",
      "Attr29       0\n",
      "Attr30      14\n",
      "Attr31      14\n",
      "Attr32      72\n",
      "Attr33      28\n",
      "Attr34      15\n",
      "Attr35       0\n",
      "Attr36       0\n",
      "Attr37    3100\n",
      "Attr38       0\n",
      "Attr39      14\n",
      "Attr40      28\n",
      "Attr41     142\n",
      "Attr42      14\n",
      "Attr43      14\n",
      "Attr44      14\n",
      "Attr45     418\n",
      "Attr46      28\n",
      "Attr47      57\n",
      "Attr48       0\n",
      "Attr49      14\n",
      "Attr50      15\n",
      "Attr51       0\n",
      "Attr52      60\n",
      "Attr53     162\n",
      "Attr54     162\n",
      "Attr55       0\n",
      "Attr56      14\n",
      "Attr57       1\n",
      "Attr58      10\n",
      "Attr59       1\n",
      "Attr60     420\n",
      "Attr61      20\n",
      "Attr62      14\n",
      "Attr63      28\n",
      "Attr64     162\n",
      "class        0\n",
      "dtype: int64\n"
     ]
    }
   ],
   "source": [
    "print(f\"Shape: {df.shape}\")\n",
    "print(df.isnull().sum())"
   ]
  },
  {
   "cell_type": "markdown",
   "metadata": {},
   "source": [
    "# 1. NA imputation\n",
    "## 1-1. Recovering some variables..."
   ]
  },
  {
   "cell_type": "markdown",
   "metadata": {},
   "source": [
    "대부분의 column에서 결측치가 발견되었다 <br>\n",
    "NA imputation 을 위해, 최대한 구할 수 있는 변수 값들은 구해보자.\n",
    "(NA 갯수가 0인 Attr 들을 이용)"
   ]
  },
  {
   "cell_type": "code",
   "execution_count": 4,
   "metadata": {},
   "outputs": [],
   "source": [
    "total_assets = pd.Series(np.exp(df['Attr29']), index=df['Attr29'].index)\n",
    "assert not bool(total_assets.isnull().sum())\n",
    "\n",
    "total_equity = df['Attr10']* total_assets\n",
    "assert not bool(total_equity.isnull().sum())\n",
    "\n",
    "total_liabilities = total_assets - total_equity\n",
    "assert not bool(total_liabilities.isnull().sum())\n",
    "\n",
    "short_term_liabilities =  df['Attr51']  * total_assets\n",
    "assert not bool(short_term_liabilities.isnull().sum())\n",
    "\n",
    "long_term_liabilities = total_liabilities - short_term_liabilities\n",
    "assert not bool(long_term_liabilities.isnull().sum())\n",
    "\n",
    "total_sales = pd.Series(np.array(short_term_liabilities) * np.array(df['Attr36']))\n",
    "assert not bool(total_sales.isnull().sum())\n",
    "\n",
    "sales = total_assets* df['Attr9'].values\n",
    "assert not bool(sales.isnull().sum())\n",
    "\n",
    "gross_profit = total_assets * df['Attr18']\n",
    "assert not bool(gross_profit.isnull().sum())\n",
    "\n",
    "EBIT = total_assets * df['Attr7']\n",
    "assert not bool(EBIT.isnull().sum())\n",
    "\n",
    "EBITDA = total_assets * df['Attr48']\n",
    "assert not bool(EBITDA.isnull().sum())\n",
    "\n",
    "retained_earnings = total_assets * df['Attr6']\n",
    "assert not bool(retained_earnings.isnull().sum())\n",
    "\n",
    "net_profit = total_assets * df['Attr1']\n",
    "assert not bool(net_profit.isnull().sum())\n",
    "\n",
    "working_capital = total_assets * df['Attr3']\n",
    "profit_on_sales = total_assets * df['Attr35']\n",
    "assert not bool(working_capital.isnull().sum())\n",
    "assert not bool(profit_on_sales.isnull().sum())"
   ]
  },
  {
   "cell_type": "markdown",
   "metadata": {},
   "source": [
    "total_assets, total_equity, total_liabilities, short_term_liabilities, long_term_liabilities, total_sales, sales, gross_propit, retained_earnings, EBIT, EBITDA, net_profit, working_capital, profit_on_sales 을 구할 수 있었다."
   ]
  },
  {
   "cell_type": "markdown",
   "metadata": {},
   "source": [
    "## 1-2. Delete some outliers"
   ]
  },
  {
   "cell_type": "code",
   "execution_count": 5,
   "metadata": {},
   "outputs": [
    {
     "name": "stderr",
     "output_type": "stream",
     "text": [
      "C:\\Users\\subon\\Desktop\\anaconda\\envs\\test\\lib\\site-packages\\ipykernel_launcher.py:3: RuntimeWarning: invalid value encountered in log\n",
      "  This is separate from the ipykernel package so we can avoid doing imports until\n"
     ]
    },
    {
     "data": {
      "image/png": "[encoded data removed]",
      "text/plain": [
       "<Figure size 576x432 with 1 Axes>"
      ]
     },
     "metadata": {
      "needs_background": "light"
     },
     "output_type": "display_data"
    }
   ],
   "source": [
    "import seaborn as sns\n",
    "fig = plt.figure(figsize = (8,6))\n",
    "sns.distplot(np.log(df['Attr11'].dropna().replace(0, 1e-9).values));"
   ]
  },
  {
   "cell_type": "code",
   "execution_count": 6,
   "metadata": {},
   "outputs": [
    {
     "data": {
      "text/plain": [
       "4994"
      ]
     },
     "execution_count": 6,
     "metadata": {},
     "output_type": "execute_result"
    }
   ],
   "source": [
    "df['Attr11'].sort_values(ascending=False).index[0]"
   ]
  },
  {
   "cell_type": "markdown",
   "metadata": {},
   "source": [
    "이런 식으로 density plot을 본 이후 수작업으로 아웃라이어들이 포함된 관측치를 삭제해준다. <br>\n",
    "하지만 class 1에 해당하는 관측치가 매우 적으니 아웃라이어여도 class 1, 즉 부도난 회사의 데이터면 삭제하지 않는다."
   ]
  },
  {
   "cell_type": "code",
   "execution_count": 7,
   "metadata": {},
   "outputs": [],
   "source": [
    "drop_rows = {2555,2099,4994,1458,3074,1593,5377,423,1207,1934,1593} |  \\\n",
    "{423, 998, 2555, 3527, 5249, 5313, 2654, 5810, 2008, 4192, 2099, 6665, 3074, 1458, 6424, 1593, 6232}"
   ]
  },
  {
   "cell_type": "code",
   "execution_count": 8,
   "metadata": {},
   "outputs": [
    {
     "data": {
      "text/plain": [
       "21"
      ]
     },
     "execution_count": 8,
     "metadata": {},
     "output_type": "execute_result"
    }
   ],
   "source": [
    "len(drop_rows)"
   ]
  },
  {
   "cell_type": "code",
   "execution_count": 9,
   "metadata": {},
   "outputs": [],
   "source": [
    "for row in drop_rows:\n",
    "    if df['class'][row] == 1:\n",
    "        continue\n",
    "    elif df['class'][row] == 0:\n",
    "        df.drop(row, axis=0, inplace=True)"
   ]
  },
  {
   "cell_type": "code",
   "execution_count": 10,
   "metadata": {},
   "outputs": [
    {
     "name": "stdout",
     "output_type": "stream",
     "text": [
      "(6836, 65)\n"
     ]
    }
   ],
   "source": [
    "df.reset_index(inplace=True, drop=True)\n",
    "print(df.shape) # 19 rows are deleted"
   ]
  },
  {
   "cell_type": "code",
   "execution_count": 11,
   "metadata": {},
   "outputs": [],
   "source": [
    "df = pd.read_csv('outlier_removed_train.csv') # '?' -> NA 변환 & density plot 그린 후 outliers (19 rows) 제거한 파일 "
   ]
  },
  {
   "cell_type": "markdown",
   "metadata": {},
   "source": [
    "## 1-3. Drop useless columns\n",
    "변수가 가지고 있는 정보가 겹치거나, 눈으로 보았을 때 명확한 선형관계가 존재하면 제거해준다"
   ]
  },
  {
   "cell_type": "code",
   "execution_count": 12,
   "metadata": {},
   "outputs": [],
   "source": [
    "drop_list = []\n",
    "for i in (15,17,19,20,28,31,34,37,41,42,44,46,55,57,62):\n",
    "    drop_list.append(\"Attr\" + str(i))\n",
    "    \n",
    "df.drop(drop_list, axis=1, inplace=True)"
   ]
  },
  {
   "cell_type": "code",
   "execution_count": 13,
   "metadata": {},
   "outputs": [
    {
     "name": "stdout",
     "output_type": "stream",
     "text": [
      "(6836, 50)\n"
     ]
    }
   ],
   "source": [
    "print(df.shape) # 15 columns are removed"
   ]
  },
  {
   "cell_type": "code",
   "execution_count": 14,
   "metadata": {},
   "outputs": [
    {
     "name": "stdout",
     "output_type": "stream",
     "text": [
      "Attr1       0\n",
      "Attr2       0\n",
      "Attr3       0\n",
      "Attr4       0\n",
      "Attr5      15\n",
      "Attr6       0\n",
      "Attr7       0\n",
      "Attr8      14\n",
      "Attr9       0\n",
      "Attr10      0\n",
      "Attr11      0\n",
      "Attr12     26\n",
      "Attr13     13\n",
      "Attr14      0\n",
      "Attr16     14\n",
      "Attr18      0\n",
      "Attr21    110\n",
      "Attr22      0\n",
      "Attr23     13\n",
      "Attr24    149\n",
      "Attr25      0\n",
      "Attr26     14\n",
      "Attr27    459\n",
      "Attr29      0\n",
      "Attr30     13\n",
      "Attr32     71\n",
      "Attr33     26\n",
      "Attr35      0\n",
      "Attr36      0\n",
      "Attr38      0\n",
      "Attr39     13\n",
      "Attr40     26\n",
      "Attr43     13\n",
      "Attr45    410\n",
      "Attr47     56\n",
      "Attr48      0\n",
      "Attr49     13\n",
      "Attr50     14\n",
      "Attr51      0\n",
      "Attr52     59\n",
      "Attr53    159\n",
      "Attr54    159\n",
      "Attr56     13\n",
      "Attr58      9\n",
      "Attr59      1\n",
      "Attr60    412\n",
      "Attr61     19\n",
      "Attr63     26\n",
      "Attr64    159\n",
      "class       0\n",
      "dtype: int64\n"
     ]
    }
   ],
   "source": [
    "print(df.isnull().sum())"
   ]
  },
  {
   "cell_type": "markdown",
   "metadata": {},
   "source": [
    "참고) 여기서  Attr4는 current_assets 가 na imputation 된 값이 입력되어있음. <br>\n",
    "순서가 꼬여서 이렇게 되었으나, 이후 코딩에서 별 문제는 없음. \n",
    "\n",
    "current_assets를 먼저 imputation한 이유는 이와 연관된 변수가 많아서였음.\n",
    "\n",
    "current_assets 정보가 들어가 있는 변수 중 NA 갯수가 가장 적은 변수를 선택하여 imputation함.\n",
    "(코드는 아래와 같음)"
   ]
  },
  {
   "cell_type": "code",
   "execution_count": 15,
   "metadata": {},
   "outputs": [],
   "source": [
    "current_assets = df['Attr50'] * total_liabilities\n",
    "current_assets.fillna(30.04, inplace=True)\n",
    "assert not bool(current_assets.isnull().sum())"
   ]
  },
  {
   "cell_type": "markdown",
   "metadata": {},
   "source": [
    "## 1-4. Direct NA Imputation using recovered information"
   ]
  },
  {
   "cell_type": "code",
   "execution_count": 16,
   "metadata": {},
   "outputs": [],
   "source": [
    "# 0이 존재하는 값에 최솟값을 더해준다\n",
    "\n",
    "min_short_term_liabilities = [x for x in np.sort(short_term_liabilities) if x][0]\n",
    "short_term_liabilities.replace(0, min_short_term_liabilities, inplace=True)\n",
    "        \n",
    "min_sales = [x for x in np.sort(sales) if x][0]\n",
    "sales.replace(0, min_sales, inplace=True)\n",
    "\n",
    "min_total_liabilities = [x for x in np.sort(total_liabilities) if x][0]\n",
    "total_liabilities.replace(0, min_total_liabilities, inplace=True)\n",
    "\n",
    "min_total_equity = [x for x in np.sort(total_equity) if x][0]\n",
    "total_equity.replace(0, min_total_equity, inplace=True)"
   ]
  },
  {
   "cell_type": "code",
   "execution_count": 17,
   "metadata": {},
   "outputs": [
    {
     "name": "stdout",
     "output_type": "stream",
     "text": [
      "0.0005674784498752818 -3.7727632150771484 -259.53134804993954 -170.29698689632627\n"
     ]
    }
   ],
   "source": [
    "print(min(short_term_liabilities), min(sales), min(total_liabilities), min(total_equity))"
   ]
  },
  {
   "cell_type": "markdown",
   "metadata": {},
   "source": [
    "이제 분모에 0이 오기 때문에 NA가 될 걱정은 사라졌으니 이를 이용해서 NA imputation을 해보자!"
   ]
  },
  {
   "cell_type": "code",
   "execution_count": 18,
   "metadata": {},
   "outputs": [],
   "source": [
    "df['Attr12'] = gross_profit / short_term_liabilities\n",
    "df['Attr23'] = net_profit / sales\n",
    "df['Attr39'] = profit_on_sales / sales\n",
    "df['Attr49'] = EBITDA / sales\n",
    "df['Attr50'] = current_assets / total_liabilities\n",
    "df['Attr59'] = long_term_liabilities / total_equity\n",
    "df['Attr63'] = sales / short_term_liabilities"
   ]
  },
  {
   "cell_type": "code",
   "execution_count": 19,
   "metadata": {},
   "outputs": [
    {
     "data": {
      "text/plain": [
       "Attr12    0\n",
       "Attr23    0\n",
       "Attr39    0\n",
       "Attr49    0\n",
       "Attr50    0\n",
       "Attr59    0\n",
       "Attr63    0\n",
       "dtype: int64"
      ]
     },
     "execution_count": 19,
     "metadata": {},
     "output_type": "execute_result"
    }
   ],
   "source": [
    "# na 값 있나 확인\n",
    "df.loc[:, ['Attr12','Attr23','Attr39','Attr49','Attr50','Attr59','Attr63']].isnull().sum()"
   ]
  },
  {
   "cell_type": "markdown",
   "metadata": {},
   "source": [
    "## 1-5. Using packages specialized in NA Imputation \n",
    "### 1-5-0. Measuring performance of Logistic Regression with na removed data"
   ]
  },
  {
   "cell_type": "code",
   "execution_count": 20,
   "metadata": {},
   "outputs": [
    {
     "name": "stdout",
     "output_type": "stream",
     "text": [
      "0.09688581314878893\n"
     ]
    }
   ],
   "source": [
    "from sklearn.linear_model import LogisticRegression\n",
    "from sklearn.model_selection import train_test_split\n",
    "from sklearn.metrics import f1_score\n",
    "import warnings\n",
    "\n",
    "warnings.filterwarnings('ignore')\n",
    "\n",
    "na_dropped = df.dropna(axis = 0)\n",
    "X, y = na_dropped.iloc[:, :-1], na_dropped.iloc[:, -1]\n",
    "X_train, X_test, y_train, y_test = train_test_split(X, y, test_size = 0.3, stratify = y, random_state=5)\n",
    "\n",
    "lr = LogisticRegression(class_weight='balanced')\n",
    "lr.fit(X_train, y_train)\n",
    "\n",
    "y_pred = lr.predict(X_test)\n",
    "print(f1_score(y_test, y_pred))"
   ]
  },
  {
   "cell_type": "markdown",
   "metadata": {},
   "source": [
    "ㅎㅎ na imputation을 꼭 해야할듯하다"
   ]
  },
  {
   "cell_type": "markdown",
   "metadata": {},
   "source": [
    "### 1-5-1. Iterative Imputation"
   ]
  },
  {
   "cell_type": "code",
   "execution_count": 24,
   "metadata": {},
   "outputs": [],
   "source": [
    "from sklearn.experimental import enable_iterative_imputer\n",
    "from sklearn.impute import IterativeImputer\n",
    "from sklearn.pipeline import Pipeline\n",
    "from sklearn.linear_model import LogisticRegression\n",
    "\n",
    "iter_impute = Pipeline([(\"Iterative\", IterativeImputer(max_iter=10, random_state=5, verbose=0)), \n",
    "                        (\"clf\", LogisticRegression(class_weight='balanced'))])"
   ]
  },
  {
   "cell_type": "code",
   "execution_count": 25,
   "metadata": {},
   "outputs": [],
   "source": [
    "X, y = df.iloc[:, :-1], df.iloc[:, -1]"
   ]
  },
  {
   "cell_type": "markdown",
   "metadata": {},
   "source": [
    "일관성 있는 na imputation method를 고르기 위해 평가는 cross-validated f1 score로 하겠음"
   ]
  },
  {
   "cell_type": "code",
   "execution_count": 28,
   "metadata": {},
   "outputs": [],
   "source": [
    "from sklearn.model_selection import cross_val_score\n",
    "import warnings\n",
    "\n",
    "warnings.filterwarnings('ignore')\n",
    "\n",
    "iter_score = cross_val_score(iter_impute, X, y, scoring='f1').mean()"
   ]
  },
  {
   "cell_type": "code",
   "execution_count": 29,
   "metadata": {},
   "outputs": [
    {
     "name": "stdout",
     "output_type": "stream",
     "text": [
      "0.1522954766273219\n"
     ]
    }
   ],
   "source": [
    "print(iter_score)"
   ]
  },
  {
   "cell_type": "markdown",
   "metadata": {},
   "source": [
    "score가 50% 올라감"
   ]
  },
  {
   "cell_type": "markdown",
   "metadata": {},
   "source": [
    "### 1-5-2. KNN imputation"
   ]
  },
  {
   "cell_type": "code",
   "execution_count": 32,
   "metadata": {},
   "outputs": [],
   "source": [
    "from sklearn.neighbors import KNeighborsRegressor\n",
    "\n",
    "knn_impute = Pipeline([(\"KNN\", IterativeImputer(estimator=KNeighborsRegressor(n_neighbors=15),\n",
    "                                                max_iter=10, random_state=5, verbose=0)), \n",
    "                        (\"clf\", LogisticRegression(class_weight='balanced'))])"
   ]
  },
  {
   "cell_type": "code",
   "execution_count": null,
   "metadata": {},
   "outputs": [],
   "source": [
    "knn_score = cross_val_score(knn_impute, X, y, scoring='f1').mean()\n",
    "print(knn_score)"
   ]
  },
  {
   "cell_type": "markdown",
   "metadata": {},
   "source": [
    "### 1-5-3. Bayesian Ridge imputation"
   ]
  },
  {
   "cell_type": "code",
   "execution_count": null,
   "metadata": {},
   "outputs": [],
   "source": [
    "from sklearn.linear_model import BayesianRidge\n",
    "\n",
    "bayesian_impute = Pipeline([(\"Bayesian\", IterativeImputer(estimator=BayesianRidge(),\n",
    "                                                max_iter=10, random_state=5, verbose=0)), \n",
    "                        (\"clf\", LogisticRegression(class_weight='balanced'))])"
   ]
  },
  {
   "cell_type": "code",
   "execution_count": null,
   "metadata": {},
   "outputs": [],
   "source": [
    "bayesian_score = cross_val_score(bayesian_impute, X, y, scoring='f1').mean()\n",
    "print(bayesian_score)"
   ]
  },
  {
   "cell_type": "markdown",
   "metadata": {},
   "source": [
    "## 1-5-4. Decision Tree imputation"
   ]
  },
  {
   "cell_type": "code",
   "execution_count": null,
   "metadata": {},
   "outputs": [],
   "source": [
    "from sklearn.tree import DecisionTreeRegressor\n",
    "\n",
    "decision_tree_impute = Pipeline([(\"Decision Tree\", \n",
    "                                  IterativeImputer(estimator=DecisionTreeRegressor(max_features='sqrt', random_state=5),\n",
    "                                                max_iter=10, random_state=5, verbose=0)), \n",
    "                                 (\"clf\", LogisticRegression(class_weight='balanced'))])"
   ]
  },
  {
   "cell_type": "code",
   "execution_count": null,
   "metadata": {},
   "outputs": [],
   "source": [
    "decision_tree_score = cross_val_score(decision_tree_impute, X, y, scoring='f1').mean()\n",
    "print(decision_tree_score)"
   ]
  },
  {
   "cell_type": "code",
   "execution_count": null,
   "metadata": {},
   "outputs": [],
   "source": []
  },
  {
   "cell_type": "code",
   "execution_count": null,
   "metadata": {},
   "outputs": [],
   "source": []
  },
  {
   "cell_type": "code",
   "execution_count": null,
   "metadata": {},
   "outputs": [],
   "source": []
  },
  {
   "cell_type": "code",
   "execution_count": null,
   "metadata": {},
   "outputs": [],
   "source": []
  },
  {
   "cell_type": "code",
   "execution_count": null,
   "metadata": {},
   "outputs": [],
   "source": []
  },
  {
   "cell_type": "code",
   "execution_count": null,
   "metadata": {},
   "outputs": [],
   "source": []
  },
  {
   "cell_type": "code",
   "execution_count": null,
   "metadata": {},
   "outputs": [],
   "source": []
  },
  {
   "cell_type": "code",
   "execution_count": null,
   "metadata": {},
   "outputs": [],
   "source": []
  },
  {
   "cell_type": "code",
   "execution_count": null,
   "metadata": {},
   "outputs": [],
   "source": []
  },
  {
   "cell_type": "code",
   "execution_count": null,
   "metadata": {},
   "outputs": [],
   "source": []
  },
  {
   "cell_type": "code",
   "execution_count": null,
   "metadata": {},
   "outputs": [],
   "source": []
  },
  {
   "cell_type": "code",
   "execution_count": null,
   "metadata": {},
   "outputs": [],
   "source": []
  },
  {
   "cell_type": "code",
   "execution_count": null,
   "metadata": {},
   "outputs": [],
   "source": []
  },
  {
   "cell_type": "code",
   "execution_count": null,
   "metadata": {},
   "outputs": [],
   "source": []
  },
  {
   "cell_type": "code",
   "execution_count": null,
   "metadata": {},
   "outputs": [],
   "source": []
  },
  {
   "cell_type": "code",
   "execution_count": null,
   "metadata": {},
   "outputs": [],
   "source": []
  },
  {
   "cell_type": "code",
   "execution_count": null,
   "metadata": {},
   "outputs": [],
   "source": []
  },
  {
   "cell_type": "code",
   "execution_count": null,
   "metadata": {},
   "outputs": [],
   "source": []
  },
  {
   "cell_type": "code",
   "execution_count": null,
   "metadata": {},
   "outputs": [],
   "source": []
  },
  {
   "cell_type": "code",
   "execution_count": null,
   "metadata": {},
   "outputs": [],
   "source": []
  },
  {
   "cell_type": "code",
   "execution_count": null,
   "metadata": {},
   "outputs": [],
   "source": []
  },
  {
   "cell_type": "code",
   "execution_count": null,
   "metadata": {},
   "outputs": [],
   "source": []
  },
  {
   "cell_type": "code",
   "execution_count": null,
   "metadata": {},
   "outputs": [],
   "source": []
  },
  {
   "cell_type": "code",
   "execution_count": null,
   "metadata": {},
   "outputs": [],
   "source": []
  },
  {
   "cell_type": "code",
   "execution_count": null,
   "metadata": {},
   "outputs": [],
   "source": []
  },
  {
   "cell_type": "code",
   "execution_count": null,
   "metadata": {},
   "outputs": [],
   "source": []
  },
  {
   "cell_type": "code",
   "execution_count": null,
   "metadata": {},
   "outputs": [],
   "source": []
  },
  {
   "cell_type": "code",
   "execution_count": null,
   "metadata": {},
   "outputs": [],
   "source": []
  },
  {
   "cell_type": "code",
   "execution_count": null,
   "metadata": {},
   "outputs": [],
   "source": []
  },
  {
   "cell_type": "code",
   "execution_count": null,
   "metadata": {},
   "outputs": [],
   "source": []
  },
  {
   "cell_type": "code",
   "execution_count": null,
   "metadata": {},
   "outputs": [],
   "source": []
  },
  {
   "cell_type": "code",
   "execution_count": null,
   "metadata": {},
   "outputs": [],
   "source": []
  },
  {
   "cell_type": "code",
   "execution_count": null,
   "metadata": {},
   "outputs": [],
   "source": []
  },
  {
   "cell_type": "code",
   "execution_count": null,
   "metadata": {},
   "outputs": [],
   "source": []
  },
  {
   "cell_type": "code",
   "execution_count": null,
   "metadata": {},
   "outputs": [],
   "source": []
  },
  {
   "cell_type": "code",
   "execution_count": null,
   "metadata": {},
   "outputs": [],
   "source": []
  },
  {
   "cell_type": "code",
   "execution_count": null,
   "metadata": {},
   "outputs": [],
   "source": []
  },
  {
   "cell_type": "code",
   "execution_count": null,
   "metadata": {},
   "outputs": [],
   "source": []
  },
  {
   "cell_type": "code",
   "execution_count": null,
   "metadata": {},
   "outputs": [],
   "source": []
  },
  {
   "cell_type": "code",
   "execution_count": null,
   "metadata": {},
   "outputs": [],
   "source": []
  },
  {
   "cell_type": "code",
   "execution_count": null,
   "metadata": {},
   "outputs": [],
   "source": []
  },
  {
   "cell_type": "code",
   "execution_count": null,
   "metadata": {},
   "outputs": [],
   "source": []
  },
  {
   "cell_type": "code",
   "execution_count": null,
   "metadata": {},
   "outputs": [],
   "source": []
  },
  {
   "cell_type": "code",
   "execution_count": null,
   "metadata": {},
   "outputs": [],
   "source": []
  },
  {
   "cell_type": "code",
   "execution_count": null,
   "metadata": {},
   "outputs": [],
   "source": []
  },
  {
   "cell_type": "code",
   "execution_count": null,
   "metadata": {},
   "outputs": [],
   "source": []
  },
  {
   "cell_type": "code",
   "execution_count": null,
   "metadata": {},
   "outputs": [],
   "source": []
  },
  {
   "cell_type": "code",
   "execution_count": null,
   "metadata": {},
   "outputs": [],
   "source": []
  },
  {
   "cell_type": "code",
   "execution_count": null,
   "metadata": {},
   "outputs": [],
   "source": []
  },
  {
   "cell_type": "code",
   "execution_count": null,
   "metadata": {},
   "outputs": [],
   "source": []
  },
  {
   "cell_type": "code",
   "execution_count": null,
   "metadata": {},
   "outputs": [],
   "source": []
  },
  {
   "cell_type": "code",
   "execution_count": null,
   "metadata": {},
   "outputs": [],
   "source": []
  },
  {
   "cell_type": "code",
   "execution_count": null,
   "metadata": {},
   "outputs": [],
   "source": []
  },
  {
   "cell_type": "code",
   "execution_count": null,
   "metadata": {},
   "outputs": [],
   "source": []
  },
  {
   "cell_type": "code",
   "execution_count": null,
   "metadata": {},
   "outputs": [],
   "source": []
  },
  {
   "cell_type": "code",
   "execution_count": null,
   "metadata": {},
   "outputs": [],
   "source": []
  },
  {
   "cell_type": "code",
   "execution_count": null,
   "metadata": {},
   "outputs": [],
   "source": []
  },
  {
   "cell_type": "code",
   "execution_count": null,
   "metadata": {},
   "outputs": [],
   "source": []
  },
  {
   "cell_type": "code",
   "execution_count": null,
   "metadata": {},
   "outputs": [],
   "source": []
  },
  {
   "cell_type": "code",
   "execution_count": null,
   "metadata": {},
   "outputs": [],
   "source": []
  },
  {
   "cell_type": "code",
   "execution_count": null,
   "metadata": {},
   "outputs": [],
   "source": []
  },
  {
   "cell_type": "code",
   "execution_count": null,
   "metadata": {},
   "outputs": [],
   "source": []
  },
  {
   "cell_type": "code",
   "execution_count": null,
   "metadata": {},
   "outputs": [],
   "source": []
  },
  {
   "cell_type": "code",
   "execution_count": null,
   "metadata": {},
   "outputs": [],
   "source": []
  },
  {
   "cell_type": "code",
   "execution_count": null,
   "metadata": {},
   "outputs": [],
   "source": []
  },
  {
   "cell_type": "code",
   "execution_count": null,
   "metadata": {},
   "outputs": [],
   "source": []
  },
  {
   "cell_type": "code",
   "execution_count": null,
   "metadata": {},
   "outputs": [],
   "source": []
  },
  {
   "cell_type": "code",
   "execution_count": null,
   "metadata": {},
   "outputs": [],
   "source": []
  },
  {
   "cell_type": "code",
   "execution_count": null,
   "metadata": {},
   "outputs": [],
   "source": []
  },
  {
   "cell_type": "code",
   "execution_count": null,
   "metadata": {},
   "outputs": [],
   "source": []
  },
  {
   "cell_type": "code",
   "execution_count": null,
   "metadata": {},
   "outputs": [],
   "source": []
  },
  {
   "cell_type": "code",
   "execution_count": null,
   "metadata": {},
   "outputs": [],
   "source": []
  },
  {
   "cell_type": "code",
   "execution_count": null,
   "metadata": {},
   "outputs": [],
   "source": []
  },
  {
   "cell_type": "code",
   "execution_count": null,
   "metadata": {},
   "outputs": [],
   "source": []
  }
 ],
 "metadata": {
  "kernelspec": {
   "display_name": "Python 3.8.1 64-bit ('test': conda)",
   "language": "python",
   "name": "python38164bittestconda71e86b17d56e4723b6a5e3821da5a065"
  },
  "language_info": {
   "codemirror_mode": {
    "name": "ipython",
    "version": 3
   },
   "file_extension": ".py",
   "mimetype": "text/x-python",
   "name": "python",
   "nbconvert_exporter": "python",
   "pygments_lexer": "ipython3",
   "version": "3.7.6"
  }
 },
 "nbformat": 4,
 "nbformat_minor": 4
}
