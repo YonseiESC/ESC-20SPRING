{
 "cells": [
  {
   "cell_type": "markdown",
   "metadata": {},
   "source": [
    "### 1. 분포보고 묶기\n",
    "\n",
    "대상 문항: 29, 30, 32, 33, 36-1, 43\n"
   ]
  },
  {
   "cell_type": "code",
   "execution_count": 1,
   "metadata": {},
   "outputs": [
    {
     "data": {
      "text/html": [
       "<div>\n",
       "<style scoped>\n",
       "    .dataframe tbody tr th:only-of-type {\n",
       "        vertical-align: middle;\n",
       "    }\n",
       "\n",
       "    .dataframe tbody tr th {\n",
       "        vertical-align: top;\n",
       "    }\n",
       "\n",
       "    .dataframe thead th {\n",
       "        text-align: right;\n",
       "    }\n",
       "</style>\n",
       "<table border=\"1\" class=\"dataframe\">\n",
       "  <thead>\n",
       "    <tr style=\"text-align: right;\">\n",
       "      <th></th>\n",
       "      <th>GU</th>\n",
       "      <th>FAM1</th>\n",
       "      <th>FAM2</th>\n",
       "      <th>HTYP</th>\n",
       "      <th>HLIV</th>\n",
       "      <th>INC</th>\n",
       "      <th>REL</th>\n",
       "      <th>JEN</th>\n",
       "      <th>MAR</th>\n",
       "      <th>RLI</th>\n",
       "      <th>...</th>\n",
       "      <th>JOB</th>\n",
       "      <th>DE1</th>\n",
       "      <th>DE2</th>\n",
       "      <th>DE3</th>\n",
       "      <th>DE4</th>\n",
       "      <th>DE5</th>\n",
       "      <th>DE6</th>\n",
       "      <th>DE7</th>\n",
       "      <th>DE8</th>\n",
       "      <th>DE9</th>\n",
       "    </tr>\n",
       "  </thead>\n",
       "  <tbody>\n",
       "    <tr>\n",
       "      <th>0</th>\n",
       "      <td>680</td>\n",
       "      <td>2</td>\n",
       "      <td>2</td>\n",
       "      <td>2</td>\n",
       "      <td>1</td>\n",
       "      <td>5</td>\n",
       "      <td>1</td>\n",
       "      <td>1</td>\n",
       "      <td>1</td>\n",
       "      <td>6</td>\n",
       "      <td>...</td>\n",
       "      <td>5</td>\n",
       "      <td>1.0</td>\n",
       "      <td>6.0</td>\n",
       "      <td>2.0</td>\n",
       "      <td>3.0</td>\n",
       "      <td>1.0</td>\n",
       "      <td>680.0</td>\n",
       "      <td>5.0</td>\n",
       "      <td>2.0</td>\n",
       "      <td>3.0</td>\n",
       "    </tr>\n",
       "    <tr>\n",
       "      <th>1</th>\n",
       "      <td>680</td>\n",
       "      <td>2</td>\n",
       "      <td>2</td>\n",
       "      <td>2</td>\n",
       "      <td>1</td>\n",
       "      <td>5</td>\n",
       "      <td>2</td>\n",
       "      <td>2</td>\n",
       "      <td>1</td>\n",
       "      <td>6</td>\n",
       "      <td>...</td>\n",
       "      <td>11</td>\n",
       "      <td>2.0</td>\n",
       "      <td>6.0</td>\n",
       "      <td>2.0</td>\n",
       "      <td>3.0</td>\n",
       "      <td>1.0</td>\n",
       "      <td>680.0</td>\n",
       "      <td>5.0</td>\n",
       "      <td>4.0</td>\n",
       "      <td>4.0</td>\n",
       "    </tr>\n",
       "    <tr>\n",
       "      <th>2</th>\n",
       "      <td>680</td>\n",
       "      <td>5</td>\n",
       "      <td>5</td>\n",
       "      <td>2</td>\n",
       "      <td>1</td>\n",
       "      <td>11</td>\n",
       "      <td>3</td>\n",
       "      <td>2</td>\n",
       "      <td>2</td>\n",
       "      <td>6</td>\n",
       "      <td>...</td>\n",
       "      <td>3</td>\n",
       "      <td>2.0</td>\n",
       "      <td>2.0</td>\n",
       "      <td>3.0</td>\n",
       "      <td>6.0</td>\n",
       "      <td>2.0</td>\n",
       "      <td>680.0</td>\n",
       "      <td>5.0</td>\n",
       "      <td>3.0</td>\n",
       "      <td>2.0</td>\n",
       "    </tr>\n",
       "    <tr>\n",
       "      <th>3</th>\n",
       "      <td>680</td>\n",
       "      <td>5</td>\n",
       "      <td>5</td>\n",
       "      <td>2</td>\n",
       "      <td>1</td>\n",
       "      <td>11</td>\n",
       "      <td>3</td>\n",
       "      <td>2</td>\n",
       "      <td>2</td>\n",
       "      <td>6</td>\n",
       "      <td>...</td>\n",
       "      <td>10</td>\n",
       "      <td>2.0</td>\n",
       "      <td>1.0</td>\n",
       "      <td>3.0</td>\n",
       "      <td>6.0</td>\n",
       "      <td>2.0</td>\n",
       "      <td>680.0</td>\n",
       "      <td>5.0</td>\n",
       "      <td>3.0</td>\n",
       "      <td>4.0</td>\n",
       "    </tr>\n",
       "    <tr>\n",
       "      <th>4</th>\n",
       "      <td>680</td>\n",
       "      <td>5</td>\n",
       "      <td>5</td>\n",
       "      <td>2</td>\n",
       "      <td>1</td>\n",
       "      <td>11</td>\n",
       "      <td>3</td>\n",
       "      <td>1</td>\n",
       "      <td>2</td>\n",
       "      <td>6</td>\n",
       "      <td>...</td>\n",
       "      <td>10</td>\n",
       "      <td>1.0</td>\n",
       "      <td>1.0</td>\n",
       "      <td>1.0</td>\n",
       "      <td>6.0</td>\n",
       "      <td>2.0</td>\n",
       "      <td>680.0</td>\n",
       "      <td>5.0</td>\n",
       "      <td>3.0</td>\n",
       "      <td>4.0</td>\n",
       "    </tr>\n",
       "  </tbody>\n",
       "</table>\n",
       "<p>5 rows × 195 columns</p>\n",
       "</div>"
      ],
      "text/plain": [
       "    GU  FAM1  FAM2  HTYP  HLIV  INC  REL  JEN  MAR  RLI  ...  JOB  DE1  DE2  \\\n",
       "0  680     2     2     2     1    5    1    1    1    6  ...    5  1.0  6.0   \n",
       "1  680     2     2     2     1    5    2    2    1    6  ...   11  2.0  6.0   \n",
       "2  680     5     5     2     1   11    3    2    2    6  ...    3  2.0  2.0   \n",
       "3  680     5     5     2     1   11    3    2    2    6  ...   10  2.0  1.0   \n",
       "4  680     5     5     2     1   11    3    1    2    6  ...   10  1.0  1.0   \n",
       "\n",
       "   DE3  DE4  DE5    DE6  DE7  DE8  DE9  \n",
       "0  2.0  3.0  1.0  680.0  5.0  2.0  3.0  \n",
       "1  2.0  3.0  1.0  680.0  5.0  4.0  4.0  \n",
       "2  3.0  6.0  2.0  680.0  5.0  3.0  2.0  \n",
       "3  3.0  6.0  2.0  680.0  5.0  3.0  4.0  \n",
       "4  1.0  6.0  2.0  680.0  5.0  3.0  4.0  \n",
       "\n",
       "[5 rows x 195 columns]"
      ]
     },
     "execution_count": 1,
     "metadata": {},
     "output_type": "execute_result"
    }
   ],
   "source": [
    "# 초기 설정\n",
    "\n",
    "import numpy as np\n",
    "np.set_printoptions(precision = 3)\n",
    "import pandas as pd\n",
    "pd.set_option('display.precision',3)\n",
    "import matplotlib.pyplot as plt\n",
    "import seaborn as sns\n",
    "color = sns.color_palette()\n",
    "sns.set_style('whitegrid')\n",
    "happy = pd.read_csv('C:/Users/gerrard/Desktop/새 폴더/2020-1/ESC/Final/Seoul_Happiness_2014_train.csv')\n",
    "happy = happy.drop(['X','wtb1','wtb2'], axis = 1) \n",
    "\n",
    "happy.head()"
   ]
  },
  {
   "cell_type": "code",
   "execution_count": 2,
   "metadata": {},
   "outputs": [
    {
     "data": {
      "text/html": [
       "<div>\n",
       "<style scoped>\n",
       "    .dataframe tbody tr th:only-of-type {\n",
       "        vertical-align: middle;\n",
       "    }\n",
       "\n",
       "    .dataframe tbody tr th {\n",
       "        vertical-align: top;\n",
       "    }\n",
       "\n",
       "    .dataframe thead th {\n",
       "        text-align: right;\n",
       "    }\n",
       "</style>\n",
       "<table border=\"1\" class=\"dataframe\">\n",
       "  <thead>\n",
       "    <tr style=\"text-align: right;\">\n",
       "      <th></th>\n",
       "      <th>Q29A1</th>\n",
       "      <th>Q29A2</th>\n",
       "      <th>Q29A3</th>\n",
       "      <th>Q29A4</th>\n",
       "    </tr>\n",
       "  </thead>\n",
       "  <tbody>\n",
       "    <tr>\n",
       "      <th>0</th>\n",
       "      <td>3</td>\n",
       "      <td>4</td>\n",
       "      <td>3</td>\n",
       "      <td>3</td>\n",
       "    </tr>\n",
       "    <tr>\n",
       "      <th>1</th>\n",
       "      <td>4</td>\n",
       "      <td>3</td>\n",
       "      <td>4</td>\n",
       "      <td>3</td>\n",
       "    </tr>\n",
       "    <tr>\n",
       "      <th>2</th>\n",
       "      <td>4</td>\n",
       "      <td>3</td>\n",
       "      <td>3</td>\n",
       "      <td>4</td>\n",
       "    </tr>\n",
       "    <tr>\n",
       "      <th>3</th>\n",
       "      <td>5</td>\n",
       "      <td>3</td>\n",
       "      <td>3</td>\n",
       "      <td>4</td>\n",
       "    </tr>\n",
       "    <tr>\n",
       "      <th>4</th>\n",
       "      <td>3</td>\n",
       "      <td>3</td>\n",
       "      <td>2</td>\n",
       "      <td>3</td>\n",
       "    </tr>\n",
       "  </tbody>\n",
       "</table>\n",
       "</div>"
      ],
      "text/plain": [
       "   Q29A1  Q29A2  Q29A3  Q29A4\n",
       "0      3      4      3      3\n",
       "1      4      3      4      3\n",
       "2      4      3      3      4\n",
       "3      5      3      3      4\n",
       "4      3      3      2      3"
      ]
     },
     "execution_count": 2,
     "metadata": {},
     "output_type": "execute_result"
    }
   ],
   "source": [
    "happy[['Q29A1', 'Q29A2', 'Q29A3', 'Q29A4']].head()"
   ]
  },
  {
   "cell_type": "code",
   "execution_count": 3,
   "metadata": {
    "scrolled": true
   },
   "outputs": [
    {
     "name": "stdout",
     "output_type": "stream",
     "text": [
      "       Q29A1  Q29A2  Q29A3  Q29A4\n",
      "Q29A1  1.000  0.169  0.164  0.201\n",
      "Q29A2  0.169  1.000  0.203  0.168\n",
      "Q29A3  0.164  0.203  1.000  0.276\n",
      "Q29A4  0.201  0.168  0.276  1.000\n"
     ]
    },
    {
     "data": {
      "image/png": "[encoded data removed]",
      "text/plain": [
       "<Figure size 432x288 with 2 Axes>"
      ]
     },
     "metadata": {
      "needs_background": "light"
     },
     "output_type": "display_data"
    }
   ],
   "source": [
    "# Q 29\n",
    "\n",
    "# Compute the correlation matrix\n",
    "corr29 = happy[['Q29A1', 'Q29A2', 'Q29A3', 'Q29A4']].corr() # corr값 계산하고\n",
    "print(corr29)\n",
    "# Generate a mask for the upper triangle\n",
    "mask = np.zeros_like(corr29, dtype=np.bool) # Upper triangular로 만드는거라네요\n",
    "mask[np.triu_indices_from(mask)] = True\n",
    "\n",
    "# Set up the matplotlib figure\n",
    "fig, ax = plt.subplots()\n",
    "\n",
    "# Draw the heatmap with the mask and correct aspect ratio\n",
    "vmax = np.abs(corr29.values[~mask]).max()\n",
    "sns.heatmap(corr29, mask=mask, cmap=plt.cm.PuOr, vmin=-vmax, vmax=vmax,\n",
    "            square=True, linecolor=\"lightgray\", linewidths=1, ax=ax)\n",
    "for i in range(len(corr29)): # 위치 조절\n",
    "    ax.text(i+0.5,(i+0.5), corr29.columns[i], \n",
    "            ha=\"center\", va=\"center\", rotation=45)\n",
    "    for j in range(i+1, len(corr29)):\n",
    "        s = \"{:.3f}\".format(corr29.values[i,j])\n",
    "        ax.text(j+0.5,i+0.5,s, \n",
    "            ha=\"center\", va=\"center\")\n",
    "ax.axis(\"off\")\n",
    "plt.show()"
   ]
  },
  {
   "cell_type": "code",
   "execution_count": 4,
   "metadata": {},
   "outputs": [
    {
     "name": "stdout",
     "output_type": "stream",
     "text": [
      "       Q30A1  Q30A2  Q30A3  Q30A4  Q30A5\n",
      "Q30A1  1.000  0.247 -0.052 -0.091  0.108\n",
      "Q30A2  0.247  1.000  0.379  0.271  0.229\n",
      "Q30A3 -0.052  0.379  1.000  0.679  0.203\n",
      "Q30A4 -0.091  0.271  0.679  1.000  0.235\n",
      "Q30A5  0.108  0.229  0.203  0.235  1.000\n"
     ]
    },
    {
     "data": {
      "image/png": "[encoded data removed]",
      "text/plain": [
       "<Figure size 432x288 with 2 Axes>"
      ]
     },
     "metadata": {
      "needs_background": "light"
     },
     "output_type": "display_data"
    }
   ],
   "source": [
    "# Q 30\n",
    "\n",
    "# Compute the correlation matrix\n",
    "corr30 = happy[['Q30A1', 'Q30A2', 'Q30A3', 'Q30A4', 'Q30A5']].corr() # corr값 계산하고\n",
    "print(corr30)\n",
    "# Generate a mask for the upper triangle\n",
    "mask = np.zeros_like(corr30, dtype=np.bool) # Upper triangular로 만드는거라네요\n",
    "mask[np.triu_indices_from(mask)] = True\n",
    "\n",
    "# Set up the matplotlib figure\n",
    "fig, ax = plt.subplots()\n",
    "\n",
    "# Draw the heatmap with the mask and correct aspect ratio\n",
    "vmax = np.abs(corr30.values[~mask]).max()\n",
    "sns.heatmap(corr30, mask=mask, cmap=plt.cm.PuOr, vmin=-vmax, vmax=vmax,\n",
    "            square=True, linecolor=\"lightgray\", linewidths=1, ax=ax)\n",
    "for i in range(len(corr30)): # 위치 조절\n",
    "    ax.text(i+0.5,(i+0.5), corr30.columns[i], \n",
    "            ha=\"center\", va=\"center\", rotation=45)\n",
    "    for j in range(i+1, len(corr30)):\n",
    "        s = \"{:.3f}\".format(corr30.values[i,j])\n",
    "        ax.text(j+0.5,i+0.5,s, \n",
    "            ha=\"center\", va=\"center\")\n",
    "ax.axis(\"off\")\n",
    "plt.show()\n",
    "\n",
    "# 3번과 4번은 같은 문항으로 합쳐도 될 듯!"
   ]
  },
  {
   "cell_type": "code",
   "execution_count": 5,
   "metadata": {},
   "outputs": [
    {
     "name": "stdout",
     "output_type": "stream",
     "text": [
      "       Q32A1  Q32A2  Q32A3  Q32A4  Q32A5  Q32A6  Q32A7\n",
      "Q32A1  1.000  0.475  0.243  0.284  0.234  0.181  0.167\n",
      "Q32A2  0.475  1.000  0.293  0.267  0.298  0.205  0.187\n",
      "Q32A3  0.243  0.293  1.000  0.320  0.268  0.356  0.270\n",
      "Q32A4  0.284  0.267  0.320  1.000  0.316  0.226  0.234\n",
      "Q32A5  0.234  0.298  0.268  0.316  1.000  0.365  0.279\n",
      "Q32A6  0.181  0.205  0.356  0.226  0.365  1.000  0.434\n",
      "Q32A7  0.167  0.187  0.270  0.234  0.279  0.434  1.000\n"
     ]
    },
    {
     "data": {
      "image/png": "[encoded data removed]",
      "text/plain": [
       "<Figure size 432x288 with 2 Axes>"
      ]
     },
     "metadata": {
      "needs_background": "light"
     },
     "output_type": "display_data"
    }
   ],
   "source": [
    "# Q 32\n",
    "\n",
    "# Compute the correlation matrix\n",
    "corr32 = happy[['Q32A1', 'Q32A2', 'Q32A3', 'Q32A4', 'Q32A5', 'Q32A6', 'Q32A7']].corr() # corr값 계산하고\n",
    "print(corr32)\n",
    "# Generate a mask for the upper triangle\n",
    "mask = np.zeros_like(corr32, dtype=np.bool) # Upper triangular로 만드는거라네요\n",
    "mask[np.triu_indices_from(mask)] = True\n",
    "\n",
    "# Set up the matplotlib figure\n",
    "fig, ax = plt.subplots()\n",
    "\n",
    "# Draw the heatmap with the mask and correct aspect ratio\n",
    "vmax = np.abs(corr32.values[~mask]).max()\n",
    "sns.heatmap(corr32, mask=mask, cmap=plt.cm.PuOr, vmin=-vmax, vmax=vmax,\n",
    "            square=True, linecolor=\"lightgray\", linewidths=1, ax=ax)\n",
    "for i in range(len(corr32)): # 위치 조절\n",
    "    ax.text(i+0.5,(i+0.5), corr32.columns[i], \n",
    "            ha=\"center\", va=\"center\", rotation=45)\n",
    "    for j in range(i+1, len(corr32)):\n",
    "        s = \"{:.3f}\".format(corr32.values[i,j])\n",
    "        ax.text(j+0.5,i+0.5,s, \n",
    "            ha=\"center\", va=\"center\")\n",
    "ax.axis(\"off\")\n",
    "plt.show()\n",
    "\n",
    "# 1번과 2번, 1번과 7번이 꽤 높다. "
   ]
  },
  {
   "cell_type": "code",
   "execution_count": 6,
   "metadata": {},
   "outputs": [
    {
     "name": "stdout",
     "output_type": "stream",
     "text": [
      "       Q33A1  Q33A2  Q33A3  Q33A4  Q33A5  Q33A6  Q33A7  Q33A8  Q33A9\n",
      "Q33A1  1.000  0.477  0.229  0.205  0.208  0.231  0.277  0.212  0.234\n",
      "Q33A2  0.477  1.000  0.333  0.205  0.236  0.263  0.267  0.236  0.240\n",
      "Q33A3  0.229  0.333  1.000  0.341  0.196  0.253  0.183  0.248  0.149\n",
      "Q33A4  0.205  0.205  0.341  1.000  0.451  0.245  0.252  0.243  0.189\n",
      "Q33A5  0.208  0.236  0.196  0.451  1.000  0.325  0.247  0.221  0.242\n",
      "Q33A6  0.231  0.263  0.253  0.245  0.325  1.000  0.355  0.248  0.248\n",
      "Q33A7  0.277  0.267  0.183  0.252  0.247  0.355  1.000  0.257  0.315\n",
      "Q33A8  0.212  0.236  0.248  0.243  0.221  0.248  0.257  1.000  0.350\n",
      "Q33A9  0.234  0.240  0.149  0.189  0.242  0.248  0.315  0.350  1.000\n"
     ]
    },
    {
     "data": {
      "image/png": "[encoded data removed]",
      "text/plain": [
       "<Figure size 432x288 with 2 Axes>"
      ]
     },
     "metadata": {
      "needs_background": "light"
     },
     "output_type": "display_data"
    },
    {
     "name": "stdout",
     "output_type": "stream",
     "text": [
      "       Q33A1  Q33A2  Q33A3  Q33A4  Q33A5  Q33A6  Q33A7  Q33A8  Q33A9\n",
      "Q33A1  1.000  0.477    NaN    NaN    NaN    NaN    NaN    NaN    NaN\n",
      "Q33A2  0.477  1.000    NaN    NaN    NaN    NaN    NaN    NaN    NaN\n",
      "Q33A3    NaN    NaN    1.0    NaN    NaN    NaN    NaN    NaN    NaN\n",
      "Q33A4    NaN    NaN    NaN  1.000  0.451    NaN    NaN    NaN    NaN\n",
      "Q33A5    NaN    NaN    NaN  0.451  1.000    NaN    NaN    NaN    NaN\n",
      "Q33A6    NaN    NaN    NaN    NaN    NaN    1.0    NaN    NaN    NaN\n",
      "Q33A7    NaN    NaN    NaN    NaN    NaN    NaN    1.0    NaN    NaN\n",
      "Q33A8    NaN    NaN    NaN    NaN    NaN    NaN    NaN    1.0    NaN\n",
      "Q33A9    NaN    NaN    NaN    NaN    NaN    NaN    NaN    NaN    1.0\n"
     ]
    }
   ],
   "source": [
    "# Q 33\n",
    "\n",
    "# Compute the correlation matrix\n",
    "corr33 = happy[['Q33A1', 'Q33A2', 'Q33A3', 'Q33A4', 'Q33A5', 'Q33A6', 'Q33A7', 'Q33A8', 'Q33A9',]].corr() # corr값 계산하고\n",
    "print(corr33)\n",
    "# Generate a mask for the upper triangle\n",
    "mask = np.zeros_like(corr33, dtype=np.bool) # Upper triangular로 만드는거라네요\n",
    "mask[np.triu_indices_from(mask)] = True\n",
    "\n",
    "# Set up the matplotlib figure\n",
    "fig, ax = plt.subplots()\n",
    "\n",
    "# Draw the heatmap with the mask and correct aspect ratio\n",
    "vmax = np.abs(corr33.values[~mask]).max()\n",
    "sns.heatmap(corr33, mask=mask, cmap=plt.cm.PuOr, vmin=-vmax, vmax=vmax,\n",
    "            square=True, linecolor=\"lightgray\", linewidths=1, ax=ax)\n",
    "for i in range(len(corr33)): # 위치 조절\n",
    "    ax.text(i+0.5,(i+0.5), corr33.columns[i], \n",
    "            ha=\"center\", va=\"center\", rotation=45)\n",
    "    for j in range(i+1, len(corr33)):\n",
    "        s = \"{:.3f}\".format(corr33.values[i,j])\n",
    "        ax.text(j+0.5,i+0.5,s, \n",
    "            ha=\"center\", va=\"center\")\n",
    "ax.axis(\"off\")\n",
    "plt.show()\n",
    "\n",
    "print(corr33[corr33>0.4])\n",
    "#1번과 2번, 4번과 5번이 꽤 높은 것으로 확인!"
   ]
  },
  {
   "cell_type": "code",
   "execution_count": 7,
   "metadata": {},
   "outputs": [
    {
     "name": "stdout",
     "output_type": "stream",
     "text": [
      "       Q36A1  Q36A2\n",
      "Q36A1   1.00   0.56\n",
      "Q36A2   0.56   1.00\n"
     ]
    },
    {
     "data": {
      "image/png": "[encoded data removed]",
      "text/plain": [
       "<Figure size 432x288 with 2 Axes>"
      ]
     },
     "metadata": {
      "needs_background": "light"
     },
     "output_type": "display_data"
    }
   ],
   "source": [
    "# Q 36-1\n",
    "\n",
    "# Compute the correlation matrix\n",
    "corr36_1 = happy[['Q36A1', 'Q36A2']].corr() # corr값 계산하고\n",
    "print(corr36_1)\n",
    "# Generate a mask for the upper triangle\n",
    "mask = np.zeros_like(corr36_1, dtype=np.bool) # Upper triangular로 만드는거라네요\n",
    "mask[np.triu_indices_from(mask)] = True\n",
    "\n",
    "# Set up the matplotlib figure\n",
    "fig, ax = plt.subplots()\n",
    "\n",
    "# Draw the heatmap with the mask and correct aspect ratio\n",
    "vmax = np.abs(corr36_1.values[~mask]).max()\n",
    "sns.heatmap(corr36_1, mask=mask, cmap=plt.cm.PuOr, vmin=-vmax, vmax=vmax,\n",
    "            square=True, linecolor=\"lightgray\", linewidths=1, ax=ax)\n",
    "for i in range(len(corr36_1)): # 위치 조절\n",
    "    ax.text(i+0.5,(i+0.5), corr36_1.columns[i], \n",
    "            ha=\"center\", va=\"center\", rotation=45)\n",
    "    for j in range(i+1, len(corr36_1)):\n",
    "        s = \"{:.3f}\".format(corr36_1.values[i,j])\n",
    "        ax.text(j+0.5,i+0.5,s, \n",
    "            ha=\"center\", va=\"center\")\n",
    "ax.axis(\"off\")\n",
    "plt.show()\n",
    "\n",
    "# 얘네 두개는 합쳐도 될 것 같다!"
   ]
  },
  {
   "cell_type": "code",
   "execution_count": 8,
   "metadata": {},
   "outputs": [
    {
     "name": "stdout",
     "output_type": "stream",
     "text": [
      "       Q43A1  Q43A2\n",
      "Q43A1  1.000  0.531\n",
      "Q43A2  0.531  1.000\n"
     ]
    },
    {
     "data": {
      "image/png": "[encoded data removed]",
      "text/plain": [
       "<Figure size 432x288 with 2 Axes>"
      ]
     },
     "metadata": {
      "needs_background": "light"
     },
     "output_type": "display_data"
    }
   ],
   "source": [
    "# Q 43\n",
    "\n",
    "# Compute the correlation matrix\n",
    "corr43 = happy[['Q43A1', 'Q43A2']].corr() # corr값 계산하고\n",
    "print(corr43)\n",
    "# Generate a mask for the upper triangle\n",
    "mask = np.zeros_like(corr43, dtype=np.bool) # Upper triangular로 만드는거라네요\n",
    "mask[np.triu_indices_from(mask)] = True\n",
    "\n",
    "# Set up the matplotlib figure\n",
    "fig, ax = plt.subplots()\n",
    "\n",
    "# Draw the heatmap with the mask and correct aspect ratio\n",
    "vmax = np.abs(corr43.values[~mask]).max()\n",
    "sns.heatmap(corr43, mask=mask, cmap=plt.cm.PuOr, vmin=-vmax, vmax=vmax,\n",
    "            square=True, linecolor=\"lightgray\", linewidths=1, ax=ax)\n",
    "for i in range(len(corr43)): # 위치 조절\n",
    "    ax.text(i+0.5,(i+0.5), corr43.columns[i], \n",
    "            ha=\"center\", va=\"center\", rotation=45)\n",
    "    for j in range(i+1, len(corr43)):\n",
    "        s = \"{:.3f}\".format(corr43.values[i,j])\n",
    "        ax.text(j+0.5,i+0.5,s, \n",
    "            ha=\"center\", va=\"center\")\n",
    "ax.axis(\"off\")\n",
    "plt.show()\n",
    "\n",
    "# 얘네도 합쳐도 될 듯!"
   ]
  },
  {
   "cell_type": "code",
   "execution_count": 23,
   "metadata": {},
   "outputs": [
    {
     "data": {
      "text/plain": [
       "<matplotlib.legend.Legend at 0x20097371e80>"
      ]
     },
     "execution_count": 23,
     "metadata": {},
     "output_type": "execute_result"
    },
    {
     "data": {
      "image/png": "[encoded data removed]",
      "text/plain": [
       "<Figure size 432x288 with 1 Axes>"
      ]
     },
     "metadata": {
      "needs_background": "light"
     },
     "output_type": "display_data"
    }
   ],
   "source": [
    "plt.hist(happy['Q43A1'], rwidth=5, alpha=0.5, label='Q43A1')\n",
    "plt.hist(happy['Q43A2'], rwidth=5, color='green', alpha=0.5, label='Q43A2')\n",
    "plt.grid()\n",
    "plt.legend()"
   ]
  }
 ],
 "metadata": {
  "kernelspec": {
   "display_name": "Python 3",
   "language": "python",
   "name": "python3"
  },
  "language_info": {
   "codemirror_mode": {
    "name": "ipython",
    "version": 3
   },
   "file_extension": ".py",
   "mimetype": "text/x-python",
   "name": "python",
   "nbconvert_exporter": "python",
   "pygments_lexer": "ipython3",
   "version": "3.7.3"
  }
 },
 "nbformat": 4,
 "nbformat_minor": 2
}
