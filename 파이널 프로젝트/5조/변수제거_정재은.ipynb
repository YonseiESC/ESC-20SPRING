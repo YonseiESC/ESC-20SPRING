{
  "nbformat": 4,
  "nbformat_minor": 0,
  "metadata": {
    "colab": {
      "name": "변수제거_정재은.ipynb",
      "provenance": [],
      "collapsed_sections": [],
      "machine_shape": "hm"
    },
    "kernelspec": {
      "name": "python3",
      "display_name": "Python 3"
    },
    "accelerator": "GPU"
  },
  "cells": [
    {
      "cell_type": "code",
      "metadata": {
        "id": "YJrb5JnkfWze",
        "colab_type": "code",
        "outputId": "12867a3b-16da-4611-a852-03766f1e6c8c",
        "colab": {
          "base_uri": "https://localhost:8080/",
          "height": 34
        }
      },
      "source": [
        "from google.colab import drive\n",
        "\n",
        "drive.mount('/content/gdrive')"
      ],
      "execution_count": 1,
      "outputs": [
        {
          "output_type": "stream",
          "text": [
            "Drive already mounted at /content/gdrive; to attempt to forcibly remount, call drive.mount(\"/content/gdrive\", force_remount=True).\n"
          ],
          "name": "stdout"
        }
      ]
    },
    {
      "cell_type": "code",
      "metadata": {
        "id": "BAbwejTMfaMx",
        "colab_type": "code",
        "outputId": "c69eb56e-b748-47d7-997e-60119da38a6e",
        "colab": {
          "base_uri": "https://localhost:8080/",
          "height": 34
        }
      },
      "source": [
        "%cd /content/gdrive/My Drive/Colab Notebooks/Classification_Bankruptcy/5조 "
      ],
      "execution_count": 2,
      "outputs": [
        {
          "output_type": "stream",
          "text": [
            "/content/gdrive/My Drive/Colab Notebooks/Classification_Bankruptcy/5조\n"
          ],
          "name": "stdout"
        }
      ]
    },
    {
      "cell_type": "code",
      "metadata": {
        "id": "6dA1W7GkfaRV",
        "colab_type": "code",
        "outputId": "0aef4031-0a28-4c2e-e468-e870514b7c39",
        "colab": {
          "base_uri": "https://localhost:8080/",
          "height": 50
        }
      },
      "source": [
        "import numpy as np\n",
        "import pandas as pd\n",
        "pd.set_option('display.max_rows', 100)\n",
        "import matplotlib.pyplot as plt\n",
        "import seaborn as sns\n",
        "%matplotlib inline"
      ],
      "execution_count": 3,
      "outputs": [
        {
          "output_type": "stream",
          "text": [
            "/usr/local/lib/python3.6/dist-packages/statsmodels/tools/_testing.py:19: FutureWarning: pandas.util.testing is deprecated. Use the functions in the public API at pandas.testing instead.\n",
            "  import pandas.util.testing as tm\n"
          ],
          "name": "stderr"
        }
      ]
    },
    {
      "cell_type": "markdown",
      "metadata": {
        "id": "2fc2RBk0fn6N",
        "colab_type": "text"
      },
      "source": [
        "# 1. Deleting useless variables using correlation "
      ]
    },
    {
      "cell_type": "code",
      "metadata": {
        "id": "WLrilEukfn_U",
        "colab_type": "code",
        "outputId": "a5d6fb29-3eac-463f-cfab-86b5fb369131",
        "colab": {
          "base_uri": "https://localhost:8080/",
          "height": 215
        }
      },
      "source": [
        "df = pd.read_csv(\"imputed_final.csv\")\n",
        "df.head()"
      ],
      "execution_count": 4,
      "outputs": [
        {
          "output_type": "execute_result",
          "data": {
            "text/html": [
              "<div>\n",
              "<style scoped>\n",
              "    .dataframe tbody tr th:only-of-type {\n",
              "        vertical-align: middle;\n",
              "    }\n",
              "\n",
              "    .dataframe tbody tr th {\n",
              "        vertical-align: top;\n",
              "    }\n",
              "\n",
              "    .dataframe thead th {\n",
              "        text-align: right;\n",
              "    }\n",
              "</style>\n",
              "<table border=\"1\" class=\"dataframe\">\n",
              "  <thead>\n",
              "    <tr style=\"text-align: right;\">\n",
              "      <th></th>\n",
              "      <th>Attr1</th>\n",
              "      <th>Attr2</th>\n",
              "      <th>Attr3</th>\n",
              "      <th>Attr4</th>\n",
              "      <th>Attr5</th>\n",
              "      <th>Attr6</th>\n",
              "      <th>Attr7</th>\n",
              "      <th>Attr8</th>\n",
              "      <th>Attr9</th>\n",
              "      <th>Attr10</th>\n",
              "      <th>Attr11</th>\n",
              "      <th>Attr12</th>\n",
              "      <th>Attr13</th>\n",
              "      <th>Attr14</th>\n",
              "      <th>Attr16</th>\n",
              "      <th>Attr18</th>\n",
              "      <th>Attr21</th>\n",
              "      <th>Attr22</th>\n",
              "      <th>Attr23</th>\n",
              "      <th>Attr24</th>\n",
              "      <th>Attr25</th>\n",
              "      <th>Attr26</th>\n",
              "      <th>Attr27</th>\n",
              "      <th>Attr29</th>\n",
              "      <th>Attr30</th>\n",
              "      <th>Attr32</th>\n",
              "      <th>Attr33</th>\n",
              "      <th>Attr35</th>\n",
              "      <th>Attr36</th>\n",
              "      <th>Attr38</th>\n",
              "      <th>Attr39</th>\n",
              "      <th>Attr40</th>\n",
              "      <th>Attr43</th>\n",
              "      <th>Attr45</th>\n",
              "      <th>Attr47</th>\n",
              "      <th>Attr48</th>\n",
              "      <th>Attr49</th>\n",
              "      <th>Attr50</th>\n",
              "      <th>Attr51</th>\n",
              "      <th>Attr52</th>\n",
              "      <th>Attr53</th>\n",
              "      <th>Attr54</th>\n",
              "      <th>Attr56</th>\n",
              "      <th>Attr58</th>\n",
              "      <th>Attr59</th>\n",
              "      <th>Attr60</th>\n",
              "      <th>Attr61</th>\n",
              "      <th>Attr63</th>\n",
              "      <th>Attr64</th>\n",
              "      <th>class</th>\n",
              "    </tr>\n",
              "  </thead>\n",
              "  <tbody>\n",
              "    <tr>\n",
              "      <th>0</th>\n",
              "      <td>-0.024558</td>\n",
              "      <td>0.30051</td>\n",
              "      <td>0.10733</td>\n",
              "      <td>1.975914</td>\n",
              "      <td>34.382</td>\n",
              "      <td>-0.026711</td>\n",
              "      <td>-0.020067</td>\n",
              "      <td>2.25190</td>\n",
              "      <td>1.06670</td>\n",
              "      <td>0.67673</td>\n",
              "      <td>-0.020067</td>\n",
              "      <td>-0.156456</td>\n",
              "      <td>0.025634</td>\n",
              "      <td>-0.020067</td>\n",
              "      <td>0.057548</td>\n",
              "      <td>-0.020067</td>\n",
              "      <td>1.08530</td>\n",
              "      <td>0.00866</td>\n",
              "      <td>-0.023022</td>\n",
              "      <td>-0.019018</td>\n",
              "      <td>0.67673</td>\n",
              "      <td>0.042607</td>\n",
              "      <td>0.13691</td>\n",
              "      <td>4.5645</td>\n",
              "      <td>0.44185</td>\n",
              "      <td>74.015</td>\n",
              "      <td>4.9315</td>\n",
              "      <td>0.00866</td>\n",
              "      <td>0.69446</td>\n",
              "      <td>0.84898</td>\n",
              "      <td>0.008118</td>\n",
              "      <td>0.026591</td>\n",
              "      <td>125.6100</td>\n",
              "      <td>-0.49620</td>\n",
              "      <td>28.560</td>\n",
              "      <td>-0.028702</td>\n",
              "      <td>-0.026907</td>\n",
              "      <td>0.783960</td>\n",
              "      <td>0.12826</td>\n",
              "      <td>0.20278</td>\n",
              "      <td>0.88530</td>\n",
              "      <td>1.1106</td>\n",
              "      <td>0.062497</td>\n",
              "      <td>0.93750</td>\n",
              "      <td>0.288165</td>\n",
              "      <td>13.6320</td>\n",
              "      <td>3.6930</td>\n",
              "      <td>8.316700</td>\n",
              "      <td>0.88260</td>\n",
              "      <td>0.0</td>\n",
              "    </tr>\n",
              "    <tr>\n",
              "      <th>1</th>\n",
              "      <td>0.639180</td>\n",
              "      <td>0.00000</td>\n",
              "      <td>1.00000</td>\n",
              "      <td>5006.666667</td>\n",
              "      <td>29.678</td>\n",
              "      <td>-1.139300</td>\n",
              "      <td>0.760520</td>\n",
              "      <td>1.09245</td>\n",
              "      <td>1.11850</td>\n",
              "      <td>1.00000</td>\n",
              "      <td>0.760520</td>\n",
              "      <td>2328.019515</td>\n",
              "      <td>0.679940</td>\n",
              "      <td>0.760520</td>\n",
              "      <td>0.222805</td>\n",
              "      <td>0.760520</td>\n",
              "      <td>1.04790</td>\n",
              "      <td>0.76040</td>\n",
              "      <td>0.571462</td>\n",
              "      <td>0.600720</td>\n",
              "      <td>-0.50015</td>\n",
              "      <td>0.203820</td>\n",
              "      <td>1.01190</td>\n",
              "      <td>1.2218</td>\n",
              "      <td>0.00000</td>\n",
              "      <td>0.000</td>\n",
              "      <td>4.4510</td>\n",
              "      <td>0.76040</td>\n",
              "      <td>1.11850</td>\n",
              "      <td>1.00000</td>\n",
              "      <td>0.679839</td>\n",
              "      <td>0.177130</td>\n",
              "      <td>9.6341</td>\n",
              "      <td>0.23541</td>\n",
              "      <td>0.000</td>\n",
              "      <td>0.760400</td>\n",
              "      <td>0.679839</td>\n",
              "      <td>27695.282739</td>\n",
              "      <td>0.00000</td>\n",
              "      <td>0.00000</td>\n",
              "      <td>1.20865</td>\n",
              "      <td>1.3747</td>\n",
              "      <td>0.679830</td>\n",
              "      <td>0.32014</td>\n",
              "      <td>0.000000</td>\n",
              "      <td>9.5619</td>\n",
              "      <td>37.8860</td>\n",
              "      <td>3423.828207</td>\n",
              "      <td>4.01995</td>\n",
              "      <td>0.0</td>\n",
              "    </tr>\n",
              "    <tr>\n",
              "      <th>2</th>\n",
              "      <td>-0.440760</td>\n",
              "      <td>0.47723</td>\n",
              "      <td>0.19260</td>\n",
              "      <td>1.467776</td>\n",
              "      <td>34.555</td>\n",
              "      <td>0.000000</td>\n",
              "      <td>-0.440760</td>\n",
              "      <td>1.09540</td>\n",
              "      <td>1.51860</td>\n",
              "      <td>0.52277</td>\n",
              "      <td>-0.429190</td>\n",
              "      <td>-1.070611</td>\n",
              "      <td>-0.240740</td>\n",
              "      <td>-0.440760</td>\n",
              "      <td>-0.766050</td>\n",
              "      <td>-0.440760</td>\n",
              "      <td>0.50040</td>\n",
              "      <td>-0.42986</td>\n",
              "      <td>-0.290241</td>\n",
              "      <td>0.744700</td>\n",
              "      <td>0.46954</td>\n",
              "      <td>-0.766050</td>\n",
              "      <td>-37.14700</td>\n",
              "      <td>2.9728</td>\n",
              "      <td>0.31392</td>\n",
              "      <td>76.670</td>\n",
              "      <td>4.7606</td>\n",
              "      <td>-0.44130</td>\n",
              "      <td>1.51860</td>\n",
              "      <td>0.58832</td>\n",
              "      <td>-0.290597</td>\n",
              "      <td>0.029665</td>\n",
              "      <td>142.3100</td>\n",
              "      <td>0.23541</td>\n",
              "      <td>0.000</td>\n",
              "      <td>-0.505040</td>\n",
              "      <td>-0.332569</td>\n",
              "      <td>1.266200</td>\n",
              "      <td>0.41169</td>\n",
              "      <td>0.21006</td>\n",
              "      <td>1.32110</td>\n",
              "      <td>1.4867</td>\n",
              "      <td>-0.290590</td>\n",
              "      <td>1.28710</td>\n",
              "      <td>0.125371</td>\n",
              "      <td>9.5619</td>\n",
              "      <td>2.5649</td>\n",
              "      <td>3.688698</td>\n",
              "      <td>3.83760</td>\n",
              "      <td>0.0</td>\n",
              "    </tr>\n",
              "    <tr>\n",
              "      <th>3</th>\n",
              "      <td>0.119520</td>\n",
              "      <td>0.17679</td>\n",
              "      <td>0.63546</td>\n",
              "      <td>4.933282</td>\n",
              "      <td>117.650</td>\n",
              "      <td>0.251540</td>\n",
              "      <td>0.148750</td>\n",
              "      <td>4.58260</td>\n",
              "      <td>1.12630</td>\n",
              "      <td>0.81017</td>\n",
              "      <td>0.148750</td>\n",
              "      <td>0.841394</td>\n",
              "      <td>0.131500</td>\n",
              "      <td>0.148750</td>\n",
              "      <td>1.189400</td>\n",
              "      <td>0.148750</td>\n",
              "      <td>0.97491</td>\n",
              "      <td>0.14495</td>\n",
              "      <td>0.106117</td>\n",
              "      <td>0.315270</td>\n",
              "      <td>0.81017</td>\n",
              "      <td>1.024100</td>\n",
              "      <td>1.02090</td>\n",
              "      <td>5.4536</td>\n",
              "      <td>-0.18039</td>\n",
              "      <td>45.450</td>\n",
              "      <td>8.0308</td>\n",
              "      <td>0.14495</td>\n",
              "      <td>1.62200</td>\n",
              "      <td>0.81017</td>\n",
              "      <td>0.128696</td>\n",
              "      <td>2.702300</td>\n",
              "      <td>76.3540</td>\n",
              "      <td>0.66747</td>\n",
              "      <td>46.033</td>\n",
              "      <td>0.083425</td>\n",
              "      <td>0.074070</td>\n",
              "      <td>4.594400</td>\n",
              "      <td>0.17679</td>\n",
              "      <td>0.12452</td>\n",
              "      <td>4.31510</td>\n",
              "      <td>4.3151</td>\n",
              "      <td>0.112110</td>\n",
              "      <td>0.88789</td>\n",
              "      <td>0.016095</td>\n",
              "      <td>8.9302</td>\n",
              "      <td>10.2870</td>\n",
              "      <td>6.370835</td>\n",
              "      <td>8.51690</td>\n",
              "      <td>0.0</td>\n",
              "    </tr>\n",
              "    <tr>\n",
              "      <th>4</th>\n",
              "      <td>0.230400</td>\n",
              "      <td>0.27095</td>\n",
              "      <td>0.23762</td>\n",
              "      <td>2.574483</td>\n",
              "      <td>-26.928</td>\n",
              "      <td>0.617540</td>\n",
              "      <td>0.282690</td>\n",
              "      <td>2.69070</td>\n",
              "      <td>0.80411</td>\n",
              "      <td>0.72905</td>\n",
              "      <td>0.284330</td>\n",
              "      <td>1.873236</td>\n",
              "      <td>0.390160</td>\n",
              "      <td>0.282690</td>\n",
              "      <td>1.157900</td>\n",
              "      <td>0.282690</td>\n",
              "      <td>1.44160</td>\n",
              "      <td>0.28433</td>\n",
              "      <td>0.286528</td>\n",
              "      <td>0.616550</td>\n",
              "      <td>0.62819</td>\n",
              "      <td>0.964870</td>\n",
              "      <td>173.05000</td>\n",
              "      <td>7.2973</td>\n",
              "      <td>0.33696</td>\n",
              "      <td>126.760</td>\n",
              "      <td>3.4578</td>\n",
              "      <td>0.36955</td>\n",
              "      <td>0.80411</td>\n",
              "      <td>0.84909</td>\n",
              "      <td>0.459576</td>\n",
              "      <td>1.102400</td>\n",
              "      <td>100.8400</td>\n",
              "      <td>2.27140</td>\n",
              "      <td>70.950</td>\n",
              "      <td>0.253300</td>\n",
              "      <td>0.315007</td>\n",
              "      <td>1.433900</td>\n",
              "      <td>0.15091</td>\n",
              "      <td>0.28920</td>\n",
              "      <td>1.19230</td>\n",
              "      <td>1.3886</td>\n",
              "      <td>0.459570</td>\n",
              "      <td>0.62320</td>\n",
              "      <td>0.164653</td>\n",
              "      <td>7.9274</td>\n",
              "      <td>6.6605</td>\n",
              "      <td>5.328408</td>\n",
              "      <td>1.31500</td>\n",
              "      <td>0.0</td>\n",
              "    </tr>\n",
              "  </tbody>\n",
              "</table>\n",
              "</div>"
            ],
            "text/plain": [
              "      Attr1    Attr2    Attr3  ...       Attr63   Attr64  class\n",
              "0 -0.024558  0.30051  0.10733  ...     8.316700  0.88260    0.0\n",
              "1  0.639180  0.00000  1.00000  ...  3423.828207  4.01995    0.0\n",
              "2 -0.440760  0.47723  0.19260  ...     3.688698  3.83760    0.0\n",
              "3  0.119520  0.17679  0.63546  ...     6.370835  8.51690    0.0\n",
              "4  0.230400  0.27095  0.23762  ...     5.328408  1.31500    0.0\n",
              "\n",
              "[5 rows x 50 columns]"
            ]
          },
          "metadata": {
            "tags": []
          },
          "execution_count": 4
        }
      ]
    },
    {
      "cell_type": "code",
      "metadata": {
        "id": "Jk-5pa15foEF",
        "colab_type": "code",
        "outputId": "59e6fd76-f342-40f5-ba21-02843d6dcbc0",
        "colab": {
          "base_uri": "https://localhost:8080/",
          "height": 34
        }
      },
      "source": [
        "df.shape"
      ],
      "execution_count": 5,
      "outputs": [
        {
          "output_type": "execute_result",
          "data": {
            "text/plain": [
              "(6835, 50)"
            ]
          },
          "metadata": {
            "tags": []
          },
          "execution_count": 5
        }
      ]
    },
    {
      "cell_type": "code",
      "metadata": {
        "id": "0rGDsYknwEfp",
        "colab_type": "code",
        "colab": {
          "base_uri": "https://localhost:8080/",
          "height": 34
        },
        "outputId": "4feb8f67-5720-470b-b72e-be4e46e798f0"
      },
      "source": [
        "df.columns[24]"
      ],
      "execution_count": 6,
      "outputs": [
        {
          "output_type": "execute_result",
          "data": {
            "text/plain": [
              "'Attr30'"
            ]
          },
          "metadata": {
            "tags": []
          },
          "execution_count": 6
        }
      ]
    },
    {
      "cell_type": "code",
      "metadata": {
        "id": "JdCQSnPJgHmo",
        "colab_type": "code",
        "outputId": "6f692e9f-900c-471a-af70-f3d33b5885aa",
        "colab": {
          "base_uri": "https://localhost:8080/",
          "height": 34
        }
      },
      "source": [
        "cor = df.iloc[:, :-1].corr()\n",
        "cor.shape"
      ],
      "execution_count": 7,
      "outputs": [
        {
          "output_type": "execute_result",
          "data": {
            "text/plain": [
              "(49, 49)"
            ]
          },
          "metadata": {
            "tags": []
          },
          "execution_count": 7
        }
      ]
    },
    {
      "cell_type": "markdown",
      "metadata": {
        "id": "HzlOgLsqinTf",
        "colab_type": "text"
      },
      "source": [
        "변수끼리 상관계수가 0.9가 넘어가면 일단 삭제해보자"
      ]
    },
    {
      "cell_type": "code",
      "metadata": {
        "id": "oyTz9imMfoNf",
        "colab_type": "code",
        "colab": {}
      },
      "source": [
        "\n",
        "def cor_high(df):\n",
        "    high_correlated = []\n",
        "    for attr, rows in df.iterrows():\n",
        "        high = [(attr, rows.index[idx], round(row, 3)) for idx, row in enumerate(rows) if attr != rows.index[idx] and row > 0.9 \\\n",
        "                and ((rows.index[idx], attr, round(row, 3)) not in high_correlated)]\n",
        "        high_correlated.extend(high)\n",
        "    return high_correlated"
      ],
      "execution_count": 0,
      "outputs": []
    },
    {
      "cell_type": "code",
      "metadata": {
        "id": "ovG0aautfaVp",
        "colab_type": "code",
        "colab": {
          "base_uri": "https://localhost:8080/",
          "height": 34
        },
        "outputId": "7c6d0c24-a302-4c44-840f-25528f5ca9bd"
      },
      "source": [
        "high_correlated_cols = cor_high(cor)\n",
        "print(high_correlated_cols)"
      ],
      "execution_count": 9,
      "outputs": [
        {
          "output_type": "stream",
          "text": [
            "[('Attr1', 'Attr7', 0.991), ('Attr1', 'Attr11', 0.968), ('Attr1', 'Attr14', 0.991), ('Attr7', 'Attr11', 0.98), ('Attr7', 'Attr14', 1.0), ('Attr8', 'Attr16', 0.93), ('Attr8', 'Attr26', 0.926), ('Attr11', 'Attr14', 0.98), ('Attr16', 'Attr26', 0.999), ('Attr16', 'Attr33', 0.931), ('Attr26', 'Attr33', 0.93), ('Attr32', 'Attr52', 0.978)]\n"
          ],
          "name": "stdout"
        }
      ]
    },
    {
      "cell_type": "markdown",
      "metadata": {
        "id": "ynb9xe9zz4cX",
        "colab_type": "text"
      },
      "source": [
        "타겟변수와 상관계수가 더 작은애들을 삭제하자"
      ]
    },
    {
      "cell_type": "code",
      "metadata": {
        "id": "YlRjG6asfapm",
        "colab_type": "code",
        "colab": {
          "base_uri": "https://localhost:8080/",
          "height": 34
        },
        "outputId": "4fd1a281-0b11-4414-fd56-e5b3070124a8"
      },
      "source": [
        "drop_cols = set()\n",
        "\n",
        "for col1, col2, _ in high_correlated_cols:\n",
        "    cor1, cor2 = pd.concat([df[col1], df['class']], axis=1).corr(), pd.concat([df[col2], df['class']], axis=1).corr()\n",
        "    cor1, cor2 = cor1.iloc[0, 1], cor.iloc[0, 1]\n",
        "    drop_cols.add(col1 if  abs(cor1) <  abs(cor2) else col2)\n",
        "\n",
        "print(drop_cols)"
      ],
      "execution_count": 10,
      "outputs": [
        {
          "output_type": "stream",
          "text": [
            "{'Attr1', 'Attr16', 'Attr7', 'Attr8', 'Attr32', 'Attr26', 'Attr11'}\n"
          ],
          "name": "stdout"
        }
      ]
    },
    {
      "cell_type": "code",
      "metadata": {
        "id": "ur8fHj7kfa9x",
        "colab_type": "code",
        "colab": {
          "base_uri": "https://localhost:8080/",
          "height": 34
        },
        "outputId": "18240faf-208c-421a-aaeb-71a8851daec6"
      },
      "source": [
        "df.drop(drop_cols, axis=1, inplace=True)\n",
        "print(df.shape) # 6 columns are removed"
      ],
      "execution_count": 11,
      "outputs": [
        {
          "output_type": "stream",
          "text": [
            "(6835, 43)\n"
          ],
          "name": "stdout"
        }
      ]
    },
    {
      "cell_type": "markdown",
      "metadata": {
        "id": "ybfI_SpffbG2",
        "colab_type": "text"
      },
      "source": [
        "# 2. Additional Dimensionality Reduction\n",
        "[link](https://scikit-learn.org/stable/modules/feature_selection.html)"
      ]
    },
    {
      "cell_type": "code",
      "metadata": {
        "id": "47kbl71C22O2",
        "colab_type": "code",
        "colab": {}
      },
      "source": [
        "X, y = df.iloc[:, :-1], df.iloc[:, -1]"
      ],
      "execution_count": 0,
      "outputs": []
    },
    {
      "cell_type": "code",
      "metadata": {
        "id": "p13L5var3ejo",
        "colab_type": "code",
        "colab": {
          "base_uri": "https://localhost:8080/",
          "height": 34
        },
        "outputId": "38011a53-3d11-4acb-94f7-61bf1ef06442"
      },
      "source": [
        "X[X > 0].dropna(how='any', axis='columns').shape"
      ],
      "execution_count": 13,
      "outputs": [
        {
          "output_type": "execute_result",
          "data": {
            "text/plain": [
              "(6835, 2)"
            ]
          },
          "metadata": {
            "tags": []
          },
          "execution_count": 13
        }
      ]
    },
    {
      "cell_type": "markdown",
      "metadata": {
        "id": "gRoOtmBD3rhV",
        "colab_type": "text"
      },
      "source": [
        "다 양수인 컬럼이 2개밖에 없어서 chi2 검정은 못할 것 같습니다.. <br>\n",
        "- F-검정을 활용한 feature selection -> k개를 조정해가면서 몇개 정도로 하는게 맞는지?\n",
        "- L1-based feature selection\n",
        "- Tree-based feature selection\n",
        "- PCA, FA를 활용한 차원축소 <br>\n",
        "<b> 정리하자면 우리 데이터에 맞는 모델링 기법을 하나 정한 후 위의 4가지 방법을 다 실행해보고 차원축소를 진행한 후, <br>\n",
        "앙상블 기법으로(하이퍼파라미터 튜닝 물론 선행) 모델을 만들어보자! </b> <br>\n",
        "우리가 배운 classification 기법: Logistic Regression, LDA, Support Vector, Trees"
      ]
    },
    {
      "cell_type": "code",
      "metadata": {
        "id": "xENNtCDMfbMT",
        "colab_type": "code",
        "colab": {}
      },
      "source": [
        ""
      ],
      "execution_count": 0,
      "outputs": []
    },
    {
      "cell_type": "code",
      "metadata": {
        "id": "TElsdwH7fbK8",
        "colab_type": "code",
        "colab": {}
      },
      "source": [
        ""
      ],
      "execution_count": 0,
      "outputs": []
    },
    {
      "cell_type": "code",
      "metadata": {
        "id": "bEMAnz5XfbEV",
        "colab_type": "code",
        "colab": {}
      },
      "source": [
        ""
      ],
      "execution_count": 0,
      "outputs": []
    },
    {
      "cell_type": "code",
      "metadata": {
        "id": "qJep0FzufbCr",
        "colab_type": "code",
        "colab": {}
      },
      "source": [
        ""
      ],
      "execution_count": 0,
      "outputs": []
    },
    {
      "cell_type": "code",
      "metadata": {
        "id": "9QBDn7_ufa7l",
        "colab_type": "code",
        "colab": {}
      },
      "source": [
        ""
      ],
      "execution_count": 0,
      "outputs": []
    },
    {
      "cell_type": "code",
      "metadata": {
        "id": "A70YCIiHfa5x",
        "colab_type": "code",
        "colab": {}
      },
      "source": [
        ""
      ],
      "execution_count": 0,
      "outputs": []
    },
    {
      "cell_type": "code",
      "metadata": {
        "id": "hhUVFqTmfa4V",
        "colab_type": "code",
        "colab": {}
      },
      "source": [
        ""
      ],
      "execution_count": 0,
      "outputs": []
    },
    {
      "cell_type": "code",
      "metadata": {
        "id": "nVB7xXijfaya",
        "colab_type": "code",
        "colab": {}
      },
      "source": [
        ""
      ],
      "execution_count": 0,
      "outputs": []
    },
    {
      "cell_type": "code",
      "metadata": {
        "id": "ZnxG0blOfaoJ",
        "colab_type": "code",
        "colab": {}
      },
      "source": [
        ""
      ],
      "execution_count": 0,
      "outputs": []
    },
    {
      "cell_type": "code",
      "metadata": {
        "id": "ocabhiJffaiw",
        "colab_type": "code",
        "colab": {}
      },
      "source": [
        ""
      ],
      "execution_count": 0,
      "outputs": []
    },
    {
      "cell_type": "code",
      "metadata": {
        "id": "38k5cMizfags",
        "colab_type": "code",
        "colab": {}
      },
      "source": [
        ""
      ],
      "execution_count": 0,
      "outputs": []
    },
    {
      "cell_type": "code",
      "metadata": {
        "id": "4AYO3gzCfaeK",
        "colab_type": "code",
        "colab": {}
      },
      "source": [
        ""
      ],
      "execution_count": 0,
      "outputs": []
    },
    {
      "cell_type": "code",
      "metadata": {
        "id": "0WhfUREufab8",
        "colab_type": "code",
        "colab": {}
      },
      "source": [
        ""
      ],
      "execution_count": 0,
      "outputs": []
    },
    {
      "cell_type": "code",
      "metadata": {
        "id": "y3BpbSa7faag",
        "colab_type": "code",
        "colab": {}
      },
      "source": [
        ""
      ],
      "execution_count": 0,
      "outputs": []
    },
    {
      "cell_type": "code",
      "metadata": {
        "id": "2Hl0rFqNfaY9",
        "colab_type": "code",
        "colab": {}
      },
      "source": [
        ""
      ],
      "execution_count": 0,
      "outputs": []
    },
    {
      "cell_type": "code",
      "metadata": {
        "id": "zWZOhvyffaT5",
        "colab_type": "code",
        "colab": {}
      },
      "source": [
        ""
      ],
      "execution_count": 0,
      "outputs": []
    }
  ]
}