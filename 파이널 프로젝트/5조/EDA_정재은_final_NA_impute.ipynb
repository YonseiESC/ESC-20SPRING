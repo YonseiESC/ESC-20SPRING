{
  "nbformat": 4,
  "nbformat_minor": 0,
  "metadata": {
    "kernelspec": {
      "name": "python3",
      "display_name": "Python 3"
    },
    "colab": {
      "name": "EDA_정재은_final_NA_impute.ipynb",
      "provenance": [],
      "collapsed_sections": [],
      "machine_shape": "hm"
    },
    "accelerator": "GPU"
  },
  "cells": [
    {
      "cell_type": "code",
      "metadata": {
        "id": "4VtrHtFKpP1S",
        "colab_type": "code",
        "outputId": "7ef922a1-10b8-487d-87a3-2cc3260fda69",
        "colab": {
          "base_uri": "https://localhost:8080/",
          "height": 34
        }
      },
      "source": [
        "from google.colab import drive\n",
        "\n",
        "drive.mount('/content/gdrive')"
      ],
      "execution_count": 35,
      "outputs": [
        {
          "output_type": "stream",
          "text": [
            "Drive already mounted at /content/gdrive; to attempt to forcibly remount, call drive.mount(\"/content/gdrive\", force_remount=True).\n"
          ],
          "name": "stdout"
        }
      ]
    },
    {
      "cell_type": "code",
      "metadata": {
        "id": "AzdPPzTGpXBx",
        "colab_type": "code",
        "outputId": "cc30181e-0fa3-4389-b696-ea1741ecb27d",
        "colab": {
          "base_uri": "https://localhost:8080/",
          "height": 34
        }
      },
      "source": [
        "%cd /content/gdrive/My Drive/Colab Notebooks/Classification_Bankruptcy/5조 "
      ],
      "execution_count": 36,
      "outputs": [
        {
          "output_type": "stream",
          "text": [
            "/content/gdrive/My Drive/Colab Notebooks/Classification_Bankruptcy/5조\n"
          ],
          "name": "stdout"
        }
      ]
    },
    {
      "cell_type": "code",
      "metadata": {
        "id": "Pk8dE9KqpR5q",
        "colab_type": "code",
        "colab": {}
      },
      "source": [
        "import numpy as np\n",
        "import pandas as pd\n",
        "pd.set_option('display.max_rows', 100)\n",
        "import matplotlib.pyplot as plt\n",
        "import seaborn as sns\n",
        "%matplotlib inline"
      ],
      "execution_count": 0,
      "outputs": []
    },
    {
      "cell_type": "markdown",
      "metadata": {
        "id": "HPUj-EjhpP1e",
        "colab_type": "text"
      },
      "source": [
        "# 0. Import Raw Data"
      ]
    },
    {
      "cell_type": "code",
      "metadata": {
        "id": "WQjBayYBpP1g",
        "colab_type": "code",
        "outputId": "151f56db-5b17-49f0-af49-e83aeb900c48",
        "colab": {
          "base_uri": "https://localhost:8080/",
          "height": 215
        }
      },
      "source": [
        "df = pd.read_csv('na_filled_train.csv') # '?' -> NA 변환한 파일 \n",
        "df.head()"
      ],
      "execution_count": 38,
      "outputs": [
        {
          "output_type": "execute_result",
          "data": {
            "text/html": [
              "<div>\n",
              "<style scoped>\n",
              "    .dataframe tbody tr th:only-of-type {\n",
              "        vertical-align: middle;\n",
              "    }\n",
              "\n",
              "    .dataframe tbody tr th {\n",
              "        vertical-align: top;\n",
              "    }\n",
              "\n",
              "    .dataframe thead th {\n",
              "        text-align: right;\n",
              "    }\n",
              "</style>\n",
              "<table border=\"1\" class=\"dataframe\">\n",
              "  <thead>\n",
              "    <tr style=\"text-align: right;\">\n",
              "      <th></th>\n",
              "      <th>Attr1</th>\n",
              "      <th>Attr2</th>\n",
              "      <th>Attr3</th>\n",
              "      <th>Attr4</th>\n",
              "      <th>Attr5</th>\n",
              "      <th>Attr6</th>\n",
              "      <th>Attr7</th>\n",
              "      <th>Attr8</th>\n",
              "      <th>Attr9</th>\n",
              "      <th>Attr10</th>\n",
              "      <th>Attr11</th>\n",
              "      <th>Attr12</th>\n",
              "      <th>Attr13</th>\n",
              "      <th>Attr14</th>\n",
              "      <th>Attr15</th>\n",
              "      <th>Attr16</th>\n",
              "      <th>Attr17</th>\n",
              "      <th>Attr18</th>\n",
              "      <th>Attr19</th>\n",
              "      <th>Attr20</th>\n",
              "      <th>Attr21</th>\n",
              "      <th>Attr22</th>\n",
              "      <th>Attr23</th>\n",
              "      <th>Attr24</th>\n",
              "      <th>Attr25</th>\n",
              "      <th>Attr26</th>\n",
              "      <th>Attr27</th>\n",
              "      <th>Attr28</th>\n",
              "      <th>Attr29</th>\n",
              "      <th>Attr30</th>\n",
              "      <th>Attr31</th>\n",
              "      <th>Attr32</th>\n",
              "      <th>Attr33</th>\n",
              "      <th>Attr34</th>\n",
              "      <th>Attr35</th>\n",
              "      <th>Attr36</th>\n",
              "      <th>Attr37</th>\n",
              "      <th>Attr38</th>\n",
              "      <th>Attr39</th>\n",
              "      <th>Attr40</th>\n",
              "      <th>Attr41</th>\n",
              "      <th>Attr42</th>\n",
              "      <th>Attr43</th>\n",
              "      <th>Attr44</th>\n",
              "      <th>Attr45</th>\n",
              "      <th>Attr46</th>\n",
              "      <th>Attr47</th>\n",
              "      <th>Attr48</th>\n",
              "      <th>Attr49</th>\n",
              "      <th>Attr50</th>\n",
              "      <th>Attr51</th>\n",
              "      <th>Attr52</th>\n",
              "      <th>Attr53</th>\n",
              "      <th>Attr54</th>\n",
              "      <th>Attr55</th>\n",
              "      <th>Attr56</th>\n",
              "      <th>Attr57</th>\n",
              "      <th>Attr58</th>\n",
              "      <th>Attr59</th>\n",
              "      <th>Attr60</th>\n",
              "      <th>Attr61</th>\n",
              "      <th>Attr62</th>\n",
              "      <th>Attr63</th>\n",
              "      <th>Attr64</th>\n",
              "      <th>class</th>\n",
              "    </tr>\n",
              "  </thead>\n",
              "  <tbody>\n",
              "    <tr>\n",
              "      <th>0</th>\n",
              "      <td>-0.024558</td>\n",
              "      <td>0.30051</td>\n",
              "      <td>0.10733</td>\n",
              "      <td>1.8368</td>\n",
              "      <td>34.382</td>\n",
              "      <td>-0.026711</td>\n",
              "      <td>-0.020067</td>\n",
              "      <td>2.2519</td>\n",
              "      <td>1.06670</td>\n",
              "      <td>0.67673</td>\n",
              "      <td>-0.020067</td>\n",
              "      <td>-0.15646</td>\n",
              "      <td>0.025634</td>\n",
              "      <td>-0.020067</td>\n",
              "      <td>6342.50</td>\n",
              "      <td>0.057548</td>\n",
              "      <td>3.3276</td>\n",
              "      <td>-0.020067</td>\n",
              "      <td>-0.029744</td>\n",
              "      <td>26.775</td>\n",
              "      <td>1.08530</td>\n",
              "      <td>0.00866</td>\n",
              "      <td>-0.036400</td>\n",
              "      <td>-0.019018</td>\n",
              "      <td>0.67673</td>\n",
              "      <td>0.042607</td>\n",
              "      <td>0.13691</td>\n",
              "      <td>0.14041</td>\n",
              "      <td>4.5645</td>\n",
              "      <td>0.44185</td>\n",
              "      <td>-0.029744</td>\n",
              "      <td>74.015</td>\n",
              "      <td>4.9315</td>\n",
              "      <td>0.028816</td>\n",
              "      <td>0.00866</td>\n",
              "      <td>0.69446</td>\n",
              "      <td>1.0804</td>\n",
              "      <td>0.84898</td>\n",
              "      <td>0.012835</td>\n",
              "      <td>0.026591</td>\n",
              "      <td>0.214680</td>\n",
              "      <td>0.012835</td>\n",
              "      <td>125.6100</td>\n",
              "      <td>98.8360</td>\n",
              "      <td>-0.49620</td>\n",
              "      <td>1.4510</td>\n",
              "      <td>28.560</td>\n",
              "      <td>-0.028702</td>\n",
              "      <td>-0.042542</td>\n",
              "      <td>0.78396</td>\n",
              "      <td>0.12826</td>\n",
              "      <td>0.20278</td>\n",
              "      <td>0.8853</td>\n",
              "      <td>1.1106</td>\n",
              "      <td>3937.6000</td>\n",
              "      <td>0.062497</td>\n",
              "      <td>-0.036289</td>\n",
              "      <td>0.93750</td>\n",
              "      <td>0.25454</td>\n",
              "      <td>13.6320</td>\n",
              "      <td>3.6930</td>\n",
              "      <td>69.389</td>\n",
              "      <td>5.2602</td>\n",
              "      <td>0.8826</td>\n",
              "      <td>0</td>\n",
              "    </tr>\n",
              "    <tr>\n",
              "      <th>1</th>\n",
              "      <td>0.639180</td>\n",
              "      <td>0.00000</td>\n",
              "      <td>1.00000</td>\n",
              "      <td>NaN</td>\n",
              "      <td>29.678</td>\n",
              "      <td>-1.139300</td>\n",
              "      <td>0.760520</td>\n",
              "      <td>NaN</td>\n",
              "      <td>1.11850</td>\n",
              "      <td>1.00000</td>\n",
              "      <td>0.760520</td>\n",
              "      <td>NaN</td>\n",
              "      <td>0.679940</td>\n",
              "      <td>0.760520</td>\n",
              "      <td>0.00</td>\n",
              "      <td>NaN</td>\n",
              "      <td>NaN</td>\n",
              "      <td>0.760520</td>\n",
              "      <td>0.679940</td>\n",
              "      <td>0.000</td>\n",
              "      <td>NaN</td>\n",
              "      <td>0.76040</td>\n",
              "      <td>0.571460</td>\n",
              "      <td>0.600720</td>\n",
              "      <td>-0.50015</td>\n",
              "      <td>NaN</td>\n",
              "      <td>NaN</td>\n",
              "      <td>NaN</td>\n",
              "      <td>1.2218</td>\n",
              "      <td>0.00000</td>\n",
              "      <td>0.679940</td>\n",
              "      <td>0.000</td>\n",
              "      <td>NaN</td>\n",
              "      <td>NaN</td>\n",
              "      <td>0.76040</td>\n",
              "      <td>1.11850</td>\n",
              "      <td>NaN</td>\n",
              "      <td>1.00000</td>\n",
              "      <td>0.679830</td>\n",
              "      <td>NaN</td>\n",
              "      <td>0.000000</td>\n",
              "      <td>0.679830</td>\n",
              "      <td>9.6341</td>\n",
              "      <td>9.6341</td>\n",
              "      <td>NaN</td>\n",
              "      <td>NaN</td>\n",
              "      <td>0.000</td>\n",
              "      <td>0.760400</td>\n",
              "      <td>0.679830</td>\n",
              "      <td>NaN</td>\n",
              "      <td>0.00000</td>\n",
              "      <td>0.00000</td>\n",
              "      <td>NaN</td>\n",
              "      <td>NaN</td>\n",
              "      <td>16.6650</td>\n",
              "      <td>0.679830</td>\n",
              "      <td>0.639180</td>\n",
              "      <td>0.32014</td>\n",
              "      <td>0.00000</td>\n",
              "      <td>NaN</td>\n",
              "      <td>37.8860</td>\n",
              "      <td>0.000</td>\n",
              "      <td>NaN</td>\n",
              "      <td>NaN</td>\n",
              "      <td>0</td>\n",
              "    </tr>\n",
              "    <tr>\n",
              "      <th>2</th>\n",
              "      <td>-0.440760</td>\n",
              "      <td>0.47723</td>\n",
              "      <td>0.19260</td>\n",
              "      <td>1.4678</td>\n",
              "      <td>34.555</td>\n",
              "      <td>0.000000</td>\n",
              "      <td>-0.440760</td>\n",
              "      <td>1.0954</td>\n",
              "      <td>1.51860</td>\n",
              "      <td>0.52277</td>\n",
              "      <td>-0.429190</td>\n",
              "      <td>-1.07060</td>\n",
              "      <td>-0.240740</td>\n",
              "      <td>-0.440760</td>\n",
              "      <td>-476.47</td>\n",
              "      <td>-0.766050</td>\n",
              "      <td>2.0954</td>\n",
              "      <td>-0.440760</td>\n",
              "      <td>-0.290240</td>\n",
              "      <td>0.000</td>\n",
              "      <td>0.50040</td>\n",
              "      <td>-0.42986</td>\n",
              "      <td>-0.290240</td>\n",
              "      <td>0.744700</td>\n",
              "      <td>0.46954</td>\n",
              "      <td>-0.766050</td>\n",
              "      <td>-37.14700</td>\n",
              "      <td>0.48672</td>\n",
              "      <td>2.9728</td>\n",
              "      <td>0.31392</td>\n",
              "      <td>-0.282620</td>\n",
              "      <td>76.670</td>\n",
              "      <td>4.7606</td>\n",
              "      <td>4.106800</td>\n",
              "      <td>-0.44130</td>\n",
              "      <td>1.51860</td>\n",
              "      <td>9.2192</td>\n",
              "      <td>0.58832</td>\n",
              "      <td>-0.290590</td>\n",
              "      <td>0.029665</td>\n",
              "      <td>-0.044852</td>\n",
              "      <td>-0.283060</td>\n",
              "      <td>142.3100</td>\n",
              "      <td>142.3100</td>\n",
              "      <td>NaN</td>\n",
              "      <td>1.4678</td>\n",
              "      <td>0.000</td>\n",
              "      <td>-0.505040</td>\n",
              "      <td>-0.332570</td>\n",
              "      <td>1.26620</td>\n",
              "      <td>0.41169</td>\n",
              "      <td>0.21006</td>\n",
              "      <td>1.3211</td>\n",
              "      <td>1.4867</td>\n",
              "      <td>180.9100</td>\n",
              "      <td>-0.290590</td>\n",
              "      <td>-0.843130</td>\n",
              "      <td>1.28710</td>\n",
              "      <td>0.12538</td>\n",
              "      <td>NaN</td>\n",
              "      <td>2.5649</td>\n",
              "      <td>98.950</td>\n",
              "      <td>3.6887</td>\n",
              "      <td>3.8376</td>\n",
              "      <td>0</td>\n",
              "    </tr>\n",
              "    <tr>\n",
              "      <th>3</th>\n",
              "      <td>0.119520</td>\n",
              "      <td>0.17679</td>\n",
              "      <td>0.63546</td>\n",
              "      <td>4.5944</td>\n",
              "      <td>117.650</td>\n",
              "      <td>0.251540</td>\n",
              "      <td>0.148750</td>\n",
              "      <td>4.5826</td>\n",
              "      <td>1.12630</td>\n",
              "      <td>0.81017</td>\n",
              "      <td>0.148750</td>\n",
              "      <td>0.84137</td>\n",
              "      <td>0.131500</td>\n",
              "      <td>0.148750</td>\n",
              "      <td>306.88</td>\n",
              "      <td>1.189400</td>\n",
              "      <td>5.6563</td>\n",
              "      <td>0.148750</td>\n",
              "      <td>0.093023</td>\n",
              "      <td>40.872</td>\n",
              "      <td>0.97491</td>\n",
              "      <td>0.14495</td>\n",
              "      <td>0.074743</td>\n",
              "      <td>0.315270</td>\n",
              "      <td>0.81017</td>\n",
              "      <td>1.024100</td>\n",
              "      <td>1.02090</td>\n",
              "      <td>3.38460</td>\n",
              "      <td>5.4536</td>\n",
              "      <td>-0.18039</td>\n",
              "      <td>0.093023</td>\n",
              "      <td>45.450</td>\n",
              "      <td>8.0308</td>\n",
              "      <td>0.819900</td>\n",
              "      <td>0.14495</td>\n",
              "      <td>1.62200</td>\n",
              "      <td>NaN</td>\n",
              "      <td>0.81017</td>\n",
              "      <td>0.090649</td>\n",
              "      <td>2.702300</td>\n",
              "      <td>0.028150</td>\n",
              "      <td>0.090649</td>\n",
              "      <td>76.3540</td>\n",
              "      <td>35.4820</td>\n",
              "      <td>0.66747</td>\n",
              "      <td>3.5815</td>\n",
              "      <td>46.033</td>\n",
              "      <td>0.083425</td>\n",
              "      <td>0.052172</td>\n",
              "      <td>4.59440</td>\n",
              "      <td>0.17679</td>\n",
              "      <td>0.12452</td>\n",
              "      <td>4.3151</td>\n",
              "      <td>4.3151</td>\n",
              "      <td>180570.0000</td>\n",
              "      <td>0.112110</td>\n",
              "      <td>0.147520</td>\n",
              "      <td>0.88789</td>\n",
              "      <td>0.00000</td>\n",
              "      <td>8.9302</td>\n",
              "      <td>10.2870</td>\n",
              "      <td>40.355</td>\n",
              "      <td>9.0448</td>\n",
              "      <td>8.5169</td>\n",
              "      <td>0</td>\n",
              "    </tr>\n",
              "    <tr>\n",
              "      <th>4</th>\n",
              "      <td>0.230400</td>\n",
              "      <td>0.27095</td>\n",
              "      <td>0.23762</td>\n",
              "      <td>2.5745</td>\n",
              "      <td>-26.928</td>\n",
              "      <td>0.617540</td>\n",
              "      <td>0.282690</td>\n",
              "      <td>2.6907</td>\n",
              "      <td>0.80411</td>\n",
              "      <td>0.72905</td>\n",
              "      <td>0.284330</td>\n",
              "      <td>1.87320</td>\n",
              "      <td>0.390160</td>\n",
              "      <td>0.282690</td>\n",
              "      <td>315.23</td>\n",
              "      <td>1.157900</td>\n",
              "      <td>3.6907</td>\n",
              "      <td>0.282690</td>\n",
              "      <td>0.351560</td>\n",
              "      <td>46.043</td>\n",
              "      <td>1.44160</td>\n",
              "      <td>0.28433</td>\n",
              "      <td>0.286520</td>\n",
              "      <td>0.616550</td>\n",
              "      <td>0.62819</td>\n",
              "      <td>0.964870</td>\n",
              "      <td>173.05000</td>\n",
              "      <td>0.38860</td>\n",
              "      <td>7.2973</td>\n",
              "      <td>0.33696</td>\n",
              "      <td>0.351560</td>\n",
              "      <td>126.760</td>\n",
              "      <td>3.4578</td>\n",
              "      <td>1.925900</td>\n",
              "      <td>0.36955</td>\n",
              "      <td>0.80411</td>\n",
              "      <td>2.3916</td>\n",
              "      <td>0.84909</td>\n",
              "      <td>0.459570</td>\n",
              "      <td>1.102400</td>\n",
              "      <td>0.028638</td>\n",
              "      <td>0.353600</td>\n",
              "      <td>100.8400</td>\n",
              "      <td>54.8010</td>\n",
              "      <td>2.27140</td>\n",
              "      <td>1.9024</td>\n",
              "      <td>70.950</td>\n",
              "      <td>0.253300</td>\n",
              "      <td>0.315000</td>\n",
              "      <td>1.43390</td>\n",
              "      <td>0.15091</td>\n",
              "      <td>0.28920</td>\n",
              "      <td>1.1923</td>\n",
              "      <td>1.3886</td>\n",
              "      <td>2.5745</td>\n",
              "      <td>0.459570</td>\n",
              "      <td>0.316020</td>\n",
              "      <td>0.62320</td>\n",
              "      <td>0.16465</td>\n",
              "      <td>7.9274</td>\n",
              "      <td>6.6605</td>\n",
              "      <td>68.502</td>\n",
              "      <td>5.3283</td>\n",
              "      <td>1.3150</td>\n",
              "      <td>0</td>\n",
              "    </tr>\n",
              "  </tbody>\n",
              "</table>\n",
              "</div>"
            ],
            "text/plain": [
              "      Attr1    Attr2    Attr3   Attr4  ...  Attr62  Attr63  Attr64  class\n",
              "0 -0.024558  0.30051  0.10733  1.8368  ...  69.389  5.2602  0.8826      0\n",
              "1  0.639180  0.00000  1.00000     NaN  ...   0.000     NaN     NaN      0\n",
              "2 -0.440760  0.47723  0.19260  1.4678  ...  98.950  3.6887  3.8376      0\n",
              "3  0.119520  0.17679  0.63546  4.5944  ...  40.355  9.0448  8.5169      0\n",
              "4  0.230400  0.27095  0.23762  2.5745  ...  68.502  5.3283  1.3150      0\n",
              "\n",
              "[5 rows x 65 columns]"
            ]
          },
          "metadata": {
            "tags": []
          },
          "execution_count": 38
        }
      ]
    },
    {
      "cell_type": "code",
      "metadata": {
        "id": "pA15idxypP1r",
        "colab_type": "code",
        "outputId": "dd66cffd-60d4-4d22-aa6e-b1a3287df7d4",
        "colab": {
          "base_uri": "https://localhost:8080/",
          "height": 1000
        }
      },
      "source": [
        "print(f\"Shape: {df.shape}\")\n",
        "print(df.isnull().sum())"
      ],
      "execution_count": 39,
      "outputs": [
        {
          "output_type": "stream",
          "text": [
            "Shape: (6855, 65)\n",
            "Attr1        0\n",
            "Attr2        0\n",
            "Attr3        0\n",
            "Attr4       28\n",
            "Attr5       15\n",
            "Attr6        0\n",
            "Attr7        0\n",
            "Attr8       15\n",
            "Attr9        0\n",
            "Attr10       0\n",
            "Attr11       0\n",
            "Attr12      28\n",
            "Attr13      14\n",
            "Attr14       0\n",
            "Attr15       5\n",
            "Attr16      15\n",
            "Attr17      15\n",
            "Attr18       0\n",
            "Attr19      14\n",
            "Attr20      14\n",
            "Attr21     112\n",
            "Attr22       0\n",
            "Attr23      14\n",
            "Attr24     149\n",
            "Attr25       0\n",
            "Attr26      15\n",
            "Attr27     462\n",
            "Attr28     162\n",
            "Attr29       0\n",
            "Attr30      14\n",
            "Attr31      14\n",
            "Attr32      72\n",
            "Attr33      28\n",
            "Attr34      15\n",
            "Attr35       0\n",
            "Attr36       0\n",
            "Attr37    3100\n",
            "Attr38       0\n",
            "Attr39      14\n",
            "Attr40      28\n",
            "Attr41     142\n",
            "Attr42      14\n",
            "Attr43      14\n",
            "Attr44      14\n",
            "Attr45     418\n",
            "Attr46      28\n",
            "Attr47      57\n",
            "Attr48       0\n",
            "Attr49      14\n",
            "Attr50      15\n",
            "Attr51       0\n",
            "Attr52      60\n",
            "Attr53     162\n",
            "Attr54     162\n",
            "Attr55       0\n",
            "Attr56      14\n",
            "Attr57       1\n",
            "Attr58      10\n",
            "Attr59       1\n",
            "Attr60     420\n",
            "Attr61      20\n",
            "Attr62      14\n",
            "Attr63      28\n",
            "Attr64     162\n",
            "class        0\n",
            "dtype: int64\n"
          ],
          "name": "stdout"
        }
      ]
    },
    {
      "cell_type": "markdown",
      "metadata": {
        "id": "9RUI4wC3pP1x",
        "colab_type": "text"
      },
      "source": [
        "# 1. NA imputation\n",
        "## 1-1. Outliers 제거"
      ]
    },
    {
      "cell_type": "code",
      "metadata": {
        "id": "BRqu6jiIafeS",
        "colab_type": "code",
        "colab": {
          "base_uri": "https://localhost:8080/",
          "height": 374
        },
        "outputId": "2dca2d69-c46a-487d-f1ae-bf63cf92eb3b"
      },
      "source": [
        "import seaborn as sns\n",
        "fig = plt.figure(figsize = (8,6))\n",
        "sns.distplot(np.log(df['Attr11'].dropna().replace(0, 1e-9).values));"
      ],
      "execution_count": 40,
      "outputs": [
        {
          "output_type": "display_data",
          "data": {
            "image/png": "[encoded data removed]",
            "text/plain": [
              "<Figure size 576x432 with 1 Axes>"
            ]
          },
          "metadata": {
            "tags": [],
            "needs_background": "light"
          }
        }
      ]
    },
    {
      "cell_type": "code",
      "metadata": {
        "id": "QlGXFDW4arY-",
        "colab_type": "code",
        "colab": {
          "base_uri": "https://localhost:8080/",
          "height": 34
        },
        "outputId": "168501b7-e3b1-4508-e9c4-c419abd106f4"
      },
      "source": [
        "df['Attr11'].sort_values(ascending=True).index[0]"
      ],
      "execution_count": 41,
      "outputs": [
        {
          "output_type": "execute_result",
          "data": {
            "text/plain": [
              "423"
            ]
          },
          "metadata": {
            "tags": []
          },
          "execution_count": 41
        }
      ]
    },
    {
      "cell_type": "markdown",
      "metadata": {
        "id": "AUf33T6HauOZ",
        "colab_type": "text"
      },
      "source": [
        "이런 식으로 density plot을 본 이후 수작업으로 아웃라이어들이 포함된 관측치를 삭제해준다. <br>\n",
        "하지만 class 1에 해당하는 관측치가 매우 적으니 아웃라이어여도 class 1, 즉 부도난 회사의 데이터면 삭제하지 않는다."
      ]
    },
    {
      "cell_type": "code",
      "metadata": {
        "id": "ImZqJeitaxvB",
        "colab_type": "code",
        "colab": {}
      },
      "source": [
        "drop_rows = {2555,2099,4994,1458,3074,1593,5377,423,1207,1934,1593} |  \\\n",
        "{423, 998, 2555, 3527, 5249, 5313, 2654, 5810, 2008, 4192, 2099, 6665, 3074, 1458, 6424, 1593, 6232}"
      ],
      "execution_count": 0,
      "outputs": []
    },
    {
      "cell_type": "code",
      "metadata": {
        "id": "1tg1RRFUa6-Z",
        "colab_type": "code",
        "colab": {}
      },
      "source": [
        "for row in drop_rows:\n",
        "    if df['class'][row] == 1:\n",
        "        continue\n",
        "    elif df['class'][row] == 0:\n",
        "        df.drop(row, axis=0, inplace=True)"
      ],
      "execution_count": 0,
      "outputs": []
    },
    {
      "cell_type": "code",
      "metadata": {
        "id": "DWL-NSaEa-Ky",
        "colab_type": "code",
        "colab": {
          "base_uri": "https://localhost:8080/",
          "height": 34
        },
        "outputId": "203585af-97f7-489b-8d30-046bfa62a7ce"
      },
      "source": [
        "df.reset_index(inplace=True, drop=True)\n",
        "print(df.shape) # 19 rows are deleted"
      ],
      "execution_count": 44,
      "outputs": [
        {
          "output_type": "stream",
          "text": [
            "(6836, 65)\n"
          ],
          "name": "stdout"
        }
      ]
    },
    {
      "cell_type": "code",
      "metadata": {
        "id": "zrDmFBFCbFmj",
        "colab_type": "code",
        "colab": {}
      },
      "source": [
        "df = pd.read_csv('outlier_removed_train.csv')"
      ],
      "execution_count": 0,
      "outputs": []
    },
    {
      "cell_type": "code",
      "metadata": {
        "id": "jRZ3lnONcRcw",
        "colab_type": "code",
        "colab": {}
      },
      "source": [
        "df.drop(6360, inplace=True) # sales < 0인 행 삭제(오입력 가능성)\n",
        "df.reset_index(inplace=True, drop=True)"
      ],
      "execution_count": 0,
      "outputs": []
    },
    {
      "cell_type": "markdown",
      "metadata": {
        "id": "Crdae7tbpP1y",
        "colab_type": "text"
      },
      "source": [
        "## 1-2. Recovering some variables.."
      ]
    },
    {
      "cell_type": "code",
      "metadata": {
        "id": "Ft0k3uegpP1z",
        "colab_type": "code",
        "colab": {}
      },
      "source": [
        "total_assets = pd.Series(np.exp(df['Attr29']), index=df['Attr29'].index)\n",
        "assert not bool(total_assets.isnull().sum())\n",
        "\n",
        "total_equity = df['Attr10']* total_assets\n",
        "assert not bool(total_equity.isnull().sum())\n",
        "\n",
        "total_liabilities = total_assets - total_equity\n",
        "assert not bool(total_liabilities.isnull().sum())\n",
        "\n",
        "short_term_liabilities =  df['Attr51']  * total_assets\n",
        "assert not bool(short_term_liabilities.isnull().sum())\n",
        "\n",
        "long_term_liabilities = total_liabilities - short_term_liabilities\n",
        "assert not bool(long_term_liabilities.isnull().sum())\n",
        "\n",
        "total_sales = pd.Series(np.array(total_assets) * np.array(df['Attr36']))\n",
        "assert not bool(total_sales.isnull().sum())\n",
        "\n",
        "sales = total_assets* df['Attr9'].values\n",
        "assert not bool(sales.isnull().sum())\n",
        "\n",
        "gross_profit = total_assets * df['Attr18']\n",
        "assert not bool(gross_profit.isnull().sum())\n",
        "\n",
        "EBIT = total_assets * df['Attr7']\n",
        "assert not bool(EBIT.isnull().sum())\n",
        "\n",
        "EBITDA = total_assets * df['Attr48']\n",
        "assert not bool(EBITDA.isnull().sum())\n",
        "\n",
        "retained_earnings = total_assets * df['Attr6']\n",
        "assert not bool(retained_earnings.isnull().sum())\n",
        "\n",
        "net_profit = total_assets * df['Attr1']\n",
        "assert not bool(net_profit.isnull().sum())\n",
        "\n",
        "working_capital = total_assets * df['Attr3']\n",
        "profit_on_sales = total_assets * df['Attr35']\n",
        "assert not bool(working_capital.isnull().sum())\n",
        "assert not bool(profit_on_sales.isnull().sum())"
      ],
      "execution_count": 0,
      "outputs": []
    },
    {
      "cell_type": "markdown",
      "metadata": {
        "id": "XcwtNnIepP16",
        "colab_type": "text"
      },
      "source": [
        "total_assets, total_equity, total_liabilities, short_term_liabilities, long_term_liabilities, total_sales, sales, gross_propit, retained_earnings, EBIT, EBITDA, net_profit, working_capital, profit_on_sales 을 구할 수 있었다."
      ]
    },
    {
      "cell_type": "markdown",
      "metadata": {
        "id": "qmlquPxTpP24",
        "colab_type": "text"
      },
      "source": [
        "## 1-3. Drop useless columns\n",
        "변수가 가지고 있는 정보가 겹치거나, 눈으로 보았을 때 명확한 선형관계가 존재하면 제거해준다"
      ]
    },
    {
      "cell_type": "code",
      "metadata": {
        "id": "joFPQsKkpP25",
        "colab_type": "code",
        "colab": {}
      },
      "source": [
        "drop_list = []\n",
        "for i in (15,17,19,20,28,31,34,37,41,42,44,46,55,57,62):\n",
        "    drop_list.append(\"Attr\" + str(i))\n",
        "    \n",
        "df.drop(drop_list, axis=1, inplace=True)"
      ],
      "execution_count": 0,
      "outputs": []
    },
    {
      "cell_type": "code",
      "metadata": {
        "id": "G0nY_d0QpP3A",
        "colab_type": "code",
        "outputId": "21b7c6f4-9f44-4f3a-ac0c-eb9f72ab9530",
        "colab": {
          "base_uri": "https://localhost:8080/",
          "height": 34
        }
      },
      "source": [
        "print(df.shape) # 15 columns are removed"
      ],
      "execution_count": 49,
      "outputs": [
        {
          "output_type": "stream",
          "text": [
            "(6835, 50)\n"
          ],
          "name": "stdout"
        }
      ]
    },
    {
      "cell_type": "code",
      "metadata": {
        "id": "vdtSjpc5pP3J",
        "colab_type": "code",
        "outputId": "fb355d4e-9bf9-49f4-ba03-c7214a8d1c87",
        "colab": {
          "base_uri": "https://localhost:8080/",
          "height": 874
        }
      },
      "source": [
        "print(df.isnull().sum())"
      ],
      "execution_count": 50,
      "outputs": [
        {
          "output_type": "stream",
          "text": [
            "Attr1       0\n",
            "Attr2       0\n",
            "Attr3       0\n",
            "Attr4       0\n",
            "Attr5      15\n",
            "Attr6       0\n",
            "Attr7       0\n",
            "Attr8      13\n",
            "Attr9       0\n",
            "Attr10      0\n",
            "Attr11      0\n",
            "Attr12     25\n",
            "Attr13     13\n",
            "Attr14      0\n",
            "Attr16     13\n",
            "Attr18      0\n",
            "Attr21    110\n",
            "Attr22      0\n",
            "Attr23     13\n",
            "Attr24    149\n",
            "Attr25      0\n",
            "Attr26     13\n",
            "Attr27    459\n",
            "Attr29      0\n",
            "Attr30     13\n",
            "Attr32     71\n",
            "Attr33     25\n",
            "Attr35      0\n",
            "Attr36      0\n",
            "Attr38      0\n",
            "Attr39     13\n",
            "Attr40     25\n",
            "Attr43     13\n",
            "Attr45    410\n",
            "Attr47     56\n",
            "Attr48      0\n",
            "Attr49     13\n",
            "Attr50     13\n",
            "Attr51      0\n",
            "Attr52     59\n",
            "Attr53    159\n",
            "Attr54    159\n",
            "Attr56     13\n",
            "Attr58      9\n",
            "Attr59      1\n",
            "Attr60    412\n",
            "Attr61     19\n",
            "Attr63     25\n",
            "Attr64    159\n",
            "class       0\n",
            "dtype: int64\n"
          ],
          "name": "stdout"
        }
      ]
    },
    {
      "cell_type": "markdown",
      "metadata": {
        "id": "kGqPkC9TpP3R",
        "colab_type": "text"
      },
      "source": [
        "참고) 여기서  Attr4는 current_assets 가 na imputation 된 값이 입력되어있음. <br>\n",
        "순서가 꼬여서 이렇게 되었으나, 이후 코딩에서 별 문제는 없음. \n",
        "\n",
        "current_assets를 먼저 imputation한 이유는 이와 연관된 변수가 많아서였음.\n",
        "\n",
        "current_assets 정보가 들어가 있는 변수 중 NA 갯수가 가장 적은 변수를 선택하여 imputation함.\n",
        "(코드는 아래와 같음)"
      ]
    },
    {
      "cell_type": "code",
      "metadata": {
        "id": "nKpnQ4UdpP3T",
        "colab_type": "code",
        "colab": {}
      },
      "source": [
        "current_assets = df['Attr50'] * total_liabilities\n",
        "current_assets.fillna(30.04, inplace=True)\n",
        "assert not bool(current_assets.isnull().sum())"
      ],
      "execution_count": 0,
      "outputs": []
    },
    {
      "cell_type": "markdown",
      "metadata": {
        "id": "XmawC_sppP3Z",
        "colab_type": "text"
      },
      "source": [
        "## 1-4. Direct NA Imputation using recovered information"
      ]
    },
    {
      "cell_type": "code",
      "metadata": {
        "id": "Jn_V9s9IpP3a",
        "colab_type": "code",
        "colab": {}
      },
      "source": [
        "# 0이 존재하는 값에 최솟값(절댓값)을 더해준다\n",
        "\n",
        "min_short_term_liabilities = [x for x in np.sort(np.abs(short_term_liabilities)) if x][0]\n",
        "short_term_liabilities.replace(0, min_short_term_liabilities, inplace=True)\n",
        "        \n",
        "min_sales = [x for x in np.sort(np.abs(sales)) if x][0]\n",
        "sales.replace(0, min_sales, inplace=True)\n",
        "\n",
        "min_total_liabilities = [x for x in np.sort(np.abs(total_liabilities)) if x][0]\n",
        "total_liabilities.replace(0, min_total_liabilities, inplace=True)\n",
        "\n",
        "min_total_equity = [x for x in np.sort(np.abs(total_equity)) if x][0]\n",
        "total_equity.replace(0, min_total_equity, inplace=True)"
      ],
      "execution_count": 0,
      "outputs": []
    },
    {
      "cell_type": "code",
      "metadata": {
        "id": "ru0l0fcYZnuU",
        "colab_type": "code",
        "colab": {
          "base_uri": "https://localhost:8080/",
          "height": 34
        },
        "outputId": "d50f0d7d-5606-44b2-c5b5-2543139ad4d2"
      },
      "source": [
        "print(min_short_term_liabilities, min_sales, min_total_liabilities, min_total_equity)"
      ],
      "execution_count": 53,
      "outputs": [
        {
          "output_type": "stream",
          "text": [
            "0.0011085237977033703 0.0018897056105588663 0.0010846612502000141 0.037702938739959564\n"
          ],
          "name": "stdout"
        }
      ]
    },
    {
      "cell_type": "markdown",
      "metadata": {
        "id": "bZm8CT2fpP3p",
        "colab_type": "text"
      },
      "source": [
        "이제 분모에 0이 오기 때문에 NA가 될 걱정은 사라졌으니 이를 이용해서 NA imputation을 해보자!"
      ]
    },
    {
      "cell_type": "code",
      "metadata": {
        "id": "G3_v6YY_pP3q",
        "colab_type": "code",
        "colab": {}
      },
      "source": [
        "df['Attr12'] = gross_profit / short_term_liabilities\n",
        "df['Attr23'] = net_profit / sales\n",
        "df['Attr39'] = profit_on_sales / sales\n",
        "df['Attr49'] = EBITDA / sales\n",
        "df['Attr50'] = current_assets / total_liabilities\n",
        "df['Attr59'] = long_term_liabilities / total_equity\n",
        "df['Attr63'] = sales / short_term_liabilities"
      ],
      "execution_count": 0,
      "outputs": []
    },
    {
      "cell_type": "code",
      "metadata": {
        "id": "gG7D4-qbpP3y",
        "colab_type": "code",
        "outputId": "72736d1a-67ac-40ae-fff4-136fd40e5e1a",
        "colab": {
          "base_uri": "https://localhost:8080/",
          "height": 151
        }
      },
      "source": [
        "# na 값 있나 확인\n",
        "df.loc[:, ['Attr12','Attr23','Attr39','Attr49','Attr50','Attr59','Attr63']].isnull().sum()"
      ],
      "execution_count": 55,
      "outputs": [
        {
          "output_type": "execute_result",
          "data": {
            "text/plain": [
              "Attr12    0\n",
              "Attr23    0\n",
              "Attr39    0\n",
              "Attr49    0\n",
              "Attr50    0\n",
              "Attr59    0\n",
              "Attr63    0\n",
              "dtype: int64"
            ]
          },
          "metadata": {
            "tags": []
          },
          "execution_count": 55
        }
      ]
    },
    {
      "cell_type": "markdown",
      "metadata": {
        "id": "cH-Zcf52pP34",
        "colab_type": "text"
      },
      "source": [
        "## 1-5. Using packages specialized in NA Imputation \n",
        "### 1-5-0. Measuring performance of Logistic Regression with na removed data"
      ]
    },
    {
      "cell_type": "code",
      "metadata": {
        "id": "bBSnRYd4pP35",
        "colab_type": "code",
        "outputId": "b03d8971-96a6-47c9-8004-961d8ef23d23",
        "colab": {
          "base_uri": "https://localhost:8080/",
          "height": 34
        }
      },
      "source": [
        "from sklearn.linear_model import LogisticRegression\n",
        "from sklearn.model_selection import train_test_split\n",
        "from sklearn.metrics import f1_score\n",
        "import warnings\n",
        "\n",
        "warnings.filterwarnings('ignore')\n",
        "\n",
        "na_dropped = df.dropna(axis = 0)\n",
        "X, y = na_dropped.iloc[:, :-1], na_dropped.iloc[:, -1]\n",
        "X_train, X_test, y_train, y_test = train_test_split(X, y, test_size = 0.3, stratify = y, random_state=5)\n",
        "\n",
        "lr = LogisticRegression(class_weight='balanced')\n",
        "lr.fit(X_train, y_train)\n",
        "\n",
        "y_pred = lr.predict(X_test)\n",
        "print(f1_score(y_test, y_pred))"
      ],
      "execution_count": 56,
      "outputs": [
        {
          "output_type": "stream",
          "text": [
            "0.08823529411764706\n"
          ],
          "name": "stdout"
        }
      ]
    },
    {
      "cell_type": "markdown",
      "metadata": {
        "id": "9fLrld7BpP3_",
        "colab_type": "text"
      },
      "source": [
        "ㅎㅎ na imputation을 꼭 해야할듯하다"
      ]
    },
    {
      "cell_type": "markdown",
      "metadata": {
        "id": "dZkJldc4pP4A",
        "colab_type": "text"
      },
      "source": [
        "### 1-5-1. Simple Imputation"
      ]
    },
    {
      "cell_type": "code",
      "metadata": {
        "id": "gfjH5Y2AqGU8",
        "colab_type": "code",
        "colab": {}
      },
      "source": [
        "X, y = df.iloc[:, :-1], df.iloc[:, -1]"
      ],
      "execution_count": 0,
      "outputs": []
    },
    {
      "cell_type": "code",
      "metadata": {
        "id": "MSiXjgRCpP4C",
        "colab_type": "code",
        "colab": {}
      },
      "source": [
        "from sklearn.experimental import enable_iterative_imputer\n",
        "from sklearn.impute import IterativeImputer, SimpleImputer\n",
        "from sklearn.pipeline import Pipeline\n",
        "from sklearn.linear_model import LogisticRegression\n",
        "\n",
        "simple_mean_impute = Pipeline([(\"Simple\", SimpleImputer(np.nan, \"mean\")), \n",
        "                        (\"clf\", LogisticRegression(class_weight='balanced'))])\n",
        "\n",
        "simple_median_impute = Pipeline([(\"Simple\", SimpleImputer(np.nan, \"median\")), \n",
        "                        (\"clf\", LogisticRegression(class_weight='balanced'))])"
      ],
      "execution_count": 0,
      "outputs": []
    },
    {
      "cell_type": "markdown",
      "metadata": {
        "id": "PE1ha8ZMpP4Q",
        "colab_type": "text"
      },
      "source": [
        "일관성 있는 na imputation method를 고르기 위해 평가는 cross-validated f1 score로 하겠음"
      ]
    },
    {
      "cell_type": "code",
      "metadata": {
        "id": "0izyipPvpP4T",
        "colab_type": "code",
        "colab": {}
      },
      "source": [
        "from sklearn.model_selection import cross_val_score\n",
        "import warnings\n",
        "\n",
        "warnings.filterwarnings('ignore')\n",
        "\n",
        "simple_mean_score = cross_val_score(simple_mean_impute, X, y, scoring='f1').mean()\n",
        "simple_median_score = cross_val_score(simple_median_impute, X, y, scoring='f1').mean()"
      ],
      "execution_count": 0,
      "outputs": []
    },
    {
      "cell_type": "code",
      "metadata": {
        "id": "WMcVD24-pP4Z",
        "colab_type": "code",
        "outputId": "25c2ef82-58b0-4aaf-f943-e29ca1fc17c9",
        "colab": {
          "base_uri": "https://localhost:8080/",
          "height": 34
        }
      },
      "source": [
        "print(simple_mean_score, simple_median_score)"
      ],
      "execution_count": 69,
      "outputs": [
        {
          "output_type": "stream",
          "text": [
            "0.17243855095500826 0.17690922819712987\n"
          ],
          "name": "stdout"
        }
      ]
    },
    {
      "cell_type": "markdown",
      "metadata": {
        "id": "ll1vvsPZpP4g",
        "colab_type": "text"
      },
      "source": [
        "score가 많이 올라감"
      ]
    },
    {
      "cell_type": "markdown",
      "metadata": {
        "id": "ICnJ7esYpP4h",
        "colab_type": "text"
      },
      "source": [
        "### 1-5-2. KNN imputation"
      ]
    },
    {
      "cell_type": "code",
      "metadata": {
        "id": "p79hA2gTpP4i",
        "colab_type": "code",
        "colab": {}
      },
      "source": [
        "from sklearn.impute import KNNImputer\n",
        "\n",
        "knn_impute = Pipeline([(\"KNN\", KNNImputer()), \n",
        "                        (\"clf\", LogisticRegression(class_weight='balanced'))])"
      ],
      "execution_count": 0,
      "outputs": []
    },
    {
      "cell_type": "code",
      "metadata": {
        "id": "f6Mr_FcApP4o",
        "colab_type": "code",
        "outputId": "a41afa95-ad10-4183-b6ee-c3847fb3956b",
        "colab": {
          "base_uri": "https://localhost:8080/",
          "height": 34
        }
      },
      "source": [
        "knn_score = cross_val_score(knn_impute, X, y, scoring='f1').mean()\n",
        "print(knn_score)"
      ],
      "execution_count": 71,
      "outputs": [
        {
          "output_type": "stream",
          "text": [
            "0.15674874087391394\n"
          ],
          "name": "stdout"
        }
      ]
    },
    {
      "cell_type": "markdown",
      "metadata": {
        "id": "4gXXC3ZCpP4w",
        "colab_type": "text"
      },
      "source": [
        "### 1-5-3. Bayesian Ridge imputation"
      ]
    },
    {
      "cell_type": "code",
      "metadata": {
        "id": "CRO1ShBopP4x",
        "colab_type": "code",
        "colab": {}
      },
      "source": [
        "from sklearn.linear_model import BayesianRidge\n",
        "\n",
        "bayesian_impute = Pipeline([(\"Bayesian\", IterativeImputer(estimator=BayesianRidge(),\n",
        "                                                max_iter=10, random_state=5, verbose=0)), \n",
        "                        (\"clf\", LogisticRegression(class_weight='balanced'))])"
      ],
      "execution_count": 0,
      "outputs": []
    },
    {
      "cell_type": "code",
      "metadata": {
        "id": "UYjKRYxTpP44",
        "colab_type": "code",
        "outputId": "5590a235-bb48-4f87-c1e2-26b36a97387b",
        "colab": {
          "base_uri": "https://localhost:8080/",
          "height": 34
        }
      },
      "source": [
        "bayesian_score = cross_val_score(bayesian_impute, X, y, scoring='f1').mean()\n",
        "print(bayesian_score)"
      ],
      "execution_count": 73,
      "outputs": [
        {
          "output_type": "stream",
          "text": [
            "0.15667455143488532\n"
          ],
          "name": "stdout"
        }
      ]
    },
    {
      "cell_type": "markdown",
      "metadata": {
        "id": "F4PIzIU1pP49",
        "colab_type": "text"
      },
      "source": [
        "### 1-5-4. Decision Tree imputation"
      ]
    },
    {
      "cell_type": "code",
      "metadata": {
        "id": "8XNWCDfApP4-",
        "colab_type": "code",
        "colab": {}
      },
      "source": [
        "from sklearn.tree import DecisionTreeRegressor\n",
        "\n",
        "decision_tree_impute = Pipeline([(\"Decision Tree\", \n",
        "                                  IterativeImputer(estimator=DecisionTreeRegressor(max_features='sqrt', random_state=5),\n",
        "                                                max_iter=10, random_state=5, verbose=0)), \n",
        "                                 (\"clf\", LogisticRegression(class_weight='balanced'))])"
      ],
      "execution_count": 0,
      "outputs": []
    },
    {
      "cell_type": "code",
      "metadata": {
        "id": "nPqQH6uWpP5F",
        "colab_type": "code",
        "outputId": "31d2d912-e9ba-49a9-c539-4ca70647812c",
        "colab": {
          "base_uri": "https://localhost:8080/",
          "height": 34
        }
      },
      "source": [
        "decision_tree_score = cross_val_score(decision_tree_impute, X, y, scoring='f1').mean()\n",
        "print(decision_tree_score)"
      ],
      "execution_count": 75,
      "outputs": [
        {
          "output_type": "stream",
          "text": [
            "0.1576509455456824\n"
          ],
          "name": "stdout"
        }
      ]
    },
    {
      "cell_type": "code",
      "metadata": {
        "id": "fWkLdrdeux3c",
        "colab_type": "code",
        "outputId": "87ae8b62-8bab-47a5-cc16-3305d0752a30",
        "colab": {
          "base_uri": "https://localhost:8080/",
          "height": 301
        }
      },
      "source": [
        "imputation_methods = np.array(['Mean', 'Median', 'KNN', 'Bayesian Ridge', 'Decision Tree'])\n",
        "imputation_scores = np.array([simple_mean_score, simple_median_score, knn_score, bayesian_score, decision_tree_score])\n",
        "index = np.arange(1, 6)\n",
        "\n",
        "plt.barh(index, imputation_scores)\n",
        "plt.title('Scores of several imputation methods', fontsize=16)\n",
        "plt.xlabel('F1 score', fontsize=14)\n",
        "plt.ylabel('Imputation methods', fontsize=14)\n",
        "plt.yticks(index, imputation_methods, fontsize=12)\n",
        "plt.show()"
      ],
      "execution_count": 77,
      "outputs": [
        {
          "output_type": "display_data",
          "data": {
            "image/png": "[encoded data removed]",
            "text/plain": [
              "<Figure size 432x288 with 1 Axes>"
            ]
          },
          "metadata": {
            "tags": [],
            "needs_background": "light"
          }
        }
      ]
    },
    {
      "cell_type": "markdown",
      "metadata": {
        "id": "GUmnaKdhpP5X",
        "colab_type": "text"
      },
      "source": [
        "<b> Let's go with Median Imputer! </b>"
      ]
    },
    {
      "cell_type": "code",
      "metadata": {
        "id": "V6gCxQEFtSXZ",
        "colab_type": "code",
        "outputId": "af63c31f-7c45-4571-822a-d41602560223",
        "colab": {
          "base_uri": "https://localhost:8080/",
          "height": 874
        }
      },
      "source": [
        "df.isnull().sum()"
      ],
      "execution_count": 78,
      "outputs": [
        {
          "output_type": "execute_result",
          "data": {
            "text/plain": [
              "Attr1       0\n",
              "Attr2       0\n",
              "Attr3       0\n",
              "Attr4       0\n",
              "Attr5      15\n",
              "Attr6       0\n",
              "Attr7       0\n",
              "Attr8      13\n",
              "Attr9       0\n",
              "Attr10      0\n",
              "Attr11      0\n",
              "Attr12      0\n",
              "Attr13     13\n",
              "Attr14      0\n",
              "Attr16     13\n",
              "Attr18      0\n",
              "Attr21    110\n",
              "Attr22      0\n",
              "Attr23      0\n",
              "Attr24    149\n",
              "Attr25      0\n",
              "Attr26     13\n",
              "Attr27    459\n",
              "Attr29      0\n",
              "Attr30     13\n",
              "Attr32     71\n",
              "Attr33     25\n",
              "Attr35      0\n",
              "Attr36      0\n",
              "Attr38      0\n",
              "Attr39      0\n",
              "Attr40     25\n",
              "Attr43     13\n",
              "Attr45    410\n",
              "Attr47     56\n",
              "Attr48      0\n",
              "Attr49      0\n",
              "Attr50      0\n",
              "Attr51      0\n",
              "Attr52     59\n",
              "Attr53    159\n",
              "Attr54    159\n",
              "Attr56     13\n",
              "Attr58      9\n",
              "Attr59      0\n",
              "Attr60    412\n",
              "Attr61     19\n",
              "Attr63      0\n",
              "Attr64    159\n",
              "class       0\n",
              "dtype: int64"
            ]
          },
          "metadata": {
            "tags": []
          },
          "execution_count": 78
        }
      ]
    },
    {
      "cell_type": "code",
      "metadata": {
        "id": "T2FM5AoppP5e",
        "colab_type": "code",
        "colab": {}
      },
      "source": [
        "imputer = SimpleImputer(np.nan, \"median\")\n",
        "df_imputed = imputer.fit_transform(df)\n",
        "df_imputed = pd.DataFrame(df_imputed, columns=df.columns)"
      ],
      "execution_count": 0,
      "outputs": []
    },
    {
      "cell_type": "code",
      "metadata": {
        "id": "ge52p7I4w9eF",
        "colab_type": "code",
        "outputId": "7b897f3f-429c-4758-c9cd-041f25338d93",
        "colab": {
          "base_uri": "https://localhost:8080/",
          "height": 874
        }
      },
      "source": [
        "# 마지막 확인\n",
        "df_imputed.isnull().sum()"
      ],
      "execution_count": 80,
      "outputs": [
        {
          "output_type": "execute_result",
          "data": {
            "text/plain": [
              "Attr1     0\n",
              "Attr2     0\n",
              "Attr3     0\n",
              "Attr4     0\n",
              "Attr5     0\n",
              "Attr6     0\n",
              "Attr7     0\n",
              "Attr8     0\n",
              "Attr9     0\n",
              "Attr10    0\n",
              "Attr11    0\n",
              "Attr12    0\n",
              "Attr13    0\n",
              "Attr14    0\n",
              "Attr16    0\n",
              "Attr18    0\n",
              "Attr21    0\n",
              "Attr22    0\n",
              "Attr23    0\n",
              "Attr24    0\n",
              "Attr25    0\n",
              "Attr26    0\n",
              "Attr27    0\n",
              "Attr29    0\n",
              "Attr30    0\n",
              "Attr32    0\n",
              "Attr33    0\n",
              "Attr35    0\n",
              "Attr36    0\n",
              "Attr38    0\n",
              "Attr39    0\n",
              "Attr40    0\n",
              "Attr43    0\n",
              "Attr45    0\n",
              "Attr47    0\n",
              "Attr48    0\n",
              "Attr49    0\n",
              "Attr50    0\n",
              "Attr51    0\n",
              "Attr52    0\n",
              "Attr53    0\n",
              "Attr54    0\n",
              "Attr56    0\n",
              "Attr58    0\n",
              "Attr59    0\n",
              "Attr60    0\n",
              "Attr61    0\n",
              "Attr63    0\n",
              "Attr64    0\n",
              "class     0\n",
              "dtype: int64"
            ]
          },
          "metadata": {
            "tags": []
          },
          "execution_count": 80
        }
      ]
    },
    {
      "cell_type": "code",
      "metadata": {
        "id": "EqbueUAHpP5l",
        "colab_type": "code",
        "colab": {}
      },
      "source": [
        "df_imputed.to_csv('imputed_final.csv', index=False)"
      ],
      "execution_count": 0,
      "outputs": []
    },
    {
      "cell_type": "code",
      "metadata": {
        "id": "7_n8Osa-pP5u",
        "colab_type": "code",
        "outputId": "d878fc8d-ccc1-4498-cb67-e8a1d996ae09",
        "colab": {
          "base_uri": "https://localhost:8080/",
          "height": 215
        }
      },
      "source": [
        "pd.read_csv('imputed_final.csv').head()"
      ],
      "execution_count": 86,
      "outputs": [
        {
          "output_type": "execute_result",
          "data": {
            "text/html": [
              "<div>\n",
              "<style scoped>\n",
              "    .dataframe tbody tr th:only-of-type {\n",
              "        vertical-align: middle;\n",
              "    }\n",
              "\n",
              "    .dataframe tbody tr th {\n",
              "        vertical-align: top;\n",
              "    }\n",
              "\n",
              "    .dataframe thead th {\n",
              "        text-align: right;\n",
              "    }\n",
              "</style>\n",
              "<table border=\"1\" class=\"dataframe\">\n",
              "  <thead>\n",
              "    <tr style=\"text-align: right;\">\n",
              "      <th></th>\n",
              "      <th>Attr1</th>\n",
              "      <th>Attr2</th>\n",
              "      <th>Attr3</th>\n",
              "      <th>Attr4</th>\n",
              "      <th>Attr5</th>\n",
              "      <th>Attr6</th>\n",
              "      <th>Attr7</th>\n",
              "      <th>Attr8</th>\n",
              "      <th>Attr9</th>\n",
              "      <th>Attr10</th>\n",
              "      <th>Attr11</th>\n",
              "      <th>Attr12</th>\n",
              "      <th>Attr13</th>\n",
              "      <th>Attr14</th>\n",
              "      <th>Attr16</th>\n",
              "      <th>Attr18</th>\n",
              "      <th>Attr21</th>\n",
              "      <th>Attr22</th>\n",
              "      <th>Attr23</th>\n",
              "      <th>Attr24</th>\n",
              "      <th>Attr25</th>\n",
              "      <th>Attr26</th>\n",
              "      <th>Attr27</th>\n",
              "      <th>Attr29</th>\n",
              "      <th>Attr30</th>\n",
              "      <th>Attr32</th>\n",
              "      <th>Attr33</th>\n",
              "      <th>Attr35</th>\n",
              "      <th>Attr36</th>\n",
              "      <th>Attr38</th>\n",
              "      <th>Attr39</th>\n",
              "      <th>Attr40</th>\n",
              "      <th>Attr43</th>\n",
              "      <th>Attr45</th>\n",
              "      <th>Attr47</th>\n",
              "      <th>Attr48</th>\n",
              "      <th>Attr49</th>\n",
              "      <th>Attr50</th>\n",
              "      <th>Attr51</th>\n",
              "      <th>Attr52</th>\n",
              "      <th>Attr53</th>\n",
              "      <th>Attr54</th>\n",
              "      <th>Attr56</th>\n",
              "      <th>Attr58</th>\n",
              "      <th>Attr59</th>\n",
              "      <th>Attr60</th>\n",
              "      <th>Attr61</th>\n",
              "      <th>Attr63</th>\n",
              "      <th>Attr64</th>\n",
              "      <th>class</th>\n",
              "    </tr>\n",
              "  </thead>\n",
              "  <tbody>\n",
              "    <tr>\n",
              "      <th>0</th>\n",
              "      <td>-0.024558</td>\n",
              "      <td>0.30051</td>\n",
              "      <td>0.10733</td>\n",
              "      <td>1.975914</td>\n",
              "      <td>34.382</td>\n",
              "      <td>-0.026711</td>\n",
              "      <td>-0.020067</td>\n",
              "      <td>2.25190</td>\n",
              "      <td>1.06670</td>\n",
              "      <td>0.67673</td>\n",
              "      <td>-0.020067</td>\n",
              "      <td>-0.156456</td>\n",
              "      <td>0.025634</td>\n",
              "      <td>-0.020067</td>\n",
              "      <td>0.057548</td>\n",
              "      <td>-0.020067</td>\n",
              "      <td>1.08530</td>\n",
              "      <td>0.00866</td>\n",
              "      <td>-0.023022</td>\n",
              "      <td>-0.019018</td>\n",
              "      <td>0.67673</td>\n",
              "      <td>0.042607</td>\n",
              "      <td>0.13691</td>\n",
              "      <td>4.5645</td>\n",
              "      <td>0.44185</td>\n",
              "      <td>74.015</td>\n",
              "      <td>4.9315</td>\n",
              "      <td>0.00866</td>\n",
              "      <td>0.69446</td>\n",
              "      <td>0.84898</td>\n",
              "      <td>0.008118</td>\n",
              "      <td>0.026591</td>\n",
              "      <td>125.6100</td>\n",
              "      <td>-0.49620</td>\n",
              "      <td>28.560</td>\n",
              "      <td>-0.028702</td>\n",
              "      <td>-0.026907</td>\n",
              "      <td>0.783960</td>\n",
              "      <td>0.12826</td>\n",
              "      <td>0.20278</td>\n",
              "      <td>0.88530</td>\n",
              "      <td>1.1106</td>\n",
              "      <td>0.062497</td>\n",
              "      <td>0.93750</td>\n",
              "      <td>0.288165</td>\n",
              "      <td>13.6320</td>\n",
              "      <td>3.6930</td>\n",
              "      <td>8.316700</td>\n",
              "      <td>0.88260</td>\n",
              "      <td>0.0</td>\n",
              "    </tr>\n",
              "    <tr>\n",
              "      <th>1</th>\n",
              "      <td>0.639180</td>\n",
              "      <td>0.00000</td>\n",
              "      <td>1.00000</td>\n",
              "      <td>5006.666667</td>\n",
              "      <td>29.678</td>\n",
              "      <td>-1.139300</td>\n",
              "      <td>0.760520</td>\n",
              "      <td>1.09245</td>\n",
              "      <td>1.11850</td>\n",
              "      <td>1.00000</td>\n",
              "      <td>0.760520</td>\n",
              "      <td>2328.019515</td>\n",
              "      <td>0.679940</td>\n",
              "      <td>0.760520</td>\n",
              "      <td>0.222805</td>\n",
              "      <td>0.760520</td>\n",
              "      <td>1.04790</td>\n",
              "      <td>0.76040</td>\n",
              "      <td>0.571462</td>\n",
              "      <td>0.600720</td>\n",
              "      <td>-0.50015</td>\n",
              "      <td>0.203820</td>\n",
              "      <td>1.01190</td>\n",
              "      <td>1.2218</td>\n",
              "      <td>0.00000</td>\n",
              "      <td>0.000</td>\n",
              "      <td>4.4510</td>\n",
              "      <td>0.76040</td>\n",
              "      <td>1.11850</td>\n",
              "      <td>1.00000</td>\n",
              "      <td>0.679839</td>\n",
              "      <td>0.177130</td>\n",
              "      <td>9.6341</td>\n",
              "      <td>0.23541</td>\n",
              "      <td>0.000</td>\n",
              "      <td>0.760400</td>\n",
              "      <td>0.679839</td>\n",
              "      <td>27695.282739</td>\n",
              "      <td>0.00000</td>\n",
              "      <td>0.00000</td>\n",
              "      <td>1.20865</td>\n",
              "      <td>1.3747</td>\n",
              "      <td>0.679830</td>\n",
              "      <td>0.32014</td>\n",
              "      <td>0.000000</td>\n",
              "      <td>9.5619</td>\n",
              "      <td>37.8860</td>\n",
              "      <td>3423.828207</td>\n",
              "      <td>4.01995</td>\n",
              "      <td>0.0</td>\n",
              "    </tr>\n",
              "    <tr>\n",
              "      <th>2</th>\n",
              "      <td>-0.440760</td>\n",
              "      <td>0.47723</td>\n",
              "      <td>0.19260</td>\n",
              "      <td>1.467776</td>\n",
              "      <td>34.555</td>\n",
              "      <td>0.000000</td>\n",
              "      <td>-0.440760</td>\n",
              "      <td>1.09540</td>\n",
              "      <td>1.51860</td>\n",
              "      <td>0.52277</td>\n",
              "      <td>-0.429190</td>\n",
              "      <td>-1.070611</td>\n",
              "      <td>-0.240740</td>\n",
              "      <td>-0.440760</td>\n",
              "      <td>-0.766050</td>\n",
              "      <td>-0.440760</td>\n",
              "      <td>0.50040</td>\n",
              "      <td>-0.42986</td>\n",
              "      <td>-0.290241</td>\n",
              "      <td>0.744700</td>\n",
              "      <td>0.46954</td>\n",
              "      <td>-0.766050</td>\n",
              "      <td>-37.14700</td>\n",
              "      <td>2.9728</td>\n",
              "      <td>0.31392</td>\n",
              "      <td>76.670</td>\n",
              "      <td>4.7606</td>\n",
              "      <td>-0.44130</td>\n",
              "      <td>1.51860</td>\n",
              "      <td>0.58832</td>\n",
              "      <td>-0.290597</td>\n",
              "      <td>0.029665</td>\n",
              "      <td>142.3100</td>\n",
              "      <td>0.23541</td>\n",
              "      <td>0.000</td>\n",
              "      <td>-0.505040</td>\n",
              "      <td>-0.332569</td>\n",
              "      <td>1.266200</td>\n",
              "      <td>0.41169</td>\n",
              "      <td>0.21006</td>\n",
              "      <td>1.32110</td>\n",
              "      <td>1.4867</td>\n",
              "      <td>-0.290590</td>\n",
              "      <td>1.28710</td>\n",
              "      <td>0.125371</td>\n",
              "      <td>9.5619</td>\n",
              "      <td>2.5649</td>\n",
              "      <td>3.688698</td>\n",
              "      <td>3.83760</td>\n",
              "      <td>0.0</td>\n",
              "    </tr>\n",
              "    <tr>\n",
              "      <th>3</th>\n",
              "      <td>0.119520</td>\n",
              "      <td>0.17679</td>\n",
              "      <td>0.63546</td>\n",
              "      <td>4.933282</td>\n",
              "      <td>117.650</td>\n",
              "      <td>0.251540</td>\n",
              "      <td>0.148750</td>\n",
              "      <td>4.58260</td>\n",
              "      <td>1.12630</td>\n",
              "      <td>0.81017</td>\n",
              "      <td>0.148750</td>\n",
              "      <td>0.841394</td>\n",
              "      <td>0.131500</td>\n",
              "      <td>0.148750</td>\n",
              "      <td>1.189400</td>\n",
              "      <td>0.148750</td>\n",
              "      <td>0.97491</td>\n",
              "      <td>0.14495</td>\n",
              "      <td>0.106117</td>\n",
              "      <td>0.315270</td>\n",
              "      <td>0.81017</td>\n",
              "      <td>1.024100</td>\n",
              "      <td>1.02090</td>\n",
              "      <td>5.4536</td>\n",
              "      <td>-0.18039</td>\n",
              "      <td>45.450</td>\n",
              "      <td>8.0308</td>\n",
              "      <td>0.14495</td>\n",
              "      <td>1.62200</td>\n",
              "      <td>0.81017</td>\n",
              "      <td>0.128696</td>\n",
              "      <td>2.702300</td>\n",
              "      <td>76.3540</td>\n",
              "      <td>0.66747</td>\n",
              "      <td>46.033</td>\n",
              "      <td>0.083425</td>\n",
              "      <td>0.074070</td>\n",
              "      <td>4.594400</td>\n",
              "      <td>0.17679</td>\n",
              "      <td>0.12452</td>\n",
              "      <td>4.31510</td>\n",
              "      <td>4.3151</td>\n",
              "      <td>0.112110</td>\n",
              "      <td>0.88789</td>\n",
              "      <td>0.016095</td>\n",
              "      <td>8.9302</td>\n",
              "      <td>10.2870</td>\n",
              "      <td>6.370835</td>\n",
              "      <td>8.51690</td>\n",
              "      <td>0.0</td>\n",
              "    </tr>\n",
              "    <tr>\n",
              "      <th>4</th>\n",
              "      <td>0.230400</td>\n",
              "      <td>0.27095</td>\n",
              "      <td>0.23762</td>\n",
              "      <td>2.574483</td>\n",
              "      <td>-26.928</td>\n",
              "      <td>0.617540</td>\n",
              "      <td>0.282690</td>\n",
              "      <td>2.69070</td>\n",
              "      <td>0.80411</td>\n",
              "      <td>0.72905</td>\n",
              "      <td>0.284330</td>\n",
              "      <td>1.873236</td>\n",
              "      <td>0.390160</td>\n",
              "      <td>0.282690</td>\n",
              "      <td>1.157900</td>\n",
              "      <td>0.282690</td>\n",
              "      <td>1.44160</td>\n",
              "      <td>0.28433</td>\n",
              "      <td>0.286528</td>\n",
              "      <td>0.616550</td>\n",
              "      <td>0.62819</td>\n",
              "      <td>0.964870</td>\n",
              "      <td>173.05000</td>\n",
              "      <td>7.2973</td>\n",
              "      <td>0.33696</td>\n",
              "      <td>126.760</td>\n",
              "      <td>3.4578</td>\n",
              "      <td>0.36955</td>\n",
              "      <td>0.80411</td>\n",
              "      <td>0.84909</td>\n",
              "      <td>0.459576</td>\n",
              "      <td>1.102400</td>\n",
              "      <td>100.8400</td>\n",
              "      <td>2.27140</td>\n",
              "      <td>70.950</td>\n",
              "      <td>0.253300</td>\n",
              "      <td>0.315007</td>\n",
              "      <td>1.433900</td>\n",
              "      <td>0.15091</td>\n",
              "      <td>0.28920</td>\n",
              "      <td>1.19230</td>\n",
              "      <td>1.3886</td>\n",
              "      <td>0.459570</td>\n",
              "      <td>0.62320</td>\n",
              "      <td>0.164653</td>\n",
              "      <td>7.9274</td>\n",
              "      <td>6.6605</td>\n",
              "      <td>5.328408</td>\n",
              "      <td>1.31500</td>\n",
              "      <td>0.0</td>\n",
              "    </tr>\n",
              "  </tbody>\n",
              "</table>\n",
              "</div>"
            ],
            "text/plain": [
              "      Attr1    Attr2    Attr3  ...       Attr63   Attr64  class\n",
              "0 -0.024558  0.30051  0.10733  ...     8.316700  0.88260    0.0\n",
              "1  0.639180  0.00000  1.00000  ...  3423.828207  4.01995    0.0\n",
              "2 -0.440760  0.47723  0.19260  ...     3.688698  3.83760    0.0\n",
              "3  0.119520  0.17679  0.63546  ...     6.370835  8.51690    0.0\n",
              "4  0.230400  0.27095  0.23762  ...     5.328408  1.31500    0.0\n",
              "\n",
              "[5 rows x 50 columns]"
            ]
          },
          "metadata": {
            "tags": []
          },
          "execution_count": 86
        }
      ]
    },
    {
      "cell_type": "code",
      "metadata": {
        "id": "mjd268IIpP5z",
        "colab_type": "code",
        "colab": {}
      },
      "source": [
        ""
      ],
      "execution_count": 0,
      "outputs": []
    },
    {
      "cell_type": "code",
      "metadata": {
        "id": "XMf9wworpP55",
        "colab_type": "code",
        "colab": {}
      },
      "source": [
        ""
      ],
      "execution_count": 0,
      "outputs": []
    },
    {
      "cell_type": "code",
      "metadata": {
        "id": "Z2Nb82vxpP5_",
        "colab_type": "code",
        "colab": {}
      },
      "source": [
        ""
      ],
      "execution_count": 0,
      "outputs": []
    },
    {
      "cell_type": "code",
      "metadata": {
        "id": "EECJSCP6pP6F",
        "colab_type": "code",
        "colab": {}
      },
      "source": [
        ""
      ],
      "execution_count": 0,
      "outputs": []
    },
    {
      "cell_type": "code",
      "metadata": {
        "id": "f7lZSAujpP6N",
        "colab_type": "code",
        "colab": {}
      },
      "source": [
        ""
      ],
      "execution_count": 0,
      "outputs": []
    },
    {
      "cell_type": "code",
      "metadata": {
        "id": "K87vdrZApP6X",
        "colab_type": "code",
        "colab": {}
      },
      "source": [
        ""
      ],
      "execution_count": 0,
      "outputs": []
    },
    {
      "cell_type": "code",
      "metadata": {
        "id": "lWIsjFaZpP6c",
        "colab_type": "code",
        "colab": {}
      },
      "source": [
        ""
      ],
      "execution_count": 0,
      "outputs": []
    },
    {
      "cell_type": "code",
      "metadata": {
        "id": "Q5wTT39vpP6k",
        "colab_type": "code",
        "colab": {}
      },
      "source": [
        ""
      ],
      "execution_count": 0,
      "outputs": []
    },
    {
      "cell_type": "code",
      "metadata": {
        "id": "gKybs7ympP6o",
        "colab_type": "code",
        "colab": {}
      },
      "source": [
        ""
      ],
      "execution_count": 0,
      "outputs": []
    },
    {
      "cell_type": "code",
      "metadata": {
        "id": "5WNHGLkkpP6s",
        "colab_type": "code",
        "colab": {}
      },
      "source": [
        ""
      ],
      "execution_count": 0,
      "outputs": []
    },
    {
      "cell_type": "code",
      "metadata": {
        "id": "cBqZ_eWHpP6v",
        "colab_type": "code",
        "colab": {}
      },
      "source": [
        ""
      ],
      "execution_count": 0,
      "outputs": []
    },
    {
      "cell_type": "code",
      "metadata": {
        "id": "RtSGOKwapP61",
        "colab_type": "code",
        "colab": {}
      },
      "source": [
        ""
      ],
      "execution_count": 0,
      "outputs": []
    },
    {
      "cell_type": "code",
      "metadata": {
        "id": "Qa0xFTjrpP68",
        "colab_type": "code",
        "colab": {}
      },
      "source": [
        ""
      ],
      "execution_count": 0,
      "outputs": []
    },
    {
      "cell_type": "code",
      "metadata": {
        "id": "e9DaURUfpP7E",
        "colab_type": "code",
        "colab": {}
      },
      "source": [
        ""
      ],
      "execution_count": 0,
      "outputs": []
    },
    {
      "cell_type": "code",
      "metadata": {
        "id": "wWmdKRA5pP7R",
        "colab_type": "code",
        "colab": {}
      },
      "source": [
        ""
      ],
      "execution_count": 0,
      "outputs": []
    },
    {
      "cell_type": "code",
      "metadata": {
        "id": "iFs0c-65pP7W",
        "colab_type": "code",
        "colab": {}
      },
      "source": [
        ""
      ],
      "execution_count": 0,
      "outputs": []
    },
    {
      "cell_type": "code",
      "metadata": {
        "id": "FUlWPt4kpP7g",
        "colab_type": "code",
        "colab": {}
      },
      "source": [
        ""
      ],
      "execution_count": 0,
      "outputs": []
    },
    {
      "cell_type": "code",
      "metadata": {
        "id": "1RfrbDjOpP7k",
        "colab_type": "code",
        "colab": {}
      },
      "source": [
        ""
      ],
      "execution_count": 0,
      "outputs": []
    },
    {
      "cell_type": "code",
      "metadata": {
        "id": "dNSF9obWpP7o",
        "colab_type": "code",
        "colab": {}
      },
      "source": [
        ""
      ],
      "execution_count": 0,
      "outputs": []
    },
    {
      "cell_type": "code",
      "metadata": {
        "id": "-jXWPnPcpP7t",
        "colab_type": "code",
        "colab": {}
      },
      "source": [
        ""
      ],
      "execution_count": 0,
      "outputs": []
    },
    {
      "cell_type": "code",
      "metadata": {
        "id": "PjiCtPJZpP7y",
        "colab_type": "code",
        "colab": {}
      },
      "source": [
        ""
      ],
      "execution_count": 0,
      "outputs": []
    },
    {
      "cell_type": "code",
      "metadata": {
        "id": "N1oFFF2ipP79",
        "colab_type": "code",
        "colab": {}
      },
      "source": [
        ""
      ],
      "execution_count": 0,
      "outputs": []
    },
    {
      "cell_type": "code",
      "metadata": {
        "id": "DPM21oWLpP8C",
        "colab_type": "code",
        "colab": {}
      },
      "source": [
        ""
      ],
      "execution_count": 0,
      "outputs": []
    },
    {
      "cell_type": "code",
      "metadata": {
        "id": "JlYCLbnqpP8I",
        "colab_type": "code",
        "colab": {}
      },
      "source": [
        ""
      ],
      "execution_count": 0,
      "outputs": []
    },
    {
      "cell_type": "code",
      "metadata": {
        "id": "ESW5Ish3pP8M",
        "colab_type": "code",
        "colab": {}
      },
      "source": [
        ""
      ],
      "execution_count": 0,
      "outputs": []
    },
    {
      "cell_type": "code",
      "metadata": {
        "id": "VgEpcOylpP8Q",
        "colab_type": "code",
        "colab": {}
      },
      "source": [
        ""
      ],
      "execution_count": 0,
      "outputs": []
    },
    {
      "cell_type": "code",
      "metadata": {
        "id": "Kwz-yKPJpP8T",
        "colab_type": "code",
        "colab": {}
      },
      "source": [
        ""
      ],
      "execution_count": 0,
      "outputs": []
    },
    {
      "cell_type": "code",
      "metadata": {
        "id": "ycWTTqpMpP8W",
        "colab_type": "code",
        "colab": {}
      },
      "source": [
        ""
      ],
      "execution_count": 0,
      "outputs": []
    },
    {
      "cell_type": "code",
      "metadata": {
        "id": "FtY9EXy0pP8a",
        "colab_type": "code",
        "colab": {}
      },
      "source": [
        ""
      ],
      "execution_count": 0,
      "outputs": []
    },
    {
      "cell_type": "code",
      "metadata": {
        "id": "KQ9kEkszpP8d",
        "colab_type": "code",
        "colab": {}
      },
      "source": [
        ""
      ],
      "execution_count": 0,
      "outputs": []
    },
    {
      "cell_type": "code",
      "metadata": {
        "id": "uPGVCV15pP8f",
        "colab_type": "code",
        "colab": {}
      },
      "source": [
        ""
      ],
      "execution_count": 0,
      "outputs": []
    },
    {
      "cell_type": "code",
      "metadata": {
        "id": "Jl4i_cglpP8p",
        "colab_type": "code",
        "colab": {}
      },
      "source": [
        ""
      ],
      "execution_count": 0,
      "outputs": []
    },
    {
      "cell_type": "code",
      "metadata": {
        "id": "YSftebtlpP8u",
        "colab_type": "code",
        "colab": {}
      },
      "source": [
        ""
      ],
      "execution_count": 0,
      "outputs": []
    },
    {
      "cell_type": "code",
      "metadata": {
        "id": "7eiZWVbrpP8y",
        "colab_type": "code",
        "colab": {}
      },
      "source": [
        ""
      ],
      "execution_count": 0,
      "outputs": []
    },
    {
      "cell_type": "code",
      "metadata": {
        "id": "BYlP-AlfpP82",
        "colab_type": "code",
        "colab": {}
      },
      "source": [
        ""
      ],
      "execution_count": 0,
      "outputs": []
    },
    {
      "cell_type": "code",
      "metadata": {
        "id": "SyVc7UxYpP87",
        "colab_type": "code",
        "colab": {}
      },
      "source": [
        ""
      ],
      "execution_count": 0,
      "outputs": []
    },
    {
      "cell_type": "code",
      "metadata": {
        "id": "9gQwi5TppP8-",
        "colab_type": "code",
        "colab": {}
      },
      "source": [
        ""
      ],
      "execution_count": 0,
      "outputs": []
    },
    {
      "cell_type": "code",
      "metadata": {
        "id": "nHOJNYdcpP9C",
        "colab_type": "code",
        "colab": {}
      },
      "source": [
        ""
      ],
      "execution_count": 0,
      "outputs": []
    },
    {
      "cell_type": "code",
      "metadata": {
        "id": "4OOg9LP-pP9F",
        "colab_type": "code",
        "colab": {}
      },
      "source": [
        ""
      ],
      "execution_count": 0,
      "outputs": []
    },
    {
      "cell_type": "code",
      "metadata": {
        "id": "D1TJRfPNpP9L",
        "colab_type": "code",
        "colab": {}
      },
      "source": [
        ""
      ],
      "execution_count": 0,
      "outputs": []
    },
    {
      "cell_type": "code",
      "metadata": {
        "id": "SE8M4HfspP9P",
        "colab_type": "code",
        "colab": {}
      },
      "source": [
        ""
      ],
      "execution_count": 0,
      "outputs": []
    },
    {
      "cell_type": "code",
      "metadata": {
        "id": "q3JubynvpP9V",
        "colab_type": "code",
        "colab": {}
      },
      "source": [
        ""
      ],
      "execution_count": 0,
      "outputs": []
    },
    {
      "cell_type": "code",
      "metadata": {
        "id": "fAVMKuNZpP9Z",
        "colab_type": "code",
        "colab": {}
      },
      "source": [
        ""
      ],
      "execution_count": 0,
      "outputs": []
    },
    {
      "cell_type": "code",
      "metadata": {
        "id": "TYQSSll5pP9i",
        "colab_type": "code",
        "colab": {}
      },
      "source": [
        ""
      ],
      "execution_count": 0,
      "outputs": []
    },
    {
      "cell_type": "code",
      "metadata": {
        "id": "ocqsaOl6pP9m",
        "colab_type": "code",
        "colab": {}
      },
      "source": [
        ""
      ],
      "execution_count": 0,
      "outputs": []
    },
    {
      "cell_type": "code",
      "metadata": {
        "id": "xFP18KgspP9q",
        "colab_type": "code",
        "colab": {}
      },
      "source": [
        ""
      ],
      "execution_count": 0,
      "outputs": []
    },
    {
      "cell_type": "code",
      "metadata": {
        "id": "F5w-a-bppP9v",
        "colab_type": "code",
        "colab": {}
      },
      "source": [
        ""
      ],
      "execution_count": 0,
      "outputs": []
    },
    {
      "cell_type": "code",
      "metadata": {
        "id": "eraVc-_DpP9z",
        "colab_type": "code",
        "colab": {}
      },
      "source": [
        ""
      ],
      "execution_count": 0,
      "outputs": []
    },
    {
      "cell_type": "code",
      "metadata": {
        "id": "pSRltu5rpP95",
        "colab_type": "code",
        "colab": {}
      },
      "source": [
        ""
      ],
      "execution_count": 0,
      "outputs": []
    },
    {
      "cell_type": "code",
      "metadata": {
        "id": "P9Mn0BT2pP98",
        "colab_type": "code",
        "colab": {}
      },
      "source": [
        ""
      ],
      "execution_count": 0,
      "outputs": []
    },
    {
      "cell_type": "code",
      "metadata": {
        "id": "T4QZqRqzpP-C",
        "colab_type": "code",
        "colab": {}
      },
      "source": [
        ""
      ],
      "execution_count": 0,
      "outputs": []
    },
    {
      "cell_type": "code",
      "metadata": {
        "id": "8uFaaezrpP-K",
        "colab_type": "code",
        "colab": {}
      },
      "source": [
        ""
      ],
      "execution_count": 0,
      "outputs": []
    },
    {
      "cell_type": "code",
      "metadata": {
        "id": "agIK13E-pP-O",
        "colab_type": "code",
        "colab": {}
      },
      "source": [
        ""
      ],
      "execution_count": 0,
      "outputs": []
    },
    {
      "cell_type": "code",
      "metadata": {
        "id": "BTK-dFOxpP-R",
        "colab_type": "code",
        "colab": {}
      },
      "source": [
        ""
      ],
      "execution_count": 0,
      "outputs": []
    },
    {
      "cell_type": "code",
      "metadata": {
        "id": "bH9w4OudpP-V",
        "colab_type": "code",
        "colab": {}
      },
      "source": [
        ""
      ],
      "execution_count": 0,
      "outputs": []
    },
    {
      "cell_type": "code",
      "metadata": {
        "id": "wuBA91empP-Y",
        "colab_type": "code",
        "colab": {}
      },
      "source": [
        ""
      ],
      "execution_count": 0,
      "outputs": []
    },
    {
      "cell_type": "code",
      "metadata": {
        "id": "BEC9hDdZpP-b",
        "colab_type": "code",
        "colab": {}
      },
      "source": [
        ""
      ],
      "execution_count": 0,
      "outputs": []
    },
    {
      "cell_type": "code",
      "metadata": {
        "id": "7UyaPFEYpP-f",
        "colab_type": "code",
        "colab": {}
      },
      "source": [
        ""
      ],
      "execution_count": 0,
      "outputs": []
    },
    {
      "cell_type": "code",
      "metadata": {
        "id": "jvZCJaFNpP-q",
        "colab_type": "code",
        "colab": {}
      },
      "source": [
        ""
      ],
      "execution_count": 0,
      "outputs": []
    },
    {
      "cell_type": "code",
      "metadata": {
        "id": "OMzB5xt3pP-u",
        "colab_type": "code",
        "colab": {}
      },
      "source": [
        ""
      ],
      "execution_count": 0,
      "outputs": []
    },
    {
      "cell_type": "code",
      "metadata": {
        "id": "SD62Yz7QpP-x",
        "colab_type": "code",
        "colab": {}
      },
      "source": [
        ""
      ],
      "execution_count": 0,
      "outputs": []
    },
    {
      "cell_type": "code",
      "metadata": {
        "id": "IzM2qaz8pP-0",
        "colab_type": "code",
        "colab": {}
      },
      "source": [
        ""
      ],
      "execution_count": 0,
      "outputs": []
    },
    {
      "cell_type": "code",
      "metadata": {
        "id": "4ovhipSTpP-4",
        "colab_type": "code",
        "colab": {}
      },
      "source": [
        ""
      ],
      "execution_count": 0,
      "outputs": []
    },
    {
      "cell_type": "code",
      "metadata": {
        "id": "mivsgiq3pP-8",
        "colab_type": "code",
        "colab": {}
      },
      "source": [
        ""
      ],
      "execution_count": 0,
      "outputs": []
    },
    {
      "cell_type": "code",
      "metadata": {
        "id": "P_dwKMI0pP_A",
        "colab_type": "code",
        "colab": {}
      },
      "source": [
        ""
      ],
      "execution_count": 0,
      "outputs": []
    },
    {
      "cell_type": "code",
      "metadata": {
        "id": "G5xfuVJ6pP_E",
        "colab_type": "code",
        "colab": {}
      },
      "source": [
        ""
      ],
      "execution_count": 0,
      "outputs": []
    },
    {
      "cell_type": "code",
      "metadata": {
        "id": "8eZqwqNEpP_I",
        "colab_type": "code",
        "colab": {}
      },
      "source": [
        ""
      ],
      "execution_count": 0,
      "outputs": []
    },
    {
      "cell_type": "code",
      "metadata": {
        "id": "DAy31joYpP_L",
        "colab_type": "code",
        "colab": {}
      },
      "source": [
        ""
      ],
      "execution_count": 0,
      "outputs": []
    }
  ]
}