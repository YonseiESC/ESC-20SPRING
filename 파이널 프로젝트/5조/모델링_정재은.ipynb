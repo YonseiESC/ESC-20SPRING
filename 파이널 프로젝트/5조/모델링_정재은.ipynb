{
 "cells": [
  {
   "cell_type": "code",
   "execution_count": 2,
   "metadata": {
    "colab": {},
    "colab_type": "code",
    "id": "1jy_dSYvuruZ"
   },
   "outputs": [],
   "source": [
    "import numpy as np\n",
    "import pandas as pd\n",
    "import matplotlib.pyplot as plt\n",
    "%matplotlib inline"
   ]
  },
  {
   "cell_type": "code",
   "execution_count": 3,
   "metadata": {
    "colab": {
     "base_uri": "https://localhost:8080/",
     "height": 34
    },
    "colab_type": "code",
    "executionInfo": {
     "elapsed": 2772,
     "status": "ok",
     "timestamp": 1591003155262,
     "user": {
      "displayName": "정재은",
      "photoUrl": "",
      "userId": "17147906030055926956"
     },
     "user_tz": -540
    },
    "id": "iwV347LautJF",
    "outputId": "fd6dea0a-cc0d-49b4-9e7f-96e917cdd7c7"
   },
   "outputs": [
    {
     "data": {
      "text/plain": [
       "(6835, 31)"
      ]
     },
     "execution_count": 3,
     "metadata": {},
     "output_type": "execute_result"
    }
   ],
   "source": [
    "df = pd.read_csv(\"imputed_final_deleted.csv\")\n",
    "df.shape"
   ]
  },
  {
   "cell_type": "code",
   "execution_count": 4,
   "metadata": {
    "colab": {},
    "colab_type": "code",
    "id": "VqbaVtAdwEuW"
   },
   "outputs": [],
   "source": [
    "y = df['class']\n",
    "X = df[df.columns[df.columns != 'class']]"
   ]
  },
  {
   "cell_type": "code",
   "execution_count": 5,
   "metadata": {
    "colab": {},
    "colab_type": "code",
    "id": "-jEeEb9E3l0b"
   },
   "outputs": [],
   "source": [
    "from sklearn.model_selection import train_test_split\n",
    "\n",
    "X_train, X_test, y_train, y_test = train_test_split(X, y, test_size=.2, random_state=5)"
   ]
  },
  {
   "cell_type": "code",
   "execution_count": 6,
   "metadata": {
    "colab": {},
    "colab_type": "code",
    "id": "p4G-Jiw2wJDn"
   },
   "outputs": [],
   "source": [
    "from sklearn.preprocessing import StandardScaler\n",
    "\n",
    "scaler = StandardScaler()\n",
    "scaler.fit_transform(X_train)\n",
    "X_train_scaled = scaler.fit_transform(X_train)"
   ]
  },
  {
   "cell_type": "code",
   "execution_count": 7,
   "metadata": {
    "colab": {
     "base_uri": "https://localhost:8080/",
     "height": 34
    },
    "colab_type": "code",
    "executionInfo": {
     "elapsed": 2767,
     "status": "ok",
     "timestamp": 1591003155543,
     "user": {
      "displayName": "정재은",
      "photoUrl": "",
      "userId": "17147906030055926956"
     },
     "user_tz": -540
    },
    "id": "8U9oqfrj8biY",
    "outputId": "4e028cd8-ba41-4b9a-f851-258545c24e00"
   },
   "outputs": [
    {
     "data": {
      "text/plain": [
       "['scaler.pkl']"
      ]
     },
     "execution_count": 7,
     "metadata": {},
     "output_type": "execute_result"
    }
   ],
   "source": [
    "import joblib\n",
    "import pickle\n",
    "\n",
    "joblib.dump(scaler, \"scaler.pkl\")"
   ]
  },
  {
   "cell_type": "code",
   "execution_count": 8,
   "metadata": {
    "colab": {},
    "colab_type": "code",
    "id": "d19Q2zngBAPv"
   },
   "outputs": [],
   "source": [
    "from sklearn.model_selection import RepeatedStratifiedKFold, cross_val_score\n",
    "import warnings\n",
    "\n",
    "cv = RepeatedStratifiedKFold(n_splits = 5, n_repeats = 3, random_state = 5)\n",
    "warnings.filterwarnings('ignore')"
   ]
  },
  {
   "cell_type": "markdown",
   "metadata": {
    "colab_type": "text",
    "id": "7LXgYvDy_oPL"
   },
   "source": [
    "# 1. Logistic Regression"
   ]
  },
  {
   "cell_type": "code",
   "execution_count": null,
   "metadata": {
    "colab": {
     "base_uri": "https://localhost:8080/",
     "height": 50
    },
    "colab_type": "code",
    "executionInfo": {
     "elapsed": 11794,
     "status": "ok",
     "timestamp": 1591003164810,
     "user": {
      "displayName": "정재은",
      "photoUrl": "",
      "userId": "17147906030055926956"
     },
     "user_tz": -540
    },
    "id": "5izThwOK_qPL",
    "outputId": "d081d8d4-a2ef-474f-98a7-bb981818efd8"
   },
   "outputs": [],
   "source": [
    "from sklearn.model_selection import GridSearchCV\n",
    "from sklearn.linear_model import LogisticRegression\n",
    "\n",
    "grid= {\"C\":np.logspace(-3,3,7), \"penalty\":[\"l1\",\"l2\"]}# l1 lasso l2 ridge\n",
    "logreg = LogisticRegression(class_weight='balanced')\n",
    "logreg_cv = GridSearchCV(logreg, grid, cv=cv, scoring='f1')\n",
    "logreg_cv.fit(X_train_scaled, y_train)\n",
    "\n",
    "print(\"tuned hpyerparameters :(best parameters) \",logreg_cv.best_params_)\n",
    "print(\"f1 score :\",logreg_cv.best_score_)"
   ]
  },
  {
   "cell_type": "code",
   "execution_count": null,
   "metadata": {
    "colab": {
     "base_uri": "https://localhost:8080/",
     "height": 101
    },
    "colab_type": "code",
    "executionInfo": {
     "elapsed": 11771,
     "status": "ok",
     "timestamp": 1591003164812,
     "user": {
      "displayName": "정재은",
      "photoUrl": "",
      "userId": "17147906030055926956"
     },
     "user_tz": -540
    },
    "id": "LxFmP21pA0Lk",
    "outputId": "a5ddc7b2-df5a-4160-a47d-2829ec973cce"
   },
   "outputs": [],
   "source": [
    "from sklearn.base import clone\n",
    "\n",
    "lr_clf = clone(logreg_cv.best_estimator_)\n",
    "lr_clf.fit(X_train_scaled, y_train)"
   ]
  },
  {
   "cell_type": "code",
   "execution_count": null,
   "metadata": {
    "colab": {},
    "colab_type": "code",
    "id": "rPpCS-wDA0HS"
   },
   "outputs": [],
   "source": [
    "lr_clf_score = cross_val_score(lr_clf, X_train_scaled, y_train, scoring='f1', cv=cv).mean()"
   ]
  },
  {
   "cell_type": "code",
   "execution_count": null,
   "metadata": {
    "colab": {
     "base_uri": "https://localhost:8080/",
     "height": 34
    },
    "colab_type": "code",
    "executionInfo": {
     "elapsed": 13642,
     "status": "ok",
     "timestamp": 1591003166722,
     "user": {
      "displayName": "정재은",
      "photoUrl": "",
      "userId": "17147906030055926956"
     },
     "user_tz": -540
    },
    "id": "PvbDklzcA0FC",
    "outputId": "7ffde623-c0fb-41ac-a100-50d779ea05fc"
   },
   "outputs": [],
   "source": [
    "lr_clf_score"
   ]
  },
  {
   "cell_type": "code",
   "execution_count": null,
   "metadata": {
    "colab": {
     "base_uri": "https://localhost:8080/",
     "height": 34
    },
    "colab_type": "code",
    "executionInfo": {
     "elapsed": 13626,
     "status": "ok",
     "timestamp": 1591003166723,
     "user": {
      "displayName": "정재은",
      "photoUrl": "",
      "userId": "17147906030055926956"
     },
     "user_tz": -540
    },
    "id": "KMChAKaqA0DS",
    "outputId": "8102df10-720c-4eef-ada6-bb71c457d22e"
   },
   "outputs": [],
   "source": [
    "joblib.dump(lr_clf, \"logistic.pkl\")"
   ]
  },
  {
   "cell_type": "markdown",
   "metadata": {
    "colab_type": "text",
    "id": "DOpdNtPKutPn"
   },
   "source": [
    "# 1. SVM\n",
    "## 1-1. Linear SVM"
   ]
  },
  {
   "cell_type": "code",
   "execution_count": null,
   "metadata": {
    "colab": {
     "base_uri": "https://localhost:8080/",
     "height": 84
    },
    "colab_type": "code",
    "executionInfo": {
     "elapsed": 38653,
     "status": "ok",
     "timestamp": 1591003191769,
     "user": {
      "displayName": "정재은",
      "photoUrl": "",
      "userId": "17147906030055926956"
     },
     "user_tz": -540
    },
    "id": "I6WFoOay37Qj",
    "outputId": "0d9c52f7-ae0c-4163-9ea3-c6714b9831b9"
   },
   "outputs": [],
   "source": [
    "from sklearn.svm import SVC\n",
    "\n",
    "svm_linear_clf = SVC(C=10, kernel=\"linear\", class_weight='balanced', probability=True)\n",
    "svm_linear_clf.fit(X_train_scaled, y_train)"
   ]
  },
  {
   "cell_type": "code",
   "execution_count": null,
   "metadata": {
    "colab": {},
    "colab_type": "code",
    "id": "GlNu8Vt24gzQ"
   },
   "outputs": [],
   "source": [
    "svm_linear_clf_score = cross_val_score(svm_linear_clf, X_train_scaled, y_train, scoring='f1', cv=cv).mean()"
   ]
  },
  {
   "cell_type": "code",
   "execution_count": null,
   "metadata": {
    "colab": {
     "base_uri": "https://localhost:8080/",
     "height": 34
    },
    "colab_type": "code",
    "executionInfo": {
     "elapsed": 262126,
     "status": "ok",
     "timestamp": 1591003415276,
     "user": {
      "displayName": "정재은",
      "photoUrl": "",
      "userId": "17147906030055926956"
     },
     "user_tz": -540
    },
    "id": "_mvVyymV4qb0",
    "outputId": "b62c4acd-251c-485e-c699-ef78fc7382ea"
   },
   "outputs": [],
   "source": [
    "svm_linear_clf_score"
   ]
  },
  {
   "cell_type": "markdown",
   "metadata": {
    "colab_type": "text",
    "id": "qBOB-CYO4qfp"
   },
   "source": [
    "## 1-2. Kernel SVM"
   ]
  },
  {
   "cell_type": "code",
   "execution_count": null,
   "metadata": {
    "colab": {
     "base_uri": "https://localhost:8080/",
     "height": 50
    },
    "colab_type": "code",
    "executionInfo": {
     "elapsed": 821471,
     "status": "ok",
     "timestamp": 1591003974635,
     "user": {
      "displayName": "정재은",
      "photoUrl": "",
      "userId": "17147906030055926956"
     },
     "user_tz": -540
    },
    "id": "2QdZDBmF4qhz",
    "outputId": "2747a792-7fea-4ae7-a27a-d5ffde370877"
   },
   "outputs": [],
   "source": [
    "from sklearn.svm import SVC\n",
    "\n",
    "svm_rbf = SVC(class_weight='balanced')\n",
    "grid= {\"C\":np.logspace(-2,2,5), \"gamma\": np.logspace(-2, 2, 5)}\n",
    "svm_rbf_cv = GridSearchCV(svm_rbf, grid, cv=cv, scoring='f1')\n",
    "svm_rbf_cv.fit(X_train_scaled, y_train)\n",
    "\n",
    "print(\"tuned hpyerparameters :(best parameters) \",svm_rbf_cv.best_params_)\n",
    "print(\"f1 score :\",svm_rbf_cv.best_score_)"
   ]
  },
  {
   "cell_type": "code",
   "execution_count": null,
   "metadata": {
    "colab": {
     "base_uri": "https://localhost:8080/",
     "height": 84
    },
    "colab_type": "code",
    "executionInfo": {
     "elapsed": 822968,
     "status": "ok",
     "timestamp": 1591003976150,
     "user": {
      "displayName": "정재은",
      "photoUrl": "",
      "userId": "17147906030055926956"
     },
     "user_tz": -540
    },
    "id": "X0ZDdz7bGu9K",
    "outputId": "269648c1-92d4-49c2-f729-de6864ab0fba"
   },
   "outputs": [],
   "source": [
    "svm_rbf_clf = clone(svm_rbf_cv.best_estimator_)\n",
    "svm_rbf_clf.fit(X_train_scaled, y_train)"
   ]
  },
  {
   "cell_type": "code",
   "execution_count": null,
   "metadata": {
    "colab": {},
    "colab_type": "code",
    "id": "lFCB6tCO5bPg"
   },
   "outputs": [],
   "source": [
    "svm_rbf_clf_score = cross_val_score(svm_rbf_clf, X_train_scaled, y_train, scoring='f1', cv=cv).mean()"
   ]
  },
  {
   "cell_type": "code",
   "execution_count": null,
   "metadata": {
    "colab": {
     "base_uri": "https://localhost:8080/",
     "height": 34
    },
    "colab_type": "code",
    "executionInfo": {
     "elapsed": 839843,
     "status": "ok",
     "timestamp": 1591003993102,
     "user": {
      "displayName": "정재은",
      "photoUrl": "",
      "userId": "17147906030055926956"
     },
     "user_tz": -540
    },
    "id": "b5vmAC6r5bZK",
    "outputId": "a927c86f-5e58-4d35-ed56-0c45fd41048b"
   },
   "outputs": [],
   "source": [
    "svm_rbf_clf_score"
   ]
  },
  {
   "cell_type": "code",
   "execution_count": null,
   "metadata": {
    "colab": {
     "base_uri": "https://localhost:8080/",
     "height": 34
    },
    "colab_type": "code",
    "executionInfo": {
     "elapsed": 839829,
     "status": "ok",
     "timestamp": 1591003993103,
     "user": {
      "displayName": "정재은",
      "photoUrl": "",
      "userId": "17147906030055926956"
     },
     "user_tz": -540
    },
    "id": "6ukLgMlb5bVE",
    "outputId": "8fda4d95-c747-4dbc-e496-dcf52c8632fd"
   },
   "outputs": [],
   "source": [
    "joblib.dump(svm_linear_clf, \"SVM_linear.pkl\")\n",
    "joblib.dump(svm_rbf_clf, \"SVM_rbf.pkl\")"
   ]
  },
  {
   "cell_type": "markdown",
   "metadata": {
    "colab_type": "text",
    "id": "lEFZNRcJutXO"
   },
   "source": [
    "# 2. RandomForest"
   ]
  },
  {
   "cell_type": "code",
   "execution_count": null,
   "metadata": {
    "colab": {},
    "colab_type": "code",
    "id": "hx_oGpb-6aPp"
   },
   "outputs": [],
   "source": [
    "rf_clf = joblib.load(\"forest_01.pkl\")"
   ]
  },
  {
   "cell_type": "code",
   "execution_count": null,
   "metadata": {
    "colab": {},
    "colab_type": "code",
    "id": "Kf5_dpyx6aWY"
   },
   "outputs": [],
   "source": [
    "rf_clf_score = cross_val_score(rf_clf, X_train_scaled, y_train, scoring='f1', cv=cv).mean()"
   ]
  },
  {
   "cell_type": "code",
   "execution_count": null,
   "metadata": {
    "colab": {
     "base_uri": "https://localhost:8080/",
     "height": 34
    },
    "colab_type": "code",
    "executionInfo": {
     "elapsed": 927945,
     "status": "ok",
     "timestamp": 1591004081304,
     "user": {
      "displayName": "정재은",
      "photoUrl": "",
      "userId": "17147906030055926956"
     },
     "user_tz": -540
    },
    "id": "_-7hukvF6afb",
    "outputId": "37f3f304-7b84-4ec9-ab1c-8e942111e2cf"
   },
   "outputs": [],
   "source": [
    "rf_clf_score"
   ]
  },
  {
   "cell_type": "markdown",
   "metadata": {
    "colab_type": "text",
    "id": "CWsWj54Rut2b"
   },
   "source": [
    "# 3. XGBoost"
   ]
  },
  {
   "cell_type": "code",
   "execution_count": 9,
   "metadata": {
    "colab": {
     "base_uri": "https://localhost:8080/",
     "height": 134
    },
    "colab_type": "code",
    "executionInfo": {
     "elapsed": 930955,
     "status": "ok",
     "timestamp": 1591004084335,
     "user": {
      "displayName": "정재은",
      "photoUrl": "",
      "userId": "17147906030055926956"
     },
     "user_tz": -540
    },
    "id": "wWhutFY47dS_",
    "outputId": "c67a1b12-b74f-4a14-e179-056a158cec33"
   },
   "outputs": [
    {
     "name": "stdout",
     "output_type": "stream",
     "text": [
      "1.1.0\n"
     ]
    },
    {
     "data": {
      "text/plain": [
       "XGBClassifier(base_score=0.5, booster='gbtree', colsample_bylevel=1,\n",
       "              colsample_bynode=1, colsample_bytree=0.7, gamma=0.2, gpu_id=-1,\n",
       "              importance_type='gain', interaction_constraints='',\n",
       "              learning_rate=0.3, max_delta_step=0, max_depth=10,\n",
       "              min_child_weight=0.1, missing=nan, monotone_constraints='()',\n",
       "              n_estimators=100, n_jobs=0, num_parallel_tree=1,\n",
       "              objective='binary:logistic', random_state=0, reg_alpha=0,\n",
       "              reg_lambda=1, scale_pos_weight=1, subsample=1,\n",
       "              tree_method='exact', validate_parameters=1, verbosity=None)"
      ]
     },
     "execution_count": 9,
     "metadata": {},
     "output_type": "execute_result"
    }
   ],
   "source": [
    "import xgboost\n",
    "from xgboost import XGBClassifier\n",
    "print(xgboost.__version__)\n",
    "\n",
    "\n",
    "xgb_clf = XGBClassifier(learning_rate=0.3, max_depth=10, min_child_weight=0.1, gamma=0.2, colsample_bytree=0.7)\n",
    "xgb_clf.fit(X_train_scaled, y_train)"
   ]
  },
  {
   "cell_type": "code",
   "execution_count": 10,
   "metadata": {},
   "outputs": [],
   "source": [
    "xgb_clf.save_model('xgb.xgb')"
   ]
  },
  {
   "cell_type": "code",
   "execution_count": 11,
   "metadata": {},
   "outputs": [],
   "source": [
    "from xgboost import Booster\n",
    "\n",
    "booster = Booster()\n",
    "booster.load_model('xgb.xgb')\n",
    "new_xgb_clf = XGBClassifier(learning_rate=0.3, max_depth=10, min_child_weight=0.1, gamma=0.2, colsample_bytree=0.7)\n",
    "new_xgb_clf._Booster = booster"
   ]
  },
  {
   "cell_type": "code",
   "execution_count": 12,
   "metadata": {
    "colab": {},
    "colab_type": "code",
    "id": "rNAR5QUj7dMb"
   },
   "outputs": [],
   "source": [
    "xgb_clf_score = cross_val_score(new_xgb_clf, X_train_scaled, y_train, scoring='f1', cv=cv).mean()"
   ]
  },
  {
   "cell_type": "code",
   "execution_count": 13,
   "metadata": {
    "colab": {
     "base_uri": "https://localhost:8080/",
     "height": 34
    },
    "colab_type": "code",
    "executionInfo": {
     "elapsed": 961322,
     "status": "ok",
     "timestamp": 1591004114814,
     "user": {
      "displayName": "정재은",
      "photoUrl": "",
      "userId": "17147906030055926956"
     },
     "user_tz": -540
    },
    "id": "YcMGAlfw7dJ5",
    "outputId": "3ce34f55-9f8a-403c-d6c5-eed30e1b16b9"
   },
   "outputs": [
    {
     "data": {
      "text/plain": [
       "0.43240846338085576"
      ]
     },
     "execution_count": 13,
     "metadata": {},
     "output_type": "execute_result"
    }
   ],
   "source": [
    "xgb_clf_score"
   ]
  },
  {
   "cell_type": "markdown",
   "metadata": {
    "colab_type": "text",
    "id": "K2NJNVIhuuIs"
   },
   "source": [
    "# 4. FA XGBoost"
   ]
  },
  {
   "cell_type": "code",
   "execution_count": null,
   "metadata": {
    "colab": {
     "base_uri": "https://localhost:8080/",
     "height": 168
    },
    "colab_type": "code",
    "executionInfo": {
     "elapsed": 964588,
     "status": "ok",
     "timestamp": 1591004118104,
     "user": {
      "displayName": "정재은",
      "photoUrl": "",
      "userId": "17147906030055926956"
     },
     "user_tz": -540
    },
    "id": "OF3SuRo19gov",
    "outputId": "64d7c9d6-2809-42ca-8827-2f523a019520"
   },
   "outputs": [],
   "source": [
    "! pip install factor_analyzer\n",
    "from factor_analyzer import FactorAnalyzer\n",
    "\n",
    "fa = FactorAnalyzer(n_factors = 6, rotation = 'varimax', bounds = (0, 1), method = 'principal')\n",
    "X_fa = fa.fit_transform(X_train_scaled)"
   ]
  },
  {
   "cell_type": "code",
   "execution_count": null,
   "metadata": {
    "colab": {
     "base_uri": "https://localhost:8080/",
     "height": 134
    },
    "colab_type": "code",
    "executionInfo": {
     "elapsed": 965018,
     "status": "ok",
     "timestamp": 1591004118560,
     "user": {
      "displayName": "정재은",
      "photoUrl": "",
      "userId": "17147906030055926956"
     },
     "user_tz": -540
    },
    "id": "FPYsAEBZutkf",
    "outputId": "b14ba42c-215a-4b68-f903-0f618c7f79e5"
   },
   "outputs": [],
   "source": [
    "from xgboost import XGBClassifier\n",
    "\n",
    "model = XGBClassifier(colsample_bytree= 0.5, eta= 0.05, gamma= 0.0, max_depth= 4, min_child_weight= 1)\n",
    "model.fit(X_fa, y_train)"
   ]
  },
  {
   "cell_type": "code",
   "execution_count": null,
   "metadata": {
    "colab": {},
    "colab_type": "code",
    "id": "n0QUE5sa2__J"
   },
   "outputs": [],
   "source": [
    "xgb_fa_clf_score = cross_val_score(model, X_fa, y_train, scoring='f1', cv=cv).mean()"
   ]
  },
  {
   "cell_type": "code",
   "execution_count": null,
   "metadata": {
    "colab": {
     "base_uri": "https://localhost:8080/",
     "height": 34
    },
    "colab_type": "code",
    "executionInfo": {
     "elapsed": 968191,
     "status": "ok",
     "timestamp": 1591004121787,
     "user": {
      "displayName": "정재은",
      "photoUrl": "",
      "userId": "17147906030055926956"
     },
     "user_tz": -540
    },
    "id": "Q9UPBPz4CWzm",
    "outputId": "7a806e48-af5a-4269-a59c-c09bb66f8de7"
   },
   "outputs": [],
   "source": [
    "xgb_fa_clf_score # 너무 구려서 뺌"
   ]
  },
  {
   "cell_type": "code",
   "execution_count": null,
   "metadata": {
    "colab": {},
    "colab_type": "code",
    "id": "YJNZEbOo3Awo"
   },
   "outputs": [],
   "source": [
    "total = sum((lr_clf_score, svm_linear_clf_score, rf_clf_score, xgb_clf_score))\n",
    "scores = list(map(lambda x: x / total, [lr_clf_score, svm_linear_clf_score, rf_clf_score, xgb_clf_score]))\n",
    "\n",
    "with open(\"scores.pkl\", \"wb\") as f:\n",
    "    pickle.dump(scores, f)"
   ]
  },
  {
   "cell_type": "code",
   "execution_count": null,
   "metadata": {
    "colab": {
     "base_uri": "https://localhost:8080/",
     "height": 84
    },
    "colab_type": "code",
    "executionInfo": {
     "elapsed": 740,
     "status": "ok",
     "timestamp": 1591004216061,
     "user": {
      "displayName": "정재은",
      "photoUrl": "",
      "userId": "17147906030055926956"
     },
     "user_tz": -540
    },
    "id": "7Ukv_9gn3A2H",
    "outputId": "3b83e38d-1578-4e3a-85d3-58c94a218c61"
   },
   "outputs": [],
   "source": [
    "scores"
   ]
  },
  {
   "cell_type": "code",
   "execution_count": null,
   "metadata": {
    "colab": {
     "base_uri": "https://localhost:8080/",
     "height": 34
    },
    "colab_type": "code",
    "executionInfo": {
     "elapsed": 554,
     "status": "ok",
     "timestamp": 1591004291469,
     "user": {
      "displayName": "정재은",
      "photoUrl": "",
      "userId": "17147906030055926956"
     },
     "user_tz": -540
    },
    "id": "JVGPlkNY3A51",
    "outputId": "76b50aff-5194-49ef-8ff1-36b1d2a91bc3"
   },
   "outputs": [],
   "source": [
    "test = pd.concat([X_test, y_test], axis=1)\n",
    "test.shape"
   ]
  },
  {
   "cell_type": "code",
   "execution_count": null,
   "metadata": {
    "colab": {
     "base_uri": "https://localhost:8080/",
     "height": 118
    },
    "colab_type": "code",
    "executionInfo": {
     "elapsed": 659,
     "status": "ok",
     "timestamp": 1591004302130,
     "user": {
      "displayName": "정재은",
      "photoUrl": "",
      "userId": "17147906030055926956"
     },
     "user_tz": -540
    },
    "id": "oabr_PbH3Azw",
    "outputId": "45f3b20a-d8d6-4340-9755-40e1436ef3b5"
   },
   "outputs": [],
   "source": [
    "test.columns = df.columns\n",
    "test.columns"
   ]
  },
  {
   "cell_type": "code",
   "execution_count": null,
   "metadata": {
    "colab": {},
    "colab_type": "code",
    "id": "hEhumWrh3Aug"
   },
   "outputs": [],
   "source": [
    "test.to_csv(\"df_test.csv\", index=False)"
   ]
  },
  {
   "cell_type": "markdown",
   "metadata": {
    "colab": {},
    "colab_type": "code",
    "id": "BzT5y_jB3AtT"
   },
   "source": [
    "# 5. Evaluation\n",
    "## 5-1. Train set"
   ]
  },
  {
   "cell_type": "code",
   "execution_count": null,
   "metadata": {
    "colab": {},
    "colab_type": "code",
    "id": "rS0dmfy33Am2"
   },
   "outputs": [],
   "source": []
  },
  {
   "cell_type": "code",
   "execution_count": null,
   "metadata": {
    "colab": {},
    "colab_type": "code",
    "id": "xWKFR-553AkN"
   },
   "outputs": [],
   "source": []
  },
  {
   "cell_type": "code",
   "execution_count": null,
   "metadata": {
    "colab": {},
    "colab_type": "code",
    "id": "8jf8-EfF3Ahn"
   },
   "outputs": [],
   "source": []
  },
  {
   "cell_type": "code",
   "execution_count": null,
   "metadata": {
    "colab": {},
    "colab_type": "code",
    "id": "PoKJ95r_3Ae6"
   },
   "outputs": [],
   "source": []
  },
  {
   "cell_type": "code",
   "execution_count": null,
   "metadata": {
    "colab": {},
    "colab_type": "code",
    "id": "3yj8nwMd3Acv"
   },
   "outputs": [],
   "source": []
  },
  {
   "cell_type": "code",
   "execution_count": null,
   "metadata": {
    "colab": {},
    "colab_type": "code",
    "id": "E8EXd0Nn3AaY"
   },
   "outputs": [],
   "source": []
  },
  {
   "cell_type": "code",
   "execution_count": null,
   "metadata": {
    "colab": {},
    "colab_type": "code",
    "id": "0qqqnnM13AU6"
   },
   "outputs": [],
   "source": []
  },
  {
   "cell_type": "code",
   "execution_count": null,
   "metadata": {
    "colab": {},
    "colab_type": "code",
    "id": "YFUOKIkr3ASp"
   },
   "outputs": [],
   "source": []
  },
  {
   "cell_type": "code",
   "execution_count": null,
   "metadata": {
    "colab": {},
    "colab_type": "code",
    "id": "7IEQ5ks63AQK"
   },
   "outputs": [],
   "source": []
  },
  {
   "cell_type": "code",
   "execution_count": null,
   "metadata": {
    "colab": {},
    "colab_type": "code",
    "id": "bn9YV6Ol3AOQ"
   },
   "outputs": [],
   "source": []
  },
  {
   "cell_type": "code",
   "execution_count": null,
   "metadata": {
    "colab": {},
    "colab_type": "code",
    "id": "ejanQ3nF3AM1"
   },
   "outputs": [],
   "source": []
  },
  {
   "cell_type": "code",
   "execution_count": null,
   "metadata": {
    "colab": {},
    "colab_type": "code",
    "id": "mV-HsrPf3AF7"
   },
   "outputs": [],
   "source": []
  },
  {
   "cell_type": "code",
   "execution_count": null,
   "metadata": {
    "colab": {},
    "colab_type": "code",
    "id": "uk13195o3AD_"
   },
   "outputs": [],
   "source": []
  },
  {
   "cell_type": "code",
   "execution_count": null,
   "metadata": {
    "colab": {},
    "colab_type": "code",
    "id": "YHgUx2wb3ABr"
   },
   "outputs": [],
   "source": []
  },
  {
   "cell_type": "code",
   "execution_count": null,
   "metadata": {
    "colab": {},
    "colab_type": "code",
    "id": "YXTjYYWx2_8d"
   },
   "outputs": [],
   "source": []
  },
  {
   "cell_type": "code",
   "execution_count": null,
   "metadata": {
    "colab": {},
    "colab_type": "code",
    "id": "1JXUHMbWuteJ"
   },
   "outputs": [],
   "source": []
  },
  {
   "cell_type": "code",
   "execution_count": null,
   "metadata": {
    "colab": {},
    "colab_type": "code",
    "id": "34HndhoSutcC"
   },
   "outputs": [],
   "source": []
  },
  {
   "cell_type": "code",
   "execution_count": null,
   "metadata": {
    "colab": {},
    "colab_type": "code",
    "id": "TYbpCPBKutaY"
   },
   "outputs": [],
   "source": []
  },
  {
   "cell_type": "code",
   "execution_count": null,
   "metadata": {
    "colab": {},
    "colab_type": "code",
    "id": "qrsE92axutVl"
   },
   "outputs": [],
   "source": []
  }
 ],
 "metadata": {
  "accelerator": "GPU",
  "colab": {
   "authorship_tag": "ABX9TyPSHGn3/XdjMPJR3GHMoyvy",
   "collapsed_sections": [],
   "machine_shape": "hm",
   "name": "모델링_정재은.ipynb",
   "provenance": []
  },
  "kernelspec": {
   "display_name": "Python 3.8.1 64-bit ('test': conda)",
   "language": "python",
   "name": "python38164bittestconda71e86b17d56e4723b6a5e3821da5a065"
  },
  "language_info": {
   "codemirror_mode": {
    "name": "ipython",
    "version": 3
   },
   "file_extension": ".py",
   "mimetype": "text/x-python",
   "name": "python",
   "nbconvert_exporter": "python",
   "pygments_lexer": "ipython3",
   "version": "3.7.6"
  }
 },
 "nbformat": 4,
 "nbformat_minor": 1
}
