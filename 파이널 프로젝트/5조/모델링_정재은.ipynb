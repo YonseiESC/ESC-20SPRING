{
  "nbformat": 4,
  "nbformat_minor": 0,
  "metadata": {
    "accelerator": "TPU",
    "colab": {
      "name": "모델링_정재은.ipynb",
      "provenance": [],
      "collapsed_sections": [],
      "machine_shape": "hm"
    },
    "kernelspec": {
      "name": "python3",
      "display_name": "Python 3"
    }
  },
  "cells": [
    {
      "cell_type": "code",
      "metadata": {
        "colab_type": "code",
        "id": "1jy_dSYvuruZ",
        "colab": {}
      },
      "source": [
        "import numpy as np\n",
        "import pandas as pd\n",
        "import matplotlib.pyplot as plt\n",
        "%matplotlib inline"
      ],
      "execution_count": 0,
      "outputs": []
    },
    {
      "cell_type": "code",
      "metadata": {
        "id": "4fu_SPM0CbMe",
        "colab_type": "code",
        "colab": {
          "base_uri": "https://localhost:8080/",
          "height": 34
        },
        "outputId": "9de428d8-e036-476c-c45f-893f6ea1a11e"
      },
      "source": [
        "from google.colab import drive\n",
        "\n",
        "drive.mount(\"/content/gdrive\")"
      ],
      "execution_count": 131,
      "outputs": [
        {
          "output_type": "stream",
          "text": [
            "Drive already mounted at /content/gdrive; to attempt to forcibly remount, call drive.mount(\"/content/gdrive\", force_remount=True).\n"
          ],
          "name": "stdout"
        }
      ]
    },
    {
      "cell_type": "code",
      "metadata": {
        "id": "fBaCGxPnCf25",
        "colab_type": "code",
        "colab": {
          "base_uri": "https://localhost:8080/",
          "height": 34
        },
        "outputId": "21dbff95-029e-467a-a0b1-cc165068fe76"
      },
      "source": [
        "%cd /content/gdrive/My Drive/Colab Notebooks/Classification_Bankruptcy/5조"
      ],
      "execution_count": 132,
      "outputs": [
        {
          "output_type": "stream",
          "text": [
            "/content/gdrive/My Drive/Colab Notebooks/Classification_Bankruptcy/5조\n"
          ],
          "name": "stdout"
        }
      ]
    },
    {
      "cell_type": "code",
      "metadata": {
        "colab_type": "code",
        "id": "iwV347LautJF",
        "outputId": "47f8d7a8-0f93-4f4e-d277-487572b8ee33",
        "colab": {
          "base_uri": "https://localhost:8080/",
          "height": 34
        }
      },
      "source": [
        "df = pd.read_csv(\"imputed_final_deleted.csv\")\n",
        "df.shape"
      ],
      "execution_count": 4,
      "outputs": [
        {
          "output_type": "execute_result",
          "data": {
            "text/plain": [
              "(6835, 31)"
            ]
          },
          "metadata": {
            "tags": []
          },
          "execution_count": 4
        }
      ]
    },
    {
      "cell_type": "code",
      "metadata": {
        "colab_type": "code",
        "id": "VqbaVtAdwEuW",
        "colab": {}
      },
      "source": [
        "y = df['class']\n",
        "X = df[df.columns[df.columns != 'class']]"
      ],
      "execution_count": 0,
      "outputs": []
    },
    {
      "cell_type": "code",
      "metadata": {
        "colab_type": "code",
        "id": "-jEeEb9E3l0b",
        "colab": {}
      },
      "source": [
        "from sklearn.model_selection import train_test_split\n",
        "\n",
        "X_train, X_test, y_train, y_test = train_test_split(X, y, test_size=.2, random_state=5)"
      ],
      "execution_count": 0,
      "outputs": []
    },
    {
      "cell_type": "code",
      "metadata": {
        "colab_type": "code",
        "id": "p4G-Jiw2wJDn",
        "colab": {}
      },
      "source": [
        "from sklearn.preprocessing import StandardScaler\n",
        "\n",
        "scaler = StandardScaler()\n",
        "scaler.fit_transform(X_train)\n",
        "X_train_scaled = scaler.fit_transform(X_train)"
      ],
      "execution_count": 0,
      "outputs": []
    },
    {
      "cell_type": "code",
      "metadata": {
        "colab_type": "code",
        "id": "8U9oqfrj8biY",
        "outputId": "58a98fea-df17-4d8f-816e-443f01c69af6",
        "colab": {
          "base_uri": "https://localhost:8080/",
          "height": 34
        }
      },
      "source": [
        "import joblib\n",
        "import pickle\n",
        "\n",
        "joblib.dump(scaler, \"scaler.pkl\")"
      ],
      "execution_count": 8,
      "outputs": [
        {
          "output_type": "execute_result",
          "data": {
            "text/plain": [
              "['scaler.pkl']"
            ]
          },
          "metadata": {
            "tags": []
          },
          "execution_count": 8
        }
      ]
    },
    {
      "cell_type": "code",
      "metadata": {
        "colab_type": "code",
        "id": "d19Q2zngBAPv",
        "colab": {}
      },
      "source": [
        "from sklearn.model_selection import RepeatedStratifiedKFold, cross_val_score\n",
        "import warnings\n",
        "\n",
        "cv = RepeatedStratifiedKFold(n_splits = 5, n_repeats = 3, random_state = 5)\n",
        "warnings.filterwarnings('ignore')"
      ],
      "execution_count": 0,
      "outputs": []
    },
    {
      "cell_type": "markdown",
      "metadata": {
        "colab_type": "text",
        "id": "7LXgYvDy_oPL"
      },
      "source": [
        "# 1. Logistic Regression"
      ]
    },
    {
      "cell_type": "code",
      "metadata": {
        "colab_type": "code",
        "id": "5izThwOK_qPL",
        "outputId": "01d44c3b-ce82-4b4e-acfd-e3958bbc62fc",
        "colab": {
          "base_uri": "https://localhost:8080/",
          "height": 50
        }
      },
      "source": [
        "from sklearn.model_selection import GridSearchCV\n",
        "from sklearn.linear_model import LogisticRegression\n",
        "\n",
        "grid= {\"C\":np.logspace(-3,3,7), \"penalty\":[\"l1\",\"l2\"]}# l1 lasso l2 ridge\n",
        "logreg = LogisticRegression(class_weight='balanced')\n",
        "logreg_cv = GridSearchCV(logreg, grid, cv=cv, scoring='f1')\n",
        "logreg_cv.fit(X_train_scaled, y_train)\n",
        "\n",
        "print(\"tuned hpyerparameters :(best parameters) \",logreg_cv.best_params_)\n",
        "print(\"f1 score :\",logreg_cv.best_score_)"
      ],
      "execution_count": 10,
      "outputs": [
        {
          "output_type": "stream",
          "text": [
            "tuned hpyerparameters :(best parameters)  {'C': 100.0, 'penalty': 'l2'}\n",
            "f1 score : 0.21217163032369976\n"
          ],
          "name": "stdout"
        }
      ]
    },
    {
      "cell_type": "code",
      "metadata": {
        "colab_type": "code",
        "id": "LxFmP21pA0Lk",
        "outputId": "de2fb227-9bb3-455b-cf74-0d3c0b1a1d62",
        "colab": {
          "base_uri": "https://localhost:8080/",
          "height": 101
        }
      },
      "source": [
        "from sklearn.base import clone\n",
        "\n",
        "lr_clf = clone(logreg_cv.best_estimator_)\n",
        "lr_clf.fit(X_train_scaled, y_train)"
      ],
      "execution_count": 11,
      "outputs": [
        {
          "output_type": "execute_result",
          "data": {
            "text/plain": [
              "LogisticRegression(C=100.0, class_weight='balanced', dual=False,\n",
              "                   fit_intercept=True, intercept_scaling=1, l1_ratio=None,\n",
              "                   max_iter=100, multi_class='auto', n_jobs=None, penalty='l2',\n",
              "                   random_state=None, solver='lbfgs', tol=0.0001, verbose=0,\n",
              "                   warm_start=False)"
            ]
          },
          "metadata": {
            "tags": []
          },
          "execution_count": 11
        }
      ]
    },
    {
      "cell_type": "code",
      "metadata": {
        "colab_type": "code",
        "id": "rPpCS-wDA0HS",
        "colab": {}
      },
      "source": [
        "lr_clf_score = cross_val_score(lr_clf, X_train_scaled, y_train, scoring='f1', cv=cv).mean()"
      ],
      "execution_count": 0,
      "outputs": []
    },
    {
      "cell_type": "code",
      "metadata": {
        "colab_type": "code",
        "id": "PvbDklzcA0FC",
        "outputId": "6cb58f90-972e-465c-b026-1adcac0a7c2c",
        "colab": {
          "base_uri": "https://localhost:8080/",
          "height": 34
        }
      },
      "source": [
        "lr_clf_score"
      ],
      "execution_count": 13,
      "outputs": [
        {
          "output_type": "execute_result",
          "data": {
            "text/plain": [
              "0.21217163032369976"
            ]
          },
          "metadata": {
            "tags": []
          },
          "execution_count": 13
        }
      ]
    },
    {
      "cell_type": "code",
      "metadata": {
        "colab_type": "code",
        "id": "KMChAKaqA0DS",
        "outputId": "be4485e6-061c-4e6d-81d2-7f24f56f907f",
        "colab": {
          "base_uri": "https://localhost:8080/",
          "height": 34
        }
      },
      "source": [
        "joblib.dump(lr_clf, \"logistic.pkl\")"
      ],
      "execution_count": 14,
      "outputs": [
        {
          "output_type": "execute_result",
          "data": {
            "text/plain": [
              "['logistic.pkl']"
            ]
          },
          "metadata": {
            "tags": []
          },
          "execution_count": 14
        }
      ]
    },
    {
      "cell_type": "markdown",
      "metadata": {
        "colab_type": "text",
        "id": "DOpdNtPKutPn"
      },
      "source": [
        "# 1. SVM\n",
        "## 1-1. Linear SVM"
      ]
    },
    {
      "cell_type": "code",
      "metadata": {
        "colab_type": "code",
        "id": "I6WFoOay37Qj",
        "outputId": "8bd3255e-555b-49cb-d24b-cefe6802050c",
        "colab": {
          "base_uri": "https://localhost:8080/",
          "height": 84
        }
      },
      "source": [
        "from sklearn.svm import SVC\n",
        "\n",
        "svm_linear_clf = SVC(C=10, kernel=\"linear\", class_weight='balanced', probability=True)\n",
        "svm_linear_clf.fit(X_train_scaled, y_train)"
      ],
      "execution_count": 15,
      "outputs": [
        {
          "output_type": "execute_result",
          "data": {
            "text/plain": [
              "SVC(C=10, break_ties=False, cache_size=200, class_weight='balanced', coef0=0.0,\n",
              "    decision_function_shape='ovr', degree=3, gamma='scale', kernel='linear',\n",
              "    max_iter=-1, probability=True, random_state=None, shrinking=True, tol=0.001,\n",
              "    verbose=False)"
            ]
          },
          "metadata": {
            "tags": []
          },
          "execution_count": 15
        }
      ]
    },
    {
      "cell_type": "code",
      "metadata": {
        "colab_type": "code",
        "id": "GlNu8Vt24gzQ",
        "colab": {}
      },
      "source": [
        "svm_linear_clf_score = cross_val_score(svm_linear_clf, X_train_scaled, y_train, scoring='f1', cv=cv).mean()"
      ],
      "execution_count": 0,
      "outputs": []
    },
    {
      "cell_type": "code",
      "metadata": {
        "colab_type": "code",
        "id": "_mvVyymV4qb0",
        "outputId": "01bf7860-f7b0-4e27-98a3-d3022032092f",
        "colab": {
          "base_uri": "https://localhost:8080/",
          "height": 34
        }
      },
      "source": [
        "svm_linear_clf_score"
      ],
      "execution_count": 19,
      "outputs": [
        {
          "output_type": "execute_result",
          "data": {
            "text/plain": [
              "0.22057820338161865"
            ]
          },
          "metadata": {
            "tags": []
          },
          "execution_count": 19
        }
      ]
    },
    {
      "cell_type": "markdown",
      "metadata": {
        "colab_type": "text",
        "id": "qBOB-CYO4qfp"
      },
      "source": [
        "## 1-2. Kernel SVM"
      ]
    },
    {
      "cell_type": "code",
      "metadata": {
        "colab_type": "code",
        "id": "2QdZDBmF4qhz",
        "colab": {}
      },
      "source": [
        "from sklearn.svm import SVC\n",
        "\n",
        "svm_rbf = SVC(class_weight='balanced')\n",
        "grid= {\"C\":np.logspace(-2,2,5), \"gamma\": np.logspace(-2, 2, 5)}\n",
        "svm_rbf_cv = GridSearchCV(svm_rbf, grid, cv=cv, scoring='f1')\n",
        "svm_rbf_cv.fit(X_train_scaled, y_train)\n",
        "\n",
        "print(\"tuned hpyerparameters :(best parameters) \",svm_rbf_cv.best_params_)\n",
        "print(\"f1 score :\",svm_rbf_cv.best_score_)"
      ],
      "execution_count": 0,
      "outputs": []
    },
    {
      "cell_type": "code",
      "metadata": {
        "colab_type": "code",
        "id": "X0ZDdz7bGu9K",
        "colab": {}
      },
      "source": [
        "svm_rbf_clf = clone(svm_rbf_cv.best_estimator_)\n",
        "svm_rbf_clf.fit(X_train_scaled, y_train)"
      ],
      "execution_count": 0,
      "outputs": []
    },
    {
      "cell_type": "code",
      "metadata": {
        "colab_type": "code",
        "id": "lFCB6tCO5bPg",
        "colab": {}
      },
      "source": [
        "svm_rbf_clf_score = cross_val_score(svm_rbf_clf, X_train_scaled, y_train, scoring='f1', cv=cv).mean()"
      ],
      "execution_count": 0,
      "outputs": []
    },
    {
      "cell_type": "code",
      "metadata": {
        "colab_type": "code",
        "id": "b5vmAC6r5bZK",
        "colab": {}
      },
      "source": [
        "svm_rbf_clf_score"
      ],
      "execution_count": 0,
      "outputs": []
    },
    {
      "cell_type": "code",
      "metadata": {
        "colab_type": "code",
        "id": "6ukLgMlb5bVE",
        "colab": {}
      },
      "source": [
        "joblib.dump(svm_linear_clf, \"SVM_linear.pkl\")\n",
        "joblib.dump(svm_rbf_clf, \"SVM_rbf.pkl\")"
      ],
      "execution_count": 0,
      "outputs": []
    },
    {
      "cell_type": "markdown",
      "metadata": {
        "colab_type": "text",
        "id": "lEFZNRcJutXO"
      },
      "source": [
        "# 2. RandomForest"
      ]
    },
    {
      "cell_type": "code",
      "metadata": {
        "colab_type": "code",
        "id": "hx_oGpb-6aPp",
        "colab": {}
      },
      "source": [
        "rf_clf = joblib.load(\"forest_01.pkl\")"
      ],
      "execution_count": 0,
      "outputs": []
    },
    {
      "cell_type": "code",
      "metadata": {
        "colab_type": "code",
        "id": "Kf5_dpyx6aWY",
        "colab": {}
      },
      "source": [
        "rf_clf_score = cross_val_score(rf_clf, X_train_scaled, y_train, scoring='f1', cv=cv).mean()"
      ],
      "execution_count": 0,
      "outputs": []
    },
    {
      "cell_type": "code",
      "metadata": {
        "colab_type": "code",
        "id": "_-7hukvF6afb",
        "outputId": "ba72792c-83a8-4f63-9410-3a74cdb616d2",
        "colab": {
          "base_uri": "https://localhost:8080/",
          "height": 34
        }
      },
      "source": [
        "rf_clf_score"
      ],
      "execution_count": 22,
      "outputs": [
        {
          "output_type": "execute_result",
          "data": {
            "text/plain": [
              "0.20035503699688448"
            ]
          },
          "metadata": {
            "tags": []
          },
          "execution_count": 22
        }
      ]
    },
    {
      "cell_type": "markdown",
      "metadata": {
        "colab_type": "text",
        "id": "CWsWj54Rut2b"
      },
      "source": [
        "# 3. XGBoost"
      ]
    },
    {
      "cell_type": "code",
      "metadata": {
        "id": "fh8DSuchEkwV",
        "colab_type": "code",
        "colab": {
          "base_uri": "https://localhost:8080/",
          "height": 67
        },
        "outputId": "3a48ed57-ddaf-4491-d2ab-b1f849ada6cb"
      },
      "source": [
        "!pip install xgboost --upgrade"
      ],
      "execution_count": 23,
      "outputs": [
        {
          "output_type": "stream",
          "text": [
            "Requirement already up-to-date: xgboost in /usr/local/lib/python3.6/dist-packages (1.1.0)\n",
            "Requirement already satisfied, skipping upgrade: numpy in /usr/local/lib/python3.6/dist-packages (from xgboost) (1.18.4)\n",
            "Requirement already satisfied, skipping upgrade: scipy in /usr/local/lib/python3.6/dist-packages (from xgboost) (1.4.1)\n"
          ],
          "name": "stdout"
        }
      ]
    },
    {
      "cell_type": "code",
      "metadata": {
        "colab_type": "code",
        "id": "wWhutFY47dS_",
        "outputId": "114a1564-3685-42a0-b5cb-2b170f0fbb39",
        "colab": {
          "base_uri": "https://localhost:8080/",
          "height": 168
        }
      },
      "source": [
        "import xgboost\n",
        "from xgboost import XGBClassifier\n",
        "\n",
        "assert xgboost.__version__ == \"1.1.0\"\n",
        "\n",
        "\n",
        "xgb_clf = XGBClassifier(learning_rate=0.3, max_depth=10, min_child_weight=0.1, gamma=0.2, colsample_bytree=0.7)\n",
        "xgb_clf.fit(X_train_scaled, y_train)"
      ],
      "execution_count": 24,
      "outputs": [
        {
          "output_type": "execute_result",
          "data": {
            "text/plain": [
              "XGBClassifier(base_score=0.5, booster='gbtree', colsample_bylevel=1,\n",
              "              colsample_bynode=1, colsample_bytree=0.7, gamma=0.2, gpu_id=-1,\n",
              "              importance_type='gain', interaction_constraints='',\n",
              "              learning_rate=0.3, max_delta_step=0, max_depth=10,\n",
              "              min_child_weight=0.1, missing=nan, monotone_constraints='()',\n",
              "              n_estimators=100, n_jobs=0, num_parallel_tree=1,\n",
              "              objective='binary:logistic', random_state=0, reg_alpha=0,\n",
              "              reg_lambda=1, scale_pos_weight=1, subsample=1,\n",
              "              tree_method='exact', validate_parameters=1, verbosity=None)"
            ]
          },
          "metadata": {
            "tags": []
          },
          "execution_count": 24
        }
      ]
    },
    {
      "cell_type": "code",
      "metadata": {
        "id": "wxxuiqn-CY-C",
        "colab_type": "code",
        "colab": {}
      },
      "source": [
        "xgb_clf.save_model('xgb.xgb')"
      ],
      "execution_count": 0,
      "outputs": []
    },
    {
      "cell_type": "code",
      "metadata": {
        "id": "3p6hVCOHCY-I",
        "colab_type": "code",
        "colab": {}
      },
      "source": [
        "from xgboost import Booster\n",
        "\n",
        "booster = Booster()\n",
        "booster.load_model('xgb.xgb')\n",
        "new_xgb_clf = XGBClassifier(learning_rate=0.3, max_depth=10, min_child_weight=0.1, gamma=0.2, colsample_bytree=0.7)\n",
        "new_xgb_clf._Booster = booster"
      ],
      "execution_count": 0,
      "outputs": []
    },
    {
      "cell_type": "code",
      "metadata": {
        "colab_type": "code",
        "id": "rNAR5QUj7dMb",
        "colab": {}
      },
      "source": [
        "xgb_clf_score = cross_val_score(new_xgb_clf, X_train_scaled, y_train, scoring='f1', cv=cv).mean()"
      ],
      "execution_count": 0,
      "outputs": []
    },
    {
      "cell_type": "code",
      "metadata": {
        "colab_type": "code",
        "id": "YcMGAlfw7dJ5",
        "outputId": "f4b1b84d-9a3d-4ca2-cf8d-0241dc2bd76d",
        "colab": {
          "base_uri": "https://localhost:8080/",
          "height": 34
        }
      },
      "source": [
        "xgb_clf_score"
      ],
      "execution_count": 28,
      "outputs": [
        {
          "output_type": "execute_result",
          "data": {
            "text/plain": [
              "0.41325161278881156"
            ]
          },
          "metadata": {
            "tags": []
          },
          "execution_count": 28
        }
      ]
    },
    {
      "cell_type": "markdown",
      "metadata": {
        "colab_type": "text",
        "id": "K2NJNVIhuuIs"
      },
      "source": [
        "# 4. FA XGBoost"
      ]
    },
    {
      "cell_type": "code",
      "metadata": {
        "colab_type": "code",
        "id": "OF3SuRo19gov",
        "colab": {}
      },
      "source": [
        "! pip install factor_analyzer\n",
        "from factor_analyzer import FactorAnalyzer\n",
        "\n",
        "fa = FactorAnalyzer(n_factors = 6, rotation = 'varimax', bounds = (0, 1), method = 'principal')\n",
        "X_fa = fa.fit_transform(X_train_scaled)"
      ],
      "execution_count": 0,
      "outputs": []
    },
    {
      "cell_type": "code",
      "metadata": {
        "colab_type": "code",
        "id": "FPYsAEBZutkf",
        "colab": {}
      },
      "source": [
        "from xgboost import XGBClassifier\n",
        "\n",
        "model = XGBClassifier(colsample_bytree= 0.5, eta= 0.05, gamma= 0.0, max_depth= 4, min_child_weight= 1)\n",
        "model.fit(X_fa, y_train)"
      ],
      "execution_count": 0,
      "outputs": []
    },
    {
      "cell_type": "code",
      "metadata": {
        "colab_type": "code",
        "id": "n0QUE5sa2__J",
        "colab": {}
      },
      "source": [
        "xgb_fa_clf_score = cross_val_score(model, X_fa, y_train, scoring='f1', cv=cv).mean()"
      ],
      "execution_count": 0,
      "outputs": []
    },
    {
      "cell_type": "code",
      "metadata": {
        "colab_type": "code",
        "id": "Q9UPBPz4CWzm",
        "colab": {}
      },
      "source": [
        "xgb_fa_clf_score # 너무 구려서 뺌"
      ],
      "execution_count": 0,
      "outputs": []
    },
    {
      "cell_type": "code",
      "metadata": {
        "colab_type": "code",
        "id": "YJNZEbOo3Awo",
        "colab": {}
      },
      "source": [
        "total = sum((lr_clf_score, svm_linear_clf_score, rf_clf_score, xgb_clf_score))\n",
        "scores = list(map(lambda x: x / total, [lr_clf_score, svm_linear_clf_score, rf_clf_score, xgb_clf_score]))\n",
        "\n",
        "with open(\"scores.pkl\", \"wb\") as f:\n",
        "    pickle.dump(scores, f)"
      ],
      "execution_count": 0,
      "outputs": []
    },
    {
      "cell_type": "code",
      "metadata": {
        "colab_type": "code",
        "id": "7Ukv_9gn3A2H",
        "outputId": "82c85483-475a-42e8-ca20-c228285bcf90",
        "colab": {
          "base_uri": "https://localhost:8080/",
          "height": 84
        }
      },
      "source": [
        "scores"
      ],
      "execution_count": 30,
      "outputs": [
        {
          "output_type": "execute_result",
          "data": {
            "text/plain": [
              "[0.20277184083174057,\n",
              " 0.21080597947431065,\n",
              " 0.19147875524068947,\n",
              " 0.39494342445325936]"
            ]
          },
          "metadata": {
            "tags": []
          },
          "execution_count": 30
        }
      ]
    },
    {
      "cell_type": "code",
      "metadata": {
        "colab_type": "code",
        "id": "JVGPlkNY3A51",
        "outputId": "effbc7c7-89ae-46af-cd89-12edc79e7d82",
        "colab": {
          "base_uri": "https://localhost:8080/",
          "height": 34
        }
      },
      "source": [
        "test = pd.concat([X_test, y_test], axis=1)\n",
        "test.shape"
      ],
      "execution_count": 31,
      "outputs": [
        {
          "output_type": "execute_result",
          "data": {
            "text/plain": [
              "(1367, 31)"
            ]
          },
          "metadata": {
            "tags": []
          },
          "execution_count": 31
        }
      ]
    },
    {
      "cell_type": "code",
      "metadata": {
        "colab_type": "code",
        "id": "oabr_PbH3Azw",
        "outputId": "b38dd3ea-359a-43ba-ef51-ea02d1abdd77",
        "colab": {
          "base_uri": "https://localhost:8080/",
          "height": 118
        }
      },
      "source": [
        "test.columns = df.columns\n",
        "test.columns"
      ],
      "execution_count": 32,
      "outputs": [
        {
          "output_type": "execute_result",
          "data": {
            "text/plain": [
              "Index(['Attr4', 'Attr5', 'Attr9', 'Attr12', 'Attr18', 'Attr21', 'Attr23',\n",
              "       'Attr24', 'Attr27', 'Attr29', 'Attr33', 'Attr35', 'Attr36', 'Attr38',\n",
              "       'Attr40', 'Attr43', 'Attr45', 'Attr47', 'Attr48', 'Attr49', 'Attr50',\n",
              "       'Attr51', 'Attr52', 'Attr56', 'Attr58', 'Attr59', 'Attr60', 'Attr61',\n",
              "       'Attr63', 'Attr64', 'class'],\n",
              "      dtype='object')"
            ]
          },
          "metadata": {
            "tags": []
          },
          "execution_count": 32
        }
      ]
    },
    {
      "cell_type": "code",
      "metadata": {
        "colab_type": "code",
        "id": "hEhumWrh3Aug",
        "colab": {}
      },
      "source": [
        "test.to_csv(\"df_test.csv\", index=False)"
      ],
      "execution_count": 0,
      "outputs": []
    },
    {
      "cell_type": "markdown",
      "metadata": {
        "id": "BzT5y_jB3AtT",
        "colab_type": "text"
      },
      "source": [
        "# 5. Evaluation\n",
        "## 5-1. Train set"
      ]
    },
    {
      "cell_type": "code",
      "metadata": {
        "colab_type": "code",
        "id": "rS0dmfy33Am2",
        "colab": {}
      },
      "source": [
        "scaler = joblib.load('scaler.pkl')\n",
        "\n",
        "X = scaler.transform(X_train)"
      ],
      "execution_count": 0,
      "outputs": []
    },
    {
      "cell_type": "code",
      "metadata": {
        "colab_type": "code",
        "id": "xWKFR-553AkN",
        "colab": {}
      },
      "source": [
        "# ensemble\n",
        "lr_clf = joblib.load('logistic.pkl')\n",
        "svm_clf = joblib.load('SVM_linear.pkl')\n",
        "rf_clf = joblib.load('forest_01.pkl')\n",
        "xgb_clf = XGBClassifier(learning_rate=0.3, max_depth=10, min_child_weight=0.1, gamma=0.2, colsample_bytree=0.7)\n",
        "booster = Booster()\n",
        "booster.load_model('xgb.xgb')\n",
        "xgb_clf._Booster = booster\n",
        "\n",
        "scores = pickle.load(open('scores.pkl', 'rb'))\n",
        "\n",
        "lr_probs = lr_clf.predict_proba(X)\n",
        "svm_probs = svm_clf.predict_proba(X)\n",
        "rf_probs = rf_clf.predict_proba(X)\n",
        "xgb_probs = xgb_clf.predict_proba(X)"
      ],
      "execution_count": 0,
      "outputs": []
    },
    {
      "cell_type": "code",
      "metadata": {
        "colab_type": "code",
        "id": "8jf8-EfF3Ahn",
        "colab": {}
      },
      "source": [
        "def ensemble_predict():\n",
        "    y_pred = np.empty(shape=(X.shape[0], ), dtype=np.int)\n",
        "    for i in range(len(y_pred)):\n",
        "        #pos = xgb_probs[i, 1]\n",
        "        #neg = xgb_probs[i, 0]\n",
        "        pos = lr_probs[i, 1] * scores[0] + svm_probs[i, 1] * scores[1] + rf_probs[i, 1] * scores[2] + xgb_probs[i, 1] * scores[3]\n",
        "        neg = lr_probs[i, 0] * scores[0] + svm_probs[i, 0] * scores[1] + rf_probs[i, 0] * scores[2] + xgb_probs[i, 0] * scores[3]\n",
        "        if pos > neg:\n",
        "            y_pred[i] = 1\n",
        "        else:\n",
        "            y_pred[i] = 0\n",
        "\n",
        "    y_pred = pd.DataFrame(y_pred)\n",
        "    #y_pred.to_csv(file_name.rstrip(\".csv\") + \"_\" + \"prediction.csv\", index=False)\n",
        "\n",
        "    return y_pred"
      ],
      "execution_count": 0,
      "outputs": []
    },
    {
      "cell_type": "code",
      "metadata": {
        "colab_type": "code",
        "id": "PoKJ95r_3Ae6",
        "colab": {}
      },
      "source": [
        "y_train_pred = ensemble_predict()"
      ],
      "execution_count": 0,
      "outputs": []
    },
    {
      "cell_type": "code",
      "metadata": {
        "colab_type": "code",
        "id": "3yj8nwMd3Acv",
        "colab": {
          "base_uri": "https://localhost:8080/",
          "height": 34
        },
        "outputId": "25b7efe7-d1f0-41fe-e0a0-5904753340db"
      },
      "source": [
        "from sklearn.metrics import f1_score\n",
        "\n",
        "print(f1_score(y_train, y_train_pred))"
      ],
      "execution_count": 51,
      "outputs": [
        {
          "output_type": "stream",
          "text": [
            "1.0\n"
          ],
          "name": "stdout"
        }
      ]
    },
    {
      "cell_type": "code",
      "metadata": {
        "colab_type": "code",
        "id": "YFUOKIkr3ASp",
        "colab": {}
      },
      "source": [
        "#xgb only\n",
        "\n",
        "def xgb_predict():\n",
        "    y_pred = np.empty(shape=(X.shape[0], ), dtype=np.int)\n",
        "    for i in range(len(y_pred)):\n",
        "        pos = xgb_probs[i, 1]\n",
        "        neg = xgb_probs[i, 0]\n",
        "        #pos = lr_probs[i, 1] * scores[0] + svm_probs[i, 1] * scores[1] + rf_probs[i, 1] * scores[2] + xgb_probs[i, 1] * scores[3]\n",
        "        #neg = lr_probs[i, 0] * scores[0] + svm_probs[i, 0] * scores[1] + rf_probs[i, 0] * scores[2] + xgb_probs[i, 0] * scores[3]\n",
        "        if pos > neg:\n",
        "            y_pred[i] = 1\n",
        "        else:\n",
        "            y_pred[i] = 0\n",
        "\n",
        "    y_pred = pd.DataFrame(y_pred)\n",
        "    #y_pred.to_csv(file_name.rstrip(\".csv\") + \"_\" + \"prediction.csv\", index=False)\n",
        "\n",
        "    return y_pred\n"
      ],
      "execution_count": 0,
      "outputs": []
    },
    {
      "cell_type": "code",
      "metadata": {
        "colab_type": "code",
        "id": "7IEQ5ks63AQK",
        "colab": {}
      },
      "source": [
        "y_train_pred = xgb_predict()"
      ],
      "execution_count": 0,
      "outputs": []
    },
    {
      "cell_type": "code",
      "metadata": {
        "colab_type": "code",
        "id": "bn9YV6Ol3AOQ",
        "colab": {
          "base_uri": "https://localhost:8080/",
          "height": 34
        },
        "outputId": "c623c93d-6449-4346-da77-41d2573c912b"
      },
      "source": [
        "print(f1_score(y_train, y_train_pred))"
      ],
      "execution_count": 54,
      "outputs": [
        {
          "output_type": "stream",
          "text": [
            "1.0\n"
          ],
          "name": "stdout"
        }
      ]
    },
    {
      "cell_type": "markdown",
      "metadata": {
        "id": "ejanQ3nF3AM1",
        "colab_type": "text"
      },
      "source": [
        "앙상블 모델, xgb 모두 트레인셋은 완벽하게 예측한다"
      ]
    },
    {
      "cell_type": "markdown",
      "metadata": {
        "id": "mV-HsrPf3AF7",
        "colab_type": "text"
      },
      "source": [
        "## 5-2. Test set"
      ]
    },
    {
      "cell_type": "code",
      "metadata": {
        "colab_type": "code",
        "id": "uk13195o3AD_",
        "colab": {}
      },
      "source": [
        "X = scaler.transform(X_test)"
      ],
      "execution_count": 0,
      "outputs": []
    },
    {
      "cell_type": "code",
      "metadata": {
        "id": "aXHEaLoPJp7d",
        "colab_type": "code",
        "colab": {}
      },
      "source": [
        "lr_clf = joblib.load('logistic.pkl')\n",
        "svm_clf = joblib.load('SVM_linear.pkl')\n",
        "rf_clf = joblib.load('forest_01.pkl')\n",
        "xgb_clf = XGBClassifier(learning_rate=0.3, max_depth=10, min_child_weight=0.1, gamma=0.2, colsample_bytree=0.7)\n",
        "booster = Booster()\n",
        "booster.load_model('xgb.xgb')\n",
        "xgb_clf._Booster = booster\n",
        "\n",
        "scores = pickle.load(open('scores.pkl', 'rb'))\n",
        "\n",
        "lr_probs = lr_clf.predict_proba(X)\n",
        "svm_probs = svm_clf.predict_proba(X)\n",
        "rf_probs = rf_clf.predict_proba(X)\n",
        "xgb_probs = xgb_clf.predict_proba(X)"
      ],
      "execution_count": 0,
      "outputs": []
    },
    {
      "cell_type": "code",
      "metadata": {
        "colab_type": "code",
        "id": "YHgUx2wb3ABr",
        "colab": {
          "base_uri": "https://localhost:8080/",
          "height": 34
        },
        "outputId": "47ae284d-aece-40bb-debe-46474c72cf9b"
      },
      "source": [
        "# ensemble\n",
        "\n",
        "y_test_pred = ensemble_predict()\n",
        "print(f1_score(y_test, y_test_pred))"
      ],
      "execution_count": 64,
      "outputs": [
        {
          "output_type": "stream",
          "text": [
            "0.3636363636363636\n"
          ],
          "name": "stdout"
        }
      ]
    },
    {
      "cell_type": "code",
      "metadata": {
        "colab_type": "code",
        "id": "34HndhoSutcC",
        "colab": {
          "base_uri": "https://localhost:8080/",
          "height": 34
        },
        "outputId": "a53d596b-9765-4740-b732-28e4f1141938"
      },
      "source": [
        "# xgb\n",
        "\n",
        "y_test_pred = xgb_predict()\n",
        "print(f1_score(y_test, y_test_pred))"
      ],
      "execution_count": 65,
      "outputs": [
        {
          "output_type": "stream",
          "text": [
            "0.4337349397590362\n"
          ],
          "name": "stdout"
        }
      ]
    },
    {
      "cell_type": "markdown",
      "metadata": {
        "id": "PyOJPz6lJfAR",
        "colab_type": "text"
      },
      "source": [
        "테스트 셋에서 xgb가 더 좋으니 앙상블 대신 xgb를 사용하기로 결정"
      ]
    },
    {
      "cell_type": "markdown",
      "metadata": {
        "id": "DwYYElLjJfKB",
        "colab_type": "text"
      },
      "source": [
        "# 6. Visualization\n",
        "## 6-1. Logistic Regression"
      ]
    },
    {
      "cell_type": "code",
      "metadata": {
        "id": "Uey_EAFYJfO0",
        "colab_type": "code",
        "colab": {}
      },
      "source": [
        "def plot_vars(estimator):\n",
        "    features = X_train.columns\n",
        "    if \"feature_importances_\" in dir(estimator):\n",
        "        coefs = estimator.feature_importances_\n",
        "        top10 = np.argsort(-coefs)[:10]\n",
        "        x = range(10)\n",
        "        xlabel = [features[x_] for x_ in top10]\n",
        "\n",
        "        plt.figure(figsize=(10, 6))\n",
        "        plt.title(estimator.__class__.__name__)\n",
        "        plt.xticks(x, xlabel)\n",
        "        plt.bar(range(10), coefs[top10])\n",
        "        plt.ylabel(\"Feature importances\")\n",
        "    else:\n",
        "        coefs = estimator.coef_[0]\n",
        "        # positive\n",
        "        top5 = np.argsort(-coefs)[:5]\n",
        "        # negative\n",
        "        bottom5 = np.argsort(coefs)[:5]\n",
        "\n",
        "        plt.figure(figsize=(10, 6))\n",
        "        plt.subplot(1, 2, 1)\n",
        "        plt.title(estimator.__class__.__name__)\n",
        "        x = range(5)\n",
        "        xlabel = [features[x_] for x_ in top5]\n",
        "        plt.xticks(x, xlabel)\n",
        "        plt.bar(range(5), coefs[top5])\n",
        "        plt.ylabel(\"Positive Coefs\")\n",
        "\n",
        "\n",
        "        plt.subplot(1, 2, 2)\n",
        "        plt.title(estimator.__class__.__name__)\n",
        "        x = range(5)\n",
        "        xlabel = [features[x_] for x_ in bottom5]\n",
        "        plt.xticks(x, xlabel)\n",
        "        plt.bar(range(5), coefs[bottom5])\n",
        "        plt.ylabel(\"Negative Coefs\")\n",
        "\n",
        "    plt.tight_layout()\n"
      ],
      "execution_count": 0,
      "outputs": []
    },
    {
      "cell_type": "code",
      "metadata": {
        "id": "330SuQwDMrlC",
        "colab_type": "code",
        "colab": {
          "base_uri": "https://localhost:8080/",
          "height": 441
        },
        "outputId": "c68e3564-1f54-4ed0-b051-934282f922b7"
      },
      "source": [
        "plot_vars(lr_clf)"
      ],
      "execution_count": 124,
      "outputs": [
        {
          "output_type": "display_data",
          "data": {
            "image/png": "[encoded data removed]",
            "text/plain": [
              "<Figure size 720x432 with 2 Axes>"
            ]
          },
          "metadata": {
            "tags": [],
            "needs_background": "light"
          }
        }
      ]
    },
    {
      "cell_type": "code",
      "metadata": {
        "colab_type": "code",
        "id": "TYbpCPBKutaY",
        "colab": {
          "base_uri": "https://localhost:8080/",
          "height": 441
        },
        "outputId": "22469433-bed6-4d28-9976-cfd6b2a84263"
      },
      "source": [
        "plot_vars(rf_clf)"
      ],
      "execution_count": 125,
      "outputs": [
        {
          "output_type": "display_data",
          "data": {
            "image/png": "[encoded data removed]",
            "text/plain": [
              "<Figure size 720x432 with 1 Axes>"
            ]
          },
          "metadata": {
            "tags": [],
            "needs_background": "light"
          }
        }
      ]
    },
    {
      "cell_type": "code",
      "metadata": {
        "id": "6APWmUttMOL0",
        "colab_type": "code",
        "colab": {
          "base_uri": "https://localhost:8080/",
          "height": 441
        },
        "outputId": "523fb9ec-8a23-4539-d62d-01a0d1a86bf0"
      },
      "source": [
        "plot_vars(xgb_clf)"
      ],
      "execution_count": 126,
      "outputs": [
        {
          "output_type": "display_data",
          "data": {
            "image/png": "[encoded data removed]",
            "text/plain": [
              "<Figure size 720x432 with 1 Axes>"
            ]
          },
          "metadata": {
            "tags": [],
            "needs_background": "light"
          }
        }
      ]
    },
    {
      "cell_type": "markdown",
      "metadata": {
        "id": "TPgQtjB1MOPP",
        "colab_type": "text"
      },
      "source": [
        "# 7. Prediction"
      ]
    },
    {
      "cell_type": "code",
      "metadata": {
        "id": "o19hGoBVMlFx",
        "colab_type": "code",
        "colab": {
          "base_uri": "https://localhost:8080/",
          "height": 319
        },
        "outputId": "41a65004-0516-42ef-9c3e-2b919973fd75"
      },
      "source": [
        "!ls"
      ],
      "execution_count": 134,
      "outputs": [
        {
          "output_type": "stream",
          "text": [
            "df_test.csv\t\t\t\t    logistic.pkl\n",
            "EDA_정재은_FA.ipynb\t\t\t    median_imputer.pkl\n",
            "EDA_정재은_final_NA_impute.ipynb\t    Modeling_with_FA_정재은.ipynb\n",
            "EDA.ipynb\t\t\t\t    na_filled_train.csv\n",
            "EDA_홍익선_NA_impute.ipynb\t\t    outlier_removed_train.csv\n",
            "EDA_김윤전_preprocess.ipynb\t\t    Random_Forest_CV.ipynb\n",
            "FactorAnalysisXGboostClassification.ipynb   README.txt\n",
            "FA_model_xgboost.pkl\t\t\t    scaler.pkl\n",
            "fa.pkl\t\t\t\t\t    scores.pkl\n",
            "forest_01.pkl\t\t\t\t    SVM_linear.pkl\n",
            "FS_2y_before_Bankruptcy_test_x_imputed.csv  SVM_rbf.pkl\n",
            "grid1.pkl\t\t\t\t    train.csv\n",
            "grid2.pkl\t\t\t\t    xgb_01.pkl\n",
            "imputed_final.csv\t\t\t    xgb_clf.pkl\n",
            "imputed_final_deleted.csv\t\t    xgb_fa.pkl\n",
            "모델링_정재은.ipynb\t\t\t    xgb.pkl\n",
            "변수제거_정재은.ipynb\t\t\t    xgb.xgb\n",
            "LinearSVC.ipynb\n"
          ],
          "name": "stdout"
        }
      ]
    },
    {
      "cell_type": "code",
      "metadata": {
        "id": "-183sDduMlDc",
        "colab_type": "code",
        "colab": {
          "base_uri": "https://localhost:8080/",
          "height": 215
        },
        "outputId": "efa88881-dd45-4c05-e554-89ce19428b7b"
      },
      "source": [
        "test = pd.read_csv(\"FS_2y_before_Bankruptcy_test_x_imputed.csv\")\n",
        "test.head()"
      ],
      "execution_count": 135,
      "outputs": [
        {
          "output_type": "execute_result",
          "data": {
            "text/html": [
              "<div>\n",
              "<style scoped>\n",
              "    .dataframe tbody tr th:only-of-type {\n",
              "        vertical-align: middle;\n",
              "    }\n",
              "\n",
              "    .dataframe tbody tr th {\n",
              "        vertical-align: top;\n",
              "    }\n",
              "\n",
              "    .dataframe thead th {\n",
              "        text-align: right;\n",
              "    }\n",
              "</style>\n",
              "<table border=\"1\" class=\"dataframe\">\n",
              "  <thead>\n",
              "    <tr style=\"text-align: right;\">\n",
              "      <th></th>\n",
              "      <th>Attr4</th>\n",
              "      <th>Attr5</th>\n",
              "      <th>Attr9</th>\n",
              "      <th>Attr12</th>\n",
              "      <th>Attr18</th>\n",
              "      <th>Attr21</th>\n",
              "      <th>Attr23</th>\n",
              "      <th>Attr24</th>\n",
              "      <th>Attr27</th>\n",
              "      <th>Attr29</th>\n",
              "      <th>Attr33</th>\n",
              "      <th>Attr35</th>\n",
              "      <th>Attr36</th>\n",
              "      <th>Attr38</th>\n",
              "      <th>Attr40</th>\n",
              "      <th>Attr43</th>\n",
              "      <th>Attr45</th>\n",
              "      <th>Attr47</th>\n",
              "      <th>Attr48</th>\n",
              "      <th>Attr49</th>\n",
              "      <th>Attr50</th>\n",
              "      <th>Attr51</th>\n",
              "      <th>Attr52</th>\n",
              "      <th>Attr56</th>\n",
              "      <th>Attr58</th>\n",
              "      <th>Attr59</th>\n",
              "      <th>Attr60</th>\n",
              "      <th>Attr61</th>\n",
              "      <th>Attr63</th>\n",
              "      <th>Attr64</th>\n",
              "    </tr>\n",
              "  </thead>\n",
              "  <tbody>\n",
              "    <tr>\n",
              "      <th>0</th>\n",
              "      <td>1.88520</td>\n",
              "      <td>48.8550</td>\n",
              "      <td>1.1259</td>\n",
              "      <td>0.308557</td>\n",
              "      <td>0.073958</td>\n",
              "      <td>1.1798</td>\n",
              "      <td>0.050143</td>\n",
              "      <td>0.185190</td>\n",
              "      <td>1.27830</td>\n",
              "      <td>4.8487</td>\n",
              "      <td>3.0618</td>\n",
              "      <td>0.093813</td>\n",
              "      <td>0.83286</td>\n",
              "      <td>0.68877</td>\n",
              "      <td>0.033724</td>\n",
              "      <td>196.040</td>\n",
              "      <td>0.50213</td>\n",
              "      <td>55.921</td>\n",
              "      <td>0.042228</td>\n",
              "      <td>0.037506</td>\n",
              "      <td>0.86082</td>\n",
              "      <td>0.23969</td>\n",
              "      <td>0.32660</td>\n",
              "      <td>0.111840</td>\n",
              "      <td>0.88816</td>\n",
              "      <td>0.884147</td>\n",
              "      <td>7.3490</td>\n",
              "      <td>2.4937</td>\n",
              "      <td>4.697317</td>\n",
              "      <td>1.5075</td>\n",
              "    </tr>\n",
              "    <tr>\n",
              "      <th>1</th>\n",
              "      <td>1.85090</td>\n",
              "      <td>4.2847</td>\n",
              "      <td>2.4700</td>\n",
              "      <td>-0.029984</td>\n",
              "      <td>-0.008610</td>\n",
              "      <td>1.0919</td>\n",
              "      <td>-0.003486</td>\n",
              "      <td>0.019968</td>\n",
              "      <td>0.73304</td>\n",
              "      <td>3.9952</td>\n",
              "      <td>8.8357</td>\n",
              "      <td>-0.067243</td>\n",
              "      <td>2.47000</td>\n",
              "      <td>0.59141</td>\n",
              "      <td>0.580050</td>\n",
              "      <td>53.929</td>\n",
              "      <td>-0.04301</td>\n",
              "      <td>28.799</td>\n",
              "      <td>-0.150140</td>\n",
              "      <td>-0.060785</td>\n",
              "      <td>0.94740</td>\n",
              "      <td>0.28716</td>\n",
              "      <td>0.11318</td>\n",
              "      <td>-0.027224</td>\n",
              "      <td>1.00340</td>\n",
              "      <td>0.623855</td>\n",
              "      <td>12.3380</td>\n",
              "      <td>14.9920</td>\n",
              "      <td>8.601477</td>\n",
              "      <td>5.2723</td>\n",
              "    </tr>\n",
              "    <tr>\n",
              "      <th>2</th>\n",
              "      <td>3.07500</td>\n",
              "      <td>-5.6058</td>\n",
              "      <td>1.1013</td>\n",
              "      <td>0.719073</td>\n",
              "      <td>0.119100</td>\n",
              "      <td>1.0630</td>\n",
              "      <td>0.084026</td>\n",
              "      <td>0.196080</td>\n",
              "      <td>1.01840</td>\n",
              "      <td>4.5307</td>\n",
              "      <td>6.9216</td>\n",
              "      <td>0.116760</td>\n",
              "      <td>1.30720</td>\n",
              "      <td>0.81936</td>\n",
              "      <td>0.194570</td>\n",
              "      <td>137.930</td>\n",
              "      <td>0.25701</td>\n",
              "      <td>114.640</td>\n",
              "      <td>0.028096</td>\n",
              "      <td>0.025512</td>\n",
              "      <td>0.92338</td>\n",
              "      <td>0.16563</td>\n",
              "      <td>0.14448</td>\n",
              "      <td>0.091953</td>\n",
              "      <td>0.90805</td>\n",
              "      <td>0.925084</td>\n",
              "      <td>3.5064</td>\n",
              "      <td>10.7890</td>\n",
              "      <td>6.649158</td>\n",
              "      <td>2.5729</td>\n",
              "    </tr>\n",
              "    <tr>\n",
              "      <th>3</th>\n",
              "      <td>0.89587</td>\n",
              "      <td>-64.4640</td>\n",
              "      <td>1.0040</td>\n",
              "      <td>0.060648</td>\n",
              "      <td>0.029819</td>\n",
              "      <td>1.1532</td>\n",
              "      <td>0.064843</td>\n",
              "      <td>0.029819</td>\n",
              "      <td>1.01190</td>\n",
              "      <td>4.9313</td>\n",
              "      <td>2.8437</td>\n",
              "      <td>0.039231</td>\n",
              "      <td>1.53440</td>\n",
              "      <td>0.39507</td>\n",
              "      <td>0.018673</td>\n",
              "      <td>112.150</td>\n",
              "      <td>0.34203</td>\n",
              "      <td>49.691</td>\n",
              "      <td>-0.005171</td>\n",
              "      <td>-0.005151</td>\n",
              "      <td>0.55250</td>\n",
              "      <td>0.49167</td>\n",
              "      <td>0.35166</td>\n",
              "      <td>0.003939</td>\n",
              "      <td>0.99606</td>\n",
              "      <td>4.679601</td>\n",
              "      <td>7.3744</td>\n",
              "      <td>5.8256</td>\n",
              "      <td>2.042020</td>\n",
              "      <td>2.5086</td>\n",
              "    </tr>\n",
              "    <tr>\n",
              "      <th>4</th>\n",
              "      <td>1.99420</td>\n",
              "      <td>39.9890</td>\n",
              "      <td>2.6600</td>\n",
              "      <td>0.666227</td>\n",
              "      <td>0.298210</td>\n",
              "      <td>1.7786</td>\n",
              "      <td>0.087748</td>\n",
              "      <td>0.587660</td>\n",
              "      <td>22.89100</td>\n",
              "      <td>3.4163</td>\n",
              "      <td>5.2545</td>\n",
              "      <td>0.308020</td>\n",
              "      <td>2.66000</td>\n",
              "      <td>0.52053</td>\n",
              "      <td>1.343100</td>\n",
              "      <td>39.993</td>\n",
              "      <td>1.37720</td>\n",
              "      <td>26.302</td>\n",
              "      <td>0.270720</td>\n",
              "      <td>0.101774</td>\n",
              "      <td>1.77320</td>\n",
              "      <td>0.44761</td>\n",
              "      <td>0.19031</td>\n",
              "      <td>0.115800</td>\n",
              "      <td>0.88972</td>\n",
              "      <td>0.112344</td>\n",
              "      <td>15.6950</td>\n",
              "      <td>21.8080</td>\n",
              "      <td>5.942673</td>\n",
              "      <td>24.7730</td>\n",
              "    </tr>\n",
              "  </tbody>\n",
              "</table>\n",
              "</div>"
            ],
            "text/plain": [
              "     Attr4    Attr5   Attr9    Attr12  ...   Attr60   Attr61    Attr63   Attr64\n",
              "0  1.88520  48.8550  1.1259  0.308557  ...   7.3490   2.4937  4.697317   1.5075\n",
              "1  1.85090   4.2847  2.4700 -0.029984  ...  12.3380  14.9920  8.601477   5.2723\n",
              "2  3.07500  -5.6058  1.1013  0.719073  ...   3.5064  10.7890  6.649158   2.5729\n",
              "3  0.89587 -64.4640  1.0040  0.060648  ...   7.3744   5.8256  2.042020   2.5086\n",
              "4  1.99420  39.9890  2.6600  0.666227  ...  15.6950  21.8080  5.942673  24.7730\n",
              "\n",
              "[5 rows x 30 columns]"
            ]
          },
          "metadata": {
            "tags": []
          },
          "execution_count": 135
        }
      ]
    },
    {
      "cell_type": "code",
      "metadata": {
        "id": "Laj31S6EVOs5",
        "colab_type": "code",
        "colab": {
          "base_uri": "https://localhost:8080/",
          "height": 34
        },
        "outputId": "4dbc133f-993f-4ac4-e5b9-f4b65f2d76ff"
      },
      "source": [
        "test.columns = ['f' + str(i) for i in range(30)]\n",
        "xgb_clf.predict_proba(test).shape"
      ],
      "execution_count": 146,
      "outputs": [
        {
          "output_type": "execute_result",
          "data": {
            "text/plain": [
              "(2937, 2)"
            ]
          },
          "metadata": {
            "tags": []
          },
          "execution_count": 146
        }
      ]
    },
    {
      "cell_type": "code",
      "metadata": {
        "id": "1RRx1ZjHZJ66",
        "colab_type": "code",
        "colab": {
          "base_uri": "https://localhost:8080/",
          "height": 34
        },
        "outputId": "74f11d50-d950-4ab6-ef5d-a8f3d4f6661f"
      },
      "source": [
        "(xgb_clf.predict(test) > 0.5).sum()"
      ],
      "execution_count": 168,
      "outputs": [
        {
          "output_type": "execute_result",
          "data": {
            "text/plain": [
              "0"
            ]
          },
          "metadata": {
            "tags": []
          },
          "execution_count": 168
        }
      ]
    },
    {
      "cell_type": "markdown",
      "metadata": {
        "id": "H9xbyUbsZZH7",
        "colab_type": "text"
      },
      "source": [
        "밍..? threshold를 새로 정해주자"
      ]
    },
    {
      "cell_type": "code",
      "metadata": {
        "id": "6qK-wc3TZdw9",
        "colab_type": "code",
        "colab": {
          "base_uri": "https://localhost:8080/",
          "height": 67
        },
        "outputId": "63d62b91-26ca-45ef-c8aa-36b832ba4507"
      },
      "source": [
        "df['class'].value_counts() / len(df)"
      ],
      "execution_count": 170,
      "outputs": [
        {
          "output_type": "execute_result",
          "data": {
            "text/plain": [
              "0.0    0.947184\n",
              "1.0    0.052816\n",
              "Name: class, dtype: float64"
            ]
          },
          "metadata": {
            "tags": []
          },
          "execution_count": 170
        }
      ]
    },
    {
      "cell_type": "code",
      "metadata": {
        "id": "eg4hHsDeZd1B",
        "colab_type": "code",
        "colab": {
          "base_uri": "https://localhost:8080/",
          "height": 34
        },
        "outputId": "d41c6641-199c-46ab-a089-7fbbb8f3e677"
      },
      "source": [
        "(xgb_clf.predict(test) > 0.0714).sum() / len(test)"
      ],
      "execution_count": 205,
      "outputs": [
        {
          "output_type": "execute_result",
          "data": {
            "text/plain": [
              "0.052774940415389854"
            ]
          },
          "metadata": {
            "tags": []
          },
          "execution_count": 205
        }
      ]
    },
    {
      "cell_type": "markdown",
      "metadata": {
        "id": "jZSuIB8sZd4d",
        "colab_type": "text"
      },
      "source": [
        "threshold를 새로 정해줌"
      ]
    },
    {
      "cell_type": "code",
      "metadata": {
        "id": "HthQ65m0Zd7z",
        "colab_type": "code",
        "colab": {}
      },
      "source": [
        "threshold = 0.0714"
      ],
      "execution_count": 0,
      "outputs": []
    },
    {
      "cell_type": "code",
      "metadata": {
        "id": "-rtC8-8tXtMm",
        "colab_type": "code",
        "colab": {}
      },
      "source": [
        "#xgb only\n",
        "def xgb_infer(X, file_name):\n",
        "    y_pred = np.empty(shape=(X.shape[0], ), dtype=np.int)\n",
        "    for i in range(len(y_pred)):\n",
        "        xgb_probs = xgb_clf.predict_proba(X)\n",
        "        pos = xgb_probs[i, 1]\n",
        "        neg = xgb_probs[i, 0]\n",
        "        if pos > threshold:\n",
        "            y_pred[i] = 1\n",
        "        else:\n",
        "            y_pred[i] = 0\n",
        "\n",
        "    y_pred = pd.DataFrame(y_pred)\n",
        "    y_pred.to_csv(file_name, index=False)\n",
        "\n",
        "    return y_pred\n"
      ],
      "execution_count": 0,
      "outputs": []
    },
    {
      "cell_type": "code",
      "metadata": {
        "id": "c3SZ1ln9XZ3W",
        "colab_type": "code",
        "colab": {}
      },
      "source": [
        "test_pred = xgb_infer(test, file_name=\"FS_2y_before_Bankruptcy_test_y.csv\")"
      ],
      "execution_count": 0,
      "outputs": []
    },
    {
      "cell_type": "code",
      "metadata": {
        "id": "ljGlufibYuJT",
        "colab_type": "code",
        "colab": {
          "base_uri": "https://localhost:8080/",
          "height": 67
        },
        "outputId": "15263859-3a66-49ff-e0b8-5c7fda08f93d"
      },
      "source": [
        "test_pred[0].value_counts()"
      ],
      "execution_count": 209,
      "outputs": [
        {
          "output_type": "execute_result",
          "data": {
            "text/plain": [
              "0    2782\n",
              "1     155\n",
              "Name: 0, dtype: int64"
            ]
          },
          "metadata": {
            "tags": []
          },
          "execution_count": 209
        }
      ]
    },
    {
      "cell_type": "code",
      "metadata": {
        "id": "8cBe1TPIY_5a",
        "colab_type": "code",
        "colab": {
          "base_uri": "https://localhost:8080/",
          "height": 67
        },
        "outputId": "7681a9f8-cb1d-4f8b-c9e3-803e26ed1198"
      },
      "source": [
        "test_pred[0].value_counts() / len(test_pred)"
      ],
      "execution_count": 210,
      "outputs": [
        {
          "output_type": "execute_result",
          "data": {
            "text/plain": [
              "0    0.947225\n",
              "1    0.052775\n",
              "Name: 0, dtype: float64"
            ]
          },
          "metadata": {
            "tags": []
          },
          "execution_count": 210
        }
      ]
    },
    {
      "cell_type": "code",
      "metadata": {
        "id": "eTVp6Pm9ZAKX",
        "colab_type": "code",
        "colab": {}
      },
      "source": [
        ""
      ],
      "execution_count": 0,
      "outputs": []
    },
    {
      "cell_type": "code",
      "metadata": {
        "id": "z0n-FLEFZAG7",
        "colab_type": "code",
        "colab": {}
      },
      "source": [
        ""
      ],
      "execution_count": 0,
      "outputs": []
    },
    {
      "cell_type": "code",
      "metadata": {
        "id": "PWhEMWhiZAFS",
        "colab_type": "code",
        "colab": {}
      },
      "source": [
        ""
      ],
      "execution_count": 0,
      "outputs": []
    },
    {
      "cell_type": "code",
      "metadata": {
        "id": "uBhD2fnxZADI",
        "colab_type": "code",
        "colab": {}
      },
      "source": [
        ""
      ],
      "execution_count": 0,
      "outputs": []
    },
    {
      "cell_type": "code",
      "metadata": {
        "id": "ClIU_WHUZAAm",
        "colab_type": "code",
        "colab": {}
      },
      "source": [
        ""
      ],
      "execution_count": 0,
      "outputs": []
    },
    {
      "cell_type": "code",
      "metadata": {
        "id": "G8ulEngUY_-g",
        "colab_type": "code",
        "colab": {}
      },
      "source": [
        ""
      ],
      "execution_count": 0,
      "outputs": []
    },
    {
      "cell_type": "code",
      "metadata": {
        "id": "GtuDWi1PY_9H",
        "colab_type": "code",
        "colab": {}
      },
      "source": [
        ""
      ],
      "execution_count": 0,
      "outputs": []
    }
  ]
}